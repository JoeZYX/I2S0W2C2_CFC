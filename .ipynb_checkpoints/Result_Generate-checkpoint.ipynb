{
 "cells": [
  {
   "cell_type": "code",
   "execution_count": 9,
   "id": "7e0e0369-6a5a-4d7b-8b16-0c7609674d47",
   "metadata": {
    "tags": []
   },
   "outputs": [],
   "source": [
    "import os\n",
    "import numpy as np\n",
    "import pandas as pd\n",
    "root_path = \"../Run_logs/logs/\"\n",
    "path_list = os.listdir(root_path)\n",
    "\n",
    "def parse_all_info(path_name):\n",
    "    model_index = path_name.find(\"model_\")\n",
    "    data_index  = path_name.find(\"data_\")\n",
    "    seed_index  = path_name.find(\"seed_\")\n",
    "    Mixup_index = path_name.find(\"Mixup_\")\n",
    "    RandomAug_index = path_name.find(\"RandomAug_\")\n",
    "    Mixupargmax_index = path_name.find(\"Mixupargmax\")\n",
    "    \n",
    "    model_name = path_name[model_index+6:data_index-1]\n",
    "    data_name  = path_name[data_index+5:seed_index-1]\n",
    "    seed       = int(path_name[seed_index+5])\n",
    "    Mixup_name = float(path_name[Mixup_index+6:Mixup_index+9])\n",
    "    if Mixup_name == 1.0:\n",
    "        Mixup_name = True\n",
    "    else:\n",
    "        Mixup_name = False\n",
    "    RandomAug_name = float(path_name[RandomAug_index+10:RandomAug_index+13])\n",
    "    if RandomAug_name == 1.0:\n",
    "        RandomAug_name = True\n",
    "    else:\n",
    "        RandomAug_name = False\n",
    "    Mixupargmax_name = path_name[Mixupargmax_index+12:Mixupargmax_index+17]\n",
    "    if Mixupargmax_name == \"True\":\n",
    "        Mixupargmax_name = True\n",
    "    else:\n",
    "        Mixupargmax_name = False\n",
    "    \n",
    "    return model_name,data_name,seed,Mixup_name,RandomAug_name,Mixupargmax_name"
   ]
  },
  {
   "cell_type": "code",
   "execution_count": 32,
   "id": "60c4ce13-0325-4b84-af43-b290d394cb94",
   "metadata": {
    "tags": []
   },
   "outputs": [
    {
     "name": "stdout",
     "output_type": "stream",
     "text": [
      "../Run_logs/logs/model_deepconvlstm_data_wisdm_seed_1_differencing_True_Seperation_True_magnitude_False_Mixup_1.0_RandomAug_0.5_Scaling_1.0_Mixupargmax_False/score.txt\n",
      "../Run_logs/logs/model_deepconvlstm_data_wisdm_seed_1_differencing_True_Seperation_True_magnitude_False_Mixup_1.0_RandomAug_1.0_Scaling_1.0_Mixupargmax_False/score.txt\n",
      "../Run_logs/logs/model_deepconvlstm_data_wisdm_seed_1_differencing_True_Seperation_True_magnitude_False_Mixup_0.5_RandomAug_0.5_Scaling_1.0_Mixupargmax_False/score.txt\n",
      "../Run_logs/logs/model_deepconvlstm_data_wisdm_seed_1_differencing_True_Seperation_True_magnitude_False_Mixup_0.5_RandomAug_1.0_Scaling_1.0_Mixupargmax_True/score.txt\n",
      "../Run_logs/logs/model_deepconvlstm_data_wisdm_seed_1_differencing_True_Seperation_True_magnitude_False_Mixup_0.5_RandomAug_0.5_Scaling_1.0_Mixupargmax_True/score.txt\n",
      "../Run_logs/logs/model_deepconvlstm_data_wisdm_seed_1_differencing_True_Seperation_True_magnitude_False_Mixup_1.0_RandomAug_0.5_Scaling_1.0_Mixupargmax_True/score.txt\n",
      "../Run_logs/logs/model_deepconvlstm_data_wisdm_seed_1_differencing_True_Seperation_True_magnitude_False_Mixup_0.5_RandomAug_1.0_Scaling_1.0_Mixupargmax_False/score.txt\n",
      "../Run_logs/logs/model_deepconvlstm_data_wisdm_seed_1_differencing_True_Seperation_True_magnitude_False_Mixup_1.0_RandomAug_1.0_Scaling_1.0_Mixupargmax_True/score.txt\n"
     ]
    }
   ],
   "source": [
    "model_to_check = \"deepconvlstm\"\n",
    "\n",
    "data_to_check = \"wisdm\"\n",
    "\n",
    "filtered_path = []\n",
    "for path in path_list:\n",
    "    model_name, data_name , seed_name, Mixup_name, RandomAug_name, Mixupargmax_name = parse_all_info(path)\n",
    "    if model_name == model_to_check and data_name == data_to_check:\n",
    "        filtered_path.append(path)\n",
    "\n",
    "result = {}\n",
    "for path in filtered_path:\n",
    "    model_name, data_name , seed_name, Mixup_name, RandomAug_name, Mixupargmax_name = parse_all_info(path)\n",
    "    config = \"_\".join([str(Mixup_name), str(RandomAug_name), str(Mixupargmax_name)])\n",
    "    path = os.path.join(root_path,path,'score.txt')\n",
    "    print(path)\n",
    "    if not os.path.exists(path):\n",
    "        print(config)\n",
    "        \n",
    "        \n",
    "    with open(path) as f:\n",
    "        lines = f.readlines()\n",
    "    \n",
    "    macro_F1_list = []\n",
    "    weighted_F1_list = []\n",
    "    for line in lines:\n",
    "        weighted_F1_index = line.find(\"Test weighted F1:\")\n",
    "        macro_F1_index    = line.find(\"Test macro F1:\")\n",
    "        weighted_F1 = float(line[weighted_F1_index+18:weighted_F1_index+27])\n",
    "        macro_F1 = float(line[macro_F1_index+18:macro_F1_index+27])\n",
    "        macro_F1_list.append(macro_F1)\n",
    "        weighted_F1_list.append(weighted_F1)\n",
    "    mean_weighted_F1 = np.mean(weighted_F1_list)\n",
    "    mean_macro_F1  = np.mean(macro_F1_list)\n",
    "    result[config] = [mean_weighted_F1, mean_macro_F1]"
   ]
  },
  {
   "cell_type": "code",
   "execution_count": 33,
   "id": "0b9ea267-3384-411e-b450-059424ffed54",
   "metadata": {
    "tags": []
   },
   "outputs": [],
   "source": [
    "df_macro = pd.DataFrame()\n",
    "df_weighted = pd.DataFrame()\n",
    "\n",
    "key_list = list(result.keys())\n",
    "mean_macro_F1 = []\n",
    "mean_weighted_F1 = []\n",
    "for key in key_list:\n",
    "    mean_macro_F1.append(result[key][1])\n",
    "    mean_weighted_F1.append(result[key][0])\n",
    "    \n",
    "df_macro[\"col\"] = key_list\n",
    "df_macro[\"score\"] = mean_macro_F1\n",
    "\n",
    "df_weighted[\"col\"] = key_list\n",
    "df_weighted[\"score\"] = mean_weighted_F1"
   ]
  },
  {
   "cell_type": "code",
   "execution_count": 34,
   "id": "e220493b-0b32-4832-b1b2-fb89115ec864",
   "metadata": {},
   "outputs": [
    {
     "data": {
      "text/html": [
       "<div>\n",
       "<style scoped>\n",
       "    .dataframe tbody tr th:only-of-type {\n",
       "        vertical-align: middle;\n",
       "    }\n",
       "\n",
       "    .dataframe tbody tr th {\n",
       "        vertical-align: top;\n",
       "    }\n",
       "\n",
       "    .dataframe thead th {\n",
       "        text-align: right;\n",
       "    }\n",
       "</style>\n",
       "<table border=\"1\" class=\"dataframe\">\n",
       "  <thead>\n",
       "    <tr style=\"text-align: right;\">\n",
       "      <th></th>\n",
       "      <th>col</th>\n",
       "      <th>score</th>\n",
       "    </tr>\n",
       "  </thead>\n",
       "  <tbody>\n",
       "    <tr>\n",
       "      <th>0</th>\n",
       "      <td>True_False_False</td>\n",
       "      <td>0.876953</td>\n",
       "    </tr>\n",
       "    <tr>\n",
       "      <th>1</th>\n",
       "      <td>True_True_False</td>\n",
       "      <td>0.885054</td>\n",
       "    </tr>\n",
       "    <tr>\n",
       "      <th>2</th>\n",
       "      <td>False_False_False</td>\n",
       "      <td>0.853311</td>\n",
       "    </tr>\n",
       "    <tr>\n",
       "      <th>3</th>\n",
       "      <td>False_True_True</td>\n",
       "      <td>0.906752</td>\n",
       "    </tr>\n",
       "    <tr>\n",
       "      <th>4</th>\n",
       "      <td>False_False_True</td>\n",
       "      <td>0.895626</td>\n",
       "    </tr>\n",
       "    <tr>\n",
       "      <th>5</th>\n",
       "      <td>True_False_True</td>\n",
       "      <td>0.876953</td>\n",
       "    </tr>\n",
       "    <tr>\n",
       "      <th>6</th>\n",
       "      <td>False_True_False</td>\n",
       "      <td>0.857250</td>\n",
       "    </tr>\n",
       "    <tr>\n",
       "      <th>7</th>\n",
       "      <td>True_True_True</td>\n",
       "      <td>0.885054</td>\n",
       "    </tr>\n",
       "  </tbody>\n",
       "</table>\n",
       "</div>"
      ],
      "text/plain": [
       "                 col     score\n",
       "0   True_False_False  0.876953\n",
       "1    True_True_False  0.885054\n",
       "2  False_False_False  0.853311\n",
       "3    False_True_True  0.906752\n",
       "4   False_False_True  0.895626\n",
       "5    True_False_True  0.876953\n",
       "6   False_True_False  0.857250\n",
       "7     True_True_True  0.885054"
      ]
     },
     "execution_count": 34,
     "metadata": {},
     "output_type": "execute_result"
    }
   ],
   "source": [
    "df_macro"
   ]
  },
  {
   "cell_type": "code",
   "execution_count": null,
   "id": "5ad3c94f-d003-466d-9384-f7debfd0a308",
   "metadata": {},
   "outputs": [],
   "source": []
  }
 ],
 "metadata": {
  "kernelspec": {
   "display_name": "iswc23",
   "language": "python",
   "name": "iswc23"
  },
  "language_info": {
   "codemirror_mode": {
    "name": "ipython",
    "version": 3
   },
   "file_extension": ".py",
   "mimetype": "text/x-python",
   "name": "python",
   "nbconvert_exporter": "python",
   "pygments_lexer": "ipython3",
   "version": "3.9.16"
  }
 },
 "nbformat": 4,
 "nbformat_minor": 5
}
