{
 "cells": [
  {
   "cell_type": "code",
   "execution_count": 13,
   "id": "7e0e0369-6a5a-4d7b-8b16-0c7609674d47",
   "metadata": {
    "tags": []
   },
   "outputs": [],
   "source": [
    "import os\n",
    "import numpy as np\n",
    "import pandas as pd\n",
    "root_path = \"../Run_logs/logs/\"\n",
    "path_list = os.listdir(root_path)\n",
    "\n",
    "def parse_all_info(path_name):\n",
    "    model_index = path_name.find(\"model_\")\n",
    "    data_index  = path_name.find(\"data_\")\n",
    "    seed_index  = path_name.find(\"seed_\")\n",
    "    channel_index = path_name.find(\"Seperation_\")\n",
    "    Mixup_index = path_name.find(\"Mixup_\")\n",
    "    RandomAug_index = path_name.find(\"RandomAug_\")\n",
    "    Mixupargmax_index = path_name.find(\"Mixupargmax\")\n",
    "    \n",
    "    model_name = path_name[model_index+6:data_index-1]\n",
    "    data_name  = path_name[data_index+5:seed_index-1]\n",
    "    seed       = int(path_name[seed_index+5])\n",
    "    channel_name = path_name[channel_index+11:channel_index+15]\n",
    "    Mixup_name = float(path_name[Mixup_index+6:Mixup_index+9])\n",
    "    \n",
    "    if channel_name == \"True\":\n",
    "        channel_name = True\n",
    "    else:\n",
    "        channel_name = False\n",
    "    if Mixup_name == 1.0:\n",
    "        Mixup_name = False\n",
    "    else:\n",
    "        Mixup_name = True\n",
    "    RandomAug_name = float(path_name[RandomAug_index+10:RandomAug_index+13])\n",
    "    if RandomAug_name == 1.0:\n",
    "        RandomAug_name = False\n",
    "    else:\n",
    "        RandomAug_name = True\n",
    "    Mixupargmax_name = path_name[Mixupargmax_index+12:Mixupargmax_index+17]\n",
    "    if Mixupargmax_name == \"True\":\n",
    "        Mixupargmax_name = True\n",
    "    else:\n",
    "        Mixupargmax_name = False\n",
    "    \n",
    "    return model_name,data_name,seed,channel_name,Mixup_name,RandomAug_name,Mixupargmax_name"
   ]
  },
  {
   "cell_type": "code",
   "execution_count": 14,
   "id": "06f9882e-b2a0-47ad-8bcb-14b864ca41ca",
   "metadata": {
    "tags": []
   },
   "outputs": [],
   "source": [
    "#os.listdir(root_path)"
   ]
  },
  {
   "cell_type": "code",
   "execution_count": 15,
   "id": "878f56c8-850a-4311-9d89-7fcb3d2320b4",
   "metadata": {
    "tags": []
   },
   "outputs": [
    {
     "name": "stdout",
     "output_type": "stream",
     "text": [
      "model : deepconvlstm_attn, data : hapt, number : 8\n",
      "model : deepconvlstm_attn, data : dg, number : 8\n",
      "model : deepconvlstm_attn, data : wisdm, number : 8\n",
      "model : deepconvlstm_attn, data : dsads, number : 8\n",
      "model : deepconvlstm_attn, data : oppo, number : 8\n",
      "model : deepconvlstm_attn, data : pamap2, number : 8\n",
      "model : deepconvlstm_attn, data : rw, number : 8\n",
      "model : deepconvlstm, data : hapt, number : 8\n",
      "model : deepconvlstm, data : dg, number : 8\n",
      "model : deepconvlstm, data : wisdm, number : 8\n",
      "model : deepconvlstm, data : dsads, number : 8\n",
      "model : deepconvlstm, data : oppo, number : 8\n",
      "model : deepconvlstm, data : pamap2, number : 8\n",
      "model : deepconvlstm, data : rw, number : 8\n",
      "model : attend, data : hapt, number : 8\n",
      "model : attend, data : dg, number : 8\n",
      "model : attend, data : wisdm, number : 8\n",
      "model : attend, data : dsads, number : 8\n",
      "model : attend, data : oppo, number : 8\n",
      "model : attend, data : pamap2, number : 8\n",
      "model_attend_data_rw_seed_2_differencing_True_Seperation_True_magnitude_False_Mixup_0.5_RandomAug_0.5_Scaling_1.0_Mixupargmax_True\n",
      "model : attend, data : rw, number : 7\n",
      "model : mcnn, data : hapt, number : 8\n",
      "model : mcnn, data : dg, number : 8\n",
      "model : mcnn, data : wisdm, number : 8\n",
      "model : mcnn, data : dsads, number : 8\n",
      "model : mcnn, data : oppo, number : 8\n",
      "model : mcnn, data : pamap2, number : 8\n",
      "model : mcnn, data : rw, number : 8\n",
      "model : tinyhar, data : hapt, number : 8\n",
      "model : tinyhar, data : dg, number : 8\n",
      "model : tinyhar, data : wisdm, number : 8\n",
      "model : tinyhar, data : dsads, number : 8\n",
      "model : tinyhar, data : oppo, number : 8\n",
      "model : tinyhar, data : pamap2, number : 8\n",
      "model : tinyhar, data : rw, number : 8\n"
     ]
    }
   ],
   "source": [
    "# check which exp should be to run\n",
    "models_type_list = [\"deepconvlstm_attn\",\"deepconvlstm\",\"attend\",\"mcnn\",\"tinyhar\"]\n",
    "data_list = [\"hapt\", \"dg\" ,\"wisdm\", \"dsads\" ,\"oppo\" ,\"pamap2\",\"rw\"]\n",
    "data_cv_number = {\"hapt\":10, \"dg\": 10,\"wisdm\":10, \"dsads\" :8,\"oppo\":4 ,\"pamap2\":9,\"rw\":15}\n",
    "seed = 2\n",
    "for model in models_type_list:\n",
    "    for data in data_list:\n",
    "        filtered_path = []\n",
    "        need_to_check = []\n",
    "        for path in path_list:\n",
    "            model_name, data_name , seed_name, channel_name,Mixup_name, RandomAug_name, Mixupargmax_name = parse_all_info(path)\n",
    "            if model_name == model and data_name == data and Mixupargmax_name and seed_name==seed:\n",
    "                \n",
    "                if len(os.listdir(os.path.join(root_path,path))) == data_cv_number[data_name]+1 or len(os.listdir(os.path.join(root_path,path))) == data_cv_number[data_name]+2:\n",
    "                    filtered_path.append(path)\n",
    "                \n",
    "                else:\n",
    "                    need_to_check.append(path)\n",
    "                    print(path)\n",
    "                                                                                                      \n",
    "                                                                                                \n",
    "        print(\"model : {}, data : {}, number : {}\".format(model,data,len(filtered_path)))"
   ]
  },
  {
   "cell_type": "code",
   "execution_count": 16,
   "id": "a31b00e2-3dd3-4ced-ab0e-3e154fc25384",
   "metadata": {
    "tags": []
   },
   "outputs": [],
   "source": [
    "\n",
    "result_to_save = {}\n",
    "\n",
    "\n",
    "for model_to_check in models_type_list:\n",
    "    for data_to_check in data_list:\n",
    "        for seed_to_check in [1,2]:\n",
    "            out_config = \"{}_{}_{}\".format(model_to_check,data_to_check,str(seed_to_check))\n",
    "            # find the right folders\n",
    "            filtered_path = []\n",
    "            for path in path_list:\n",
    "                model_name, data_name , seed_name, channel_name,Mixup_name, RandomAug_name, Mixupargmax_name = parse_all_info(path)\n",
    "                if model_name == model_to_check and data_name == data_to_check and Mixupargmax_name and seed_to_check==seed_name:\n",
    "                    filtered_path.append(path)\n",
    "\n",
    "            # Parse the result\n",
    "            result = {}\n",
    "            for path in filtered_path:\n",
    "                model_name, data_name , seed_name, channel_name,Mixup_name, RandomAug_name, Mixupargmax_name = parse_all_info(path)\n",
    "                config = \"_\".join([str(channel_name),str(Mixup_name), str(RandomAug_name)])\n",
    "                path = os.path.join(root_path,path,'score.txt')\n",
    "\n",
    "                if not os.path.exists(path):\n",
    "                    print(config)\n",
    "\n",
    "\n",
    "                with open(path) as f:\n",
    "                    lines = f.readlines()\n",
    "\n",
    "                macro_F1_list = []\n",
    "                weighted_F1_list = []\n",
    "                for line in lines:\n",
    "                    #print(line)\n",
    "                    weighted_F1_index = line.find(\"Test weighted F1:\")\n",
    "                    #print(\"weighted_F1_index\",weighted_F1_index)\n",
    "                    macro_F1_index    = line.find(\"Test macro F1\")\n",
    "                    #print(\"macro_F1_index\",macro_F1_index)\n",
    "                    weighted_F1 = float(line[weighted_F1_index+18:weighted_F1_index+27])\n",
    "                    #print(\"weighted_F1\",weighted_F1)\n",
    "                    macro_F1 = float(line[macro_F1_index+13:macro_F1_index+23])\n",
    "                    #print(\"macro_F1\",macro_F1)\n",
    "                    macro_F1_list.append(macro_F1)\n",
    "                    weighted_F1_list.append(weighted_F1)\n",
    "                mean_weighted_F1 = np.mean(weighted_F1_list)\n",
    "                mean_macro_F1  = np.mean(macro_F1_list)\n",
    "                result[config] = [mean_weighted_F1, mean_macro_F1]\n",
    "\n",
    "            # change the result into  dataframe \n",
    "            df_macro = pd.DataFrame()\n",
    "            df_weighted = pd.DataFrame()\n",
    "\n",
    "            key_list = list(result.keys())\n",
    "            mean_macro_F1 = []\n",
    "            mean_weighted_F1 = []\n",
    "            for key in key_list:\n",
    "                mean_macro_F1.append(result[key][1])\n",
    "                mean_weighted_F1.append(result[key][0])\n",
    "\n",
    "            df_macro[\"col\"] = key_list\n",
    "            df_macro[\"score\"] = mean_macro_F1\n",
    "\n",
    "            df_weighted[\"col\"] = key_list\n",
    "            df_weighted[\"score\"] = mean_weighted_F1\n",
    "\n",
    "            result_to_save[out_config] = {\"df_macro\":df_macro, \"df_weighted\":df_weighted}"
   ]
  },
  {
   "cell_type": "code",
   "execution_count": 17,
   "id": "a20f0eb8-f29f-4f06-a0e5-427db87c1f80",
   "metadata": {
    "tags": []
   },
   "outputs": [],
   "source": [
    "import pickle\n",
    "\n",
    "\n",
    "with open('result_to_save.pickle', 'wb') as handle:\n",
    "    pickle.dump(result_to_save, handle, protocol=pickle.HIGHEST_PROTOCOL)\n",
    "\n"
   ]
  },
  {
   "cell_type": "code",
   "execution_count": 24,
   "id": "e2e858b3-27f9-4a3a-9337-19d881545281",
   "metadata": {
    "tags": []
   },
   "outputs": [
    {
     "data": {
      "text/plain": [
       "70"
      ]
     },
     "execution_count": 24,
     "metadata": {},
     "output_type": "execute_result"
    }
   ],
   "source": [
    "len(result_to_save.keys())"
   ]
  },
  {
   "cell_type": "code",
   "execution_count": null,
   "id": "2b47a91f-fa43-41bb-a3c1-0c4fea98904a",
   "metadata": {},
   "outputs": [],
   "source": []
  },
  {
   "cell_type": "code",
   "execution_count": 14,
   "id": "60c4ce13-0325-4b84-af43-b290d394cb94",
   "metadata": {
    "tags": []
   },
   "outputs": [],
   "source": [
    "result_to_save = {}\n",
    "\n",
    "model_to_check = \"tinyhar\"\n",
    "\n",
    "data_to_check = \"wisdm\"\n",
    "\n",
    "seed_to_check = 1\n",
    "\n",
    "out_config = \"{}_{}_{}\".format(model_to_check,data_to_check,str(seed_to_check))\n",
    "# find the right folders\n",
    "filtered_path = []\n",
    "for path in path_list:\n",
    "    model_name, data_name , seed_name, channel_name,Mixup_name, RandomAug_name, Mixupargmax_name = parse_all_info(path)\n",
    "    if model_name == model_to_check and data_name == data_to_check and Mixupargmax_name and seed_to_check==seed_name:\n",
    "        filtered_path.append(path)\n",
    "\n",
    "# Parse the result\n",
    "result = {}\n",
    "for path in filtered_path:\n",
    "    model_name, data_name , seed_name, channel_name,Mixup_name, RandomAug_name, Mixupargmax_name = parse_all_info(path)\n",
    "    config = \"_\".join([str(channel_name),str(Mixup_name), str(RandomAug_name)])\n",
    "    path = os.path.join(root_path,path,'score.txt')\n",
    "\n",
    "    if not os.path.exists(path):\n",
    "        print(config)\n",
    "        \n",
    "        \n",
    "    with open(path) as f:\n",
    "        lines = f.readlines()\n",
    "    \n",
    "    macro_F1_list = []\n",
    "    weighted_F1_list = []\n",
    "    for line in lines:\n",
    "        weighted_F1_index = line.find(\"Test weighted F1:\")\n",
    "        macro_F1_index    = line.find(\"Test macro F1:\")\n",
    "        weighted_F1 = float(line[weighted_F1_index+18:weighted_F1_index+27])\n",
    "        macro_F1 = float(line[macro_F1_index+18:macro_F1_index+27])\n",
    "        macro_F1_list.append(macro_F1)\n",
    "        weighted_F1_list.append(weighted_F1)\n",
    "    mean_weighted_F1 = np.mean(weighted_F1_list)\n",
    "    mean_macro_F1  = np.mean(macro_F1_list)\n",
    "    result[config] = [mean_weighted_F1, mean_macro_F1]\n",
    "    \n",
    "# change the result into  dataframe \n",
    "df_macro = pd.DataFrame()\n",
    "df_weighted = pd.DataFrame()\n",
    "\n",
    "key_list = list(result.keys())\n",
    "mean_macro_F1 = []\n",
    "mean_weighted_F1 = []\n",
    "for key in key_list:\n",
    "    mean_macro_F1.append(result[key][1])\n",
    "    mean_weighted_F1.append(result[key][0])\n",
    "    \n",
    "df_macro[\"col\"] = key_list\n",
    "df_macro[\"score\"] = mean_macro_F1\n",
    "\n",
    "df_weighted[\"col\"] = key_list\n",
    "df_weighted[\"score\"] = mean_weighted_F1\n",
    "\n",
    "result_to_save[out_config] = {\"df_macro\":df_macro, \"df_weighted\":df_weighted}"
   ]
  },
  {
   "cell_type": "code",
   "execution_count": 15,
   "id": "599cd9d1-c14c-468c-aea9-af3e63fa39fd",
   "metadata": {
    "tags": []
   },
   "outputs": [
    {
     "data": {
      "text/plain": [
       "{'tinyhar_wisdm_1': {'df_macro':                  col     score\n",
       "  0    False_True_True  0.902006\n",
       "  1     True_True_True  0.911602\n",
       "  2  False_False_False  0.889868\n",
       "  3    True_False_True  0.888171\n",
       "  4   False_True_False  0.907518\n",
       "  5   False_False_True  0.883337\n",
       "  6    True_True_False  0.911310\n",
       "  7   True_False_False  0.895573,\n",
       "  'df_weighted':                  col     score\n",
       "  0    False_True_True  0.902006\n",
       "  1     True_True_True  0.911602\n",
       "  2  False_False_False  0.889868\n",
       "  3    True_False_True  0.888172\n",
       "  4   False_True_False  0.907519\n",
       "  5   False_False_True  0.883338\n",
       "  6    True_True_False  0.911311\n",
       "  7   True_False_False  0.895573}}"
      ]
     },
     "execution_count": 15,
     "metadata": {},
     "output_type": "execute_result"
    }
   ],
   "source": [
    "result_to_save"
   ]
  },
  {
   "cell_type": "code",
   "execution_count": 13,
   "id": "89a2fff6-1db1-4b44-8155-c3a3be2efbd4",
   "metadata": {
    "tags": []
   },
   "outputs": [
    {
     "data": {
      "text/html": [
       "<div>\n",
       "<style scoped>\n",
       "    .dataframe tbody tr th:only-of-type {\n",
       "        vertical-align: middle;\n",
       "    }\n",
       "\n",
       "    .dataframe tbody tr th {\n",
       "        vertical-align: top;\n",
       "    }\n",
       "\n",
       "    .dataframe thead th {\n",
       "        text-align: right;\n",
       "    }\n",
       "</style>\n",
       "<table border=\"1\" class=\"dataframe\">\n",
       "  <thead>\n",
       "    <tr style=\"text-align: right;\">\n",
       "      <th></th>\n",
       "      <th>col</th>\n",
       "      <th>score</th>\n",
       "    </tr>\n",
       "  </thead>\n",
       "  <tbody>\n",
       "    <tr>\n",
       "      <th>0</th>\n",
       "      <td>False_True_True</td>\n",
       "      <td>0.902006</td>\n",
       "    </tr>\n",
       "    <tr>\n",
       "      <th>1</th>\n",
       "      <td>True_True_True</td>\n",
       "      <td>0.911602</td>\n",
       "    </tr>\n",
       "    <tr>\n",
       "      <th>2</th>\n",
       "      <td>False_False_False</td>\n",
       "      <td>0.889868</td>\n",
       "    </tr>\n",
       "    <tr>\n",
       "      <th>3</th>\n",
       "      <td>True_False_True</td>\n",
       "      <td>0.888171</td>\n",
       "    </tr>\n",
       "    <tr>\n",
       "      <th>4</th>\n",
       "      <td>False_True_False</td>\n",
       "      <td>0.907518</td>\n",
       "    </tr>\n",
       "    <tr>\n",
       "      <th>5</th>\n",
       "      <td>False_False_True</td>\n",
       "      <td>0.883337</td>\n",
       "    </tr>\n",
       "    <tr>\n",
       "      <th>6</th>\n",
       "      <td>True_True_False</td>\n",
       "      <td>0.911310</td>\n",
       "    </tr>\n",
       "    <tr>\n",
       "      <th>7</th>\n",
       "      <td>True_False_False</td>\n",
       "      <td>0.895573</td>\n",
       "    </tr>\n",
       "  </tbody>\n",
       "</table>\n",
       "</div>"
      ],
      "text/plain": [
       "                 col     score\n",
       "0    False_True_True  0.902006\n",
       "1     True_True_True  0.911602\n",
       "2  False_False_False  0.889868\n",
       "3    True_False_True  0.888171\n",
       "4   False_True_False  0.907518\n",
       "5   False_False_True  0.883337\n",
       "6    True_True_False  0.911310\n",
       "7   True_False_False  0.895573"
      ]
     },
     "execution_count": 13,
     "metadata": {},
     "output_type": "execute_result"
    }
   ],
   "source": [
    "df_macro"
   ]
  },
  {
   "cell_type": "code",
   "execution_count": 7,
   "id": "2d45aa08-c91c-4d46-9178-c8816f72718c",
   "metadata": {
    "tags": []
   },
   "outputs": [],
   "source": [
    "result = {}\n",
    "for path in filtered_path:\n",
    "    model_name, data_name , seed_name, channel_name,Mixup_name, RandomAug_name, Mixupargmax_name = parse_all_info(path)\n",
    "    config = \"_\".join([str(channel_name),str(Mixup_name), str(RandomAug_name)])\n",
    "    path = os.path.join(root_path,path,'score.txt')\n",
    "\n",
    "    if not os.path.exists(path):\n",
    "        print(config)\n",
    "        \n",
    "        \n",
    "    with open(path) as f:\n",
    "        lines = f.readlines()\n",
    "    \n",
    "    macro_F1_list = []\n",
    "    weighted_F1_list = []\n",
    "    for line in lines:\n",
    "        weighted_F1_index = line.find(\"Test weighted F1:\")\n",
    "        macro_F1_index    = line.find(\"Test macro F1:\")\n",
    "        weighted_F1 = float(line[weighted_F1_index+18:weighted_F1_index+27])\n",
    "        macro_F1 = float(line[macro_F1_index+18:macro_F1_index+27])\n",
    "        macro_F1_list.append(macro_F1)\n",
    "        weighted_F1_list.append(weighted_F1)\n",
    "    mean_weighted_F1 = np.mean(weighted_F1_list)\n",
    "    mean_macro_F1  = np.mean(macro_F1_list)\n",
    "    result[config] = [mean_weighted_F1, mean_macro_F1]"
   ]
  },
  {
   "cell_type": "code",
   "execution_count": 8,
   "id": "0b9ea267-3384-411e-b450-059424ffed54",
   "metadata": {
    "tags": []
   },
   "outputs": [],
   "source": [
    "df_macro = pd.DataFrame()\n",
    "df_weighted = pd.DataFrame()\n",
    "\n",
    "key_list = list(result.keys())\n",
    "mean_macro_F1 = []\n",
    "mean_weighted_F1 = []\n",
    "for key in key_list:\n",
    "    mean_macro_F1.append(result[key][1])\n",
    "    mean_weighted_F1.append(result[key][0])\n",
    "    \n",
    "df_macro[\"col\"] = key_list\n",
    "df_macro[\"score\"] = mean_macro_F1\n",
    "\n",
    "df_weighted[\"col\"] = key_list\n",
    "df_weighted[\"score\"] = mean_weighted_F1"
   ]
  },
  {
   "cell_type": "code",
   "execution_count": 9,
   "id": "38dd4b85-6e82-48fc-8beb-2fb4d18786f6",
   "metadata": {
    "tags": []
   },
   "outputs": [
    {
     "data": {
      "text/html": [
       "<div>\n",
       "<style scoped>\n",
       "    .dataframe tbody tr th:only-of-type {\n",
       "        vertical-align: middle;\n",
       "    }\n",
       "\n",
       "    .dataframe tbody tr th {\n",
       "        vertical-align: top;\n",
       "    }\n",
       "\n",
       "    .dataframe thead th {\n",
       "        text-align: right;\n",
       "    }\n",
       "</style>\n",
       "<table border=\"1\" class=\"dataframe\">\n",
       "  <thead>\n",
       "    <tr style=\"text-align: right;\">\n",
       "      <th></th>\n",
       "      <th>col</th>\n",
       "      <th>score</th>\n",
       "    </tr>\n",
       "  </thead>\n",
       "  <tbody>\n",
       "    <tr>\n",
       "      <th>0</th>\n",
       "      <td>False_True_True</td>\n",
       "      <td>0.902006</td>\n",
       "    </tr>\n",
       "    <tr>\n",
       "      <th>1</th>\n",
       "      <td>True_True_True</td>\n",
       "      <td>0.911602</td>\n",
       "    </tr>\n",
       "    <tr>\n",
       "      <th>2</th>\n",
       "      <td>False_False_False</td>\n",
       "      <td>0.889868</td>\n",
       "    </tr>\n",
       "    <tr>\n",
       "      <th>3</th>\n",
       "      <td>True_False_True</td>\n",
       "      <td>0.888171</td>\n",
       "    </tr>\n",
       "    <tr>\n",
       "      <th>4</th>\n",
       "      <td>False_True_False</td>\n",
       "      <td>0.907518</td>\n",
       "    </tr>\n",
       "    <tr>\n",
       "      <th>5</th>\n",
       "      <td>False_False_True</td>\n",
       "      <td>0.883337</td>\n",
       "    </tr>\n",
       "    <tr>\n",
       "      <th>6</th>\n",
       "      <td>True_True_False</td>\n",
       "      <td>0.911310</td>\n",
       "    </tr>\n",
       "    <tr>\n",
       "      <th>7</th>\n",
       "      <td>True_False_False</td>\n",
       "      <td>0.895573</td>\n",
       "    </tr>\n",
       "  </tbody>\n",
       "</table>\n",
       "</div>"
      ],
      "text/plain": [
       "                 col     score\n",
       "0    False_True_True  0.902006\n",
       "1     True_True_True  0.911602\n",
       "2  False_False_False  0.889868\n",
       "3    True_False_True  0.888171\n",
       "4   False_True_False  0.907518\n",
       "5   False_False_True  0.883337\n",
       "6    True_True_False  0.911310\n",
       "7   True_False_False  0.895573"
      ]
     },
     "execution_count": 9,
     "metadata": {},
     "output_type": "execute_result"
    }
   ],
   "source": [
    "df_macro"
   ]
  },
  {
   "cell_type": "code",
   "execution_count": 5,
   "id": "e220493b-0b32-4832-b1b2-fb89115ec864",
   "metadata": {},
   "outputs": [
    {
     "data": {
      "text/plain": [
       "0.18580589709666595"
      ]
     },
     "execution_count": 5,
     "metadata": {},
     "output_type": "execute_result"
    }
   ],
   "source": [
    "import numpy as np\n",
    "np.random.uniform(0,1,1)[0]"
   ]
  },
  {
   "cell_type": "code",
   "execution_count": null,
   "id": "5ad3c94f-d003-466d-9384-f7debfd0a308",
   "metadata": {},
   "outputs": [],
   "source": []
  }
 ],
 "metadata": {
  "kernelspec": {
   "display_name": "iswc23",
   "language": "python",
   "name": "iswc23"
  },
  "language_info": {
   "codemirror_mode": {
    "name": "ipython",
    "version": 3
   },
   "file_extension": ".py",
   "mimetype": "text/x-python",
   "name": "python",
   "nbconvert_exporter": "python",
   "pygments_lexer": "ipython3",
   "version": "3.9.16"
  }
 },
 "nbformat": 4,
 "nbformat_minor": 5
}
