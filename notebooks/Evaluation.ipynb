{
 "cells": [
  {
   "cell_type": "code",
   "execution_count": 1,
   "id": "ea8328b2-75c7-4edb-bd6a-5c6ac9626009",
   "metadata": {},
   "outputs": [],
   "source": [
    "import os\n",
    "import re\n",
    "import numpy as np"
   ]
  },
  {
   "cell_type": "code",
   "execution_count": 2,
   "id": "6f03a438-4e88-4ae7-b4c3-307fe32c5423",
   "metadata": {},
   "outputs": [],
   "source": [
    "logfile_path = '../../ISWC2022LearnableFilter/Run_logs/logs/'"
   ]
  },
  {
   "cell_type": "code",
   "execution_count": 3,
   "id": "c66034de-7b59-42c8-922a-09fa884dc7bf",
   "metadata": {},
   "outputs": [],
   "source": [
    "experiments = os.listdir(logfile_path)"
   ]
  },
  {
   "cell_type": "markdown",
   "id": "352de904-a568-4b3d-b9c4-df3161439a9a",
   "metadata": {},
   "source": [
    "# average over subjects"
   ]
  },
  {
   "cell_type": "code",
   "execution_count": 4,
   "id": "4ea8e916-6d3b-462b-aa14-3560f238a47c",
   "metadata": {},
   "outputs": [
    {
     "name": "stdout",
     "output_type": "stream",
     "text": [
      "Processing deepconvlstm_data_hapt_seed_4_windowsize_128_waveFilter_True_Fscaling_0.25_cvfilter_64_lstmfilter_1024_Regu_True...\n",
      "Processing deepconvlstm_data_oppo_seed_3_windowsize_30_waveFilter_True_Fscaling_0.25_cvfilter_64_lstmfilter_1024_Regu_True...\n",
      "Processing deepconvlstm_data_oppo_seed_1_windowsize_30_waveFilter_True_Fscaling_0.25_cvfilter_64_lstmfilter_1024_Regu_True...\n",
      "Processing deepconvlstm_data_oppo_seed_5_windowsize_30_waveFilter_True_Fscaling_0.25_cvfilter_64_lstmfilter_1024_Regu_True...\n",
      "Processing deepconvlstm_data_hapt_seed_3_windowsize_128_waveFilter_True_Fscaling_0.25_cvfilter_64_lstmfilter_1024_Regu_True...\n",
      "Processing deepconvlstm_data_hapt_seed_2_windowsize_128_waveFilter_True_Fscaling_0.25_cvfilter_64_lstmfilter_1024_Regu_True...\n",
      "Processing deepconvlstm_data_oppo_seed_4_windowsize_30_waveFilter_True_Fscaling_0.25_cvfilter_64_lstmfilter_1024_Regu_True...\n",
      "Processing deepconvlstm_data_oppo_seed_2_windowsize_30_waveFilter_True_Fscaling_0.25_cvfilter_64_lstmfilter_1024_Regu_True...\n",
      "Processing deepconvlstm_data_hapt_seed_5_windowsize_128_waveFilter_True_Fscaling_0.25_cvfilter_64_lstmfilter_1024_Regu_True...\n",
      "Processing deepconvlstm_data_hapt_seed_1_windowsize_128_waveFilter_True_Fscaling_0.25_cvfilter_64_lstmfilter_1024_Regu_True...\n"
     ]
    }
   ],
   "source": [
    "for e in experiments:\n",
    "    experiment_path = logfile_path + e\n",
    "    score_path = experiment_path + '/finetuned_score.txt'\n",
    "    if os.path.exists(score_path):\n",
    "        print(f'Processing {e}...')\n",
    "        \n",
    "        weighted_F1 = []\n",
    "        macro_F1 = []\n",
    "        \n",
    "        f = open(score_path)\n",
    "        while True:\n",
    "            line = f.readline()\n",
    "            if line == '':\n",
    "                break\n",
    "            scores = re.findall(r'0.[\\d.]*\\d+', line)\n",
    "            weighted_F1.append(float(scores[0]))\n",
    "            macro_F1.append(float(scores[1]))\n",
    "        \n",
    "        F1 = np.array([weighted_F1, macro_F1]).T\n",
    "        mean_F1 = np.mean(F1, axis=0)\n",
    "        np.savetxt(experiment_path+'/average_score.txt', mean_F1, fmt='%.6f')"
   ]
  },
  {
   "cell_type": "markdown",
   "id": "009921c3-e341-4cb2-bd97-feb209af11c9",
   "metadata": {},
   "source": [
    "# Average over seeds"
   ]
  },
  {
   "cell_type": "code",
   "execution_count": 5,
   "id": "8fbd6f25-7415-4240-81a4-0be8beb37455",
   "metadata": {},
   "outputs": [],
   "source": [
    "models = ['deepconvlstm']\n",
    "datasets = ['hapt', 'oppo']\n",
    "sfs = ['0.25']"
   ]
  },
  {
   "cell_type": "code",
   "execution_count": 6,
   "id": "2b28943a-9847-48bd-aebe-ac63358062f0",
   "metadata": {},
   "outputs": [
    {
     "data": {
      "text/plain": [
       "['.ipynb_checkpoints',\n",
       " 'deepconvlstm_data_hapt_seed_4_windowsize_128_waveFilter_True_Fscaling_0.25_cvfilter_64_lstmfilter_1024_Regu_True',\n",
       " 'deepconvlstm_data_oppo_seed_3_windowsize_30_waveFilter_True_Fscaling_0.25_cvfilter_64_lstmfilter_1024_Regu_True',\n",
       " 'deepconvlstm_data_oppo_seed_1_windowsize_30_waveFilter_True_Fscaling_0.25_cvfilter_64_lstmfilter_1024_Regu_True',\n",
       " 'deepconvlstm_data_oppo_seed_5_windowsize_30_waveFilter_True_Fscaling_0.25_cvfilter_64_lstmfilter_1024_Regu_True',\n",
       " 'deepconvlstm_data_hapt_seed_3_windowsize_128_waveFilter_True_Fscaling_0.25_cvfilter_64_lstmfilter_1024_Regu_True',\n",
       " 'deepconvlstm_data_hapt_seed_2_windowsize_128_waveFilter_True_Fscaling_0.25_cvfilter_64_lstmfilter_1024_Regu_True',\n",
       " 'deepconvlstm_data_oppo_seed_4_windowsize_30_waveFilter_True_Fscaling_0.25_cvfilter_64_lstmfilter_1024_Regu_True',\n",
       " 'deepconvlstm_data_oppo_seed_2_windowsize_30_waveFilter_True_Fscaling_0.25_cvfilter_64_lstmfilter_1024_Regu_True',\n",
       " 'deepconvlstm_data_hapt_seed_5_windowsize_128_waveFilter_True_Fscaling_0.25_cvfilter_64_lstmfilter_1024_Regu_True',\n",
       " 'deepconvlstm_data_hapt_seed_1_windowsize_128_waveFilter_True_Fscaling_0.25_cvfilter_64_lstmfilter_1024_Regu_True']"
      ]
     },
     "execution_count": 6,
     "metadata": {},
     "output_type": "execute_result"
    }
   ],
   "source": [
    "experiments"
   ]
  },
  {
   "cell_type": "code",
   "execution_count": 8,
   "id": "4a627a74-790a-434d-bfbf-26873afcabe3",
   "metadata": {},
   "outputs": [],
   "source": [
    "for model in models:\n",
    "    for dataset in datasets:\n",
    "        for sf in sfs:\n",
    "            score_cross_seed = []\n",
    "            for e in experiments:\n",
    "                if (model in e) and (dataset in e) and (sf in e):\n",
    "                    seed_path = logfile_path + e + '/average_score.txt'\n",
    "                    score = np.loadtxt(seed_path)\n",
    "                    score_cross_seed.append(score)\n",
    "            m = np.mean(score_cross_seed, axis=0)\n",
    "            std = np.std(score_cross_seed, axis=0)\n",
    "            result_cross_seed = np.array([m, std])\n",
    "            np.savetxt(f'{logfile_path}/../result/{model}_{dataset}_{sf}.txt', result_cross_seed, fmt='%.6f')"
   ]
  }
 ],
 "metadata": {
  "kernelspec": {
   "display_name": "SDIL",
   "language": "python",
   "name": "sdil"
  },
  "language_info": {
   "codemirror_mode": {
    "name": "ipython",
    "version": 3
   },
   "file_extension": ".py",
   "mimetype": "text/x-python",
   "name": "python",
   "nbconvert_exporter": "python",
   "pygments_lexer": "ipython3",
   "version": "3.8.13"
  }
 },
 "nbformat": 4,
 "nbformat_minor": 5
}
