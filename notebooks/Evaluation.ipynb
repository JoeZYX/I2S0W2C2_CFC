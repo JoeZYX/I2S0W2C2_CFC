{
 "cells": [
  {
   "cell_type": "code",
   "execution_count": 1,
   "id": "ea8328b2-75c7-4edb-bd6a-5c6ac9626009",
   "metadata": {},
   "outputs": [],
   "source": [
    "import os\n",
    "import re\n",
    "import numpy as np"
   ]
  },
  {
   "cell_type": "code",
   "execution_count": 2,
   "id": "6f03a438-4e88-4ae7-b4c3-307fe32c5423",
   "metadata": {},
   "outputs": [],
   "source": [
    "logfile_path = '../../ISWC2022LearnableFilter/Run_logs/logs/'"
   ]
  },
  {
   "cell_type": "code",
   "execution_count": 3,
   "id": "c66034de-7b59-42c8-922a-09fa884dc7bf",
   "metadata": {},
   "outputs": [],
   "source": [
    "experiments = os.listdir(logfile_path)"
   ]
  },
  {
   "cell_type": "markdown",
   "id": "352de904-a568-4b3d-b9c4-df3161439a9a",
   "metadata": {},
   "source": [
    "# average over subjects"
   ]
  },
  {
   "cell_type": "code",
   "execution_count": 4,
   "id": "4ea8e916-6d3b-462b-aa14-3560f238a47c",
   "metadata": {},
   "outputs": [
    {
     "name": "stdout",
     "output_type": "stream",
     "text": [
      "Processing deepconvlstm_data_skodar_seed_3_windowsize_84_waveFilter_False_Fscaling_0.25_cvfilter_64_lstmfilter_128_Regu_False_wavelearnble_None...\n",
      "Processing deepconvlstm_data_skodar_seed_4_windowsize_84_waveFilter_False_Fscaling_0.25_cvfilter_64_lstmfilter_128_Regu_False_wavelearnble_None...\n",
      "Processing deepconvlstm_data_skodar_seed_2_windowsize_84_waveFilter_True_Fscaling_0.25_cvfilter_64_lstmfilter_128_Regu_True_wavelearnble_False...\n",
      "Processing deepconvlstm_data_skodar_seed_1_windowsize_84_waveFilter_True_Fscaling_0.5_cvfilter_64_lstmfilter_128_Regu_True_wavelearnble_False...\n",
      "Processing deepconvlstm_data_skodar_seed_5_windowsize_84_waveFilter_False_Fscaling_0.25_cvfilter_64_lstmfilter_128_Regu_False_wavelearnble_None...\n",
      "Processing deepconvlstm_data_pamap2_seed_5_windowsize_168_waveFilter_True_Fscaling_0.75_cvfilter_64_lstmfilter_128_Regu_True_wavelearnble_False...\n",
      "Processing sahar_data_pamap2_seed_1_windowsize_168_waveFilter_True_Fscaling_0.25_cvfilter_128_grufilter_None_Regu_True_wavelearnble_False...\n",
      "Processing sahar_data_pamap2_seed_5_windowsize_168_waveFilter_False_Fscaling_0.75_cvfilter_128_grufilter_None_Regu_False_wavelearnble_None...\n",
      "Processing deepconvlstm_data_pamap2_seed_3_windowsize_168_waveFilter_True_Fscaling_0.75_cvfilter_64_lstmfilter_128_Regu_True_wavelearnble_False...\n",
      "Processing deepconvlstm_data_pamap2_seed_2_windowsize_168_waveFilter_True_Fscaling_0.75_cvfilter_64_lstmfilter_128_Regu_True_wavelearnble_False...\n",
      "Processing sahar_data_pamap2_seed_5_windowsize_168_waveFilter_False_Fscaling_0.5_cvfilter_128_grufilter_None_Regu_False_wavelearnble_None...\n",
      "Processing deepconvlstm_data_pamap2_seed_3_windowsize_168_waveFilter_True_Fscaling_0.5_cvfilter_64_lstmfilter_128_Regu_True_wavelearnble_False...\n",
      "Processing sahar_data_skodar_seed_3_windowsize_84_waveFilter_True_Fscaling_0.5_cvfilter_128_grufilter_None_Regu_True_wavelearnble_False...\n",
      "Processing sahar_data_pamap2_seed_4_windowsize_168_waveFilter_True_Fscaling_0.25_cvfilter_128_grufilter_None_Regu_True_wavelearnble_False...\n",
      "Processing deepconvlstm_data_skodar_seed_5_windowsize_84_waveFilter_True_Fscaling_0.5_cvfilter_64_lstmfilter_128_Regu_True_wavelearnble_False...\n",
      "Processing deepconvlstm_data_skodar_seed_2_windowsize_84_waveFilter_False_Fscaling_0.25_cvfilter_64_lstmfilter_128_Regu_False_wavelearnble_None...\n",
      "Processing deepconvlstm_data_pamap2_seed_1_windowsize_168_waveFilter_False_Fscaling_0.25_cvfilter_64_lstmfilter_128_Regu_False_wavelearnble_None...\n",
      "Processing deepconvlstm_data_skodar_seed_2_windowsize_84_waveFilter_True_Fscaling_0.75_cvfilter_64_lstmfilter_128_Regu_True_wavelearnble_False...\n",
      "Processing deepconvlstm_data_pamap2_seed_2_windowsize_168_waveFilter_False_Fscaling_0.25_cvfilter_64_lstmfilter_128_Regu_False_wavelearnble_None...\n",
      "Processing sahar_data_skodar_seed_3_windowsize_84_waveFilter_True_Fscaling_0.25_cvfilter_128_grufilter_None_Regu_True_wavelearnble_False...\n",
      "Processing sahar_data_pamap2_seed_1_windowsize_168_waveFilter_True_Fscaling_0.75_cvfilter_128_grufilter_None_Regu_True_wavelearnble_False...\n",
      "Processing deepconvlstm_data_pamap2_seed_5_windowsize_168_waveFilter_True_Fscaling_0.5_cvfilter_64_lstmfilter_128_Regu_True_wavelearnble_False...\n",
      "Processing sahar_data_skodar_seed_3_windowsize_84_waveFilter_True_Fscaling_0.75_cvfilter_128_grufilter_None_Regu_True_wavelearnble_False...\n",
      "Processing sahar_data_pamap2_seed_4_windowsize_168_waveFilter_True_Fscaling_0.5_cvfilter_128_grufilter_None_Regu_True_wavelearnble_False...\n",
      "Processing deepconvlstm_data_pamap2_seed_4_windowsize_168_waveFilter_True_Fscaling_0.5_cvfilter_64_lstmfilter_128_Regu_True_wavelearnble_False...\n",
      "Processing sahar_data_skodar_seed_2_windowsize_84_waveFilter_True_Fscaling_0.75_cvfilter_128_grufilter_None_Regu_True_wavelearnble_False...\n",
      "Processing deepconvlstm_data_skodar_seed_4_windowsize_84_waveFilter_True_Fscaling_0.5_cvfilter_64_lstmfilter_128_Regu_True_wavelearnble_False...\n",
      "Processing sahar_data_pamap2_seed_2_windowsize_168_waveFilter_False_Fscaling_0.5_cvfilter_128_grufilter_None_Regu_False_wavelearnble_None...\n",
      "Processing sahar_data_skodar_seed_4_windowsize_84_waveFilter_True_Fscaling_0.5_cvfilter_128_grufilter_None_Regu_True_wavelearnble_False...\n",
      "Processing sahar_data_pamap2_seed_5_windowsize_168_waveFilter_True_Fscaling_0.25_cvfilter_128_grufilter_None_Regu_True_wavelearnble_False...\n",
      "Processing deepconvlstm_data_pamap2_seed_4_windowsize_168_waveFilter_True_Fscaling_0.75_cvfilter_64_lstmfilter_128_Regu_True_wavelearnble_False...\n",
      "Processing sahar_data_pamap2_seed_1_windowsize_168_waveFilter_True_Fscaling_0.5_cvfilter_128_grufilter_None_Regu_True_wavelearnble_False...\n",
      "Processing sahar_data_pamap2_seed_3_windowsize_168_waveFilter_True_Fscaling_0.5_cvfilter_128_grufilter_None_Regu_True_wavelearnble_False...\n",
      "Processing sahar_data_skodar_seed_4_windowsize_84_waveFilter_True_Fscaling_0.25_cvfilter_128_grufilter_None_Regu_True_wavelearnble_False...\n",
      "Processing sahar_data_skodar_seed_5_windowsize_84_waveFilter_True_Fscaling_0.25_cvfilter_128_grufilter_None_Regu_True_wavelearnble_False...\n",
      "Processing sahar_data_pamap2_seed_5_windowsize_168_waveFilter_True_Fscaling_0.5_cvfilter_128_grufilter_None_Regu_True_wavelearnble_False...\n",
      "Processing deepconvlstm_data_skodar_seed_4_windowsize_84_waveFilter_True_Fscaling_0.75_cvfilter_64_lstmfilter_128_Regu_True_wavelearnble_False...\n",
      "Processing sahar_data_skodar_seed_1_windowsize_84_waveFilter_True_Fscaling_0.75_cvfilter_128_grufilter_None_Regu_True_wavelearnble_False...\n",
      "Processing deepconvlstm_data_pamap2_seed_3_windowsize_168_waveFilter_True_Fscaling_0.25_cvfilter_64_lstmfilter_128_Regu_True_wavelearnble_False...\n",
      "Processing sahar_data_skodar_seed_4_windowsize_84_waveFilter_True_Fscaling_0.75_cvfilter_128_grufilter_None_Regu_True_wavelearnble_False...\n",
      "Processing deepconvlstm_data_pamap2_seed_5_windowsize_168_waveFilter_True_Fscaling_0.25_cvfilter_64_lstmfilter_128_Regu_True_wavelearnble_False...\n",
      "Processing deepconvlstm_data_skodar_seed_1_windowsize_84_waveFilter_True_Fscaling_0.25_cvfilter_64_lstmfilter_128_Regu_True_wavelearnble_False...\n",
      "Processing deepconvlstm_data_pamap2_seed_3_windowsize_168_waveFilter_False_Fscaling_0.25_cvfilter_64_lstmfilter_128_Regu_False_wavelearnble_None...\n",
      "Processing sahar_data_skodar_seed_5_windowsize_84_waveFilter_True_Fscaling_0.75_cvfilter_128_grufilter_None_Regu_True_wavelearnble_False...\n",
      "Processing deepconvlstm_data_skodar_seed_3_windowsize_84_waveFilter_True_Fscaling_0.75_cvfilter_64_lstmfilter_128_Regu_True_wavelearnble_False...\n",
      "Processing sahar_data_skodar_seed_2_windowsize_84_waveFilter_True_Fscaling_0.5_cvfilter_128_grufilter_None_Regu_True_wavelearnble_False...\n",
      "Processing sahar_data_pamap2_seed_5_windowsize_168_waveFilter_True_Fscaling_0.75_cvfilter_128_grufilter_None_Regu_True_wavelearnble_False...\n",
      "Processing deepconvlstm_data_pamap2_seed_2_windowsize_168_waveFilter_True_Fscaling_0.5_cvfilter_64_lstmfilter_128_Regu_True_wavelearnble_False...\n",
      "Processing deepconvlstm_data_pamap2_seed_1_windowsize_168_waveFilter_True_Fscaling_0.75_cvfilter_64_lstmfilter_128_Regu_True_wavelearnble_False...\n",
      "Processing deepconvlstm_data_skodar_seed_1_windowsize_84_waveFilter_True_Fscaling_0.75_cvfilter_64_lstmfilter_128_Regu_True_wavelearnble_False...\n",
      "Processing deepconvlstm_data_skodar_seed_3_windowsize_84_waveFilter_True_Fscaling_0.5_cvfilter_64_lstmfilter_128_Regu_True_wavelearnble_False...\n",
      "Processing deepconvlstm_data_pamap2_seed_5_windowsize_168_waveFilter_False_Fscaling_0.25_cvfilter_64_lstmfilter_128_Regu_False_wavelearnble_None...\n",
      "Processing sahar_data_pamap2_seed_2_windowsize_168_waveFilter_True_Fscaling_0.25_cvfilter_128_grufilter_None_Regu_True_wavelearnble_False...\n",
      "Processing sahar_data_pamap2_seed_2_windowsize_168_waveFilter_True_Fscaling_0.75_cvfilter_128_grufilter_None_Regu_True_wavelearnble_False...\n",
      "Processing sahar_data_pamap2_seed_3_windowsize_168_waveFilter_True_Fscaling_0.75_cvfilter_128_grufilter_None_Regu_True_wavelearnble_False...\n",
      "Processing deepconvlstm_data_pamap2_seed_1_windowsize_168_waveFilter_True_Fscaling_0.5_cvfilter_64_lstmfilter_128_Regu_True_wavelearnble_False...\n",
      "Processing deepconvlstm_data_skodar_seed_1_windowsize_84_waveFilter_False_Fscaling_0.25_cvfilter_64_lstmfilter_128_Regu_False_wavelearnble_None...\n",
      "Processing deepconvlstm_data_skodar_seed_5_windowsize_84_waveFilter_True_Fscaling_0.25_cvfilter_64_lstmfilter_128_Regu_True_wavelearnble_False...\n",
      "Processing sahar_data_pamap2_seed_2_windowsize_168_waveFilter_True_Fscaling_0.5_cvfilter_128_grufilter_None_Regu_True_wavelearnble_False...\n",
      "Processing deepconvlstm_data_pamap2_seed_4_windowsize_168_waveFilter_False_Fscaling_0.25_cvfilter_64_lstmfilter_128_Regu_False_wavelearnble_None...\n",
      "Processing sahar_data_skodar_seed_1_windowsize_84_waveFilter_True_Fscaling_0.25_cvfilter_128_grufilter_None_Regu_True_wavelearnble_False...\n",
      "Processing sahar_data_pamap2_seed_1_windowsize_168_waveFilter_False_Fscaling_0.5_cvfilter_128_grufilter_None_Regu_False_wavelearnble_None...\n",
      "Processing deepconvlstm_data_skodar_seed_5_windowsize_84_waveFilter_True_Fscaling_0.75_cvfilter_64_lstmfilter_128_Regu_True_wavelearnble_False...\n",
      "Processing sahar_data_pamap2_seed_3_windowsize_168_waveFilter_True_Fscaling_0.25_cvfilter_128_grufilter_None_Regu_True_wavelearnble_False...\n",
      "Processing sahar_data_skodar_seed_2_windowsize_84_waveFilter_True_Fscaling_0.25_cvfilter_128_grufilter_None_Regu_True_wavelearnble_False...\n",
      "Processing deepconvlstm_data_skodar_seed_4_windowsize_84_waveFilter_True_Fscaling_0.25_cvfilter_64_lstmfilter_128_Regu_True_wavelearnble_False...\n",
      "Processing sahar_data_skodar_seed_5_windowsize_84_waveFilter_True_Fscaling_0.5_cvfilter_128_grufilter_None_Regu_True_wavelearnble_False...\n",
      "Processing deepconvlstm_data_skodar_seed_2_windowsize_84_waveFilter_True_Fscaling_0.5_cvfilter_64_lstmfilter_128_Regu_True_wavelearnble_False...\n",
      "Processing deepconvlstm_data_pamap2_seed_2_windowsize_168_waveFilter_True_Fscaling_0.25_cvfilter_64_lstmfilter_128_Regu_True_wavelearnble_False...\n",
      "Processing sahar_data_skodar_seed_1_windowsize_84_waveFilter_True_Fscaling_0.5_cvfilter_128_grufilter_None_Regu_True_wavelearnble_False...\n",
      "Processing deepconvlstm_data_pamap2_seed_4_windowsize_168_waveFilter_True_Fscaling_0.25_cvfilter_64_lstmfilter_128_Regu_True_wavelearnble_False...\n",
      "Processing sahar_data_pamap2_seed_4_windowsize_168_waveFilter_True_Fscaling_0.75_cvfilter_128_grufilter_None_Regu_True_wavelearnble_False...\n",
      "Processing sahar_data_pamap2_seed_4_windowsize_168_waveFilter_False_Fscaling_0.5_cvfilter_128_grufilter_None_Regu_False_wavelearnble_None...\n",
      "Processing deepconvlstm_data_pamap2_seed_1_windowsize_168_waveFilter_True_Fscaling_0.25_cvfilter_64_lstmfilter_128_Regu_True_wavelearnble_False...\n",
      "Processing sahar_data_pamap2_seed_3_windowsize_168_waveFilter_False_Fscaling_0.5_cvfilter_128_grufilter_None_Regu_False_wavelearnble_None...\n",
      "Processing deepconvlstm_data_skodar_seed_3_windowsize_84_waveFilter_True_Fscaling_0.25_cvfilter_64_lstmfilter_128_Regu_True_wavelearnble_False...\n"
     ]
    }
   ],
   "source": [
    "for e in experiments:\n",
    "    experiment_path = logfile_path + e\n",
    "    score_path = experiment_path + '/finetuned_score.txt'\n",
    "    if not os.path.exists(score_path):\n",
    "        score_path = experiment_path + '/score.txt'\n",
    "    if os.path.exists(score_path):\n",
    "        print(f'Processing {e}...')\n",
    "        \n",
    "        weighted_F1 = []\n",
    "        macro_F1 = []\n",
    "        \n",
    "        f = open(score_path)\n",
    "        while True:\n",
    "            line = f.readline()\n",
    "            if line == '':\n",
    "                break\n",
    "            scores = re.findall(r'0.[\\d.]*\\d+', line)\n",
    "            weighted_F1.append(float(scores[0]))\n",
    "            macro_F1.append(float(scores[1]))\n",
    "        \n",
    "        F1 = np.array([weighted_F1, macro_F1]).T\n",
    "        mean_F1 = np.mean(F1, axis=0)\n",
    "        np.savetxt(experiment_path+'/average_score.txt', mean_F1, fmt='%.6f')"
   ]
  },
  {
   "cell_type": "markdown",
   "id": "009921c3-e341-4cb2-bd97-feb209af11c9",
   "metadata": {},
   "source": [
    "# Average over seeds"
   ]
  },
  {
   "cell_type": "code",
   "execution_count": 5,
   "id": "8fbd6f25-7415-4240-81a4-0be8beb37455",
   "metadata": {},
   "outputs": [],
   "source": [
    "# models = ['deepconvlstm', 'attend', 'sahar']\n",
    "# datasets = ['oppo', 'hapt', 'skodar', 'pamap2', 'dsads']\n",
    "# wavelets = ['False', 'True', 'None']\n",
    "# sfs = ['1']"
   ]
  },
  {
   "cell_type": "code",
   "execution_count": 6,
   "id": "2bd0bd4f-19ab-46af-9b2d-4c11db52ecdc",
   "metadata": {},
   "outputs": [],
   "source": [
    "models = ['deepconvlstm']\n",
    "datasets = ['pamap2',]\n",
    "wavelets = ['False']\n",
    "sfs = [ '0.75']"
   ]
  },
  {
   "cell_type": "code",
   "execution_count": 7,
   "id": "4a627a74-790a-434d-bfbf-26873afcabe3",
   "metadata": {},
   "outputs": [
    {
     "name": "stdout",
     "output_type": "stream",
     "text": [
      "[array([0.863797, 0.7716  ]), array([0.858173, 0.761202]), array([0.850396, 0.742724]), array([0.813478, 0.756146]), array([0.842152, 0.743322])]\n"
     ]
    }
   ],
   "source": [
    "for model in models:\n",
    "    for dataset in datasets:\n",
    "        for wavelet in wavelets:\n",
    "            for sf in sfs:\n",
    "                score_cross_seed = []\n",
    "                for e in experiments:\n",
    "                    if e.endswith('e'):\n",
    "                        this_model = re.findall(r'(.+?)_data', e)[0]\n",
    "                        this_scaling = re.findall(r'Fscaling_(.+?)_cvfilter', e)[0]\n",
    "                        this_dataset = re.findall(r'_data_(.+?)_seed', e)[0]\n",
    "                        this_wavelet = re.findall(r'wavelearnble_(.+)', e)[0]\n",
    "            \n",
    "                        if (this_model==model) and (this_dataset==dataset) and (this_scaling==sf) and (this_wavelet==wavelet):              \n",
    "                            seed_path = logfile_path + e + '/average_score.txt'\n",
    "                            score = np.loadtxt(seed_path)\n",
    "                            score_cross_seed.append(score)\n",
    "                print(score_cross_seed)\n",
    "                m = np.mean(score_cross_seed, axis=0)\n",
    "                std = np.std(score_cross_seed, axis=0)\n",
    "                result_cross_seed = np.array([m, std])\n",
    "                np.savetxt(f'{logfile_path}/../result/{model}_{dataset}_{sf}_{wavelet}.txt', result_cross_seed, fmt='%.6f')"
   ]
  },
  {
   "cell_type": "code",
   "execution_count": null,
   "id": "a6022346-195f-4750-aaef-aac3ba5ebca1",
   "metadata": {},
   "outputs": [],
   "source": []
  }
 ],
 "metadata": {
  "kernelspec": {
   "display_name": "SDIL",
   "language": "python",
   "name": "sdil"
  },
  "language_info": {
   "codemirror_mode": {
    "name": "ipython",
    "version": 3
   },
   "file_extension": ".py",
   "mimetype": "text/x-python",
   "name": "python",
   "nbconvert_exporter": "python",
   "pygments_lexer": "ipython3",
   "version": "3.8.13"
  }
 },
 "nbformat": 4,
 "nbformat_minor": 5
}
