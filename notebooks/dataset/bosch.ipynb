{
 "cells": [
  {
   "cell_type": "code",
   "execution_count": 1,
   "id": "beb4b597-3270-45f3-9924-e7ef238f8410",
   "metadata": {
    "tags": []
   },
   "outputs": [],
   "source": [
    "import pandas as pd\n",
    "import numpy as np\n",
    "import os"
   ]
  },
  {
   "cell_type": "code",
   "execution_count": 12,
   "id": "17ae8fbf-92d4-4aa0-9816-65e5292f9067",
   "metadata": {
    "tags": []
   },
   "outputs": [],
   "source": [
    "root_path = \"/pfs/data5/home/kit/tm/px6680/datasets/Bosch_HAR_Dataset/d_merged_47.csv\""
   ]
  },
  {
   "cell_type": "code",
   "execution_count": 13,
   "id": "9efc6287-0eb3-4fd6-9e4d-a6c7c59c340d",
   "metadata": {
    "tags": []
   },
   "outputs": [
    {
     "name": "stdout",
     "output_type": "stream",
     "text": [
      " ----------------------- load all the data -------------------\n"
     ]
    }
   ],
   "source": [
    "# def load_all_the_data(self, root_path):\n",
    "print(\" ----------------------- load all the data -------------------\")\n",
    "df = pd.read_csv(root_path)"
   ]
  },
  {
   "cell_type": "code",
   "execution_count": 14,
   "id": "240217c3-374b-410c-9e88-320e7d8c9880",
   "metadata": {
    "tags": []
   },
   "outputs": [],
   "source": [
    "df[\"label\"] = df[\"label\"].astype(str)\n",
    "df[\"id\"] = df[\"id\"].astype(str)\n",
    "df=df.iloc[:,1:]"
   ]
  },
  {
   "cell_type": "code",
   "execution_count": 15,
   "id": "9ffd62d5-eb9c-40dc-a07d-20c1e90e0369",
   "metadata": {
    "tags": []
   },
   "outputs": [],
   "source": [
    "col_names = ['rawMagnetometer_iPhone_magn_x',\n",
    "             'rawMagnetometer_iPhone_magn_y',\n",
    "             'rawMagnetometer_iPhone_magn_z', \n",
    "             'deviceMotion_iPhone_roll',\n",
    "             'deviceMotion_iPhone_pitch', \n",
    "             'deviceMotion_iPhone_yaw',\n",
    "             'deviceMotion_iPhone_gravity_x',\n",
    "             'deviceMotion_iPhone_gravity_y',\n",
    "               'deviceMotion_iPhone_garvity_z',\n",
    "       'deviceMotion_iPhone_magneticField_x',\n",
    "       'deviceMotion_iPhone_magneticField_y',\n",
    "       'deviceMotion_iPhone_magneticField_z',\n",
    "       'deviceMotion_iPhone_acc_x', 'deviceMotion_iPhone_acc_y',\n",
    "       'deviceMotion_iPhone_acc_z',\n",
    "       'deviceMotion_iPhone_rotationRate_x',\n",
    "       'deviceMotion_iPhone_rotationRate_y',\n",
    "       'deviceMotion_iPhone_rotationRate_z',\n",
    "       'relAltitude_AppleWatch_pressure', 'location_iPhone_speed',\n",
    "       'deviceMotion_AppleWatch_roll', 'deviceMotion_AppleWatch_pitch',\n",
    "       'deviceMotion_AppleWatch_yaw',\n",
    "       'deviceMotion_AppleWatch_gravity_x',\n",
    "       'deviceMotion_AppleWatch_gravity_y',\n",
    "       'deviceMotion_AppleWatch_garvity_z',\n",
    "       'deviceMotion_AppleWatch_magneticField_x',\n",
    "       'deviceMotion_AppleWatch_magneticField_y',\n",
    "       'deviceMotion_AppleWatch_magneticField_z',\n",
    "       'deviceMotion_AppleWatch_acc_x',\n",
    "       'deviceMotion_AppleWatch_acc_y',\n",
    "       'deviceMotion_AppleWatch_acc_z',\n",
    "       'deviceMotion_AppleWatch_rotationRate_x',\n",
    "       'deviceMotion_AppleWatch_rotationRate_y',\n",
    "       'deviceMotion_AppleWatch_rotationRate_z',\n",
    "       'rawRotationRate_iPhone_acc_x', 'rawRotationRate_iPhone_acc_y',\n",
    "       'rawRotationRate_iPhone_acc_z', 'location_AppleWatch_speed',\n",
    "       'relAltitude_iPhone_pressure', 'rawAccelerometer_iPhone_acc_x',\n",
    "       'rawAccelerometer_iPhone_acc_y',\n",
    "       'rawAccelerometer_iPhone_acc_z',\n",
    "       'WatchWorkout_HeartRate_AppleWatch_HeartRate', 'activity_id', 'sub',\n",
    "       'sub_id']"
   ]
  },
  {
   "cell_type": "code",
   "execution_count": 16,
   "id": "adbbf8fb-231a-470e-8abd-574bac735415",
   "metadata": {
    "tags": []
   },
   "outputs": [],
   "source": [
    "df.columns = col_names"
   ]
  },
  {
   "cell_type": "code",
   "execution_count": 17,
   "id": "bc30ad7b-b8df-4193-9f3a-60845154f720",
   "metadata": {
    "tags": []
   },
   "outputs": [],
   "source": [
    "sub_ids_of_each_sub = {}\n",
    "for sub in df[\"sub\"].unique():\n",
    "    temp_sub = df[df[\"sub\"]==sub]\n",
    "    sub_ids_of_each_sub[sub] = list(temp_sub[\"sub_id\"].unique())"
   ]
  },
  {
   "cell_type": "code",
   "execution_count": 18,
   "id": "5b821709-a1d6-4201-9d3f-c24f8f6af248",
   "metadata": {
    "tags": []
   },
   "outputs": [],
   "source": [
    "df = df.set_index('sub_id')"
   ]
  },
  {
   "cell_type": "code",
   "execution_count": 19,
   "id": "8b303d66-75cd-4009-a5c8-01508de5450a",
   "metadata": {
    "tags": []
   },
   "outputs": [],
   "source": [
    "df = df[list(df.columns)[:-2]+[\"sub\"]+[\"activity_id\"]]"
   ]
  },
  {
   "cell_type": "code",
   "execution_count": 10,
   "id": "7e89a93e-5754-4a33-ad69-96760fc774c2",
   "metadata": {
    "tags": []
   },
   "outputs": [],
   "source": [
    "label_map = [(0, 'car'), \n",
    "             (1, \"walking\"), \n",
    "             (2, \"bike\"), \n",
    "             (3, \"train\"),\n",
    "             (4, \"motorcycle\")\n",
    "            ]\n",
    "label_mapping = {item[1]:item[0] for item in label_map}\n",
    "labelToId = {int(x[0]): i for i, x in enumerate(label_map)}"
   ]
  },
  {
   "cell_type": "code",
   "execution_count": 11,
   "id": "48811eba-ff15-4ee2-968d-acd29c580e53",
   "metadata": {
    "tags": []
   },
   "outputs": [],
   "source": [
    "df[\"activity_id\"] = df[\"activity_id\"].map(label_mapping)\n",
    "df[\"activity_id\"] = df[\"activity_id\"].map(labelToId)"
   ]
  },
  {
   "cell_type": "code",
   "execution_count": 20,
   "id": "5d3c1910-898d-4a50-ab36-0592a37fa553",
   "metadata": {
    "tags": []
   },
   "outputs": [],
   "source": [
    "df.dropna(inplace=True)"
   ]
  },
  {
   "cell_type": "code",
   "execution_count": 21,
   "id": "836b6277-fc01-4ab0-bc3b-8706e3d7de14",
   "metadata": {
    "tags": []
   },
   "outputs": [],
   "source": [
    "train_id = [\"0\" , \n",
    "            \"DFB2D69D-FEBF-4930-95AF-3B2EE3826645\",\"4A24314C-555A-4B9A-B385-FEC0C8C34CBE\",\n",
    "            \"44059DF6-1526-4BBB-9BEF-C552C211C7D5\",\"680CF97D-E7A4-40E7-A1C0-9C5E23384C4D\",\n",
    "            \"BF85AAD3-AD2F-4A1B-A33A-2F34C2DA2D3B\",#\"B84F03EC-DF46-4099-9C5E-74DF63D533B3\",\n",
    "            \"870B4438-9DB8-4AD0-BBBB-3FF4CA3180EC\"]\n",
    "test_id  = [\"0B81EFAB-5E21-4AF4-98D8-7901EA8151EB\",\"15FCC77E-B556-441C-812B-157039B69D0F\",\"1609BE08-1A60-4FDD-B1B9-7D917E48C8E6\",\"067EBE88-7885-480A-B3DE-F2B38C63E9C2\",\"B84F03EC-DF46-4099-9C5E-74DF63D533B3\"]"
   ]
  },
  {
   "cell_type": "code",
   "execution_count": 24,
   "id": "5ea6aec8-8bc4-46d6-bba7-c272139dd64c",
   "metadata": {
    "tags": []
   },
   "outputs": [
    {
     "name": "stdout",
     "output_type": "stream",
     "text": [
      "bike          1136257\n",
      "car            982554\n",
      "train          631598\n",
      "walking        604196\n",
      "motorcycle      96622\n",
      "Name: activity_id, dtype: int64\n"
     ]
    }
   ],
   "source": [
    "temp = []\n",
    "for id in train_id:\n",
    "    temp.append(df[df[\"sub\"]==id])\n",
    "    \n",
    "temp = pd.concat(temp)\n",
    "\n",
    "print(temp[\"activity_id\"].value_counts())"
   ]
  },
  {
   "cell_type": "code",
   "execution_count": 25,
   "id": "cd007d76-e2e4-49ea-9e5f-c69421b4a40b",
   "metadata": {
    "tags": []
   },
   "outputs": [
    {
     "name": "stdout",
     "output_type": "stream",
     "text": [
      "walking       690979\n",
      "car           674259\n",
      "bike          160448\n",
      "motorcycle     93797\n",
      "train          20133\n",
      "Name: activity_id, dtype: int64\n"
     ]
    }
   ],
   "source": [
    "temp = []\n",
    "for id in test_id:\n",
    "    temp.append(df[df[\"sub\"]==id])\n",
    "    \n",
    "temp = pd.concat(temp)\n",
    "\n",
    "print(temp[\"activity_id\"].value_counts())"
   ]
  },
  {
   "cell_type": "code",
   "execution_count": 50,
   "id": "98c34664-3260-4694-9ef1-f632ff0fd25b",
   "metadata": {
    "tags": []
   },
   "outputs": [
    {
     "name": "stdout",
     "output_type": "stream",
     "text": [
      "rawMagnetometer_iPhone_magn_x\n",
      "0\n",
      "rawMagnetometer_iPhone_magn_y\n",
      "0\n",
      "rawMagnetometer_iPhone_magn_z\n",
      "0\n",
      "deviceMotion_iPhone_roll\n",
      "0\n",
      "deviceMotion_iPhone_pitch\n",
      "0\n",
      "deviceMotion_iPhone_yaw\n",
      "0\n",
      "deviceMotion_iPhone_gravity_x\n",
      "0\n",
      "deviceMotion_iPhone_gravity_y\n",
      "0\n",
      "deviceMotion_iPhone_garvity_z\n",
      "0\n",
      "deviceMotion_iPhone_magneticField_x\n",
      "0\n",
      "deviceMotion_iPhone_magneticField_y\n",
      "0\n",
      "deviceMotion_iPhone_magneticField_z\n",
      "0\n",
      "deviceMotion_iPhone_acc_x\n",
      "0\n",
      "deviceMotion_iPhone_acc_y\n",
      "0\n",
      "deviceMotion_iPhone_acc_z\n",
      "0\n",
      "deviceMotion_iPhone_rotationRate_x\n",
      "0\n",
      "deviceMotion_iPhone_rotationRate_y\n",
      "0\n",
      "deviceMotion_iPhone_rotationRate_z\n",
      "0\n",
      "relAltitude_AppleWatch_pressure\n",
      "0\n",
      "location_iPhone_speed\n",
      "0\n",
      "deviceMotion_AppleWatch_roll\n",
      "0\n",
      "deviceMotion_AppleWatch_pitch\n",
      "0\n",
      "deviceMotion_AppleWatch_yaw\n",
      "0\n",
      "deviceMotion_AppleWatch_gravity_x\n",
      "0\n",
      "deviceMotion_AppleWatch_gravity_y\n",
      "0\n",
      "deviceMotion_AppleWatch_garvity_z\n",
      "0\n",
      "deviceMotion_AppleWatch_magneticField_x\n",
      "0\n",
      "deviceMotion_AppleWatch_magneticField_y\n",
      "0\n",
      "deviceMotion_AppleWatch_magneticField_z\n",
      "0\n",
      "deviceMotion_AppleWatch_acc_x\n",
      "0\n",
      "deviceMotion_AppleWatch_acc_y\n",
      "0\n",
      "deviceMotion_AppleWatch_acc_z\n",
      "0\n",
      "deviceMotion_AppleWatch_rotationRate_x\n",
      "0\n",
      "deviceMotion_AppleWatch_rotationRate_y\n",
      "0\n",
      "deviceMotion_AppleWatch_rotationRate_z\n",
      "0\n",
      "rawRotationRate_iPhone_acc_x\n",
      "0\n",
      "rawRotationRate_iPhone_acc_y\n",
      "0\n",
      "rawRotationRate_iPhone_acc_z\n",
      "0\n",
      "location_AppleWatch_speed\n",
      "0\n",
      "relAltitude_iPhone_pressure\n",
      "0\n",
      "rawAccelerometer_iPhone_acc_x\n",
      "0\n",
      "rawAccelerometer_iPhone_acc_y\n",
      "0\n",
      "rawAccelerometer_iPhone_acc_z\n",
      "0\n",
      "WatchWorkout_HeartRate_AppleWatch_HeartRate\n",
      "0\n",
      "sub\n",
      "0\n",
      "activity_id\n",
      "0\n"
     ]
    }
   ],
   "source": [
    "for col in df.columns:\n",
    "    print(col)\n",
    "    print(df[col].isna().values.sum())"
   ]
  },
  {
   "cell_type": "code",
   "execution_count": null,
   "id": "830c7cc6-db0a-42fa-b952-35cd8296a274",
   "metadata": {},
   "outputs": [],
   "source": []
  },
  {
   "cell_type": "code",
   "execution_count": 51,
   "id": "af5c7975-3b38-4343-9b8a-1f12e5ade7d3",
   "metadata": {
    "tags": []
   },
   "outputs": [
    {
     "data": {
      "text/plain": [
       "0    1656813\n",
       "2    1296705\n",
       "1    1295175\n",
       "3     651731\n",
       "4     190419\n",
       "Name: activity_id, dtype: int64"
      ]
     },
     "execution_count": 51,
     "metadata": {},
     "output_type": "execute_result"
    }
   ],
   "source": [
    "df[\"activity_id\"].value_counts()"
   ]
  },
  {
   "cell_type": "code",
   "execution_count": null,
   "id": "e80c77ea-e8d5-494b-9e35-76e20e86294c",
   "metadata": {},
   "outputs": [],
   "source": []
  }
 ],
 "metadata": {
  "kernelspec": {
   "display_name": "iswc23",
   "language": "python",
   "name": "iswc23"
  },
  "language_info": {
   "codemirror_mode": {
    "name": "ipython",
    "version": 3
   },
   "file_extension": ".py",
   "mimetype": "text/x-python",
   "name": "python",
   "nbconvert_exporter": "python",
   "pygments_lexer": "ipython3",
   "version": "3.9.16"
  }
 },
 "nbformat": 4,
 "nbformat_minor": 5
}
