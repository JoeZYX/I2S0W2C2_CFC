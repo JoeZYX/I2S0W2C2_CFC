{
 "cells": [
  {
   "cell_type": "code",
   "execution_count": 1,
   "id": "21022446",
   "metadata": {},
   "outputs": [],
   "source": [
    "import warnings\n",
    "warnings.filterwarnings(\"ignore\")\n",
    "\n",
    "import sys\n",
    "sys.path.append(\"../../\")\n",
    "\n",
    "from experiment import Exp\n",
    "\n",
    "from dataloaders import data_set,data_dict\n",
    "import torch\n",
    "import yaml\n",
    "import os\n",
    "\n",
    "class dotdict(dict):\n",
    "    \"\"\"dot.notation access to dictionary attributes\"\"\"\n",
    "    __getattr__ = dict.get\n",
    "    __setattr__ = dict.__setitem__\n",
    "    __delattr__ = dict.__delitem__"
   ]
  },
  {
   "cell_type": "code",
   "execution_count": 2,
   "id": "06c1b020",
   "metadata": {},
   "outputs": [],
   "source": [
    "\n",
    "\n",
    "args = dotdict()   \n",
    "\n",
    "args.freq_save_path   = r\"E:\\TECO_Works\\Conference\\ISWC2022\\Freq_data\"\n",
    "args.window_save_path = r\"E:\\TECO_Works\\Conference\\ISWC2022\\Sliding_window\"\n",
    "args.root_path        = r\"E:\\datasets\"\n",
    "\n",
    "args.drop_transition  = False\n",
    "\n",
    "args.batch_size       = 128\n",
    "args.shuffle          = True\n",
    "args.drop_last        = False\n",
    "args.train_vali_quote = 0.85"
   ]
  },
  {
   "cell_type": "markdown",
   "id": "7a8b0794",
   "metadata": {},
   "source": [
    "# Define Para"
   ]
  },
  {
   "cell_type": "code",
   "execution_count": 3,
   "id": "76a11733",
   "metadata": {},
   "outputs": [],
   "source": [
    "# 哪个数据集\n",
    "args.data_name           =  \"rw\"  # rw hapt\n",
    "\n",
    "# 是否作augmentation difference\n",
    "args.difference          =  False \n",
    "\n",
    "# 是否作augmentation  filtering\n",
    "args.filtering           =  False\n",
    "\n",
    "# 是否作augmentation  magnitude\n",
    "args.magnitude           =  False\n",
    "args.weighted_sampler    = False\n",
    "\n",
    "\n",
    "# 是在load数据的时候  wavelet_filtering\n",
    "args.wavelet_filtering   = True\n",
    "args.number_wavelet_filtering = 10\n",
    "\n",
    "args.datanorm_type       =  \"standardization\" # None ,\"standardization\", \"minmax\"\n",
    "\n",
    "args.pos_select          = None\n",
    "args.sensor_select       = None\n",
    "\n",
    "\n",
    "\n",
    "args.representation_type = \"time\"\n",
    "args.exp_mode            = \"LOCV\"\n",
    "\n",
    "config_file = open('../../configs/data.yaml', mode='r')\n",
    "data_config = yaml.load(config_file, Loader=yaml.FullLoader)\n",
    "config = data_config[args.data_name]\n",
    "args.root_path       = os.path.join(args.root_path,config[\"filename\"])\n",
    "args.sampling_freq   = config[\"sampling_freq\"]\n",
    "window_seconds       = config[\"window_seconds\"]\n",
    "args.windowsize      =   int(window_seconds * args.sampling_freq) \n",
    "args.c_in            =  config[\"num_channels\"]\n",
    "\n",
    "args.input_length    =  args.windowsize\n",
    "# input information\n",
    "if args.wavelet_filtering :\n",
    "    \n",
    "    if args.windowsize%2==1:\n",
    "        N_ds = int(torch.log2(torch.tensor(args.windowsize-1)).floor()) - 2\n",
    "    else:\n",
    "        N_ds = int(torch.log2(torch.tensor(args.windowsize)).floor()) - 2\n",
    "\n",
    "    args.f_in            =  args.number_wavelet_filtering*N_ds+1\n",
    "else:\n",
    "    args.f_in            =  1"
   ]
  },
  {
   "cell_type": "code",
   "execution_count": 4,
   "id": "92d9fcf3",
   "metadata": {},
   "outputs": [
    {
     "name": "stdout",
     "output_type": "stream",
     "text": [
      " ----------------------- load all the data -------------------\n",
      "----------------------- Get the Sliding Window -------------------\n",
      "----------------------- Get the Sliding Window -------------------\n"
     ]
    }
   ],
   "source": [
    "dataset = data_dict[args.data_name](args)"
   ]
  },
  {
   "cell_type": "code",
   "execution_count": 5,
   "id": "7aac6f0f",
   "metadata": {},
   "outputs": [
    {
     "data": {
      "text/html": [
       "<div>\n",
       "<style scoped>\n",
       "    .dataframe tbody tr th:only-of-type {\n",
       "        vertical-align: middle;\n",
       "    }\n",
       "\n",
       "    .dataframe tbody tr th {\n",
       "        vertical-align: top;\n",
       "    }\n",
       "\n",
       "    .dataframe thead th {\n",
       "        text-align: right;\n",
       "    }\n",
       "</style>\n",
       "<table border=\"1\" class=\"dataframe\">\n",
       "  <thead>\n",
       "    <tr style=\"text-align: right;\">\n",
       "      <th></th>\n",
       "      <th>sub_id</th>\n",
       "      <th>acc_x_chest</th>\n",
       "      <th>acc_y_chest</th>\n",
       "      <th>acc_z_chest</th>\n",
       "      <th>acc_x_forearm</th>\n",
       "      <th>acc_y_forearm</th>\n",
       "      <th>acc_z_forearm</th>\n",
       "      <th>acc_x_head</th>\n",
       "      <th>acc_y_head</th>\n",
       "      <th>acc_z_head</th>\n",
       "      <th>...</th>\n",
       "      <th>acc_x_thigh</th>\n",
       "      <th>acc_y_thigh</th>\n",
       "      <th>acc_z_thigh</th>\n",
       "      <th>acc_x_upperarm</th>\n",
       "      <th>acc_y_upperarm</th>\n",
       "      <th>acc_z_upperarm</th>\n",
       "      <th>acc_x_waist</th>\n",
       "      <th>acc_y_waist</th>\n",
       "      <th>acc_z_waist</th>\n",
       "      <th>sub</th>\n",
       "    </tr>\n",
       "  </thead>\n",
       "  <tbody>\n",
       "  </tbody>\n",
       "</table>\n",
       "<p>0 rows × 23 columns</p>\n",
       "</div>"
      ],
      "text/plain": [
       "Empty DataFrame\n",
       "Columns: [sub_id, acc_x_chest, acc_y_chest, acc_z_chest, acc_x_forearm, acc_y_forearm, acc_z_forearm, acc_x_head, acc_y_head, acc_z_head, acc_x_shin, acc_y_shin, acc_z_shin, acc_x_thigh, acc_y_thigh, acc_z_thigh, acc_x_upperarm, acc_y_upperarm, acc_z_upperarm, acc_x_waist, acc_y_waist, acc_z_waist, sub]\n",
       "Index: []\n",
       "\n",
       "[0 rows x 23 columns]"
      ]
     },
     "execution_count": 5,
     "metadata": {},
     "output_type": "execute_result"
    }
   ],
   "source": [
    "dataset.data_x[dataset.data_x[\"acc_x_forearm\"].isna()]"
   ]
  },
  {
   "cell_type": "code",
   "execution_count": 6,
   "id": "b33d700d",
   "metadata": {},
   "outputs": [
    {
     "data": {
      "text/plain": [
       "sub_id            0\n",
       "acc_x_chest       0\n",
       "acc_y_chest       0\n",
       "acc_z_chest       0\n",
       "acc_x_forearm     0\n",
       "acc_y_forearm     0\n",
       "acc_z_forearm     0\n",
       "acc_x_head        0\n",
       "acc_y_head        0\n",
       "acc_z_head        0\n",
       "acc_x_shin        0\n",
       "acc_y_shin        0\n",
       "acc_z_shin        0\n",
       "acc_x_thigh       0\n",
       "acc_y_thigh       0\n",
       "acc_z_thigh       0\n",
       "acc_x_upperarm    0\n",
       "acc_y_upperarm    0\n",
       "acc_z_upperarm    0\n",
       "acc_x_waist       0\n",
       "acc_y_waist       0\n",
       "acc_z_waist       0\n",
       "sub               0\n",
       "dtype: int64"
      ]
     },
     "execution_count": 6,
     "metadata": {},
     "output_type": "execute_result"
    }
   ],
   "source": [
    "dataset.data_x.isna().sum()#[dataset.data_x[\"acc_x_2\"].isna()]"
   ]
  },
  {
   "cell_type": "code",
   "execution_count": 7,
   "id": "e3d5a45b",
   "metadata": {},
   "outputs": [
    {
     "name": "stdout",
     "output_type": "stream",
     "text": [
      "================ LOCV Mode ====================\n",
      "================ 5 CV ======================\n",
      "Leave one Out Experiment : The 1 Part as the test\n",
      "[-] Target sampling weights:  [0.00030874 0.00023804 0.00138122 0.00019474 0.00017159 0.00019581\n",
      " 0.00019837 0.00019451]\n",
      "Train data number :  34416\n",
      "The number of classes is :  8\n",
      "The input_length  is :  128\n",
      "The channel_in is :  21\n",
      "Test data number :  50970\n",
      "Validation data number :  6074\n",
      "Leave one Out Experiment : The 2 Part as the test\n",
      "[-] Target sampling weights:  [0.00029019 0.00024994 0.00128041 0.00019604 0.0001965  0.00019639\n",
      " 0.00019646 0.00019612]\n",
      "Train data number :  33699\n",
      "The number of classes is :  8\n",
      "The input_length  is :  128\n",
      "The channel_in is :  21\n",
      "Test data number :  55460\n",
      "Validation data number :  5947\n",
      "Leave one Out Experiment : The 3 Part as the test\n",
      "[-] Target sampling weights:  [0.0002858  0.00027226 0.00145773 0.00019585 0.00018021 0.00019673\n",
      " 0.00019948 0.00019301]\n",
      "Train data number :  33790\n",
      "The number of classes is :  8\n",
      "The input_length  is :  128\n",
      "The channel_in is :  21\n",
      "Test data number :  54891\n",
      "Validation data number :  5963\n",
      "Leave one Out Experiment : The 4 Part as the test\n",
      "[-] Target sampling weights:  [0.00029815 0.00026157 0.00147275 0.00019573 0.00017431 0.00019592\n",
      " 0.00019972 0.0001932 ]\n",
      "Train data number :  33989\n",
      "The number of classes is :  8\n",
      "The input_length  is :  128\n",
      "The channel_in is :  21\n",
      "Test data number :  53629\n",
      "Validation data number :  5999\n",
      "Leave one Out Experiment : The 5 Part as the test\n",
      "[-] Target sampling weights:  [0.00028098 0.00025063 0.00142857 0.00019685 0.00017538 0.00019524\n",
      " 0.00019916 0.00019543]\n",
      "Train data number :  34291\n",
      "The number of classes is :  8\n",
      "The input_length  is :  128\n",
      "The channel_in is :  21\n",
      "Test data number :  51745\n",
      "Validation data number :  6052\n"
     ]
    }
   ],
   "source": [
    "from torch.utils.data import DataLoader\n",
    "print(\"================ {} Mode ====================\".format(dataset.exp_mode))\n",
    "print(\"================ {} CV ======================\".format(dataset.num_of_cv))\n",
    "for i in range(dataset.num_of_cv):\n",
    "    dataset.update_train_val_test_keys()\n",
    "    train_data  = data_set(args,dataset,\"train\")\n",
    "    test_data  = data_set(args,dataset,\"test\")\n",
    "    vali_data  = data_set(args,dataset,\"vali\")\n",
    "    \n",
    "    \n",
    "        # form the dataloader\n",
    "    train_data_loader = DataLoader(train_data,  \n",
    "                                    batch_size   =  args.batch_size,\n",
    "                                    shuffle      =  args.shuffle,\n",
    "                                    num_workers  =  0,\n",
    "                                    drop_last    =  args.drop_last)\n",
    "\n",
    "    vali_data_loader = DataLoader(vali_data,  \n",
    "                                    batch_size   =  args.batch_size,\n",
    "                                    shuffle      =  args.shuffle,\n",
    "                                    num_workers  =  0,\n",
    "                                    drop_last    =  args.drop_last)\n",
    "\n",
    "    test_data_loader = DataLoader(test_data,  \n",
    "                                    batch_size   =  args.batch_size,\n",
    "                                    shuffle      =  args.shuffle,\n",
    "                                    num_workers  =  0,\n",
    "                                    drop_last    =  args.drop_last)"
   ]
  },
  {
   "cell_type": "code",
   "execution_count": null,
   "id": "f00ceab8",
   "metadata": {},
   "outputs": [],
   "source": []
  },
  {
   "cell_type": "code",
   "execution_count": null,
   "id": "6c171461",
   "metadata": {},
   "outputs": [],
   "source": []
  },
  {
   "cell_type": "code",
   "execution_count": null,
   "id": "61713be8",
   "metadata": {},
   "outputs": [],
   "source": []
  },
  {
   "cell_type": "code",
   "execution_count": null,
   "id": "c95fce23",
   "metadata": {},
   "outputs": [],
   "source": []
  },
  {
   "cell_type": "code",
   "execution_count": null,
   "id": "9702b3d5",
   "metadata": {},
   "outputs": [],
   "source": []
  }
 ],
 "metadata": {
  "kernelspec": {
   "display_name": "Python 3",
   "language": "python",
   "name": "python3"
  },
  "language_info": {
   "codemirror_mode": {
    "name": "ipython",
    "version": 3
   },
   "file_extension": ".py",
   "mimetype": "text/x-python",
   "name": "python",
   "nbconvert_exporter": "python",
   "pygments_lexer": "ipython3",
   "version": "3.8.8"
  },
  "toc": {
   "base_numbering": 1,
   "nav_menu": {},
   "number_sections": true,
   "sideBar": true,
   "skip_h1_title": false,
   "title_cell": "Table of Contents",
   "title_sidebar": "Contents",
   "toc_cell": false,
   "toc_position": {},
   "toc_section_display": true,
   "toc_window_display": false
  }
 },
 "nbformat": 4,
 "nbformat_minor": 5
}
