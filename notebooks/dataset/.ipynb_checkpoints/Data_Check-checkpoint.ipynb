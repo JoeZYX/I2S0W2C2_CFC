{
 "cells": [
  {
   "cell_type": "code",
   "execution_count": 1,
   "id": "21022446",
   "metadata": {},
   "outputs": [],
   "source": [
    "import warnings\n",
    "warnings.filterwarnings(\"ignore\")\n",
    "\n",
    "import sys\n",
    "sys.path.append(\"../../\")\n",
    "\n",
    "from experiment import Exp\n",
    "\n",
    "from dataloaders import data_set,data_dict\n",
    "import torch\n",
    "import yaml\n",
    "import os\n",
    "\n",
    "class dotdict(dict):\n",
    "    \"\"\"dot.notation access to dictionary attributes\"\"\"\n",
    "    __getattr__ = dict.get\n",
    "    __setattr__ = dict.__setitem__\n",
    "    __delattr__ = dict.__delitem__"
   ]
  },
  {
   "cell_type": "code",
   "execution_count": 2,
   "id": "06c1b020",
   "metadata": {},
   "outputs": [],
   "source": [
    "\n",
    "\n",
    "args = dotdict()   \n",
    "\n",
    "args.freq_save_path   = r\"E:\\TECO_Works\\Conference\\ISWC2022\\Freq_data\"\n",
    "args.window_save_path = r\"E:\\TECO_Works\\Conference\\ISWC2022\\Sliding_window\"\n",
    "args.root_path        = r\"E:\\datasets\"\n",
    "\n",
    "args.drop_transition  = False\n",
    "\n",
    "args.batch_size       = 128\n",
    "args.shuffle          = True\n",
    "args.drop_last        = False\n",
    "args.train_vali_quote = 0.85"
   ]
  },
  {
   "cell_type": "markdown",
   "id": "7a8b0794",
   "metadata": {},
   "source": [
    "# Define Para"
   ]
  },
  {
   "cell_type": "code",
   "execution_count": 3,
   "id": "76a11733",
   "metadata": {},
   "outputs": [],
   "source": [
    "# 哪个数据集\n",
    "args.data_name           =  \"skodar\"  # rw hapt\n",
    "\n",
    "# 是否作augmentation difference\n",
    "args.difference          =  False \n",
    "\n",
    "# 是否作augmentation  filtering\n",
    "args.filtering           =  False\n",
    "\n",
    "# 是否作augmentation  magnitude\n",
    "args.magnitude           =  False\n",
    "args.weighted_sampler    = False\n",
    "\n",
    "\n",
    "# 是在load数据的时候  wavelet_filtering\n",
    "args.wavelet_filtering   = True\n",
    "args.number_wavelet_filtering = 10\n",
    "\n",
    "args.datanorm_type       =  \"standardization\" # None ,\"standardization\", \"minmax\"\n",
    "\n",
    "args.pos_select          = None\n",
    "args.sensor_select       = None\n",
    "\n",
    "\n",
    "\n",
    "args.representation_type = \"time\"\n",
    "args.exp_mode            = \"LOCV\"\n",
    "if args.data_name      ==  \"skodar\":\n",
    "    args.exp_mode            = \"SOCV\"\n",
    "\n",
    "config_file = open('../../configs/data.yaml', mode='r')\n",
    "data_config = yaml.load(config_file, Loader=yaml.FullLoader)\n",
    "config = data_config[args.data_name]\n",
    "args.root_path       = os.path.join(args.root_path,config[\"filename\"])\n",
    "args.sampling_freq   = config[\"sampling_freq\"]\n",
    "window_seconds       = config[\"window_seconds\"]\n",
    "args.windowsize      =   int(window_seconds * args.sampling_freq) \n",
    "args.c_in            =  config[\"num_channels\"]\n",
    "\n",
    "args.input_length    =  args.windowsize\n",
    "# input information\n",
    "if args.wavelet_filtering :\n",
    "    \n",
    "    if args.windowsize%2==1:\n",
    "        N_ds = int(torch.log2(torch.tensor(args.windowsize-1)).floor()) - 2\n",
    "    else:\n",
    "        N_ds = int(torch.log2(torch.tensor(args.windowsize)).floor()) - 2\n",
    "\n",
    "    args.f_in            =  args.number_wavelet_filtering*N_ds+1\n",
    "else:\n",
    "    args.f_in            =  1"
   ]
  },
  {
   "cell_type": "code",
   "execution_count": 4,
   "id": "92d9fcf3",
   "metadata": {},
   "outputs": [
    {
     "name": "stdout",
     "output_type": "stream",
     "text": [
      " ----------------------- load all the data -------------------\n",
      "-----------------------Sliding file are generated -----------------------\n",
      "-----------------------Sliding file are generated -----------------------\n"
     ]
    }
   ],
   "source": [
    "dataset = data_dict[args.data_name](args)"
   ]
  },
  {
   "cell_type": "code",
   "execution_count": 5,
   "id": "91ac99b8",
   "metadata": {},
   "outputs": [
    {
     "data": {
      "text/plain": [
       "59977"
      ]
     },
     "execution_count": 5,
     "metadata": {},
     "output_type": "execute_result"
    }
   ],
   "source": [
    "len(dataset.test_slidingwindows)"
   ]
  },
  {
   "cell_type": "code",
   "execution_count": 6,
   "id": "31366a14",
   "metadata": {},
   "outputs": [
    {
     "data": {
      "text/plain": [
       "11263"
      ]
     },
     "execution_count": 6,
     "metadata": {},
     "output_type": "execute_result"
    }
   ],
   "source": [
    "len(dataset.train_slidingwindows)"
   ]
  },
  {
   "cell_type": "code",
   "execution_count": 7,
   "id": "64dd7bbd",
   "metadata": {},
   "outputs": [
    {
     "name": "stdout",
     "output_type": "stream",
     "text": [
      "================ SOCV Mode ====================\n",
      "================ 5 CV ======================\n",
      "Overlapping random Experiment : The 1 Part as the test\n",
      "[-] Target sampling weights:  [0.00110497 0.00094877 0.0010101  0.00137174 0.00230947 0.00246305\n",
      " 0.0012987  0.00117233 0.00102987 0.00182482]\n",
      "Train data number :  7659\n",
      "The number of classes is :  10\n",
      "The input_length  is :  33\n",
      "The channel_in is :  30\n",
      "Test data number :  2252\n",
      "Validation data number :  1352\n",
      "Overlapping random Experiment : The 2 Part as the test\n",
      "[-] Target sampling weights:  [0.00113122 0.00094877 0.00101729 0.00137174 0.00217865 0.00230947\n",
      " 0.00132275 0.00121803 0.0010101  0.00181818]\n",
      "Train data number :  7659\n",
      "The number of classes is :  10\n",
      "The input_length  is :  33\n",
      "The channel_in is :  30\n",
      "Test data number :  2252\n",
      "Validation data number :  1352\n",
      "Overlapping random Experiment : The 3 Part as the test\n",
      "[-] Target sampling weights:  [0.00108814 0.00097371 0.00098619 0.00141844 0.00224719 0.00246305\n",
      " 0.00128041 0.00117925 0.00102987 0.00184162]\n",
      "Train data number :  7659\n",
      "The number of classes is :  10\n",
      "The input_length  is :  33\n",
      "The channel_in is :  30\n",
      "Test data number :  2252\n",
      "Validation data number :  1352\n",
      "Overlapping random Experiment : The 4 Part as the test\n",
      "[-] Target sampling weights:  [0.00109529 0.00095785 0.001      0.00140845 0.00218818 0.00245098\n",
      " 0.00130208 0.00118064 0.00102354 0.00186916]\n",
      "Train data number :  7659\n",
      "The number of classes is :  10\n",
      "The input_length  is :  33\n",
      "The channel_in is :  30\n",
      "Test data number :  2252\n",
      "Validation data number :  1352\n",
      "Overlapping random Experiment : The 5 Part as the test\n",
      "[-] Target sampling weights:  [0.00110988 0.00096246 0.00099305 0.00137552 0.00227273 0.00239808\n",
      " 0.001287   0.00118064 0.00103199 0.0018797 ]\n",
      "Train data number :  7656\n",
      "The number of classes is :  10\n",
      "The input_length  is :  33\n",
      "The channel_in is :  30\n",
      "Test data number :  2255\n",
      "Validation data number :  1352\n"
     ]
    }
   ],
   "source": [
    "from torch.utils.data import DataLoader\n",
    "print(\"================ {} Mode ====================\".format(dataset.exp_mode))\n",
    "print(\"================ {} CV ======================\".format(dataset.num_of_cv))\n",
    "for i in range(dataset.num_of_cv):\n",
    "    dataset.update_train_val_test_keys()\n",
    "    train_data  = data_set(args,dataset,\"train\")\n",
    "    test_data  = data_set(args,dataset,\"test\")\n",
    "    vali_data  = data_set(args,dataset,\"vali\")\n",
    "    \n",
    "    \n",
    "        # form the dataloader\n",
    "    train_data_loader = DataLoader(train_data,  \n",
    "                                    batch_size   =  args.batch_size,\n",
    "                                    shuffle      =  args.shuffle,\n",
    "                                    num_workers  =  0,\n",
    "                                    drop_last    =  args.drop_last)\n",
    "\n",
    "    vali_data_loader = DataLoader(vali_data,  \n",
    "                                    batch_size   =  args.batch_size,\n",
    "                                    shuffle      =  args.shuffle,\n",
    "                                    num_workers  =  0,\n",
    "                                    drop_last    =  args.drop_last)\n",
    "\n",
    "    test_data_loader = DataLoader(test_data,  \n",
    "                                    batch_size   =  args.batch_size,\n",
    "                                    shuffle      =  args.shuffle,\n",
    "                                    num_workers  =  0,\n",
    "                                    drop_last    =  args.drop_last)"
   ]
  },
  {
   "cell_type": "code",
   "execution_count": null,
   "id": "3efa1076",
   "metadata": {},
   "outputs": [],
   "source": []
  },
  {
   "cell_type": "code",
   "execution_count": null,
   "id": "c3095c2b",
   "metadata": {},
   "outputs": [],
   "source": []
  },
  {
   "cell_type": "code",
   "execution_count": 14,
   "id": "1b422039",
   "metadata": {},
   "outputs": [],
   "source": [
    "import numpy as np"
   ]
  },
  {
   "cell_type": "code",
   "execution_count": 41,
   "id": "c69d22a0",
   "metadata": {},
   "outputs": [],
   "source": [
    "start_index = dataset.train_slidingwindows[0][1]\n",
    "end_index   = dataset.train_slidingwindows[0][2]\n",
    "sample_x_1    = dataset.data_x.iloc[start_index:end_index, 1:-1].values\n",
    "\n",
    "start_index = dataset.train_slidingwindows[1][1]\n",
    "end_index   = dataset.train_slidingwindows[1][2]\n",
    "sample_x_2    = dataset.data_x.iloc[start_index:end_index, 1:-1].values"
   ]
  },
  {
   "cell_type": "code",
   "execution_count": 50,
   "id": "8a79fe73",
   "metadata": {},
   "outputs": [],
   "source": [
    "from dataloaders.utils import PrepareWavelets,FiltersExtention\n",
    "if args.windowsize%2==1:\n",
    "    Filter_ReplicationPad1d = torch.nn.ReplicationPad1d(int((args.windowsize-1)/2))\n",
    "    raw_filter = np.zeros((1,1,1,args.windowsize))\n",
    "    raw_filter[0,0,0,int((args.windowsize-1)/2)] = 1\n",
    "else:\n",
    "    Filter_ReplicationPad1d = torch.nn.ReplicationPad1d(int(args.windowsize/2))\n",
    "    raw_filter = np.zeros((1,1,1,args.windowsize))\n",
    "    raw_filter[0,0,0,int(args.windowsize/2)] = 1\n",
    "raw_filter = torch.tensor(raw_filter)\n",
    "SelectedWavelet = PrepareWavelets(K=args.number_wavelet_filtering, length=args.windowsize)\n",
    "ScaledFilter = FiltersExtention(SelectedWavelet)\n",
    "\n",
    "ScaledFilter = torch.cat((raw_filter,ScaledFilter),0)\n"
   ]
  },
  {
   "cell_type": "code",
   "execution_count": 52,
   "id": "3a07327c",
   "metadata": {},
   "outputs": [],
   "source": [
    "data_x = sample_x_1.T\n",
    "data_x = np.expand_dims(data_x,axis=0)\n",
    "data_x = torch.tensor(data_x)\n",
    "data_x = Filter_ReplicationPad1d(data_x)\n",
    "data_x = data_x[0]\n",
    "data_x = data_x.repeat(1,1,1)[:,:,:,None]\n",
    "data_x = data_x.permute([0,3,1,2])\n",
    "data_x = torch.nn.functional.conv2d(data_x, ScaledFilter, padding='valid')[0,:,:,:args.windowsize]\n",
    "\n",
    "data_x = data_x.permute(0,2,1)"
   ]
  },
  {
   "cell_type": "code",
   "execution_count": 53,
   "id": "38dfdb6c",
   "metadata": {},
   "outputs": [
    {
     "data": {
      "text/plain": [
       "(128, 21)"
      ]
     },
     "execution_count": 53,
     "metadata": {},
     "output_type": "execute_result"
    }
   ],
   "source": [
    "sample_x_1.shape"
   ]
  },
  {
   "cell_type": "code",
   "execution_count": 56,
   "id": "d37f2608",
   "metadata": {},
   "outputs": [
    {
     "data": {
      "text/plain": [
       "[<matplotlib.lines.Line2D at 0x2deb0046f10>]"
      ]
     },
     "execution_count": 56,
     "metadata": {},
     "output_type": "execute_result"
    },
    {
     "data": {
      "image/png": "[encoded data removed]",
      "text/plain": [
       "<Figure size 432x288 with 1 Axes>"
      ]
     },
     "metadata": {
      "needs_background": "light"
     },
     "output_type": "display_data"
    }
   ],
   "source": [
    "plt.plot(sample_x_1[:,0])\n",
    "plt.plot(data_x[0,:,0])"
   ]
  },
  {
   "cell_type": "code",
   "execution_count": null,
   "id": "ce839d4c",
   "metadata": {},
   "outputs": [],
   "source": []
  },
  {
   "cell_type": "code",
   "execution_count": 19,
   "id": "69a6154d",
   "metadata": {},
   "outputs": [],
   "source": [
    "data_x = sample_x_2.T\n",
    "data_x = np.expand_dims(data_x,axis=0)\n",
    "data_x = torch.tensor(data_x)\n",
    "data_x = Filter_ReplicationPad1d(data_x)\n",
    "data_x = data_x[0]\n",
    "data_x = data_x.repeat(1,1,1)[:,:,:,None]\n",
    "data_x = data_x.permute([0,3,1,2])\n",
    "data_x = torch.nn.functional.conv2d(data_x, ScaledFilter, padding='valid')[0,:,:,:args.windowsize]\n",
    "\n",
    "data_x = data_x.permute(0,2,1)\n",
    "sample_x = np.expand_dims(sample_x_2,0)\n",
    "data_x_2 = np.concatenate([sample_x,data_x],axis=0)"
   ]
  },
  {
   "cell_type": "code",
   "execution_count": 20,
   "id": "28995ffd",
   "metadata": {},
   "outputs": [
    {
     "name": "stdout",
     "output_type": "stream",
     "text": [
      "torch.Size([2, 1, 128, 21])\n"
     ]
    }
   ],
   "source": [
    "temp_1 = np.expand_dims(sample_x_1,0)\n",
    "temp_2 = np.expand_dims(sample_x_2,0)\n",
    "combined_x = np.concatenate([temp_1,temp_2],axis=0)\n",
    "combined_x = np.expand_dims(combined_x,1)\n",
    "combined_x = torch.tensor(combined_x).float()\n",
    "print(combined_x.shape)"
   ]
  },
  {
   "cell_type": "code",
   "execution_count": 23,
   "id": "3ce99458",
   "metadata": {},
   "outputs": [],
   "source": [
    "wave = learnable_filter(args)\n",
    "out = wave(combined_x)"
   ]
  },
  {
   "cell_type": "code",
   "execution_count": 57,
   "id": "600b5ab4",
   "metadata": {},
   "outputs": [
    {
     "data": {
      "text/plain": [
       "torch.Size([50, 1, 1, 128])"
      ]
     },
     "execution_count": 57,
     "metadata": {},
     "output_type": "execute_result"
    }
   ],
   "source": [
    "wave.wavelet_conv.weight.shape"
   ]
  },
  {
   "cell_type": "code",
   "execution_count": 24,
   "id": "447a2519",
   "metadata": {},
   "outputs": [
    {
     "data": {
      "text/plain": [
       "(51, 128, 21)"
      ]
     },
     "execution_count": 24,
     "metadata": {},
     "output_type": "execute_result"
    }
   ],
   "source": [
    "data_x_2.shape"
   ]
  },
  {
   "cell_type": "code",
   "execution_count": 25,
   "id": "a63ee2ed",
   "metadata": {},
   "outputs": [
    {
     "data": {
      "text/plain": [
       "torch.Size([2, 51, 128, 21])"
      ]
     },
     "execution_count": 25,
     "metadata": {},
     "output_type": "execute_result"
    }
   ],
   "source": [
    "out.shape"
   ]
  },
  {
   "cell_type": "code",
   "execution_count": 40,
   "id": "e036a0f5",
   "metadata": {},
   "outputs": [
    {
     "data": {
      "text/plain": [
       "[<matplotlib.lines.Line2D at 0x2dea7ef4b20>]"
      ]
     },
     "execution_count": 40,
     "metadata": {},
     "output_type": "execute_result"
    },
    {
     "data": {
      "image/png": "[encoded data removed]",
      "text/plain": [
       "<Figure size 432x288 with 1 Axes>"
      ]
     },
     "metadata": {
      "needs_background": "light"
     },
     "output_type": "display_data"
    }
   ],
   "source": [
    "import matplotlib.pyplot as plt\n",
    "index1 = 25\n",
    "index2 = 2\n",
    "plt.plot(out[1,index1,:,index2])\n",
    "plt.plot(data_x_2[index1,:,index2])\n",
    "plt.plot(data_x_2[0,:,index2])"
   ]
  },
  {
   "cell_type": "code",
   "execution_count": null,
   "id": "d4fa14c8",
   "metadata": {},
   "outputs": [],
   "source": []
  },
  {
   "cell_type": "code",
   "execution_count": null,
   "id": "71c65bf9",
   "metadata": {},
   "outputs": [],
   "source": []
  },
  {
   "cell_type": "code",
   "execution_count": 22,
   "id": "d722a2d9",
   "metadata": {},
   "outputs": [],
   "source": [
    "import torch\n",
    "import torch.nn as nn\n",
    "import torch.nn.functional as F\n",
    "from dataloaders.utils import PrepareWavelets,FiltersExtention\n",
    "\n",
    "class learnable_filter(nn.Module):\n",
    "    def __init__(self, args):\n",
    "        super(learnable_filter, self).__init__()\n",
    "        self.args = args\n",
    "        if args.windowsize%2==1:\n",
    "            self.Filter_ReplicationPad2d = nn.ReplicationPad2d((int((args.windowsize-1)/2),int((args.windowsize-1)/2),0,0))\n",
    "        else:\n",
    "            self.Filter_ReplicationPad2d = nn.ReplicationPad2d((int(args.windowsize/2),int(args.windowsize/2),0,0))\n",
    "                                                               \n",
    "\n",
    "        SelectedWavelet = PrepareWavelets(K=args.number_wavelet_filtering, length=args.windowsize)\n",
    "        ScaledFilter = FiltersExtention(SelectedWavelet)\n",
    "        \n",
    "        self.wavelet_conv = nn.Conv2d(1, ScaledFilter.shape[0], \n",
    "                                      (1,ScaledFilter.shape[3]),\n",
    "                                      stride=1, bias=False, padding='valid') \n",
    "        # TODO shut down\n",
    "        self.wavelet_conv.weight.data.copy_(ScaledFilter)                                        \n",
    "        self.wavelet_conv.weight.requires_grad = False                                       \n",
    "                                                               \n",
    "    def forward(self,x):\n",
    "        x1 = x.permute(0,1,3,2)\n",
    "        x1 = self.Filter_ReplicationPad2d(x1)\n",
    "        x1 = self.wavelet_conv(x1)[:,:,:,:self.args.windowsize]\n",
    "        x1 = x1.permute(0,1,3,2)\n",
    "        x  = torch.cat((x,x1),1)\n",
    "        return x"
   ]
  },
  {
   "cell_type": "code",
   "execution_count": null,
   "id": "4dd4ab36",
   "metadata": {},
   "outputs": [],
   "source": []
  },
  {
   "cell_type": "code",
   "execution_count": null,
   "id": "7b19a0fd",
   "metadata": {},
   "outputs": [],
   "source": []
  },
  {
   "cell_type": "code",
   "execution_count": null,
   "id": "46a81ea9",
   "metadata": {},
   "outputs": [],
   "source": []
  },
  {
   "cell_type": "code",
   "execution_count": null,
   "id": "5de1a9da",
   "metadata": {},
   "outputs": [],
   "source": []
  },
  {
   "cell_type": "code",
   "execution_count": null,
   "id": "4aee385a",
   "metadata": {},
   "outputs": [],
   "source": []
  },
  {
   "cell_type": "code",
   "execution_count": 5,
   "id": "5c014636",
   "metadata": {},
   "outputs": [
    {
     "data": {
      "text/html": [
       "<div>\n",
       "<style scoped>\n",
       "    .dataframe tbody tr th:only-of-type {\n",
       "        vertical-align: middle;\n",
       "    }\n",
       "\n",
       "    .dataframe tbody tr th {\n",
       "        vertical-align: top;\n",
       "    }\n",
       "\n",
       "    .dataframe thead th {\n",
       "        text-align: right;\n",
       "    }\n",
       "</style>\n",
       "<table border=\"1\" class=\"dataframe\">\n",
       "  <thead>\n",
       "    <tr style=\"text-align: right;\">\n",
       "      <th></th>\n",
       "      <th>sub_id</th>\n",
       "      <th>acc_x_hand</th>\n",
       "      <th>acc_y_hand</th>\n",
       "      <th>acc_z_hand</th>\n",
       "      <th>gyro_x_hand</th>\n",
       "      <th>gyro_y_hand</th>\n",
       "      <th>gyro_z_hand</th>\n",
       "      <th>acc_x_chest</th>\n",
       "      <th>acc_y_chest</th>\n",
       "      <th>acc_z_chest</th>\n",
       "      <th>gyro_x_chest</th>\n",
       "      <th>gyro_y_chest</th>\n",
       "      <th>gyro_z_chest</th>\n",
       "      <th>acc_x_ankle</th>\n",
       "      <th>acc_y_ankle</th>\n",
       "      <th>acc_z_ankle</th>\n",
       "      <th>gyro_x_ankle</th>\n",
       "      <th>gyro_y_ankle</th>\n",
       "      <th>gyro_z_ankle</th>\n",
       "      <th>sub</th>\n",
       "    </tr>\n",
       "  </thead>\n",
       "  <tbody>\n",
       "    <tr>\n",
       "      <th>0</th>\n",
       "      <td>1</td>\n",
       "      <td>2.37223</td>\n",
       "      <td>8.60074</td>\n",
       "      <td>3.51048</td>\n",
       "      <td>-0.092217</td>\n",
       "      <td>0.056812</td>\n",
       "      <td>-0.015845</td>\n",
       "      <td>0.238080</td>\n",
       "      <td>9.80003</td>\n",
       "      <td>-1.688960</td>\n",
       "      <td>-0.005065</td>\n",
       "      <td>-0.006781</td>\n",
       "      <td>-0.005663</td>\n",
       "      <td>9.65918</td>\n",
       "      <td>-1.655690</td>\n",
       "      <td>-0.099797</td>\n",
       "      <td>0.008300</td>\n",
       "      <td>0.009250</td>\n",
       "      <td>-0.017580</td>\n",
       "      <td>1</td>\n",
       "    </tr>\n",
       "    <tr>\n",
       "      <th>1</th>\n",
       "      <td>1</td>\n",
       "      <td>2.07473</td>\n",
       "      <td>8.52853</td>\n",
       "      <td>3.66021</td>\n",
       "      <td>-0.002352</td>\n",
       "      <td>0.032810</td>\n",
       "      <td>-0.003747</td>\n",
       "      <td>0.388697</td>\n",
       "      <td>9.53572</td>\n",
       "      <td>-1.724100</td>\n",
       "      <td>0.007513</td>\n",
       "      <td>-0.010498</td>\n",
       "      <td>-0.020684</td>\n",
       "      <td>9.58814</td>\n",
       "      <td>-1.770400</td>\n",
       "      <td>0.054545</td>\n",
       "      <td>0.003175</td>\n",
       "      <td>-0.020301</td>\n",
       "      <td>0.011275</td>\n",
       "      <td>1</td>\n",
       "    </tr>\n",
       "    <tr>\n",
       "      <th>2</th>\n",
       "      <td>1</td>\n",
       "      <td>2.33738</td>\n",
       "      <td>8.82900</td>\n",
       "      <td>3.54767</td>\n",
       "      <td>-0.023704</td>\n",
       "      <td>-0.031518</td>\n",
       "      <td>-0.047883</td>\n",
       "      <td>0.323161</td>\n",
       "      <td>9.68891</td>\n",
       "      <td>-1.377290</td>\n",
       "      <td>0.018062</td>\n",
       "      <td>0.002878</td>\n",
       "      <td>-0.030669</td>\n",
       "      <td>9.73474</td>\n",
       "      <td>-1.732420</td>\n",
       "      <td>-0.059956</td>\n",
       "      <td>-0.031973</td>\n",
       "      <td>-0.053934</td>\n",
       "      <td>0.015594</td>\n",
       "      <td>1</td>\n",
       "    </tr>\n",
       "    <tr>\n",
       "      <th>3</th>\n",
       "      <td>1</td>\n",
       "      <td>2.25966</td>\n",
       "      <td>9.09415</td>\n",
       "      <td>3.43015</td>\n",
       "      <td>0.007627</td>\n",
       "      <td>-0.057759</td>\n",
       "      <td>-0.019075</td>\n",
       "      <td>0.234051</td>\n",
       "      <td>9.57333</td>\n",
       "      <td>-1.804460</td>\n",
       "      <td>-0.017648</td>\n",
       "      <td>-0.000126</td>\n",
       "      <td>-0.010833</td>\n",
       "      <td>9.73624</td>\n",
       "      <td>-1.656800</td>\n",
       "      <td>-0.021820</td>\n",
       "      <td>0.007649</td>\n",
       "      <td>-0.013923</td>\n",
       "      <td>0.014498</td>\n",
       "      <td>1</td>\n",
       "    </tr>\n",
       "    <tr>\n",
       "      <th>4</th>\n",
       "      <td>1</td>\n",
       "      <td>2.44995</td>\n",
       "      <td>8.71431</td>\n",
       "      <td>3.54974</td>\n",
       "      <td>-0.028008</td>\n",
       "      <td>-0.048661</td>\n",
       "      <td>-0.030109</td>\n",
       "      <td>0.354014</td>\n",
       "      <td>9.53662</td>\n",
       "      <td>-1.608570</td>\n",
       "      <td>0.020264</td>\n",
       "      <td>0.054580</td>\n",
       "      <td>-0.032568</td>\n",
       "      <td>9.62226</td>\n",
       "      <td>-1.769680</td>\n",
       "      <td>-0.060878</td>\n",
       "      <td>0.040113</td>\n",
       "      <td>-0.035645</td>\n",
       "      <td>-0.006889</td>\n",
       "      <td>1</td>\n",
       "    </tr>\n",
       "    <tr>\n",
       "      <th>...</th>\n",
       "      <td>...</td>\n",
       "      <td>...</td>\n",
       "      <td>...</td>\n",
       "      <td>...</td>\n",
       "      <td>...</td>\n",
       "      <td>...</td>\n",
       "      <td>...</td>\n",
       "      <td>...</td>\n",
       "      <td>...</td>\n",
       "      <td>...</td>\n",
       "      <td>...</td>\n",
       "      <td>...</td>\n",
       "      <td>...</td>\n",
       "      <td>...</td>\n",
       "      <td>...</td>\n",
       "      <td>...</td>\n",
       "      <td>...</td>\n",
       "      <td>...</td>\n",
       "      <td>...</td>\n",
       "      <td>...</td>\n",
       "    </tr>\n",
       "    <tr>\n",
       "      <th>957506</th>\n",
       "      <td>9</td>\n",
       "      <td>-5.34317</td>\n",
       "      <td>9.58716</td>\n",
       "      <td>5.20049</td>\n",
       "      <td>0.891945</td>\n",
       "      <td>0.869740</td>\n",
       "      <td>1.283330</td>\n",
       "      <td>2.675720</td>\n",
       "      <td>9.15231</td>\n",
       "      <td>-1.642700</td>\n",
       "      <td>-0.010627</td>\n",
       "      <td>-0.248182</td>\n",
       "      <td>0.008903</td>\n",
       "      <td>9.31006</td>\n",
       "      <td>-1.248320</td>\n",
       "      <td>-3.231660</td>\n",
       "      <td>-0.135172</td>\n",
       "      <td>-0.024265</td>\n",
       "      <td>-0.057659</td>\n",
       "      <td>9</td>\n",
       "    </tr>\n",
       "    <tr>\n",
       "      <th>957507</th>\n",
       "      <td>9</td>\n",
       "      <td>-5.12204</td>\n",
       "      <td>9.16740</td>\n",
       "      <td>5.12824</td>\n",
       "      <td>0.847170</td>\n",
       "      <td>0.678108</td>\n",
       "      <td>1.217230</td>\n",
       "      <td>3.324710</td>\n",
       "      <td>9.11289</td>\n",
       "      <td>-1.592090</td>\n",
       "      <td>-0.163963</td>\n",
       "      <td>-0.345680</td>\n",
       "      <td>-0.007478</td>\n",
       "      <td>9.49967</td>\n",
       "      <td>-0.984048</td>\n",
       "      <td>-3.192770</td>\n",
       "      <td>-0.046738</td>\n",
       "      <td>-0.105825</td>\n",
       "      <td>-0.091276</td>\n",
       "      <td>9</td>\n",
       "    </tr>\n",
       "    <tr>\n",
       "      <th>957508</th>\n",
       "      <td>9</td>\n",
       "      <td>-4.88664</td>\n",
       "      <td>8.24912</td>\n",
       "      <td>4.48058</td>\n",
       "      <td>1.327620</td>\n",
       "      <td>0.362557</td>\n",
       "      <td>1.203300</td>\n",
       "      <td>3.153660</td>\n",
       "      <td>9.86177</td>\n",
       "      <td>-2.294600</td>\n",
       "      <td>-0.152650</td>\n",
       "      <td>-0.422125</td>\n",
       "      <td>-0.032787</td>\n",
       "      <td>9.85023</td>\n",
       "      <td>-1.093580</td>\n",
       "      <td>-3.998870</td>\n",
       "      <td>-0.119020</td>\n",
       "      <td>-0.016952</td>\n",
       "      <td>-0.148926</td>\n",
       "      <td>9</td>\n",
       "    </tr>\n",
       "    <tr>\n",
       "      <th>957509</th>\n",
       "      <td>9</td>\n",
       "      <td>-4.99389</td>\n",
       "      <td>9.88004</td>\n",
       "      <td>4.31952</td>\n",
       "      <td>1.868770</td>\n",
       "      <td>0.139438</td>\n",
       "      <td>1.016820</td>\n",
       "      <td>3.213170</td>\n",
       "      <td>10.90000</td>\n",
       "      <td>0.916941</td>\n",
       "      <td>0.318422</td>\n",
       "      <td>-0.277092</td>\n",
       "      <td>-0.160663</td>\n",
       "      <td>9.17659</td>\n",
       "      <td>-0.035269</td>\n",
       "      <td>-2.893250</td>\n",
       "      <td>-0.045662</td>\n",
       "      <td>0.011414</td>\n",
       "      <td>-0.139014</td>\n",
       "      <td>9</td>\n",
       "    </tr>\n",
       "    <tr>\n",
       "      <th>957510</th>\n",
       "      <td>9</td>\n",
       "      <td>-4.93997</td>\n",
       "      <td>9.83615</td>\n",
       "      <td>3.70468</td>\n",
       "      <td>1.290990</td>\n",
       "      <td>-0.155493</td>\n",
       "      <td>0.762446</td>\n",
       "      <td>2.657220</td>\n",
       "      <td>9.07285</td>\n",
       "      <td>-2.262310</td>\n",
       "      <td>-0.077873</td>\n",
       "      <td>-0.152311</td>\n",
       "      <td>-0.237024</td>\n",
       "      <td>9.57580</td>\n",
       "      <td>-0.528578</td>\n",
       "      <td>-3.233400</td>\n",
       "      <td>-0.070888</td>\n",
       "      <td>-0.038024</td>\n",
       "      <td>-0.064709</td>\n",
       "      <td>9</td>\n",
       "    </tr>\n",
       "  </tbody>\n",
       "</table>\n",
       "<p>957511 rows × 20 columns</p>\n",
       "</div>"
      ],
      "text/plain": [
       "        sub_id  acc_x_hand  acc_y_hand  acc_z_hand  gyro_x_hand  gyro_y_hand  \\\n",
       "0            1     2.37223     8.60074     3.51048    -0.092217     0.056812   \n",
       "1            1     2.07473     8.52853     3.66021    -0.002352     0.032810   \n",
       "2            1     2.33738     8.82900     3.54767    -0.023704    -0.031518   \n",
       "3            1     2.25966     9.09415     3.43015     0.007627    -0.057759   \n",
       "4            1     2.44995     8.71431     3.54974    -0.028008    -0.048661   \n",
       "...        ...         ...         ...         ...          ...          ...   \n",
       "957506       9    -5.34317     9.58716     5.20049     0.891945     0.869740   \n",
       "957507       9    -5.12204     9.16740     5.12824     0.847170     0.678108   \n",
       "957508       9    -4.88664     8.24912     4.48058     1.327620     0.362557   \n",
       "957509       9    -4.99389     9.88004     4.31952     1.868770     0.139438   \n",
       "957510       9    -4.93997     9.83615     3.70468     1.290990    -0.155493   \n",
       "\n",
       "        gyro_z_hand  acc_x_chest  acc_y_chest  acc_z_chest  gyro_x_chest  \\\n",
       "0         -0.015845     0.238080      9.80003    -1.688960     -0.005065   \n",
       "1         -0.003747     0.388697      9.53572    -1.724100      0.007513   \n",
       "2         -0.047883     0.323161      9.68891    -1.377290      0.018062   \n",
       "3         -0.019075     0.234051      9.57333    -1.804460     -0.017648   \n",
       "4         -0.030109     0.354014      9.53662    -1.608570      0.020264   \n",
       "...             ...          ...          ...          ...           ...   \n",
       "957506     1.283330     2.675720      9.15231    -1.642700     -0.010627   \n",
       "957507     1.217230     3.324710      9.11289    -1.592090     -0.163963   \n",
       "957508     1.203300     3.153660      9.86177    -2.294600     -0.152650   \n",
       "957509     1.016820     3.213170     10.90000     0.916941      0.318422   \n",
       "957510     0.762446     2.657220      9.07285    -2.262310     -0.077873   \n",
       "\n",
       "        gyro_y_chest  gyro_z_chest  acc_x_ankle  acc_y_ankle  acc_z_ankle  \\\n",
       "0          -0.006781     -0.005663      9.65918    -1.655690    -0.099797   \n",
       "1          -0.010498     -0.020684      9.58814    -1.770400     0.054545   \n",
       "2           0.002878     -0.030669      9.73474    -1.732420    -0.059956   \n",
       "3          -0.000126     -0.010833      9.73624    -1.656800    -0.021820   \n",
       "4           0.054580     -0.032568      9.62226    -1.769680    -0.060878   \n",
       "...              ...           ...          ...          ...          ...   \n",
       "957506     -0.248182      0.008903      9.31006    -1.248320    -3.231660   \n",
       "957507     -0.345680     -0.007478      9.49967    -0.984048    -3.192770   \n",
       "957508     -0.422125     -0.032787      9.85023    -1.093580    -3.998870   \n",
       "957509     -0.277092     -0.160663      9.17659    -0.035269    -2.893250   \n",
       "957510     -0.152311     -0.237024      9.57580    -0.528578    -3.233400   \n",
       "\n",
       "        gyro_x_ankle  gyro_y_ankle  gyro_z_ankle  sub  \n",
       "0           0.008300      0.009250     -0.017580    1  \n",
       "1           0.003175     -0.020301      0.011275    1  \n",
       "2          -0.031973     -0.053934      0.015594    1  \n",
       "3           0.007649     -0.013923      0.014498    1  \n",
       "4           0.040113     -0.035645     -0.006889    1  \n",
       "...              ...           ...           ...  ...  \n",
       "957506     -0.135172     -0.024265     -0.057659    9  \n",
       "957507     -0.046738     -0.105825     -0.091276    9  \n",
       "957508     -0.119020     -0.016952     -0.148926    9  \n",
       "957509     -0.045662      0.011414     -0.139014    9  \n",
       "957510     -0.070888     -0.038024     -0.064709    9  \n",
       "\n",
       "[957511 rows x 20 columns]"
      ]
     },
     "execution_count": 5,
     "metadata": {},
     "output_type": "execute_result"
    }
   ],
   "source": [
    "dataset.data_x"
   ]
  },
  {
   "cell_type": "code",
   "execution_count": 7,
   "id": "b33d700d",
   "metadata": {},
   "outputs": [
    {
     "data": {
      "text/plain": [
       "sub_id          0\n",
       "acc_x_hand      0\n",
       "acc_y_hand      0\n",
       "acc_z_hand      0\n",
       "gyro_x_hand     0\n",
       "gyro_y_hand     0\n",
       "gyro_z_hand     0\n",
       "acc_x_chest     0\n",
       "acc_y_chest     0\n",
       "acc_z_chest     0\n",
       "gyro_x_chest    0\n",
       "gyro_y_chest    0\n",
       "gyro_z_chest    0\n",
       "acc_x_ankle     0\n",
       "acc_y_ankle     0\n",
       "acc_z_ankle     0\n",
       "gyro_x_ankle    0\n",
       "gyro_y_ankle    0\n",
       "gyro_z_ankle    0\n",
       "sub             0\n",
       "dtype: int64"
      ]
     },
     "execution_count": 7,
     "metadata": {},
     "output_type": "execute_result"
    }
   ],
   "source": [
    "dataset.data_x.isna().sum()#[dataset.data_x[\"acc_x_2\"].isna()]"
   ]
  },
  {
   "cell_type": "code",
   "execution_count": null,
   "id": "f00ceab8",
   "metadata": {},
   "outputs": [],
   "source": []
  },
  {
   "cell_type": "code",
   "execution_count": null,
   "id": "6c171461",
   "metadata": {},
   "outputs": [],
   "source": []
  },
  {
   "cell_type": "code",
   "execution_count": null,
   "id": "61713be8",
   "metadata": {},
   "outputs": [],
   "source": []
  },
  {
   "cell_type": "code",
   "execution_count": null,
   "id": "c95fce23",
   "metadata": {},
   "outputs": [],
   "source": []
  },
  {
   "cell_type": "code",
   "execution_count": null,
   "id": "9702b3d5",
   "metadata": {},
   "outputs": [],
   "source": []
  }
 ],
 "metadata": {
  "kernelspec": {
   "display_name": "Python 3",
   "language": "python",
   "name": "python3"
  },
  "language_info": {
   "codemirror_mode": {
    "name": "ipython",
    "version": 3
   },
   "file_extension": ".py",
   "mimetype": "text/x-python",
   "name": "python",
   "nbconvert_exporter": "python",
   "pygments_lexer": "ipython3",
   "version": "3.8.8"
  },
  "toc": {
   "base_numbering": 1,
   "nav_menu": {},
   "number_sections": true,
   "sideBar": true,
   "skip_h1_title": false,
   "title_cell": "Table of Contents",
   "title_sidebar": "Contents",
   "toc_cell": false,
   "toc_position": {},
   "toc_section_display": true,
   "toc_window_display": false
  }
 },
 "nbformat": 4,
 "nbformat_minor": 5
}
