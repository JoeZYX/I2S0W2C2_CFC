{
 "cells": [
  {
   "cell_type": "code",
   "execution_count": 1,
   "id": "ea8328b2-75c7-4edb-bd6a-5c6ac9626009",
   "metadata": {},
   "outputs": [],
   "source": [
    "import os\n",
    "import re\n",
    "import numpy as np"
   ]
  },
  {
   "cell_type": "code",
   "execution_count": 2,
   "id": "6f03a438-4e88-4ae7-b4c3-307fe32c5423",
   "metadata": {},
   "outputs": [],
   "source": [
    "logfile_path = '../../ISWC2022LearnableFilter/Run_logs/logs/'"
   ]
  },
  {
   "cell_type": "code",
   "execution_count": 3,
   "id": "c66034de-7b59-42c8-922a-09fa884dc7bf",
   "metadata": {},
   "outputs": [],
   "source": [
    "experiments = os.listdir(logfile_path)"
   ]
  },
  {
   "cell_type": "markdown",
   "id": "352de904-a568-4b3d-b9c4-df3161439a9a",
   "metadata": {},
   "source": [
    "# average over subjects"
   ]
  },
  {
   "cell_type": "code",
   "execution_count": 4,
   "id": "4ea8e916-6d3b-462b-aa14-3560f238a47c",
   "metadata": {},
   "outputs": [
    {
     "name": "stdout",
     "output_type": "stream",
     "text": [
      "Processing deepconvlstm_data_hapt_seed_4_windowsize_128_waveFilter_True_Fscaling_0.25_cvfilter_64_lstmfilter_1024_Regu_True...\n",
      "Processing deepconvlstm_data_oppo_seed_3_windowsize_30_waveFilter_True_Fscaling_0.25_cvfilter_64_lstmfilter_1024_Regu_True...\n",
      "Processing deepconvlstm_data_oppo_seed_1_windowsize_30_waveFilter_True_Fscaling_0.25_cvfilter_64_lstmfilter_1024_Regu_True...\n",
      "Processing deepconvlstm_data_oppo_seed_5_windowsize_30_waveFilter_True_Fscaling_0.25_cvfilter_64_lstmfilter_1024_Regu_True...\n",
      "Processing deepconvlstm_data_hapt_seed_3_windowsize_128_waveFilter_True_Fscaling_0.25_cvfilter_64_lstmfilter_1024_Regu_True...\n",
      "Processing deepconvlstm_data_rw_seed_2_windowsize_128_waveFilter_True_Fscaling_0.25_cvfilter_64_lstmfilter_1024_Regu_True...\n",
      "Processing deepconvlstm_data_hapt_seed_2_windowsize_128_waveFilter_True_Fscaling_0.25_cvfilter_64_lstmfilter_1024_Regu_True...\n",
      "Processing deepconvlstm_data_oppo_seed_4_windowsize_30_waveFilter_True_Fscaling_0.25_cvfilter_64_lstmfilter_1024_Regu_True...\n",
      "Processing deepconvlstm_data_oppo_seed_2_windowsize_30_waveFilter_True_Fscaling_0.25_cvfilter_64_lstmfilter_1024_Regu_True...\n",
      "Processing deepconvlstm_data_rw_seed_3_windowsize_128_waveFilter_True_Fscaling_0.25_cvfilter_64_lstmfilter_1024_Regu_True...\n",
      "Processing deepconvlstm_data_hapt_seed_5_windowsize_128_waveFilter_True_Fscaling_0.25_cvfilter_64_lstmfilter_1024_Regu_True...\n",
      "Processing deepconvlstm_data_rw_seed_1_windowsize_128_waveFilter_True_Fscaling_0.25_cvfilter_64_lstmfilter_1024_Regu_True...\n",
      "Processing deepconvlstm_data_hapt_seed_1_windowsize_128_waveFilter_True_Fscaling_0.25_cvfilter_64_lstmfilter_1024_Regu_True...\n"
     ]
    }
   ],
   "source": [
    "for e in experiments:\n",
    "    experiment_path = logfile_path + e\n",
    "    score_path = experiment_path + '/finetuned_score.txt'\n",
    "    if os.path.exists(score_path):\n",
    "        print(f'Processing {e}...')\n",
    "        \n",
    "        weighted_F1 = []\n",
    "        macro_F1 = []\n",
    "        \n",
    "        f = open(score_path)\n",
    "        while True:\n",
    "            line = f.readline()\n",
    "            if line == '':\n",
    "                break\n",
    "            scores = re.findall(r'0.[\\d.]*\\d+', line)\n",
    "            weighted_F1.append(float(scores[0]))\n",
    "            macro_F1.append(float(scores[1]))\n",
    "        \n",
    "        F1 = np.array([weighted_F1, macro_F1]).T\n",
    "        mean_F1 = np.mean(F1, axis=0)\n",
    "        np.savetxt(experiment_path+'/average_score.txt', mean_F1, fmt='%.6f')"
   ]
  },
  {
   "cell_type": "markdown",
   "id": "009921c3-e341-4cb2-bd97-feb209af11c9",
   "metadata": {},
   "source": [
    "# Average over seeds"
   ]
  },
  {
   "cell_type": "code",
   "execution_count": 5,
   "id": "8fbd6f25-7415-4240-81a4-0be8beb37455",
   "metadata": {},
   "outputs": [],
   "source": [
    "models = ['deepconvlstm']\n",
    "datasets = ['hapt']\n",
    "sfs = ['1']"
   ]
  },
  {
   "cell_type": "code",
   "execution_count": 6,
   "id": "4a627a74-790a-434d-bfbf-26873afcabe3",
   "metadata": {},
   "outputs": [
    {
     "ename": "FileNotFoundError",
     "evalue": "../../ISWC2022LearnableFilter/Run_logs/logs/deepconvlstm_data_hapt_seed_3_windowsize_128_waveFilter_False_Fscaling_1_cvfilter_64_lstmfilter_1024_Regu_False/average_score.txt not found.",
     "output_type": "error",
     "traceback": [
      "\u001b[0;31m---------------------------------------------------------------------------\u001b[0m",
      "\u001b[0;31mFileNotFoundError\u001b[0m                         Traceback (most recent call last)",
      "Input \u001b[0;32mIn [6]\u001b[0m, in \u001b[0;36m<cell line: 1>\u001b[0;34m()\u001b[0m\n\u001b[1;32m      6\u001b[0m     \u001b[38;5;28;01mif\u001b[39;00m (model \u001b[38;5;129;01min\u001b[39;00m e) \u001b[38;5;129;01mand\u001b[39;00m (dataset \u001b[38;5;129;01min\u001b[39;00m e) \u001b[38;5;129;01mand\u001b[39;00m (sf \u001b[38;5;129;01min\u001b[39;00m e):\n\u001b[1;32m      7\u001b[0m         seed_path \u001b[38;5;241m=\u001b[39m logfile_path \u001b[38;5;241m+\u001b[39m e \u001b[38;5;241m+\u001b[39m \u001b[38;5;124m'\u001b[39m\u001b[38;5;124m/average_score.txt\u001b[39m\u001b[38;5;124m'\u001b[39m\n\u001b[0;32m----> 8\u001b[0m         score \u001b[38;5;241m=\u001b[39m \u001b[43mnp\u001b[49m\u001b[38;5;241;43m.\u001b[39;49m\u001b[43mloadtxt\u001b[49m\u001b[43m(\u001b[49m\u001b[43mseed_path\u001b[49m\u001b[43m)\u001b[49m\n\u001b[1;32m      9\u001b[0m         score_cross_seed\u001b[38;5;241m.\u001b[39mappend(score)\n\u001b[1;32m     10\u001b[0m m \u001b[38;5;241m=\u001b[39m np\u001b[38;5;241m.\u001b[39mmean(score_cross_seed, axis\u001b[38;5;241m=\u001b[39m\u001b[38;5;241m0\u001b[39m)\n",
      "File \u001b[0;32m/opt/bwhpc/common/jupyter/base/2022-03-30/lib/python3.8/site-packages/numpy/lib/npyio.py:1042\u001b[0m, in \u001b[0;36mloadtxt\u001b[0;34m(fname, dtype, comments, delimiter, converters, skiprows, usecols, unpack, ndmin, encoding, max_rows, like)\u001b[0m\n\u001b[1;32m   1040\u001b[0m     fname \u001b[38;5;241m=\u001b[39m os_fspath(fname)\n\u001b[1;32m   1041\u001b[0m \u001b[38;5;28;01mif\u001b[39;00m _is_string_like(fname):\n\u001b[0;32m-> 1042\u001b[0m     fh \u001b[38;5;241m=\u001b[39m \u001b[43mnp\u001b[49m\u001b[38;5;241;43m.\u001b[39;49m\u001b[43mlib\u001b[49m\u001b[38;5;241;43m.\u001b[39;49m\u001b[43m_datasource\u001b[49m\u001b[38;5;241;43m.\u001b[39;49m\u001b[43mopen\u001b[49m\u001b[43m(\u001b[49m\u001b[43mfname\u001b[49m\u001b[43m,\u001b[49m\u001b[43m \u001b[49m\u001b[38;5;124;43m'\u001b[39;49m\u001b[38;5;124;43mrt\u001b[39;49m\u001b[38;5;124;43m'\u001b[39;49m\u001b[43m,\u001b[49m\u001b[43m \u001b[49m\u001b[43mencoding\u001b[49m\u001b[38;5;241;43m=\u001b[39;49m\u001b[43mencoding\u001b[49m\u001b[43m)\u001b[49m\n\u001b[1;32m   1043\u001b[0m     fencoding \u001b[38;5;241m=\u001b[39m \u001b[38;5;28mgetattr\u001b[39m(fh, \u001b[38;5;124m'\u001b[39m\u001b[38;5;124mencoding\u001b[39m\u001b[38;5;124m'\u001b[39m, \u001b[38;5;124m'\u001b[39m\u001b[38;5;124mlatin1\u001b[39m\u001b[38;5;124m'\u001b[39m)\n\u001b[1;32m   1044\u001b[0m     line_iter \u001b[38;5;241m=\u001b[39m \u001b[38;5;28miter\u001b[39m(fh)\n",
      "File \u001b[0;32m/opt/bwhpc/common/jupyter/base/2022-03-30/lib/python3.8/site-packages/numpy/lib/_datasource.py:193\u001b[0m, in \u001b[0;36mopen\u001b[0;34m(path, mode, destpath, encoding, newline)\u001b[0m\n\u001b[1;32m    156\u001b[0m \u001b[38;5;124;03m\"\"\"\u001b[39;00m\n\u001b[1;32m    157\u001b[0m \u001b[38;5;124;03mOpen `path` with `mode` and return the file object.\u001b[39;00m\n\u001b[1;32m    158\u001b[0m \n\u001b[0;32m   (...)\u001b[0m\n\u001b[1;32m    189\u001b[0m \n\u001b[1;32m    190\u001b[0m \u001b[38;5;124;03m\"\"\"\u001b[39;00m\n\u001b[1;32m    192\u001b[0m ds \u001b[38;5;241m=\u001b[39m DataSource(destpath)\n\u001b[0;32m--> 193\u001b[0m \u001b[38;5;28;01mreturn\u001b[39;00m \u001b[43mds\u001b[49m\u001b[38;5;241;43m.\u001b[39;49m\u001b[43mopen\u001b[49m\u001b[43m(\u001b[49m\u001b[43mpath\u001b[49m\u001b[43m,\u001b[49m\u001b[43m \u001b[49m\u001b[43mmode\u001b[49m\u001b[43m,\u001b[49m\u001b[43m \u001b[49m\u001b[43mencoding\u001b[49m\u001b[38;5;241;43m=\u001b[39;49m\u001b[43mencoding\u001b[49m\u001b[43m,\u001b[49m\u001b[43m \u001b[49m\u001b[43mnewline\u001b[49m\u001b[38;5;241;43m=\u001b[39;49m\u001b[43mnewline\u001b[49m\u001b[43m)\u001b[49m\n",
      "File \u001b[0;32m/opt/bwhpc/common/jupyter/base/2022-03-30/lib/python3.8/site-packages/numpy/lib/_datasource.py:532\u001b[0m, in \u001b[0;36mDataSource.open\u001b[0;34m(self, path, mode, encoding, newline)\u001b[0m\n\u001b[1;32m    529\u001b[0m     \u001b[38;5;28;01mreturn\u001b[39;00m _file_openers[ext](found, mode\u001b[38;5;241m=\u001b[39mmode,\n\u001b[1;32m    530\u001b[0m                               encoding\u001b[38;5;241m=\u001b[39mencoding, newline\u001b[38;5;241m=\u001b[39mnewline)\n\u001b[1;32m    531\u001b[0m \u001b[38;5;28;01melse\u001b[39;00m:\n\u001b[0;32m--> 532\u001b[0m     \u001b[38;5;28;01mraise\u001b[39;00m \u001b[38;5;167;01mFileNotFoundError\u001b[39;00m(\u001b[38;5;124mf\u001b[39m\u001b[38;5;124m\"\u001b[39m\u001b[38;5;132;01m{\u001b[39;00mpath\u001b[38;5;132;01m}\u001b[39;00m\u001b[38;5;124m not found.\u001b[39m\u001b[38;5;124m\"\u001b[39m)\n",
      "\u001b[0;31mFileNotFoundError\u001b[0m: ../../ISWC2022LearnableFilter/Run_logs/logs/deepconvlstm_data_hapt_seed_3_windowsize_128_waveFilter_False_Fscaling_1_cvfilter_64_lstmfilter_1024_Regu_False/average_score.txt not found."
     ]
    }
   ],
   "source": [
    "for model in models:\n",
    "    for dataset in datasets:\n",
    "        for sf in sfs:\n",
    "            score_cross_seed = []\n",
    "            for e in experiments:\n",
    "                if (model in e) and (dataset in e) and (sf in e):\n",
    "                    seed_path = logfile_path + e + '/average_score.txt'\n",
    "                    score = np.loadtxt(seed_path)\n",
    "                    score_cross_seed.append(score)\n",
    "            m = np.mean(score_cross_seed, axis=0)\n",
    "            std = np.std(score_cross_seed, axis=0)\n",
    "            result_cross_seed = np.array([m, std])\n",
    "            np.savetxt(f'{logfile_path}/../result/{model}_{dataset}_{sf}.txt', result_cross_seed, fmt='%.6f')"
   ]
  }
 ],
 "metadata": {
  "kernelspec": {
   "display_name": "SDIL",
   "language": "python",
   "name": "sdil"
  },
  "language_info": {
   "codemirror_mode": {
    "name": "ipython",
    "version": 3
   },
   "file_extension": ".py",
   "mimetype": "text/x-python",
   "name": "python",
   "nbconvert_exporter": "python",
   "pygments_lexer": "ipython3",
   "version": "3.8.13"
  }
 },
 "nbformat": 4,
 "nbformat_minor": 5
}
