{
 "cells": [
  {
   "cell_type": "code",
   "execution_count": 1,
   "id": "a60bc264",
   "metadata": {},
   "outputs": [],
   "source": [
    "import warnings\n",
    "warnings.filterwarnings(\"ignore\")\n",
    "\n",
    "import sys\n",
    "sys.path.append(\"../../\")\n",
    "\n",
    "from experiment import Exp\n",
    "\n",
    "from dataloaders import data_set,data_dict\n",
    "import torch\n",
    "import yaml\n",
    "import os"
   ]
  },
  {
   "cell_type": "code",
   "execution_count": 2,
   "id": "7515d1a4",
   "metadata": {},
   "outputs": [],
   "source": [
    "class dotdict(dict):\n",
    "    \"\"\"dot.notation access to dictionary attributes\"\"\"\n",
    "    __getattr__ = dict.get\n",
    "    __setattr__ = dict.__setitem__\n",
    "    __delattr__ = dict.__delitem__\n",
    "\n",
    "args = dotdict()   \n",
    "\n",
    "args.to_save_path     = r\"E:\\TECO_Works\\Conference\\ISWC2022\\Run_logs\"              \n",
    "args.freq_save_path   = r\"E:\\TECO_Works\\Conference\\ISWC2022\\Freq_data\"\n",
    "args.window_save_path = r\"E:\\TECO_Works\\Conference\\ISWC2022\\Sliding_window\"\n",
    "args.root_path        = r\"E:\\datasets\"\n",
    "\n",
    "\n",
    "args.drop_transition  = False\n",
    "args.datanorm_type    = \"standardization\" # None ,\"standardization\", \"minmax\"\n",
    "\n",
    "\n",
    "args.batch_size       = 128                                                     \n",
    "args.shuffle          = True\n",
    "args.drop_last        = False\n",
    "args.train_vali_quote = 0.90                                           \n",
    "\n",
    "\n",
    "# training setting \n",
    "args.train_epochs            = 150\n",
    "\n",
    "args.learning_rate           = 0.001  \n",
    "args.learning_rate_patience  = 5\n",
    "args.learning_rate_factor    = 0.1\n",
    "\n",
    "\n",
    "args.early_stop_patience     = 15\n",
    "\n",
    "args.use_gpu                 = False if torch.cuda.is_available() else False\n",
    "args.gpu                     = 0\n",
    "args.use_multi_gpu           = False\n",
    "\n",
    "args.optimizer               = \"Adam\"\n",
    "args.criterion               = \"CrossEntropy\""
   ]
  },
  {
   "cell_type": "code",
   "execution_count": 3,
   "id": "e3a34739",
   "metadata": {},
   "outputs": [],
   "source": [
    "args.seed                             = 3\n",
    "\n",
    "\n",
    "args.data_name                        =  \"hapt\"\n",
    "window_seconds                        = 2.56\n",
    "args.wavelet_filtering                = True\n",
    "args.wavelet_filtering_regularization = True\n",
    "args.regulatization_tradeoff          = 0.0001\n",
    "args.number_wavelet_filtering = 10\n",
    "\n",
    "\n",
    "args.difference       = False \n",
    "args.filtering        =  False\n",
    "args.magnitude        =  False\n",
    "args.weighted_sampler = False\n",
    "\n",
    "\n",
    "\n",
    "\n",
    "args.pos_select       = None\n",
    "args.sensor_select    = None\n",
    "\n",
    "\n",
    "args.representation_type = \"time\"\n",
    "args.exp_mode            = \"LOCV\"\n",
    "\n",
    "config_file = open('../../configs/data.yaml', mode='r')\n",
    "data_config = yaml.load(config_file, Loader=yaml.FullLoader)\n",
    "config = data_config[args.data_name]\n",
    "\n",
    "args.root_path       = os.path.join(args.root_path,config[\"filename\"])\n",
    "args.sampling_freq   = config[\"sampling_freq\"]\n",
    "args.num_classes     =  config[\"num_classes\"]\n",
    "args.windowsize      =   int(window_seconds * args.sampling_freq) \n",
    "args.input_length    =  args.windowsize\n",
    "# input information\n",
    "args.c_in            = config[\"num_channels\"]\n",
    "\n",
    "if args.wavelet_filtering :\n",
    "    \n",
    "    if args.windowsize%2==1:\n",
    "        N_ds = int(torch.log2(torch.tensor(args.windowsize-1)).floor()) - 2\n",
    "    else:\n",
    "        N_ds = int(torch.log2(torch.tensor(args.windowsize)).floor()) - 2\n",
    "\n",
    "    args.f_in            =  args.number_wavelet_filtering*N_ds+1\n",
    "else:\n",
    "    args.f_in            =  1\n",
    "\n"
   ]
  },
  {
   "cell_type": "code",
   "execution_count": 4,
   "id": "c90e8033",
   "metadata": {},
   "outputs": [],
   "source": [
    "args.filter_scaling_factor = 1\n",
    "args.model_type              = \"deepconvlstm\""
   ]
  },
  {
   "cell_type": "code",
   "execution_count": 5,
   "id": "0775557d",
   "metadata": {},
   "outputs": [
    {
     "name": "stdout",
     "output_type": "stream",
     "text": [
      "Use CPU\n",
      "Wavelet Filtering Regularization\n",
      "Build the DeepConvLSTM model!\n",
      "Done!\n",
      "Parameter : 5865727\n",
      "Set the seed as :  3\n"
     ]
    }
   ],
   "source": [
    "exp = Exp(args)"
   ]
  },
  {
   "cell_type": "code",
   "execution_count": null,
   "id": "c2776334",
   "metadata": {},
   "outputs": [],
   "source": []
  },
  {
   "cell_type": "code",
   "execution_count": 26,
   "id": "be918f2c",
   "metadata": {},
   "outputs": [
    {
     "name": "stdout",
     "output_type": "stream",
     "text": [
      "tensor(0.5356)\n"
     ]
    }
   ],
   "source": [
    "args.wavelet_filtering_finetuning = True\n",
    "args.percent = 0.5\n",
    "total = args.f_in\n",
    "\n",
    "\n",
    "#gamma_weight = exp.model.gamma.squeeze().abs().clone()\n",
    "\n",
    "gamma_weight = torch.rand(total)\n",
    "y, i = torch.sort(gamma_weight)\n",
    "thre_index = int(total * args.percent)\n",
    "thre = y[thre_index]\n",
    "print(thre)\n",
    "\n",
    "\n",
    "mask = gamma_weight.data.gt(thre).float().cuda()\n",
    "\n",
    "gamma_weight = "
   ]
  },
  {
   "cell_type": "code",
   "execution_count": 25,
   "id": "c29c0520",
   "metadata": {},
   "outputs": [
    {
     "data": {
      "text/plain": [
       "tensor([0.0043, 0.1056, 0.2858, 0.0270, 0.4716, 0.0601, 0.7719, 0.7437, 0.5944,\n",
       "        0.8879, 0.4510, 0.7995, 0.1498, 0.4015, 0.0542, 0.4594, 0.1756, 0.9492,\n",
       "        0.8473, 0.8749, 0.6483, 0.2148, 0.9493, 0.0121, 0.1809, 0.1877, 0.2927,\n",
       "        0.5997, 0.1213, 0.1148, 0.2609, 0.8052, 0.1394, 0.0516, 0.0666, 0.2540,\n",
       "        0.3686, 0.0043, 0.2659, 0.5096, 0.5824, 0.4283, 0.4433, 0.1747, 0.7562,\n",
       "        0.3795, 0.1581, 0.3796, 0.4301, 0.9623, 0.7606])"
      ]
     },
     "execution_count": 25,
     "metadata": {},
     "output_type": "execute_result"
    }
   ],
   "source": [
    "gamma_weight"
   ]
  },
  {
   "cell_type": "code",
   "execution_count": 24,
   "id": "7df8c418",
   "metadata": {},
   "outputs": [
    {
     "data": {
      "text/plain": [
       "tensor([0.0043, 0.1056, 0.2858, 0.0270, 0.4716, 0.0601, 0.7719, 0.7437, 0.5944,\n",
       "        0.8879, 0.4510, 0.7995, 0.1498, 0.4015, 0.0542, 0.4594, 0.1756, 0.9492,\n",
       "        0.8473, 0.8749, 0.6483, 0.2148, 0.9493, 0.0121, 0.1809, 0.1877, 0.2927,\n",
       "        0.5997, 0.1213, 0.1148, 0.2609, 0.8052, 0.1394, 0.0516, 0.0666, 0.2540,\n",
       "        0.3686, 0.0043, 0.2659, 0.5096, 0.5824, 0.4283, 0.4433, 0.1747, 0.7562,\n",
       "        0.3795, 0.1581, 0.3796, 0.4301, 0.9623, 0.7606])"
      ]
     },
     "execution_count": 24,
     "metadata": {},
     "output_type": "execute_result"
    }
   ],
   "source": [
    "gamma_weight.data"
   ]
  },
  {
   "cell_type": "code",
   "execution_count": 14,
   "id": "027b8278",
   "metadata": {},
   "outputs": [],
   "source": [
    "total = exp.model.gamma.squeeze().shape[0]\n",
    "y, i = torch.sort(exp.model.gamma.squeeze())"
   ]
  },
  {
   "cell_type": "code",
   "execution_count": 15,
   "id": "df546a39",
   "metadata": {},
   "outputs": [
    {
     "data": {
      "text/plain": [
       "tensor([1., 1., 1., 1., 1., 1., 1., 1., 1., 1., 1., 1., 1., 1., 1., 1., 1., 1.,\n",
       "        1., 1., 1., 1., 1., 1., 1., 1., 1., 1., 1., 1., 1., 1., 1., 1., 1., 1.,\n",
       "        1., 1., 1., 1., 1., 1., 1., 1., 1., 1., 1., 1., 1., 1., 1.],\n",
       "       dtype=torch.float64, grad_fn=<SortBackward0>)"
      ]
     },
     "execution_count": 15,
     "metadata": {},
     "output_type": "execute_result"
    }
   ],
   "source": [
    "y"
   ]
  },
  {
   "cell_type": "code",
   "execution_count": 16,
   "id": "bbbfdf6a",
   "metadata": {},
   "outputs": [
    {
     "data": {
      "text/plain": [
       "tensor([ 0,  1,  2,  3,  4,  5,  6,  7,  8,  9, 10, 11, 12, 13, 14, 15, 16, 17,\n",
       "        18, 19, 20, 21, 22, 23, 24, 25, 26, 27, 28, 29, 30, 31, 32, 33, 34, 35,\n",
       "        36, 37, 38, 39, 40, 41, 42, 43, 44, 45, 46, 47, 48, 49, 50])"
      ]
     },
     "execution_count": 16,
     "metadata": {},
     "output_type": "execute_result"
    }
   ],
   "source": [
    "i"
   ]
  },
  {
   "cell_type": "code",
   "execution_count": null,
   "id": "c0ecd76b",
   "metadata": {},
   "outputs": [],
   "source": []
  }
 ],
 "metadata": {
  "kernelspec": {
   "display_name": "Python 3",
   "language": "python",
   "name": "python3"
  },
  "language_info": {
   "codemirror_mode": {
    "name": "ipython",
    "version": 3
   },
   "file_extension": ".py",
   "mimetype": "text/x-python",
   "name": "python",
   "nbconvert_exporter": "python",
   "pygments_lexer": "ipython3",
   "version": "3.8.8"
  },
  "toc": {
   "base_numbering": 1,
   "nav_menu": {},
   "number_sections": true,
   "sideBar": true,
   "skip_h1_title": false,
   "title_cell": "Table of Contents",
   "title_sidebar": "Contents",
   "toc_cell": false,
   "toc_position": {},
   "toc_section_display": true,
   "toc_window_display": false
  }
 },
 "nbformat": 4,
 "nbformat_minor": 5
}
