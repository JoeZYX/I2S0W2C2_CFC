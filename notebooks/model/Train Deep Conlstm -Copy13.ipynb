{
 "cells": [
  {
   "cell_type": "code",
   "execution_count": 1,
   "id": "894e2c21",
   "metadata": {},
   "outputs": [],
   "source": [
    "import warnings\n",
    "warnings.filterwarnings(\"ignore\")\n",
    "\n",
    "import sys\n",
    "sys.path.append(\"../../\")\n",
    "\n",
    "from experiment import Exp\n",
    "\n",
    "from dataloaders import data_set,data_dict\n",
    "import torch\n",
    "import yaml\n",
    "import os"
   ]
  },
  {
   "cell_type": "markdown",
   "id": "bcc56bc7",
   "metadata": {},
   "source": [
    "# 参数设置"
   ]
  },
  {
   "cell_type": "markdown",
   "id": "dcc5bcbc",
   "metadata": {},
   "source": [
    "# 训练参数 \n",
    "除了路径 其他不要变"
   ]
  },
  {
   "cell_type": "code",
   "execution_count": 2,
   "id": "86004ce0",
   "metadata": {},
   "outputs": [],
   "source": [
    "class dotdict(dict):\n",
    "    \"\"\"dot.notation access to dictionary attributes\"\"\"\n",
    "    __getattr__ = dict.get\n",
    "    __setattr__ = dict.__setitem__\n",
    "    __delattr__ = dict.__delitem__\n",
    "\n",
    "args = dotdict()   \n",
    "# TODO change the path as relative path\n",
    "args.to_save_path     = \"../../../ISWC2022LearnableFilter/Run_logs\"              \n",
    "args.freq_save_path   = \"../../../ISWC2022LearnableFilter/Freq_data\"\n",
    "args.window_save_path = \"../../../ISWC2022LearnableFilter/Sliding_window\"\n",
    "args.root_path        = \"../../../datasets\"\n",
    "\n",
    "\n",
    "args.drop_transition  = False\n",
    "args.datanorm_type    = \"standardization\" # None ,\"standardization\", \"minmax\"\n",
    "\n",
    "\n",
    "args.batch_size       = 256                                                     \n",
    "args.shuffle          = True\n",
    "args.drop_last        = False\n",
    "args.train_vali_quote = 0.90                                           \n",
    "\n",
    "\n",
    "# training setting \n",
    "args.train_epochs            = 150\n",
    "\n",
    "args.learning_rate           = 0.001  \n",
    "args.learning_rate_patience  = 5\n",
    "args.learning_rate_factor    = 0.1\n",
    "\n",
    "\n",
    "args.early_stop_patience     = 15\n",
    "\n",
    "args.use_gpu                 = True if torch.cuda.is_available() else False\n",
    "args.gpu                     = 1\n",
    "args.use_multi_gpu           = False\n",
    "\n",
    "args.optimizer               = \"Adam\"\n",
    "args.criterion               = \"CrossEntropy\""
   ]
  },
  {
   "cell_type": "markdown",
   "id": "c282cbcb",
   "metadata": {},
   "source": [
    "## 数据参数\n",
    "\n"
   ]
  },
  {
   "cell_type": "code",
   "execution_count": 3,
   "id": "c6cd147b",
   "metadata": {},
   "outputs": [],
   "source": [
    "args.seed                             = 5\n",
    "\n",
    "\n",
    "args.data_name                        =  \"skodar\"\n",
    "\n",
    "args.wavelet_filtering                = True\n",
    "args.wavelet_filtering_regularization = True\n",
    "args.wavelet_filtering_finetuning     = True\n",
    "args.wavelet_filtering_finetuning_percent = 1\n",
    "args.wavelet_filtering_learnable      = False\n",
    "args.wavelet_filtering_layernorm      = False\n",
    "\n",
    "args.regulatization_tradeoff          = 0\n",
    "args.number_wavelet_filtering         = 10\n",
    "\n",
    "\n",
    "args.difference       = False \n",
    "args.filtering        =  False\n",
    "args.magnitude        =  False\n",
    "args.weighted_sampler = False\n",
    "\n",
    "\n",
    "\n",
    "\n",
    "args.pos_select       = None\n",
    "args.sensor_select    = None\n",
    "\n",
    "\n",
    "args.representation_type = \"time\"\n",
    "args.exp_mode            = \"LOCV\"\n",
    "if args.data_name      ==  \"skodar\":\n",
    "    args.exp_mode            = \"SOCV\"\n",
    "\n",
    "config_file = open('../../configs/data.yaml', mode='r')\n",
    "data_config = yaml.load(config_file, Loader=yaml.FullLoader)\n",
    "config = data_config[args.data_name]\n",
    "\n",
    "args.root_path       = os.path.join(args.root_path,config[\"filename\"])\n",
    "args.sampling_freq   = config[\"sampling_freq\"]\n",
    "args.num_classes     =  config[\"num_classes\"]\n",
    "window_seconds       = config[\"window_seconds\"]\n",
    "args.windowsize      =   int(window_seconds * args.sampling_freq) \n",
    "args.input_length    =  args.windowsize\n",
    "# input information\n",
    "args.c_in            = config[\"num_channels\"]\n",
    "\n",
    "if args.wavelet_filtering :\n",
    "    \n",
    "    if args.windowsize%2==1:\n",
    "        N_ds = int(torch.log2(torch.tensor(args.windowsize-1)).floor()) - 2\n",
    "    else:\n",
    "        N_ds = int(torch.log2(torch.tensor(args.windowsize)).floor()) - 2\n",
    "\n",
    "    args.f_in            =  args.number_wavelet_filtering*N_ds+1\n",
    "else:\n",
    "    args.f_in            =  1\n",
    "\n"
   ]
  },
  {
   "cell_type": "markdown",
   "id": "4d435a4c",
   "metadata": {},
   "source": [
    "## 模型参数"
   ]
  },
  {
   "cell_type": "code",
   "execution_count": 4,
   "id": "de2f4d16",
   "metadata": {},
   "outputs": [],
   "source": [
    "args.filter_scaling_factor = 0.75\n",
    "args.model_type              = \"deepconvlstm\"#\"tinyhar\"#\"sahar\" #\"deepconvlstm\"\n",
    "\n",
    "# args.cross_channel_interaction_type = \"attn\"\n",
    "# args.cross_channel_aggregation_type = \"filter\"\n",
    "# args.temporal_info_interaction_type\n",
    "# args.temporal_info_aggregation_type"
   ]
  },
  {
   "cell_type": "markdown",
   "id": "cada66dd",
   "metadata": {},
   "source": [
    "# 实验"
   ]
  },
  {
   "cell_type": "code",
   "execution_count": 5,
   "id": "2e3f2fad",
   "metadata": {
    "scrolled": true
   },
   "outputs": [
    {
     "name": "stdout",
     "output_type": "stream",
     "text": [
      "Use GPU: cuda:1\n",
      "clone the  wavefiler weight\n",
      "Wavelet Filtering Regularization\n",
      "Build the DeepConvLSTM model!\n",
      "Done!\n",
      "Parameter : 636195\n",
      "Set the seed as :  5\n"
     ]
    }
   ],
   "source": [
    "exp = Exp(args)"
   ]
  },
  {
   "cell_type": "code",
   "execution_count": 6,
   "id": "09a011fc",
   "metadata": {
    "scrolled": true
   },
   "outputs": [
    {
     "name": "stdout",
     "output_type": "stream",
     "text": [
      " ----------------------- load all the data -------------------\n",
      "-----------------------Sliding file are generated -----------------------\n",
      "-----------------------Sliding file are generated -----------------------\n",
      "================ SOCV Mode ====================\n",
      "================ 5 CV ======================\n",
      "================ the 0 th CV Experiment ================ \n",
      "Overlapping random Experiment : The 1 Part as the test\n",
      "[-] Target sampling weights:  [0.0025974  0.00241546 0.00248756 0.00307692 0.00561798 0.00621118\n",
      " 0.0031746  0.00286533 0.00241546 0.00413223]\n",
      "Train data number :  3185\n",
      "The number of classes is :  10\n",
      "The input_length  is :  84\n",
      "The channel_in is :  30\n",
      "Validation data number :  354\n",
      "Test data number :  884\n",
      "================Skip the 0 CV Experiment================\n",
      "clone the  wavefiler weight\n",
      "Wavelet Filtering Regularization\n",
      "Build the DeepConvLSTM model!\n",
      "Wavelet Filtering Regularization\n",
      "Build the DeepConvLSTM model!\n",
      "------------Fine Tuning  :  1   will be pruned   -----------------------------------------\n",
      "old model Parameter : 636195\n",
      "pruned model Parameter : 639314\n",
      "----------------------------------------------------------------------------------------\n",
      "Fine Tuning Epoch: 1 cost time: 6.738803386688232\n",
      "Fine Tuning VALI: Epoch: 1, Steps: 13 | Train Loss: 0.0105323  Vali Loss: 0.0295423 Vali Accuracy: 0.9887006  Vali weighted F1: 0.9885067  Vali macro F1 0.9799020 \n",
      "Validation loss decreased (inf --> 0.029542).  Saving model ...\n",
      "Fine Tuning Epoch: 2 cost time: 1.9431538581848145\n",
      "Fine Tuning VALI: Epoch: 2, Steps: 13 | Train Loss: 0.0084512  Vali Loss: 0.0328467 Vali Accuracy: 0.9943503  Vali weighted F1: 0.9943162  Vali macro F1 0.9900966 \n",
      "EarlyStopping counter: 1 out of 15\n",
      "Learning rate adjusting counter: 2 out of 5\n",
      "Fine Tuning Epoch: 3 cost time: 1.93955659866333\n",
      "Fine Tuning VALI: Epoch: 3, Steps: 13 | Train Loss: 0.0103053  Vali Loss: 0.0245967 Vali Accuracy: 0.9943503  Vali weighted F1: 0.9943162  Vali macro F1 0.9900966 \n",
      "new best score!!!!\n",
      "Validation loss decreased (0.029542 --> 0.024597).  Saving model ...\n",
      "new best score!!!!\n",
      "Fine Tuning Epoch: 4 cost time: 1.6052768230438232\n",
      "Fine Tuning VALI: Epoch: 4, Steps: 13 | Train Loss: 0.0085009  Vali Loss: 0.0250119 Vali Accuracy: 0.9915254  Vali weighted F1: 0.9915051  Vali macro F1 0.9852252 \n",
      "EarlyStopping counter: 1 out of 15\n",
      "Learning rate adjusting counter: 1 out of 5\n",
      "Fine Tuning Epoch: 5 cost time: 1.8280694484710693\n",
      "Fine Tuning VALI: Epoch: 5, Steps: 13 | Train Loss: 0.0075270  Vali Loss: 0.0222470 Vali Accuracy: 0.9943503  Vali weighted F1: 0.9943503  Vali macro F1 0.9901914 \n",
      "new best score!!!!\n",
      "Validation loss decreased (0.024597 --> 0.022247).  Saving model ...\n",
      "new best score!!!!\n",
      "Fine Tuning Epoch: 6 cost time: 1.8400781154632568\n",
      "Fine Tuning VALI: Epoch: 6, Steps: 13 | Train Loss: 0.0082360  Vali Loss: 0.0304884 Vali Accuracy: 0.9915254  Vali weighted F1: 0.9915051  Vali macro F1 0.9852252 \n",
      "EarlyStopping counter: 1 out of 15\n",
      "Learning rate adjusting counter: 1 out of 5\n",
      "Fine Tuning Epoch: 7 cost time: 1.3696799278259277\n",
      "Fine Tuning VALI: Epoch: 7, Steps: 13 | Train Loss: 0.0075034  Vali Loss: 0.0312632 Vali Accuracy: 0.9915254  Vali weighted F1: 0.9915051  Vali macro F1 0.9852252 \n",
      "EarlyStopping counter: 2 out of 15\n",
      "Learning rate adjusting counter: 2 out of 5\n",
      "Fine Tuning Epoch: 8 cost time: 1.4052128791809082\n",
      "Fine Tuning VALI: Epoch: 8, Steps: 13 | Train Loss: 0.0068117  Vali Loss: 0.0265017 Vali Accuracy: 0.9915254  Vali weighted F1: 0.9915051  Vali macro F1 0.9852252 \n",
      "EarlyStopping counter: 3 out of 15\n",
      "Learning rate adjusting counter: 3 out of 5\n",
      "Fine Tuning Epoch: 9 cost time: 1.2911756038665771\n",
      "Fine Tuning VALI: Epoch: 9, Steps: 13 | Train Loss: 0.0062675  Vali Loss: 0.0179727 Vali Accuracy: 0.9943503  Vali weighted F1: 0.9943503  Vali macro F1 0.9901914 \n",
      "new best score!!!!\n",
      "Validation loss decreased (0.022247 --> 0.017973).  Saving model ...\n",
      "new best score!!!!\n",
      "Fine Tuning Epoch: 10 cost time: 1.3066165447235107\n",
      "Fine Tuning VALI: Epoch: 10, Steps: 13 | Train Loss: 0.0072801  Vali Loss: 0.0308461 Vali Accuracy: 0.9915254  Vali weighted F1: 0.9915051  Vali macro F1 0.9852252 \n",
      "EarlyStopping counter: 1 out of 15\n",
      "Learning rate adjusting counter: 1 out of 5\n",
      "Fine Tuning Epoch: 11 cost time: 1.1605205535888672\n",
      "Fine Tuning VALI: Epoch: 11, Steps: 13 | Train Loss: 0.0062733  Vali Loss: 0.0233089 Vali Accuracy: 0.9915254  Vali weighted F1: 0.9915051  Vali macro F1 0.9852252 \n",
      "EarlyStopping counter: 2 out of 15\n",
      "Learning rate adjusting counter: 2 out of 5\n",
      "Fine Tuning Epoch: 12 cost time: 1.1408510208129883\n",
      "Fine Tuning VALI: Epoch: 12, Steps: 13 | Train Loss: 0.0058208  Vali Loss: 0.0308040 Vali Accuracy: 0.9915254  Vali weighted F1: 0.9915051  Vali macro F1 0.9852252 \n",
      "EarlyStopping counter: 3 out of 15\n",
      "Learning rate adjusting counter: 3 out of 5\n",
      "Fine Tuning Epoch: 13 cost time: 1.1322152614593506\n",
      "Fine Tuning VALI: Epoch: 13, Steps: 13 | Train Loss: 0.0054047  Vali Loss: 0.0213033 Vali Accuracy: 0.9915254  Vali weighted F1: 0.9915051  Vali macro F1 0.9852252 \n",
      "EarlyStopping counter: 4 out of 15\n",
      "Learning rate adjusting counter: 4 out of 5\n",
      "Fine Tuning Epoch: 14 cost time: 1.1379420757293701\n",
      "Fine Tuning VALI: Epoch: 14, Steps: 13 | Train Loss: 0.0050253  Vali Loss: 0.0169309 Vali Accuracy: 0.9943503  Vali weighted F1: 0.9943503  Vali macro F1 0.9901914 \n",
      "new best score!!!!\n",
      "Validation loss decreased (0.017973 --> 0.016931).  Saving model ...\n",
      "new best score!!!!\n",
      "Fine Tuning Epoch: 15 cost time: 1.1349799633026123\n",
      "Fine Tuning VALI: Epoch: 15, Steps: 13 | Train Loss: 0.0070046  Vali Loss: 0.0180463 Vali Accuracy: 0.9943503  Vali weighted F1: 0.9943503  Vali macro F1 0.9901914 \n",
      "EarlyStopping counter: 1 out of 15\n",
      "Learning rate adjusting counter: 1 out of 5\n"
     ]
    },
    {
     "name": "stderr",
     "output_type": "stream",
     "text": [
      "\n",
      "KeyboardInterrupt\n",
      "\n"
     ]
    }
   ],
   "source": [
    "exp.train()"
   ]
  }
 ],
 "metadata": {
  "kernelspec": {
   "display_name": "SDIL",
   "language": "python",
   "name": "sdil"
  },
  "language_info": {
   "codemirror_mode": {
    "name": "ipython",
    "version": 3
   },
   "file_extension": ".py",
   "mimetype": "text/x-python",
   "name": "python",
   "nbconvert_exporter": "python",
   "pygments_lexer": "ipython3",
   "version": "3.8.13"
  },
  "toc": {
   "base_numbering": 1,
   "nav_menu": {},
   "number_sections": true,
   "sideBar": true,
   "skip_h1_title": false,
   "title_cell": "Table of Contents",
   "title_sidebar": "Contents",
   "toc_cell": false,
   "toc_position": {},
   "toc_section_display": true,
   "toc_window_display": true
  }
 },
 "nbformat": 4,
 "nbformat_minor": 5
}
