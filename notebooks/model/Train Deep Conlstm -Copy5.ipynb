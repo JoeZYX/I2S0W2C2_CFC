{
 "cells": [
  {
   "cell_type": "code",
   "execution_count": 1,
   "id": "894e2c21",
   "metadata": {},
   "outputs": [],
   "source": [
    "import warnings\n",
    "warnings.filterwarnings(\"ignore\")\n",
    "\n",
    "import sys\n",
    "sys.path.append(\"../../\")\n",
    "\n",
    "from experiment import Exp\n",
    "\n",
    "from dataloaders import data_set,data_dict\n",
    "import torch\n",
    "import yaml\n",
    "import os"
   ]
  },
  {
   "cell_type": "markdown",
   "id": "bcc56bc7",
   "metadata": {},
   "source": [
    "# 参数设置"
   ]
  },
  {
   "cell_type": "markdown",
   "id": "dcc5bcbc",
   "metadata": {},
   "source": [
    "# 训练参数 \n",
    "除了路径 其他不要变"
   ]
  },
  {
   "cell_type": "code",
   "execution_count": 2,
   "id": "86004ce0",
   "metadata": {},
   "outputs": [],
   "source": [
    "class dotdict(dict):\n",
    "    \"\"\"dot.notation access to dictionary attributes\"\"\"\n",
    "    __getattr__ = dict.get\n",
    "    __setattr__ = dict.__setitem__\n",
    "    __delattr__ = dict.__delitem__\n",
    "\n",
    "args = dotdict()   \n",
    "# TODO change the path as relative path\n",
    "args.to_save_path     = \"../../../ISWC2022LearnableFilter/Run_logs\"              \n",
    "args.freq_save_path   = \"../../../ISWC2022LearnableFilter/Freq_data\"\n",
    "args.window_save_path = \"../../../ISWC2022LearnableFilter/Sliding_window\"\n",
    "args.root_path        = \"../../../datasets\"\n",
    "\n",
    "\n",
    "args.drop_transition  = False\n",
    "args.datanorm_type    = \"standardization\" # None ,\"standardization\", \"minmax\"\n",
    "\n",
    "\n",
    "args.batch_size       = 256                                                    \n",
    "args.shuffle          = True\n",
    "args.drop_last        = False\n",
    "args.train_vali_quote = 0.90                                           \n",
    "\n",
    "\n",
    "# training setting \n",
    "args.train_epochs            = 150\n",
    "\n",
    "args.learning_rate           = 0.001  \n",
    "args.learning_rate_patience  = 5\n",
    "args.learning_rate_factor    = 0.1\n",
    "\n",
    "\n",
    "args.early_stop_patience     = 15\n",
    "\n",
    "args.use_gpu                 = True if torch.cuda.is_available() else False\n",
    "args.gpu                     = 1\n",
    "args.use_multi_gpu           = False\n",
    "\n",
    "args.optimizer               = \"Adam\"\n",
    "args.criterion               = \"CrossEntropy\""
   ]
  },
  {
   "cell_type": "markdown",
   "id": "c282cbcb",
   "metadata": {},
   "source": [
    "## 数据参数\n",
    "\n"
   ]
  },
  {
   "cell_type": "code",
   "execution_count": 3,
   "id": "c6cd147b",
   "metadata": {},
   "outputs": [],
   "source": [
    "args.seed                             = 1\n",
    "\n",
    "\n",
    "args.data_name                        =  \"oppo\"\n",
    "\n",
    "args.wavelet_filtering                = True\n",
    "args.wavelet_filtering_regularization = True\n",
    "args.wavelet_filtering_finetuning     = True\n",
    "args.wavelet_filtering_finetuning_percent = 0.3\n",
    "\n",
    "args.regulatization_tradeoff          = 0.0001\n",
    "args.number_wavelet_filtering         = 10\n",
    "\n",
    "\n",
    "args.difference       = False \n",
    "args.filtering        =  False\n",
    "args.magnitude        =  False\n",
    "args.weighted_sampler = False\n",
    "\n",
    "\n",
    "\n",
    "\n",
    "args.pos_select       = None\n",
    "args.sensor_select    = None\n",
    "\n",
    "\n",
    "args.representation_type = \"time\"\n",
    "args.exp_mode            = \"LOCV\"\n",
    "\n",
    "config_file = open('../../configs/data.yaml', mode='r')\n",
    "data_config = yaml.load(config_file, Loader=yaml.FullLoader)\n",
    "config = data_config[args.data_name]\n",
    "\n",
    "args.root_path       = os.path.join(args.root_path,config[\"filename\"])\n",
    "args.sampling_freq   = config[\"sampling_freq\"]\n",
    "args.num_classes     =  config[\"num_classes\"]\n",
    "window_seconds       = config[\"window_seconds\"]\n",
    "args.windowsize      =   int(window_seconds * args.sampling_freq) \n",
    "args.input_length    =  args.windowsize\n",
    "# input information\n",
    "args.c_in            = config[\"num_channels\"]\n",
    "\n",
    "if args.wavelet_filtering :\n",
    "    \n",
    "    if args.windowsize%2==1:\n",
    "        N_ds = int(torch.log2(torch.tensor(args.windowsize-1)).floor()) - 2\n",
    "    else:\n",
    "        N_ds = int(torch.log2(torch.tensor(args.windowsize)).floor()) - 2\n",
    "\n",
    "    args.f_in            =  args.number_wavelet_filtering*N_ds+1\n",
    "else:\n",
    "    args.f_in            =  1\n",
    "\n"
   ]
  },
  {
   "cell_type": "markdown",
   "id": "4d435a4c",
   "metadata": {},
   "source": [
    "## 模型参数"
   ]
  },
  {
   "cell_type": "code",
   "execution_count": 4,
   "id": "de2f4d16",
   "metadata": {},
   "outputs": [],
   "source": [
    "args.filter_scaling_factor = 0.25\n",
    "args.model_type            = \"deepconvlstm\""
   ]
  },
  {
   "cell_type": "markdown",
   "id": "cada66dd",
   "metadata": {},
   "source": [
    "# 实验"
   ]
  },
  {
   "cell_type": "code",
   "execution_count": 5,
   "id": "2e3f2fad",
   "metadata": {
    "scrolled": true
   },
   "outputs": [
    {
     "name": "stdout",
     "output_type": "stream",
     "text": [
      "Use GPU: cuda:1\n",
      "clone the  wavefiler weight\n",
      "Wavelet Filtering Regularization\n",
      "Build the DeepConvLSTM model!\n",
      "Done!\n",
      "Parameter : 168247\n",
      "Set the seed as :  1\n"
     ]
    }
   ],
   "source": [
    "exp = Exp(args)"
   ]
  },
  {
   "cell_type": "code",
   "execution_count": null,
   "id": "09a011fc",
   "metadata": {
    "scrolled": true
   },
   "outputs": [
    {
     "name": "stdout",
     "output_type": "stream",
     "text": [
      " ----------------------- load all the data -------------------\n",
      "-----------------------Sliding file are generated -----------------------\n",
      "-----------------------Sliding file are generated -----------------------\n",
      "================ LOCV Mode ====================\n",
      "================ 4 CV ======================\n",
      "================ the 0 th CV Experiment ================ \n",
      "Leave one Out Experiment : The 1 Part as the test\n",
      "[-] Target sampling weights:  [3.63609919e-05 1.66666667e-03 1.60513644e-03 1.76991150e-03\n",
      " 1.71232877e-03 1.18343195e-03 1.36054422e-03 1.83486239e-03\n",
      " 2.02020202e-03 2.66666667e-03 3.18471338e-03 3.11526480e-03\n",
      " 3.48432056e-03 2.46913580e-03 2.53164557e-03 1.26103405e-03\n",
      " 4.58295142e-04 2.02429150e-03]\n",
      "Train data number :  38060\n",
      "The number of classes is :  18\n",
      "The input_length  is :  30\n",
      "The channel_in is :  77\n",
      "Validation data number :  4229\n",
      "Test data number :  78162\n",
      "================ Build the model ================ \n",
      "clone the  wavefiler weight\n",
      "Wavelet Filtering Regularization\n",
      "Build the DeepConvLSTM model!\n",
      "Epoch: 1 cost time: 15.83828353881836\n",
      "VALI: Epoch: 1, Steps: 149 | Train Loss: 1.3740537  Vali Loss: 1.0983742 Vali Accuracy: 0.7200284  Vali weighted F1: 0.6028283  Vali macro F1 0.0465127 \n",
      "Validation loss decreased (inf --> 1.098374).  Saving model ...\n",
      "Epoch: 2 cost time: 11.801326513290405\n",
      "VALI: Epoch: 2, Steps: 149 | Train Loss: 1.0039523  Vali Loss: 0.8622506 Vali Accuracy: 0.7578624  Vali weighted F1: 0.6705595  Vali macro F1 0.1223675 \n",
      "new best score!!!!\n",
      "Validation loss decreased (1.098374 --> 0.862251).  Saving model ...\n",
      "new best score!!!!\n",
      "Epoch: 3 cost time: 11.889461755752563\n",
      "VALI: Epoch: 3, Steps: 149 | Train Loss: 0.8384000  Vali Loss: 0.7195217 Vali Accuracy: 0.7843462  Vali weighted F1: 0.7165985  Vali macro F1 0.2088636 \n",
      "new best score!!!!\n",
      "Validation loss decreased (0.862251 --> 0.719522).  Saving model ...\n",
      "new best score!!!!\n",
      "Epoch: 4 cost time: 11.851083755493164\n",
      "VALI: Epoch: 4, Steps: 149 | Train Loss: 0.7104963  Vali Loss: 0.6259087 Vali Accuracy: 0.8148498  Vali weighted F1: 0.7845466  Vali macro F1 0.3933437 \n",
      "new best score!!!!\n",
      "Validation loss decreased (0.719522 --> 0.625909).  Saving model ...\n",
      "new best score!!!!\n",
      "Epoch: 5 cost time: 11.928229093551636\n",
      "VALI: Epoch: 5, Steps: 149 | Train Loss: 0.6181865  Vali Loss: 0.5566690 Vali Accuracy: 0.8332939  Vali weighted F1: 0.8075234  Vali macro F1 0.4554145 \n",
      "new best score!!!!\n",
      "Validation loss decreased (0.625909 --> 0.556669).  Saving model ...\n",
      "new best score!!!!\n",
      "Epoch: 6 cost time: 11.777706861495972\n",
      "VALI: Epoch: 6, Steps: 149 | Train Loss: 0.5564404  Vali Loss: 0.4989618 Vali Accuracy: 0.8493734  Vali weighted F1: 0.8336602  Vali macro F1 0.5328123 \n",
      "new best score!!!!\n",
      "Validation loss decreased (0.556669 --> 0.498962).  Saving model ...\n",
      "new best score!!!!\n",
      "Epoch: 7 cost time: 11.677573204040527\n",
      "VALI: Epoch: 7, Steps: 149 | Train Loss: 0.5103876  Vali Loss: 0.4568435 Vali Accuracy: 0.8609600  Vali weighted F1: 0.8509724  Vali macro F1 0.5653548 \n",
      "new best score!!!!\n",
      "Validation loss decreased (0.498962 --> 0.456843).  Saving model ...\n",
      "new best score!!!!\n",
      "Epoch: 8 cost time: 11.749747514724731\n",
      "VALI: Epoch: 8, Steps: 149 | Train Loss: 0.4730531  Vali Loss: 0.4278291 Vali Accuracy: 0.8689998  Vali weighted F1: 0.8616369  Vali macro F1 0.5924562 \n",
      "new best score!!!!\n",
      "Validation loss decreased (0.456843 --> 0.427829).  Saving model ...\n",
      "new best score!!!!\n",
      "Epoch: 9 cost time: 11.632415056228638\n",
      "VALI: Epoch: 9, Steps: 149 | Train Loss: 0.4438020  Vali Loss: 0.4034328 Vali Accuracy: 0.8756207  Vali weighted F1: 0.8686564  Vali macro F1 0.6163478 \n",
      "new best score!!!!\n",
      "Validation loss decreased (0.427829 --> 0.403433).  Saving model ...\n",
      "new best score!!!!\n",
      "Epoch: 10 cost time: 11.589728355407715\n",
      "VALI: Epoch: 10, Steps: 149 | Train Loss: 0.4193894  Vali Loss: 0.3817007 Vali Accuracy: 0.8775124  Vali weighted F1: 0.8720978  Vali macro F1 0.6319250 \n",
      "new best score!!!!\n",
      "Validation loss decreased (0.403433 --> 0.381701).  Saving model ...\n",
      "new best score!!!!\n",
      "Epoch: 11 cost time: 11.69356894493103\n",
      "VALI: Epoch: 11, Steps: 149 | Train Loss: 0.4006638  Vali Loss: 0.3598623 Vali Accuracy: 0.8855521  Vali weighted F1: 0.8798904  Vali macro F1 0.6568164 \n",
      "new best score!!!!\n",
      "Validation loss decreased (0.381701 --> 0.359862).  Saving model ...\n",
      "new best score!!!!\n"
     ]
    }
   ],
   "source": [
    "exp.train()"
   ]
  },
  {
   "cell_type": "code",
   "execution_count": null,
   "id": "6280dba8",
   "metadata": {},
   "outputs": [],
   "source": []
  },
  {
   "cell_type": "code",
   "execution_count": null,
   "id": "db8bc4bd",
   "metadata": {},
   "outputs": [],
   "source": []
  }
 ],
 "metadata": {
  "kernelspec": {
   "display_name": "SDIL",
   "language": "python",
   "name": "sdil"
  },
  "language_info": {
   "codemirror_mode": {
    "name": "ipython",
    "version": 3
   },
   "file_extension": ".py",
   "mimetype": "text/x-python",
   "name": "python",
   "nbconvert_exporter": "python",
   "pygments_lexer": "ipython3",
   "version": "3.8.13"
  },
  "toc": {
   "base_numbering": 1,
   "nav_menu": {},
   "number_sections": true,
   "sideBar": true,
   "skip_h1_title": false,
   "title_cell": "Table of Contents",
   "title_sidebar": "Contents",
   "toc_cell": false,
   "toc_position": {},
   "toc_section_display": true,
   "toc_window_display": true
  }
 },
 "nbformat": 4,
 "nbformat_minor": 5
}
