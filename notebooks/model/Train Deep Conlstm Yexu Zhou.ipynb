{
 "cells": [
  {
   "cell_type": "code",
   "execution_count": 1,
   "id": "894e2c21",
   "metadata": {},
   "outputs": [],
   "source": [
    "import warnings\n",
    "warnings.filterwarnings(\"ignore\")\n",
    "\n",
    "import sys\n",
    "sys.path.append(\"../../\")\n",
    "\n",
    "from experiment import Exp\n",
    "\n",
    "from dataloaders import data_set,data_dict\n",
    "import torch\n",
    "import yaml\n",
    "import os"
   ]
  },
  {
   "cell_type": "markdown",
   "id": "bcc56bc7",
   "metadata": {},
   "source": [
    "# 参数设置"
   ]
  },
  {
   "cell_type": "markdown",
   "id": "dcc5bcbc",
   "metadata": {},
   "source": [
    "# 训练参数 \n",
    "除了路径 其他不要变"
   ]
  },
  {
   "cell_type": "code",
   "execution_count": 2,
   "id": "86004ce0",
   "metadata": {},
   "outputs": [],
   "source": [
    "class dotdict(dict):\n",
    "    \"\"\"dot.notation access to dictionary attributes\"\"\"\n",
    "    __getattr__ = dict.get\n",
    "    __setattr__ = dict.__setitem__\n",
    "    __delattr__ = dict.__delitem__\n",
    "\n",
    "args = dotdict()   \n",
    "# TODO change the path as relative path\n",
    "args.to_save_path     = r\"E:\\TECO_Works\\Conference\\ISWC2022\\Run_logs\"              \n",
    "args.freq_save_path   = r\"E:\\TECO_Works\\Conference\\ISWC2022\\Freq_data\"\n",
    "args.window_save_path = r\"E:\\TECO_Works\\Conference\\ISWC2022\\Sliding_window\"\n",
    "args.root_path        = r\"E:\\datasets\"\n",
    "\n",
    "\n",
    "args.drop_transition  = False\n",
    "args.datanorm_type    = \"standardization\" # None ,\"standardization\", \"minmax\"\n",
    "\n",
    "\n",
    "args.batch_size       = 128                                                     \n",
    "args.shuffle          = True\n",
    "args.drop_last        = False\n",
    "args.train_vali_quote = 0.90                                           \n",
    "\n",
    "\n",
    "# training setting \n",
    "args.train_epochs            = 1\n",
    "\n",
    "args.learning_rate           = 0.001  \n",
    "args.learning_rate_patience  = 5\n",
    "args.learning_rate_factor    = 0.1\n",
    "\n",
    "\n",
    "args.early_stop_patience     = 15\n",
    "\n",
    "args.use_gpu                 = True if torch.cuda.is_available() else False\n",
    "args.gpu                     = 0\n",
    "args.use_multi_gpu           = False\n",
    "\n",
    "args.optimizer               = \"Adam\"\n",
    "args.criterion               = \"CrossEntropy\""
   ]
  },
  {
   "cell_type": "markdown",
   "id": "c282cbcb",
   "metadata": {},
   "source": [
    "## 数据参数\n",
    "\n"
   ]
  },
  {
   "cell_type": "code",
   "execution_count": 3,
   "id": "c6cd147b",
   "metadata": {},
   "outputs": [],
   "source": [
    "args.seed                             = 1\n",
    "\n",
    "\n",
    "args.data_name                        =  \"pamap2\"\n",
    "\n",
    "args.wavelet_filtering                = False\n",
    "args.wavelet_filtering_regularization = False\n",
    "args.wavelet_filtering_finetuning     = False\n",
    "args.wavelet_filtering_finetuning_percent = 0.2\n",
    "\n",
    "args.regulatization_tradeoff          = 0.0001\n",
    "args.number_wavelet_filtering         = 10\n",
    "\n",
    "\n",
    "args.difference       = False \n",
    "args.filtering        =  False\n",
    "args.magnitude        =  False\n",
    "args.weighted_sampler = False\n",
    "\n",
    "\n",
    "\n",
    "\n",
    "args.pos_select       = None\n",
    "args.sensor_select    = None\n",
    "\n",
    "\n",
    "args.representation_type = \"time\"\n",
    "args.exp_mode            = \"LOCV\"\n",
    "\n",
    "config_file = open('../../configs/data.yaml', mode='r')\n",
    "data_config = yaml.load(config_file, Loader=yaml.FullLoader)\n",
    "config = data_config[args.data_name]\n",
    "\n",
    "args.root_path       = os.path.join(args.root_path,config[\"filename\"])\n",
    "args.sampling_freq   = config[\"sampling_freq\"]\n",
    "args.num_classes     =  config[\"num_classes\"]\n",
    "window_seconds       = config[\"window_seconds\"]\n",
    "args.windowsize      =   int(window_seconds * args.sampling_freq) \n",
    "args.input_length    =  args.windowsize\n",
    "# input information\n",
    "args.c_in            = config[\"num_channels\"]\n",
    "\n",
    "if args.wavelet_filtering :\n",
    "    \n",
    "    if args.windowsize%2==1:\n",
    "        N_ds = int(torch.log2(torch.tensor(args.windowsize-1)).floor()) - 2\n",
    "    else:\n",
    "        N_ds = int(torch.log2(torch.tensor(args.windowsize)).floor()) - 2\n",
    "\n",
    "    args.f_in            =  args.number_wavelet_filtering*N_ds+1\n",
    "else:\n",
    "    args.f_in            =  1\n",
    "\n"
   ]
  },
  {
   "cell_type": "markdown",
   "id": "4d435a4c",
   "metadata": {},
   "source": [
    "## 模型参数"
   ]
  },
  {
   "cell_type": "code",
   "execution_count": 4,
   "id": "de2f4d16",
   "metadata": {},
   "outputs": [],
   "source": [
    "args.filter_scaling_factor = 0.5\n",
    "args.model_type              = \"attend\" #\"deepconvlstm\""
   ]
  },
  {
   "cell_type": "markdown",
   "id": "cada66dd",
   "metadata": {},
   "source": [
    "# 实验"
   ]
  },
  {
   "cell_type": "code",
   "execution_count": 5,
   "id": "2e3f2fad",
   "metadata": {
    "scrolled": false
   },
   "outputs": [
    {
     "name": "stdout",
     "output_type": "stream",
     "text": [
      "Use GPU: cuda:0\n",
      "Build the AttendDiscriminate model!\n",
      "Done!\n",
      "Parameter : 167790\n",
      "Set the seed as :  1\n"
     ]
    }
   ],
   "source": [
    "exp = Exp(args)"
   ]
  },
  {
   "cell_type": "code",
   "execution_count": null,
   "id": "09a011fc",
   "metadata": {
    "scrolled": true
   },
   "outputs": [
    {
     "name": "stdout",
     "output_type": "stream",
     "text": [
      " ----------------------- load all the data -------------------\n",
      "-----------------------Sliding file are generated -----------------------\n",
      "-----------------------Sliding file are generated -----------------------\n",
      "================ LOCV Mode ====================\n",
      "================ 9 CV ======================\n",
      "================ the 0 th CV Experiment ================ \n",
      "Leave one Out Experiment : The 1 Part as the test\n",
      "[-] Target sampling weights:  [0.00166667 0.00174825 0.00165837 0.00131062 0.00358423 0.00201207\n",
      " 0.00168634 0.00265957 0.003125   0.00181488 0.00131579 0.00793651]\n",
      "Train data number :  6040\n",
      "The number of classes is :  12\n",
      "The input_length  is :  168\n",
      "The channel_in is :  18\n",
      "Validation data number :  672\n",
      "Test data number :  5207\n",
      "================ Build the model ================ \n",
      "Build the AttendDiscriminate model!\n",
      "Epoch: 1 cost time: 43.57611536979675\n",
      "VALI: Epoch: 1, Steps: 48 | Train Loss: 1.7590082  Vali Loss: 0.9132300 Vali Accuracy: 0.8214286  Vali weighted F1: 0.7853215  Vali macro F1 0.6841419 \n",
      "Validation loss decreased (inf --> 0.913230).  Saving model ...\n",
      "Loading the best validation model!\n",
      "Final Test Performance : Test Accuracy: 0.6537354  Test weighted F1: 0.5999608  Test macro F1 0.5476105 \n",
      "================ the 1 th CV Experiment ================ \n",
      "Leave one Out Experiment : The 2 Part as the test\n",
      "[-] Target sampling weights:  [0.00162338 0.0017452  0.00169779 0.00135685 0.00310559 0.00204918\n",
      " 0.00178571 0.00274725 0.003125   0.0018315  0.00133333 0.00775194]\n",
      "Train data number :  5994\n",
      "The number of classes is :  12\n",
      "The input_length  is :  168\n",
      "The channel_in is :  18\n",
      "Validation data number :  666\n",
      "Test data number :  5487\n",
      "================ Build the model ================ \n",
      "Build the AttendDiscriminate model!\n",
      "Epoch: 1 cost time: 41.9276008605957\n",
      "VALI: Epoch: 1, Steps: 47 | Train Loss: 1.7467185  Vali Loss: 0.9359528 Vali Accuracy: 0.7927928  Vali weighted F1: 0.7710860  Vali macro F1 0.6946842 \n",
      "Validation loss decreased (inf --> 0.935953).  Saving model ...\n",
      "Loading the best validation model!\n",
      "Final Test Performance : Test Accuracy: 0.6808821  Test weighted F1: 0.6149649  Test macro F1 0.5190489 \n",
      "================ the 2 th CV Experiment ================ \n",
      "Leave one Out Experiment : The 3 Part as the test\n",
      "[-] Target sampling weights:  [0.00166113 0.0018018  0.00164204 0.00132802 0.00297619 0.00167504\n",
      " 0.00149477 0.0025974  0.00310559 0.00185529 0.00131406 0.00552486]\n",
      "Train data number :  6309\n",
      "The number of classes is :  12\n",
      "The input_length  is :  168\n",
      "The channel_in is :  18\n",
      "Validation data number :  702\n",
      "Test data number :  3631\n",
      "================ Build the model ================ \n",
      "Build the AttendDiscriminate model!\n",
      "Epoch: 1 cost time: 44.17050886154175\n",
      "VALI: Epoch: 1, Steps: 50 | Train Loss: 1.6896077  Vali Loss: 0.9349489 Vali Accuracy: 0.8119658  Vali weighted F1: 0.8036391  Vali macro F1 0.7813770 \n",
      "Validation loss decreased (inf --> 0.934949).  Saving model ...\n",
      "Loading the best validation model!\n",
      "Final Test Performance : Test Accuracy: 0.7471771  Test weighted F1: 0.7318919  Test macro F1 0.4865601 \n",
      "================ the 3 th CV Experiment ================ \n",
      "Leave one Out Experiment : The 4 Part as the test\n",
      "[-] Target sampling weights:  [0.00165289 0.00179211 0.0016835  0.00134409 0.00288184 0.00199601\n",
      " 0.00172712 0.002849   0.00307692 0.00180505 0.00128866 0.00574713]\n",
      "Train data number :  6108\n",
      "The number of classes is :  12\n",
      "The input_length  is :  168\n",
      "The channel_in is :  18\n",
      "Validation data number :  679\n",
      "Test data number :  4822\n",
      "================ Build the model ================ \n",
      "Build the AttendDiscriminate model!\n",
      "Epoch: 1 cost time: 42.7520546913147\n",
      "VALI: Epoch: 1, Steps: 48 | Train Loss: 1.7410068  Vali Loss: 0.9492160 Vali Accuracy: 0.7938144  Vali weighted F1: 0.7672140  Vali macro F1 0.7444034 \n",
      "Validation loss decreased (inf --> 0.949216).  Saving model ...\n",
      "Loading the best validation model!\n",
      "Final Test Performance : Test Accuracy: 0.6306512  Test weighted F1: 0.5778445  Test macro F1 0.5044356 \n",
      "================ the 4 th CV Experiment ================ \n",
      "Leave one Out Experiment : The 5 Part as the test\n",
      "[-] Target sampling weights:  [0.00165837 0.00176991 0.00167504 0.00138504 0.004      0.00201613\n",
      " 0.00168634 0.00273973 0.00299401 0.0018018  0.0013587  0.00684932]\n",
      "Train data number :  5962\n",
      "The number of classes is :  12\n",
      "The input_length  is :  168\n",
      "The channel_in is :  18\n",
      "Validation data number :  663\n",
      "Test data number :  5671\n",
      "================ Build the model ================ \n",
      "Build the AttendDiscriminate model!\n"
     ]
    }
   ],
   "source": [
    "exp.train()"
   ]
  },
  {
   "cell_type": "code",
   "execution_count": null,
   "id": "4a65a959",
   "metadata": {},
   "outputs": [],
   "source": []
  },
  {
   "cell_type": "code",
   "execution_count": null,
   "id": "878284fa",
   "metadata": {},
   "outputs": [],
   "source": []
  }
 ],
 "metadata": {
  "kernelspec": {
   "display_name": "Python 3",
   "language": "python",
   "name": "python3"
  },
  "language_info": {
   "codemirror_mode": {
    "name": "ipython",
    "version": 3
   },
   "file_extension": ".py",
   "mimetype": "text/x-python",
   "name": "python",
   "nbconvert_exporter": "python",
   "pygments_lexer": "ipython3",
   "version": "3.8.8"
  },
  "toc": {
   "base_numbering": 1,
   "nav_menu": {},
   "number_sections": true,
   "sideBar": true,
   "skip_h1_title": false,
   "title_cell": "Table of Contents",
   "title_sidebar": "Contents",
   "toc_cell": false,
   "toc_position": {},
   "toc_section_display": true,
   "toc_window_display": true
  }
 },
 "nbformat": 4,
 "nbformat_minor": 5
}
