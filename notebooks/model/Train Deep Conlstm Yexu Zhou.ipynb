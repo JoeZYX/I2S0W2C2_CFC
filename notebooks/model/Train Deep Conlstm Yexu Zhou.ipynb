{
 "cells": [
  {
   "cell_type": "code",
   "execution_count": 1,
   "id": "894e2c21",
   "metadata": {},
   "outputs": [],
   "source": [
    "import warnings\n",
    "warnings.filterwarnings(\"ignore\")\n",
    "\n",
    "import sys\n",
    "sys.path.append(\"../../\")\n",
    "\n",
    "from experiment import Exp\n",
    "\n",
    "from dataloaders import data_set,data_dict\n",
    "import torch\n",
    "import yaml\n",
    "import os"
   ]
  },
  {
   "cell_type": "markdown",
   "id": "bcc56bc7",
   "metadata": {},
   "source": [
    "# 参数设置"
   ]
  },
  {
   "cell_type": "markdown",
   "id": "dcc5bcbc",
   "metadata": {},
   "source": [
    "# 训练参数 \n",
    "除了路径 其他不要变"
   ]
  },
  {
   "cell_type": "code",
   "execution_count": 2,
   "id": "86004ce0",
   "metadata": {},
   "outputs": [],
   "source": [
    "class dotdict(dict):\n",
    "    \"\"\"dot.notation access to dictionary attributes\"\"\"\n",
    "    __getattr__ = dict.get\n",
    "    __setattr__ = dict.__setitem__\n",
    "    __delattr__ = dict.__delitem__\n",
    "\n",
    "args = dotdict()   \n",
    "# TODO change the path as relative path\n",
    "args.to_save_path     = r\"E:\\TECO_Works\\Conference\\ISWC2022\\Run_logs\"              \n",
    "args.freq_save_path   = r\"E:\\TECO_Works\\Conference\\ISWC2022\\Freq_data\"\n",
    "args.window_save_path = r\"E:\\TECO_Works\\Conference\\ISWC2022\\Sliding_window\"\n",
    "args.root_path        = r\"E:\\datasets\"\n",
    "\n",
    "\n",
    "args.drop_transition  = False\n",
    "args.datanorm_type    = \"standardization\" # None ,\"standardization\", \"minmax\"\n",
    "\n",
    "\n",
    "args.batch_size       = 256                                                     \n",
    "args.shuffle          = True\n",
    "args.drop_last        = False\n",
    "args.train_vali_quote = 0.90                                           \n",
    "\n",
    "\n",
    "# training setting \n",
    "args.train_epochs            = 3\n",
    "\n",
    "args.learning_rate           = 0.001  \n",
    "args.learning_rate_patience  = 5\n",
    "args.learning_rate_factor    = 0.1\n",
    "\n",
    "\n",
    "args.early_stop_patience     = 15\n",
    "\n",
    "args.use_gpu                 = True if torch.cuda.is_available() else False\n",
    "args.gpu                     = 0\n",
    "args.use_multi_gpu           = False\n",
    "\n",
    "args.optimizer               = \"Adam\"\n",
    "args.criterion               = \"CrossEntropy\""
   ]
  },
  {
   "cell_type": "markdown",
   "id": "c282cbcb",
   "metadata": {},
   "source": [
    "## 数据参数\n",
    "\n"
   ]
  },
  {
   "cell_type": "code",
   "execution_count": 3,
   "id": "c6cd147b",
   "metadata": {},
   "outputs": [],
   "source": [
    "args.seed                             = 1\n",
    "\n",
    "\n",
    "args.data_name                        =  \"hapt\"\n",
    "\n",
    "args.wavelet_filtering                = True\n",
    "args.wavelet_filtering_regularization = True\n",
    "args.wavelet_filtering_finetuning     = True\n",
    "args.wavelet_filtering_finetuning_percent = 0.5\n",
    "args.wavelet_filtering_learnable      = False\n",
    "args.wavelet_filtering_layernorm      = False\n",
    "\n",
    "args.regulatization_tradeoff          = 0\n",
    "args.number_wavelet_filtering         = 6\n",
    "\n",
    "\n",
    "args.difference       = True \n",
    "args.filtering        =  False\n",
    "args.magnitude        =  False\n",
    "args.weighted_sampler = False\n",
    "\n",
    "\n",
    "\n",
    "\n",
    "args.pos_select       = None\n",
    "args.sensor_select    = None\n",
    "\n",
    "\n",
    "args.representation_type = \"time\"\n",
    "args.exp_mode            = \"LOCV\"\n",
    "if args.data_name      ==  \"skodar\":\n",
    "    args.exp_mode            = \"SOCV\"\n",
    "config_file = open('../../configs/data.yaml', mode='r')\n",
    "data_config = yaml.load(config_file, Loader=yaml.FullLoader)\n",
    "config = data_config[args.data_name]\n",
    "\n",
    "args.root_path       = os.path.join(args.root_path,config[\"filename\"])\n",
    "args.sampling_freq   = config[\"sampling_freq\"]\n",
    "args.num_classes     =  config[\"num_classes\"]\n",
    "window_seconds       = config[\"window_seconds\"]\n",
    "args.windowsize      =   int(window_seconds * args.sampling_freq) \n",
    "args.input_length    =  args.windowsize\n",
    "# input information\n",
    "args.c_in            = config[\"num_channels\"]\n",
    "\n",
    "\n",
    "if args.difference:\n",
    "    args.c_in = args.c_in*2\n",
    "\n",
    "if args.wavelet_filtering :\n",
    "    \n",
    "    if args.windowsize%2==1:\n",
    "        N_ds = int(torch.log2(torch.tensor(args.windowsize-1)).floor()) - 2\n",
    "    else:\n",
    "        N_ds = int(torch.log2(torch.tensor(args.windowsize)).floor()) - 2\n",
    "\n",
    "    args.f_in            =  args.number_wavelet_filtering*N_ds+1\n",
    "else:\n",
    "    args.f_in            =  1\n",
    "\n"
   ]
  },
  {
   "cell_type": "markdown",
   "id": "4d435a4c",
   "metadata": {},
   "source": [
    "## 模型参数"
   ]
  },
  {
   "cell_type": "code",
   "execution_count": 4,
   "id": "de2f4d16",
   "metadata": {},
   "outputs": [],
   "source": [
    "args.filter_scaling_factor = 0.5\n",
    "args.model_type              = \"deepconvlstm\"#\"deepconvlstm\"#\"sahar\" #\"deepconvlstm\""
   ]
  },
  {
   "cell_type": "code",
   "execution_count": 5,
   "id": "dbca73ea",
   "metadata": {},
   "outputs": [],
   "source": [
    "args.model_type              = \"tinyhar\"#\"deepconvlstm\"#\"sahar\" #\"deepconvlstm\"\n",
    "\n",
    "args.cross_channel_interaction_type = \"attn\"\n",
    "args.cross_channel_aggregation_type = \"FC\"\n",
    "args.temporal_info_interaction_type = \"gru\"\n",
    "args.temporal_info_aggregation_type = \"FC\""
   ]
  },
  {
   "cell_type": "code",
   "execution_count": 6,
   "id": "bc1595a6",
   "metadata": {},
   "outputs": [],
   "source": [
    "# cross_channel_interaction_type = \"attn\",    # attn  transformer  identity\n",
    "# cross_channel_aggregation_type = \"filter\",  # filter  naive  FC\n",
    "# temporal_info_interaction_type = \"gru\",     # gru  lstm  attn  transformer  identity\n",
    "# temporal_info_aggregation_type = \"FC\",      # naive  filter  FC "
   ]
  },
  {
   "cell_type": "markdown",
   "id": "cada66dd",
   "metadata": {},
   "source": [
    "# 实验"
   ]
  },
  {
   "cell_type": "code",
   "execution_count": 5,
   "id": "a74b358c",
   "metadata": {},
   "outputs": [],
   "source": [
    "# import torch\n",
    "# import random\n",
    "# import numpy as np\n",
    "# torch.manual_seed(args.seed)\n",
    "# random.seed(args.seed)\n",
    "# np.random.seed(args.seed)"
   ]
  },
  {
   "cell_type": "code",
   "execution_count": 6,
   "id": "2e3f2fad",
   "metadata": {},
   "outputs": [
    {
     "name": "stdout",
     "output_type": "stream",
     "text": [
      "Use GPU: cuda:0\n",
      "clone the  wavefiler weight\n",
      "Wavelet Filtering Regularization\n",
      "Build the DeepConvLSTM model!\n",
      "Done!\n",
      "Parameter : 136459\n",
      "Set the seed as :  1\n"
     ]
    }
   ],
   "source": [
    "# 如果我们设置为 \n",
    "args.wavelet_filtering_learnable      = False\n",
    "exp = Exp(args)"
   ]
  },
  {
   "cell_type": "code",
   "execution_count": 7,
   "id": "2185d2f5",
   "metadata": {},
   "outputs": [],
   "source": [
    "# 如果我们设置为 \n",
    "# args.wavelet_filtering_learnable      = True\n",
    "# exp = Exp(args)"
   ]
  },
  {
   "cell_type": "code",
   "execution_count": 8,
   "id": "f8bc85fb",
   "metadata": {
    "scrolled": false
   },
   "outputs": [
    {
     "name": "stdout",
     "output_type": "stream",
     "text": [
      " ----------------------- load all the data -------------------\n",
      "Channel Augmentation : Differencing\n",
      "-----------------------Sliding file are generated -----------------------\n",
      "-----------------------Sliding file are generated -----------------------\n",
      "================ LOCV Mode ====================\n",
      "================ 30 CV ======================\n",
      "================ the 0 th CV Experiment ================ \n",
      "Leave one Out Experiment : The 1 Part as the test\n",
      "[-] Target sampling weights:  [0.0006689  0.00068213 0.00073746 0.00061275 0.00056243 0.00056754\n",
      " 0.00746269 0.01041667 0.00641026 0.00719424 0.00534759 0.00724638]\n",
      "Train data number :  10339\n",
      "The number of classes is :  12\n",
      "The input_length  is :  128\n",
      "The channel_in is :  12\n",
      "Validation data number :  1149\n",
      "Test data number :  6632\n",
      "================ Build the model ================ \n",
      "clone the  wavefiler weight\n",
      "Wavelet Filtering Regularization\n",
      "Build the DeepConvLSTM model!\n",
      "Epoch: 1 cost time: 10.316097736358643\n",
      "VALI: Epoch: 1, Steps: 41 | Train Loss: 1.9059467  Vali Loss: 1.2044493 Vali Accuracy: 0.6083551  Vali weighted F1: 0.5376862  Vali macro F1 0.2864468 \n",
      "Validation loss decreased (inf --> 1.204449).  Saving model ...\n",
      "Epoch: 2 cost time: 9.177786588668823\n",
      "VALI: Epoch: 2, Steps: 41 | Train Loss: 0.9864175  Vali Loss: 0.7407324 Vali Accuracy: 0.7476066  Vali weighted F1: 0.7180942  Vali macro F1 0.4402250 \n",
      "new best score!!!!\n",
      "Validation loss decreased (1.204449 --> 0.740732).  Saving model ...\n",
      "new best score!!!!\n",
      "Epoch: 3 cost time: 9.158235311508179\n",
      "VALI: Epoch: 3, Steps: 41 | Train Loss: 0.6555552  Vali Loss: 0.5543225 Vali Accuracy: 0.8120104  Vali weighted F1: 0.8029732  Vali macro F1 0.5112472 \n",
      "new best score!!!!\n",
      "Validation loss decreased (0.740732 --> 0.554323).  Saving model ...\n",
      "new best score!!!!\n",
      "Loading the best validation model!\n",
      "Final Test Performance : Test Accuracy: 0.8517793  Test weighted F1: 0.8396020  Test macro F1 0.5884007 \n",
      "clone the  wavefiler weight\n",
      "Wavelet Filtering Regularization\n",
      "Build the DeepConvLSTM model!\n",
      "Wavelet Filtering Regularization\n",
      "Build the DeepConvLSTM model!\n",
      "------------Fine Tuning  :  17   will be pruned   -----------------------------------------\n",
      "old model Parameter : 136459\n",
      "pruned model Parameter : 135514\n",
      "----------------------------------------------------------------------------------------\n",
      "Fine Tuning Epoch: 1 cost time: 7.593906402587891\n",
      "Fine Tuning VALI: Epoch: 1, Steps: 41 | Train Loss: 0.6080507  Vali Loss: 0.5425703 Vali Accuracy: 0.8137511  Vali weighted F1: 0.8067625  Vali macro F1 0.5391680 \n",
      "Validation loss decreased (inf --> 0.542570).  Saving model ...\n",
      "Fine Tuning Epoch: 2 cost time: 7.517704963684082\n",
      "Fine Tuning VALI: Epoch: 2, Steps: 41 | Train Loss: 0.5576683  Vali Loss: 0.5207637 Vali Accuracy: 0.8181027  Vali weighted F1: 0.8136159  Vali macro F1 0.5602683 \n",
      "new best score!!!!\n",
      "Validation loss decreased (0.542570 --> 0.520764).  Saving model ...\n",
      "new best score!!!!\n",
      "Fine Tuning Epoch: 3 cost time: 7.520707607269287\n",
      "Fine Tuning VALI: Epoch: 3, Steps: 41 | Train Loss: 0.5375911  Vali Loss: 0.5025638 Vali Accuracy: 0.8302872  Vali weighted F1: 0.8242719  Vali macro F1 0.5631074 \n",
      "new best score!!!!\n",
      "Validation loss decreased (0.520764 --> 0.502564).  Saving model ...\n",
      "new best score!!!!\n",
      "Loading the best finetuned validation model!\n",
      "Fine Tuning Final Test Performance : Test Accuracy: 0.8463510  Test weighted F1: 0.8369010  Test macro F1 0.6259717 \n",
      "================ the 1 th CV Experiment ================ \n",
      "Leave one Out Experiment : The 2 Part as the test\n",
      "[-] Target sampling weights:  [0.00064893 0.00067295 0.00073584 0.00062073 0.00055525 0.00057013\n",
      " 0.00775194 0.00980392 0.00625    0.00735294 0.00574713 0.00714286]\n",
      "Train data number :  10393\n",
      "The number of classes is :  12\n",
      "The input_length  is :  128\n",
      "The channel_in is :  12\n",
      "Validation data number :  1155\n",
      "Test data number :  6311\n",
      "================ Build the model ================ \n",
      "clone the  wavefiler weight\n",
      "Wavelet Filtering Regularization\n",
      "Build the DeepConvLSTM model!\n",
      "Epoch: 1 cost time: 9.281744718551636\n",
      "VALI: Epoch: 1, Steps: 41 | Train Loss: 1.9105141  Vali Loss: 1.2165409 Vali Accuracy: 0.5558442  Vali weighted F1: 0.4411019  Vali macro F1 0.2385922 \n",
      "Validation loss decreased (inf --> 1.216541).  Saving model ...\n",
      "Epoch: 2 cost time: 9.203076124191284\n",
      "VALI: Epoch: 2, Steps: 41 | Train Loss: 0.9459348  Vali Loss: 0.6745661 Vali Accuracy: 0.7809524  Vali weighted F1: 0.7568470  Vali macro F1 0.4295691 \n",
      "new best score!!!!\n",
      "Validation loss decreased (1.216541 --> 0.674566).  Saving model ...\n",
      "new best score!!!!\n",
      "Epoch: 3 cost time: 9.271111488342285\n",
      "VALI: Epoch: 3, Steps: 41 | Train Loss: 0.5964949  Vali Loss: 0.4799623 Vali Accuracy: 0.8458874  Vali weighted F1: 0.8401160  Vali macro F1 0.5671697 \n",
      "new best score!!!!\n",
      "Validation loss decreased (0.674566 --> 0.479962).  Saving model ...\n",
      "new best score!!!!\n",
      "Loading the best validation model!\n",
      "Final Test Performance : Test Accuracy: 0.7540802  Test weighted F1: 0.7401325  Test macro F1 0.5277896 \n",
      "clone the  wavefiler weight\n",
      "Wavelet Filtering Regularization\n",
      "Build the DeepConvLSTM model!\n",
      "Wavelet Filtering Regularization\n",
      "Build the DeepConvLSTM model!\n",
      "------------Fine Tuning  :  17   will be pruned   -----------------------------------------\n",
      "old model Parameter : 136459\n",
      "pruned model Parameter : 135514\n",
      "----------------------------------------------------------------------------------------\n",
      "Fine Tuning Epoch: 1 cost time: 7.632722616195679\n",
      "Fine Tuning VALI: Epoch: 1, Steps: 41 | Train Loss: 0.5232611  Vali Loss: 0.4572576 Vali Accuracy: 0.8476190  Vali weighted F1: 0.8431624  Vali macro F1 0.5584922 \n",
      "Validation loss decreased (inf --> 0.457258).  Saving model ...\n",
      "Fine Tuning Epoch: 2 cost time: 7.490681886672974\n",
      "Fine Tuning VALI: Epoch: 2, Steps: 41 | Train Loss: 0.4809301  Vali Loss: 0.4394116 Vali Accuracy: 0.8580087  Vali weighted F1: 0.8552303  Vali macro F1 0.5817771 \n",
      "new best score!!!!\n",
      "Validation loss decreased (0.457258 --> 0.439412).  Saving model ...\n",
      "new best score!!!!\n",
      "Fine Tuning Epoch: 3 cost time: 7.507933855056763\n",
      "Fine Tuning VALI: Epoch: 3, Steps: 41 | Train Loss: 0.4631676  Vali Loss: 0.4256795 Vali Accuracy: 0.8649351  Vali weighted F1: 0.8629186  Vali macro F1 0.6113979 \n",
      "new best score!!!!\n",
      "Validation loss decreased (0.439412 --> 0.425680).  Saving model ...\n",
      "new best score!!!!\n",
      "Loading the best finetuned validation model!\n",
      "Fine Tuning Final Test Performance : Test Accuracy: 0.7444145  Test weighted F1: 0.7287079  Test macro F1 0.5710365 \n",
      "================ the 2 th CV Experiment ================ \n",
      "Leave one Out Experiment : The 3 Part as the test\n",
      "[-] Target sampling weights:  [0.00063776 0.00066934 0.00072727 0.00061614 0.00056148 0.00056561\n",
      " 0.00714286 0.00961538 0.00649351 0.00719424 0.00558659 0.00714286]\n",
      "Train data number :  10465\n",
      "The number of classes is :  12\n",
      "The input_length  is :  128\n",
      "The channel_in is :  12\n",
      "Validation data number :  1163\n",
      "Test data number :  5897\n",
      "================ Build the model ================ \n",
      "clone the  wavefiler weight\n",
      "Wavelet Filtering Regularization\n",
      "Build the DeepConvLSTM model!\n",
      "Epoch: 1 cost time: 9.264323472976685\n",
      "VALI: Epoch: 1, Steps: 41 | Train Loss: 1.9219755  Vali Loss: 1.2243085 Vali Accuracy: 0.5864144  Vali weighted F1: 0.4891471  Vali macro F1 0.2603922 \n",
      "Validation loss decreased (inf --> 1.224308).  Saving model ...\n",
      "Epoch: 2 cost time: 9.290202617645264\n",
      "VALI: Epoch: 2, Steps: 41 | Train Loss: 0.9530280  Vali Loss: 0.6904012 Vali Accuracy: 0.7927773  Vali weighted F1: 0.7673300  Vali macro F1 0.4472737 \n",
      "new best score!!!!\n",
      "Validation loss decreased (1.224308 --> 0.690401).  Saving model ...\n",
      "new best score!!!!\n",
      "Epoch: 3 cost time: 9.516350030899048\n",
      "VALI: Epoch: 3, Steps: 41 | Train Loss: 0.6053533  Vali Loss: 0.4983057 Vali Accuracy: 0.8589854  Vali weighted F1: 0.8528743  Vali macro F1 0.6016947 \n",
      "new best score!!!!\n",
      "Validation loss decreased (0.690401 --> 0.498306).  Saving model ...\n",
      "new best score!!!!\n",
      "Loading the best validation model!\n",
      "Final Test Performance : Test Accuracy: 0.7853146  Test weighted F1: 0.7757874  Test macro F1 0.5748469 \n",
      "clone the  wavefiler weight\n",
      "Wavelet Filtering Regularization\n",
      "Build the DeepConvLSTM model!\n",
      "Wavelet Filtering Regularization\n",
      "Build the DeepConvLSTM model!\n",
      "------------Fine Tuning  :  17   will be pruned   -----------------------------------------\n",
      "old model Parameter : 136459\n",
      "pruned model Parameter : 135514\n",
      "----------------------------------------------------------------------------------------\n"
     ]
    },
    {
     "name": "stdout",
     "output_type": "stream",
     "text": [
      "Fine Tuning Epoch: 1 cost time: 7.590355157852173\n",
      "Fine Tuning VALI: Epoch: 1, Steps: 41 | Train Loss: 0.5418247  Vali Loss: 0.4914035 Vali Accuracy: 0.8521066  Vali weighted F1: 0.8448787  Vali macro F1 0.5839989 \n",
      "Validation loss decreased (inf --> 0.491403).  Saving model ...\n",
      "Fine Tuning Epoch: 2 cost time: 7.5859150886535645\n",
      "Fine Tuning VALI: Epoch: 2, Steps: 41 | Train Loss: 0.4958234  Vali Loss: 0.4711454 Vali Accuracy: 0.8624248  Vali weighted F1: 0.8564705  Vali macro F1 0.6090076 \n",
      "new best score!!!!\n",
      "Validation loss decreased (0.491403 --> 0.471145).  Saving model ...\n",
      "new best score!!!!\n",
      "Fine Tuning Epoch: 3 cost time: 7.532707691192627\n",
      "Fine Tuning VALI: Epoch: 3, Steps: 41 | Train Loss: 0.4769098  Vali Loss: 0.4574363 Vali Accuracy: 0.8658641  Vali weighted F1: 0.8601880  Vali macro F1 0.6086479 \n",
      "new best score!!!!\n",
      "Validation loss decreased (0.471145 --> 0.457436).  Saving model ...\n",
      "new best score!!!!\n",
      "Loading the best finetuned validation model!\n",
      "Fine Tuning Final Test Performance : Test Accuracy: 0.7827709  Test weighted F1: 0.7715749  Test macro F1 0.5636599 \n",
      "================ the 3 th CV Experiment ================ \n",
      "Leave one Out Experiment : The 4 Part as the test\n",
      "[-] Target sampling weights:  [0.00065147 0.00066934 0.00072674 0.0006215  0.00055494 0.00057078\n",
      " 0.0075188  0.00961538 0.00641026 0.00694444 0.00564972 0.00719424]\n",
      "Train data number :  10421\n",
      "The number of classes is :  12\n",
      "The input_length  is :  128\n",
      "The channel_in is :  12\n",
      "Validation data number :  1158\n",
      "Test data number :  6195\n",
      "================ Build the model ================ \n",
      "clone the  wavefiler weight\n",
      "Wavelet Filtering Regularization\n",
      "Build the DeepConvLSTM model!\n",
      "Epoch: 1 cost time: 9.30362319946289\n",
      "VALI: Epoch: 1, Steps: 41 | Train Loss: 1.9312751  Vali Loss: 1.2971979 Vali Accuracy: 0.5474957  Vali weighted F1: 0.4223117  Vali macro F1 0.2273340 \n",
      "Validation loss decreased (inf --> 1.297198).  Saving model ...\n",
      "Epoch: 2 cost time: 9.269087791442871\n",
      "VALI: Epoch: 2, Steps: 41 | Train Loss: 1.0029678  Vali Loss: 0.7670682 Vali Accuracy: 0.7202073  Vali weighted F1: 0.6772342  Vali macro F1 0.3980666 \n",
      "new best score!!!!\n",
      "Validation loss decreased (1.297198 --> 0.767068).  Saving model ...\n",
      "new best score!!!!\n",
      "Epoch: 3 cost time: 9.471161365509033\n",
      "VALI: Epoch: 3, Steps: 41 | Train Loss: 0.6456575  Vali Loss: 0.5132753 Vali Accuracy: 0.8316062  Vali weighted F1: 0.8171799  Vali macro F1 0.5783679 \n",
      "new best score!!!!\n",
      "Validation loss decreased (0.767068 --> 0.513275).  Saving model ...\n",
      "new best score!!!!\n",
      "Loading the best validation model!\n",
      "Final Test Performance : Test Accuracy: 0.8174334  Test weighted F1: 0.8060795  Test macro F1 0.5593532 \n",
      "clone the  wavefiler weight\n",
      "Wavelet Filtering Regularization\n",
      "Build the DeepConvLSTM model!\n",
      "Wavelet Filtering Regularization\n",
      "Build the DeepConvLSTM model!\n",
      "------------Fine Tuning  :  17   will be pruned   -----------------------------------------\n",
      "old model Parameter : 136459\n",
      "pruned model Parameter : 135514\n",
      "----------------------------------------------------------------------------------------\n",
      "Fine Tuning Epoch: 1 cost time: 7.5851263999938965\n",
      "Fine Tuning VALI: Epoch: 1, Steps: 41 | Train Loss: 0.6327125  Vali Loss: 0.5138519 Vali Accuracy: 0.8393782  Vali weighted F1: 0.8299516  Vali macro F1 0.6035701 \n",
      "Validation loss decreased (inf --> 0.513852).  Saving model ...\n",
      "Fine Tuning Epoch: 2 cost time: 7.584711074829102\n",
      "Fine Tuning VALI: Epoch: 2, Steps: 41 | Train Loss: 0.5212389  Vali Loss: 0.4920960 Vali Accuracy: 0.8480138  Vali weighted F1: 0.8391481  Vali macro F1 0.6168463 \n",
      "new best score!!!!\n",
      "Validation loss decreased (0.513852 --> 0.492096).  Saving model ...\n",
      "new best score!!!!\n",
      "Fine Tuning Epoch: 3 cost time: 7.575709581375122\n",
      "Fine Tuning VALI: Epoch: 3, Steps: 41 | Train Loss: 0.5035938  Vali Loss: 0.4821980 Vali Accuracy: 0.8454231  Vali weighted F1: 0.8362060  Vali macro F1 0.5844286 \n",
      "new best score!!!!\n",
      "Validation loss decreased (0.492096 --> 0.482198).  Saving model ...\n",
      "new best score!!!!\n",
      "Loading the best finetuned validation model!\n",
      "Fine Tuning Final Test Performance : Test Accuracy: 0.8166263  Test weighted F1: 0.8092888  Test macro F1 0.5626294 \n",
      "================ the 4 th CV Experiment ================ \n",
      "Leave one Out Experiment : The 5 Part as the test\n",
      "[-] Target sampling weights:  [0.00064809 0.00067659 0.00072993 0.00062422 0.00056497 0.00057274\n",
      " 0.00729927 0.00990099 0.00641026 0.00694444 0.00558659 0.00763359]\n",
      "Train data number :  10357\n",
      "The number of classes is :  12\n",
      "The input_length  is :  128\n",
      "The channel_in is :  12\n",
      "Validation data number :  1151\n",
      "Test data number :  6522\n",
      "================ Build the model ================ \n",
      "clone the  wavefiler weight\n",
      "Wavelet Filtering Regularization\n",
      "Build the DeepConvLSTM model!\n"
     ]
    },
    {
     "ename": "KeyboardInterrupt",
     "evalue": "",
     "output_type": "error",
     "traceback": [
      "\u001b[1;31m---------------------------------------------------------------------------\u001b[0m",
      "\u001b[1;31mKeyboardInterrupt\u001b[0m                         Traceback (most recent call last)",
      "\u001b[1;32m<ipython-input-8-21de09e58c74>\u001b[0m in \u001b[0;36m<module>\u001b[1;34m\u001b[0m\n\u001b[1;32m----> 1\u001b[1;33m \u001b[0mexp\u001b[0m\u001b[1;33m.\u001b[0m\u001b[0mtrain\u001b[0m\u001b[1;33m(\u001b[0m\u001b[1;33m)\u001b[0m\u001b[1;33m\u001b[0m\u001b[1;33m\u001b[0m\u001b[0m\n\u001b[0m",
      "\u001b[1;32mE:\\TECO_Works\\Conference\\ISWC2022\\I2S0W2C2_CFC\\experiment.py\u001b[0m in \u001b[0;36mtrain\u001b[1;34m(self)\u001b[0m\n\u001b[0;32m    270\u001b[0m                                 \u001b[0moutputs\u001b[0m \u001b[1;33m=\u001b[0m \u001b[0mself\u001b[0m\u001b[1;33m.\u001b[0m\u001b[0mmodel\u001b[0m\u001b[1;33m(\u001b[0m\u001b[0mbatch_x1\u001b[0m\u001b[1;33m,\u001b[0m\u001b[0mbatch_x2\u001b[0m\u001b[1;33m)\u001b[0m\u001b[1;33m\u001b[0m\u001b[1;33m\u001b[0m\u001b[0m\n\u001b[0;32m    271\u001b[0m                         \u001b[1;32melse\u001b[0m\u001b[1;33m:\u001b[0m\u001b[1;33m\u001b[0m\u001b[1;33m\u001b[0m\u001b[0m\n\u001b[1;32m--> 272\u001b[1;33m                             \u001b[0mbatch_x1\u001b[0m \u001b[1;33m=\u001b[0m \u001b[0mbatch_x1\u001b[0m\u001b[1;33m.\u001b[0m\u001b[0mdouble\u001b[0m\u001b[1;33m(\u001b[0m\u001b[1;33m)\u001b[0m\u001b[1;33m.\u001b[0m\u001b[0mto\u001b[0m\u001b[1;33m(\u001b[0m\u001b[0mself\u001b[0m\u001b[1;33m.\u001b[0m\u001b[0mdevice\u001b[0m\u001b[1;33m)\u001b[0m\u001b[1;33m\u001b[0m\u001b[1;33m\u001b[0m\u001b[0m\n\u001b[0m\u001b[0;32m    273\u001b[0m                             \u001b[0mbatch_y\u001b[0m \u001b[1;33m=\u001b[0m \u001b[0mbatch_y\u001b[0m\u001b[1;33m.\u001b[0m\u001b[0mlong\u001b[0m\u001b[1;33m(\u001b[0m\u001b[1;33m)\u001b[0m\u001b[1;33m.\u001b[0m\u001b[0mto\u001b[0m\u001b[1;33m(\u001b[0m\u001b[0mself\u001b[0m\u001b[1;33m.\u001b[0m\u001b[0mdevice\u001b[0m\u001b[1;33m)\u001b[0m\u001b[1;33m\u001b[0m\u001b[1;33m\u001b[0m\u001b[0m\n\u001b[0;32m    274\u001b[0m \u001b[1;33m\u001b[0m\u001b[0m\n",
      "\u001b[1;31mKeyboardInterrupt\u001b[0m: "
     ]
    },
    {
     "data": {
      "image/png": "[encoded data removed]",
      "text/plain": [
       "<Figure size 432x288 with 2 Axes>"
      ]
     },
     "metadata": {
      "needs_background": "light"
     },
     "output_type": "display_data"
    },
    {
     "data": {
      "image/png": "[encoded data removed]",
      "text/plain": [
       "<Figure size 432x288 with 2 Axes>"
      ]
     },
     "metadata": {
      "needs_background": "light"
     },
     "output_type": "display_data"
    },
    {
     "data": {
      "image/png": "[encoded data removed]",
      "text/plain": [
       "<Figure size 432x288 with 2 Axes>"
      ]
     },
     "metadata": {
      "needs_background": "light"
     },
     "output_type": "display_data"
    },
    {
     "data": {
      "image/png": "[encoded data removed]",
      "text/plain": [
       "<Figure size 432x288 with 2 Axes>"
      ]
     },
     "metadata": {
      "needs_background": "light"
     },
     "output_type": "display_data"
    }
   ],
   "source": [
    "exp.train()"
   ]
  },
  {
   "cell_type": "code",
   "execution_count": null,
   "id": "26d97ad8",
   "metadata": {},
   "outputs": [],
   "source": []
  },
  {
   "cell_type": "code",
   "execution_count": null,
   "id": "89d6c81d",
   "metadata": {},
   "outputs": [],
   "source": []
  },
  {
   "cell_type": "code",
   "execution_count": null,
   "id": "86ba8aac",
   "metadata": {},
   "outputs": [],
   "source": []
  },
  {
   "cell_type": "code",
   "execution_count": null,
   "id": "e2bb5ad4",
   "metadata": {},
   "outputs": [],
   "source": []
  },
  {
   "cell_type": "code",
   "execution_count": null,
   "id": "9d066180",
   "metadata": {},
   "outputs": [],
   "source": []
  },
  {
   "cell_type": "code",
   "execution_count": null,
   "id": "7a596b7a",
   "metadata": {},
   "outputs": [],
   "source": []
  },
  {
   "cell_type": "code",
   "execution_count": null,
   "id": "4e7fb08e",
   "metadata": {},
   "outputs": [],
   "source": []
  },
  {
   "cell_type": "code",
   "execution_count": null,
   "id": "04508e6c",
   "metadata": {},
   "outputs": [],
   "source": []
  },
  {
   "cell_type": "code",
   "execution_count": 6,
   "id": "339ae571",
   "metadata": {},
   "outputs": [
    {
     "name": "stdout",
     "output_type": "stream",
     "text": [
      " ----------------------- load all the data -------------------\n",
      "-----------------------Sliding file are generated -----------------------\n",
      "-----------------------Sliding file are generated -----------------------\n"
     ]
    }
   ],
   "source": [
    "dataset = data_dict[args.data_name](args)"
   ]
  },
  {
   "cell_type": "code",
   "execution_count": 7,
   "id": "779e3397",
   "metadata": {},
   "outputs": [],
   "source": [
    "import numpy as np"
   ]
  },
  {
   "cell_type": "code",
   "execution_count": 8,
   "id": "cfb6776a",
   "metadata": {},
   "outputs": [
    {
     "name": "stdout",
     "output_type": "stream",
     "text": [
      "torch.Size([2, 1, 128, 6])\n"
     ]
    }
   ],
   "source": [
    "start_index = dataset.train_slidingwindows[0][1]\n",
    "end_index   = dataset.train_slidingwindows[0][2]\n",
    "sample_x_1    = dataset.data_x.iloc[start_index:end_index, 1:-1].values\n",
    "\n",
    "start_index = dataset.train_slidingwindows[100][1]\n",
    "end_index   = dataset.train_slidingwindows[100][2]\n",
    "sample_x_2    = dataset.data_x.iloc[start_index:end_index, 1:-1].values\n",
    "\n",
    "temp_1 = np.expand_dims(sample_x_1,0)\n",
    "temp_2 = np.expand_dims(sample_x_2,0)\n",
    "combined_x = np.concatenate([temp_1,temp_2],axis=0)\n",
    "combined_x = np.expand_dims(combined_x,1)\n",
    "combined_x = torch.tensor(combined_x).double().to(exp.device)\n",
    "print(combined_x.shape)"
   ]
  },
  {
   "cell_type": "code",
   "execution_count": 9,
   "id": "2af5063a",
   "metadata": {},
   "outputs": [],
   "source": [
    "out = exp.model(combined_x)\n",
    "out = out.cpu().detach().numpy()"
   ]
  },
  {
   "cell_type": "code",
   "execution_count": 10,
   "id": "fc57c0e2",
   "metadata": {},
   "outputs": [
    {
     "data": {
      "text/plain": [
       "(2, 31, 128, 6)"
      ]
     },
     "execution_count": 10,
     "metadata": {},
     "output_type": "execute_result"
    }
   ],
   "source": [
    "out.shape"
   ]
  },
  {
   "cell_type": "code",
   "execution_count": 20,
   "id": "6f69036a",
   "metadata": {},
   "outputs": [],
   "source": [
    "weight = exp.model.wave_conv.wavelet_conv.weight.cpu().detach().numpy()"
   ]
  },
  {
   "cell_type": "code",
   "execution_count": 18,
   "id": "d44c070a",
   "metadata": {},
   "outputs": [
    {
     "name": "stdout",
     "output_type": "stream",
     "text": [
      "gamma\n",
      "wave_conv.wavelet_conv.weight\n"
     ]
    }
   ],
   "source": [
    "for n,p in exp.model.named_parameters():\n",
    "    print(n)"
   ]
  },
  {
   "cell_type": "code",
   "execution_count": 23,
   "id": "5f19ba6e",
   "metadata": {},
   "outputs": [
    {
     "data": {
      "text/plain": [
       "[<matplotlib.lines.Line2D at 0x211686aefd0>]"
      ]
     },
     "execution_count": 23,
     "metadata": {},
     "output_type": "execute_result"
    },
    {
     "data": {
      "image/png": "[encoded data removed]",
      "text/plain": [
       "<Figure size 432x288 with 1 Axes>"
      ]
     },
     "metadata": {
      "needs_background": "light"
     },
     "output_type": "display_data"
    }
   ],
   "source": [
    "import matplotlib.pyplot as plt\n",
    "index1 = 0\n",
    "index2 = 0\n",
    "\n",
    "plt.figure()\n",
    "plt.plot(out[0,0,:,index2])\n",
    "plt.plot(out[0,1,:,index2])\n",
    "plt.plot(out[0,2,:,index2])\n",
    "plt.plot(out[0,3,:,index2])"
   ]
  },
  {
   "cell_type": "code",
   "execution_count": null,
   "id": "a3ae8916",
   "metadata": {},
   "outputs": [],
   "source": []
  },
  {
   "cell_type": "code",
   "execution_count": 6,
   "id": "ffe11eb7",
   "metadata": {},
   "outputs": [],
   "source": [
    "# 如果我们设置为 \n",
    "# args.wavelet_filtering_learnable      = True\n",
    "# exp = Exp(args)"
   ]
  },
  {
   "cell_type": "code",
   "execution_count": null,
   "id": "5d15a68f",
   "metadata": {},
   "outputs": [],
   "source": []
  },
  {
   "cell_type": "code",
   "execution_count": null,
   "id": "6beec6d1",
   "metadata": {},
   "outputs": [],
   "source": []
  },
  {
   "cell_type": "code",
   "execution_count": null,
   "id": "90f99481",
   "metadata": {},
   "outputs": [],
   "source": []
  },
  {
   "cell_type": "code",
   "execution_count": null,
   "id": "d8700989",
   "metadata": {},
   "outputs": [],
   "source": []
  },
  {
   "cell_type": "code",
   "execution_count": null,
   "id": "7b222186",
   "metadata": {},
   "outputs": [],
   "source": []
  },
  {
   "cell_type": "code",
   "execution_count": null,
   "id": "5ae27337",
   "metadata": {},
   "outputs": [],
   "source": []
  },
  {
   "cell_type": "code",
   "execution_count": null,
   "id": "4506b3e7",
   "metadata": {},
   "outputs": [],
   "source": []
  },
  {
   "cell_type": "code",
   "execution_count": null,
   "id": "ca5dc27e",
   "metadata": {},
   "outputs": [],
   "source": []
  }
 ],
 "metadata": {
  "kernelspec": {
   "display_name": "Python 3",
   "language": "python",
   "name": "python3"
  },
  "language_info": {
   "codemirror_mode": {
    "name": "ipython",
    "version": 3
   },
   "file_extension": ".py",
   "mimetype": "text/x-python",
   "name": "python",
   "nbconvert_exporter": "python",
   "pygments_lexer": "ipython3",
   "version": "3.8.8"
  },
  "toc": {
   "base_numbering": 1,
   "nav_menu": {},
   "number_sections": true,
   "sideBar": true,
   "skip_h1_title": false,
   "title_cell": "Table of Contents",
   "title_sidebar": "Contents",
   "toc_cell": false,
   "toc_position": {},
   "toc_section_display": true,
   "toc_window_display": true
  }
 },
 "nbformat": 4,
 "nbformat_minor": 5
}
