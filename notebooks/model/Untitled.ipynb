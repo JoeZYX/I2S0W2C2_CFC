{
 "cells": [
  {
   "cell_type": "code",
   "execution_count": 1,
   "id": "a3ae419c",
   "metadata": {},
   "outputs": [],
   "source": [
    "from torch import nn\n",
    "import torch\n",
    "import warnings\n",
    "\n",
    "\n",
    "warnings.filterwarnings('ignore')"
   ]
  },
  {
   "cell_type": "code",
   "execution_count": 4,
   "id": "0af893cc",
   "metadata": {},
   "outputs": [],
   "source": [
    "class ConvBlock(nn.Module):\n",
    "    \"\"\"\n",
    "    Normal convolution block\n",
    "    \"\"\"\n",
    "    def __init__(self, filter_width, input_filters, nb_filters, dilation, batch_norm):\n",
    "        super(ConvBlock, self).__init__()\n",
    "        self.filter_width = filter_width\n",
    "        self.input_filters = input_filters\n",
    "        self.nb_filters = nb_filters\n",
    "        self.dilation = dilation\n",
    "        self.batch_norm = batch_norm\n",
    "        self.conv1 = nn.Conv2d(self.input_filters, self.nb_filters, (self.filter_width, 1), dilation=(self.dilation, 1))\n",
    "        self.relu = nn.ReLU(inplace=True)\n",
    "        self.conv2 = nn.Conv2d(self.nb_filters, self.nb_filters, (self.filter_width, 1), dilation=(self.dilation, 1))\n",
    "        if self.batch_norm:\n",
    "            self.norm1 = nn.BatchNorm2d(self.nb_filters)\n",
    "            self.norm2 = nn.BatchNorm2d(self.nb_filters)\n",
    "\n",
    "    def forward(self, x):\n",
    "        out = self.conv1(x)\n",
    "        out = self.relu(out)\n",
    "        if self.batch_norm:\n",
    "            out = self.norm1(out)\n",
    "        out = self.conv2(out)\n",
    "        out = self.relu(out)\n",
    "        if self.batch_norm:\n",
    "            out = self.norm2(out)\n",
    "        return out"
   ]
  },
  {
   "cell_type": "code",
   "execution_count": 7,
   "id": "1c979be2",
   "metadata": {},
   "outputs": [],
   "source": [
    "class DeepConvLSTM(nn.Module):\n",
    "    def __init__(self):\n",
    "\n",
    "        super(DeepConvLSTM, self).__init__()\n",
    "\n",
    "\n",
    "        self.pooling               = False\n",
    "        self.reduce_layer          = False\n",
    "        self.reduce_layer_output   = 8\n",
    "        self.pool_type             = 'max'\n",
    "        self.pool_kernel_width     = 2\n",
    "        self.window_size           = 100\n",
    "        self.drop_prob             = 0.5\n",
    "        self.nb_channels           = 9\n",
    "        self.nb_classes            = 6\n",
    "        self.weights_init          = \"xavier_normal\"\n",
    "        self.seed                  = 1\n",
    "        # convolution settings\n",
    "        self.nb_conv_blocks        = 2\n",
    "        self.conv_block_type       = \"normal\"\n",
    "        self.use_fixup             = False\n",
    "        \n",
    "        self.nb_filters            = 64\n",
    "        self.filter_width          = 21\n",
    "        self.dilation              = 1\n",
    "        self.batch_norm            = False\n",
    "        # lstm settings\n",
    "        self.nb_units_lstm         = 128\n",
    "        self.nb_layers_lstm        = 2\n",
    "\n",
    "        # define conv layers\n",
    "        self.conv_blocks = []\n",
    "        for i in range(self.nb_conv_blocks):\n",
    "            if i == 0:\n",
    "                input_filters = 1\n",
    "            else:\n",
    "                input_filters = self.nb_filters\n",
    "            self.conv_blocks.append(\n",
    "                    ConvBlock(self.filter_width, input_filters, self.nb_filters, self.dilation, self.batch_norm))\n",
    "            \n",
    "        self.conv_blocks = nn.ModuleList(self.conv_blocks)\n",
    "\n",
    "\n",
    "        self.final_seq_len = self.window_size - (self.filter_width - 1) * (self.nb_conv_blocks * 2)\n",
    "\n",
    "\n",
    "        self.lstm_layers = []\n",
    "        for i in range(self.nb_layers_lstm):\n",
    "            if i == 0:\n",
    "                self.lstm_layers.append(nn.LSTM(self.nb_channels * self.nb_filters, self.nb_units_lstm))\n",
    "            else:\n",
    "                self.lstm_layers.append(nn.LSTM(self.nb_units_lstm, self.nb_units_lstm))\n",
    "        self.lstm_layers = nn.ModuleList(self.lstm_layers)\n",
    "        # define dropout layer\n",
    "        self.dropout = nn.Dropout(self.drop_prob)\n",
    "        # define classifier\n",
    "\n",
    "        self.fc = nn.Linear(self.nb_units_lstm, self.nb_classes)\n",
    "\n",
    "    def forward(self, x):\n",
    "        # reshape data for convolutions\n",
    "        x = x.view(-1, 1, self.window_size, self.nb_channels)\n",
    "        for i, conv_block in enumerate(self.conv_blocks):\n",
    "            x = conv_block(x)\n",
    "\n",
    "        # permute dimensions and reshape for LSTM\n",
    "        x = x.permute(0, 2, 1, 3)\n",
    "        x = x.reshape(-1, self.final_seq_len, self.nb_filters * self.nb_channels)\n",
    "\n",
    "        for lstm_layer in self.lstm_layers:\n",
    "            x, _ = lstm_layer(x)\n",
    "        # reshape data for classifier\n",
    "        x = x.view(-1, self.nb_units_lstm)\n",
    "\n",
    "        x = self.dropout(x)\n",
    "        x = self.fc(x)\n",
    "        # reshape data and return predicted label of last sample within final sequence (determines label of window)\n",
    "        out = x.view(-1, self.final_seq_len, self.nb_classes)\n",
    "\n",
    "        return out[:, -1, :]\n",
    "\n",
    "    def number_of_parameters(self):\n",
    "        return sum(p.numel() for p in self.parameters() if p.requires_grad)"
   ]
  },
  {
   "cell_type": "code",
   "execution_count": 8,
   "id": "e9c80361",
   "metadata": {},
   "outputs": [],
   "source": [
    "model = DeepConvLSTM()"
   ]
  },
  {
   "cell_type": "code",
   "execution_count": 10,
   "id": "5e7322c2",
   "metadata": {},
   "outputs": [
    {
     "data": {
      "text/plain": [
       "753990"
      ]
     },
     "execution_count": 10,
     "metadata": {},
     "output_type": "execute_result"
    }
   ],
   "source": [
    "model.number_of_parameters()"
   ]
  },
  {
   "cell_type": "code",
   "execution_count": null,
   "id": "c8faefa3",
   "metadata": {},
   "outputs": [],
   "source": []
  }
 ],
 "metadata": {
  "kernelspec": {
   "display_name": "Python 3",
   "language": "python",
   "name": "python3"
  },
  "language_info": {
   "codemirror_mode": {
    "name": "ipython",
    "version": 3
   },
   "file_extension": ".py",
   "mimetype": "text/x-python",
   "name": "python",
   "nbconvert_exporter": "python",
   "pygments_lexer": "ipython3",
   "version": "3.8.8"
  },
  "toc": {
   "base_numbering": 1,
   "nav_menu": {},
   "number_sections": true,
   "sideBar": true,
   "skip_h1_title": false,
   "title_cell": "Table of Contents",
   "title_sidebar": "Contents",
   "toc_cell": false,
   "toc_position": {},
   "toc_section_display": true,
   "toc_window_display": false
  }
 },
 "nbformat": 4,
 "nbformat_minor": 5
}
