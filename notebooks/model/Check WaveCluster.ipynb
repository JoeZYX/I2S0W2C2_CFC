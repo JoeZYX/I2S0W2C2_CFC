{
 "cells": [
  {
   "cell_type": "code",
   "execution_count": 1,
   "id": "c15ff7ee",
   "metadata": {},
   "outputs": [],
   "source": [
    "import math \n",
    "import numpy as np\n",
    "\n",
    "# necessary functions\n",
    "from scipy.fftpack import fft,fftfreq,ifft\n",
    "# Importing Scipy \n",
    "import scipy as sp\n",
    "import pywt\n",
    "import scipy.fft as F\n",
    "from sklearn.cluster import KMeans\n",
    "import torch"
   ]
  },
  {
   "cell_type": "code",
   "execution_count": 4,
   "id": "d5a796ff",
   "metadata": {},
   "outputs": [],
   "source": [
    "def PrepareWavelets(K, length=20, seed = 1):\n",
    "    motherwavelets = []\n",
    "    for family in pywt.families():\n",
    "        for mother in pywt.wavelist(family):\n",
    "            motherwavelets.append(mother)\n",
    "    \n",
    "    X = np.zeros([1,length])\n",
    "    PSI = np.zeros([1,length])\n",
    "    for mw_temp in motherwavelets:\n",
    "        if mw_temp.startswith('gaus') or mw_temp.startswith('mexh') or mw_temp.startswith('morl') or mw_temp.startswith('cmor') or mw_temp.startswith('fbsp') or mw_temp.startswith('shan') or mw_temp.startswith('cgau'):\n",
    "            pass\n",
    "        else:\n",
    "            param = pywt.Wavelet(mw_temp).wavefun(level=7)\n",
    "            psi, x = param[1], param[-1]\n",
    "\n",
    "            # normalization\n",
    "            psi_sum = np.sum(psi)\n",
    "            if np.abs(psi_sum) > 1:\n",
    "                psi = psi / np.abs(psi_sum)\n",
    "            x = x / max(x)\n",
    "\n",
    "            # down sampling\n",
    "            idx_ds = np.round(np.linspace(0, x.shape[0]-1, length)).astype(int)\n",
    "            x = x[idx_ds]\n",
    "            psi = psi[idx_ds]\n",
    "\n",
    "            X = np.vstack((X, x.reshape(1,-1)))\n",
    "            PSI = np.vstack((PSI, psi.reshape(1,-1)))\n",
    "\n",
    "    X = X[1:,:]\n",
    "    PSI = PSI[1:,:]\n",
    "\n",
    "    # clustering\n",
    "    FRE = np.zeros([1,length])\n",
    "    for i in range(PSI.shape[0]):\n",
    "        FRE = np.vstack((FRE, np.real(F.fft(PSI[i,:])).reshape(1,-1)))\n",
    "    FRE = FRE[1:,:]\n",
    "\n",
    "    PSI_extended = np.hstack((PSI, FRE))\n",
    "    kmeans = KMeans(n_clusters=K).fit(PSI_extended)\n",
    "    label = kmeans.labels_\n",
    "\n",
    "    SelectedWavelet = np.zeros([1,length])\n",
    "    for k in range(K):\n",
    "        wavesidx = np.where(label==k)[0][0]\n",
    "        SelectedWavelet = np.vstack((SelectedWavelet, PSI[wavesidx,:]))            \n",
    "\n",
    "    return torch.tensor(SelectedWavelet[1:,:])"
   ]
  },
  {
   "cell_type": "code",
   "execution_count": null,
   "id": "896d0573",
   "metadata": {},
   "outputs": [],
   "source": []
  },
  {
   "cell_type": "code",
   "execution_count": 5,
   "id": "bf2f1eaa",
   "metadata": {},
   "outputs": [
    {
     "name": "stdout",
     "output_type": "stream",
     "text": [
      "tensor(384)\n",
      "384\n",
      "--------------\n",
      "tensor(260)\n",
      "512\n",
      "--------------\n",
      "tensor(640)\n",
      "640\n",
      "--------------\n",
      "tensor(138)\n",
      "768\n",
      "--------------\n",
      "tensor(392)\n",
      "896\n",
      "--------------\n",
      "tensor(268)\n",
      "1024\n",
      "--------------\n",
      "tensor(270)\n",
      "1152\n",
      "--------------\n",
      "tensor(398)\n",
      "1280\n",
      "--------------\n",
      "tensor(274)\n",
      "1408\n",
      "--------------\n",
      "tensor(276)\n",
      "1536\n",
      "--------------\n",
      "tensor(530)\n",
      "1664\n",
      "--------------\n",
      "tensor(154)\n",
      "1792\n",
      "--------------\n",
      "tensor(408)\n",
      "1920\n",
      "--------------\n",
      "tensor(158)\n",
      "2048\n",
      "--------------\n",
      "tensor(462)\n",
      "2176\n",
      "--------------\n",
      "tensor(162)\n",
      "2304\n",
      "--------------\n",
      "tensor(38)\n",
      "2432\n",
      "--------------\n",
      "tensor(292)\n",
      "2560\n",
      "--------------\n",
      "tensor(456)\n",
      "2688\n",
      "--------------\n",
      "tensor(422)\n",
      "2816\n",
      "--------------\n",
      "tensor(424)\n",
      "2944\n",
      "--------------\n",
      "tensor(386)\n",
      "3072\n",
      "--------------\n",
      "tensor(302)\n",
      "3200\n",
      "--------------\n",
      "tensor(386)\n",
      "3328\n",
      "--------------\n",
      "tensor(244)\n",
      "3456\n",
      "--------------\n",
      "tensor(582)\n",
      "3584\n",
      "--------------\n",
      "tensor(617)\n",
      "3712\n",
      "--------------\n"
     ]
    }
   ],
   "source": [
    "for k in range(3,30):\n",
    "\n",
    "#     torch.manual_seed(seed)\n",
    "#     random.seed(seed)\n",
    "#     np.random.seed(seed)\n",
    "    SelectedWavelet1 = PrepareWavelets(K=k, length=128, seed=1)\n",
    "    \n",
    "\n",
    "    SelectedWavelet2 = PrepareWavelets(K=k, length=128, seed=1)\n",
    "    \n",
    "\n",
    "    print((SelectedWavelet1==SelectedWavelet2).sum())\n",
    "    print(SelectedWavelet1.shape[0]*SelectedWavelet1.shape[1])\n",
    "    print(\"--------------\")"
   ]
  },
  {
   "cell_type": "code",
   "execution_count": 24,
   "id": "75e4fcc5",
   "metadata": {},
   "outputs": [],
   "source": [
    "seed = 1\n",
    "torch.manual_seed(seed)\n",
    "random.seed(seed)\n",
    "np.random.seed(seed)"
   ]
  },
  {
   "cell_type": "code",
   "execution_count": 25,
   "id": "3cc1512d",
   "metadata": {},
   "outputs": [],
   "source": [
    "SelectedWavelet2 = PrepareWavelets(K=20, length=128)"
   ]
  },
  {
   "cell_type": "code",
   "execution_count": 26,
   "id": "a8e62ebd",
   "metadata": {},
   "outputs": [
    {
     "data": {
      "text/plain": [
       "tensor(2560)"
      ]
     },
     "execution_count": 26,
     "metadata": {},
     "output_type": "execute_result"
    }
   ],
   "source": [
    "(SelectedWavelet1==SelectedWavelet2).sum()"
   ]
  },
  {
   "cell_type": "code",
   "execution_count": null,
   "id": "417e74b0",
   "metadata": {},
   "outputs": [],
   "source": []
  }
 ],
 "metadata": {
  "kernelspec": {
   "display_name": "Python 3",
   "language": "python",
   "name": "python3"
  },
  "language_info": {
   "codemirror_mode": {
    "name": "ipython",
    "version": 3
   },
   "file_extension": ".py",
   "mimetype": "text/x-python",
   "name": "python",
   "nbconvert_exporter": "python",
   "pygments_lexer": "ipython3",
   "version": "3.8.8"
  },
  "toc": {
   "base_numbering": 1,
   "nav_menu": {},
   "number_sections": true,
   "sideBar": true,
   "skip_h1_title": false,
   "title_cell": "Table of Contents",
   "title_sidebar": "Contents",
   "toc_cell": false,
   "toc_position": {},
   "toc_section_display": true,
   "toc_window_display": false
  }
 },
 "nbformat": 4,
 "nbformat_minor": 5
}
