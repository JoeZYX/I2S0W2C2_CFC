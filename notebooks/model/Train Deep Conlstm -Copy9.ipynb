{
 "cells": [
  {
   "cell_type": "code",
   "execution_count": 1,
   "id": "894e2c21",
   "metadata": {},
   "outputs": [],
   "source": [
    "import warnings\n",
    "warnings.filterwarnings(\"ignore\")\n",
    "\n",
    "import sys\n",
    "sys.path.append(\"../../\")\n",
    "\n",
    "from experiment import Exp\n",
    "\n",
    "from dataloaders import data_set,data_dict\n",
    "import torch\n",
    "import yaml\n",
    "import os"
   ]
  },
  {
   "cell_type": "markdown",
   "id": "bcc56bc7",
   "metadata": {},
   "source": [
    "# 参数设置"
   ]
  },
  {
   "cell_type": "markdown",
   "id": "dcc5bcbc",
   "metadata": {},
   "source": [
    "# 训练参数 \n",
    "除了路径 其他不要变"
   ]
  },
  {
   "cell_type": "code",
   "execution_count": 2,
   "id": "86004ce0",
   "metadata": {},
   "outputs": [],
   "source": [
    "class dotdict(dict):\n",
    "    \"\"\"dot.notation access to dictionary attributes\"\"\"\n",
    "    __getattr__ = dict.get\n",
    "    __setattr__ = dict.__setitem__\n",
    "    __delattr__ = dict.__delitem__\n",
    "\n",
    "args = dotdict()   \n",
    "# TODO change the path as relative path\n",
    "args.to_save_path     = \"../../../ISWC2022LearnableFilter/Run_logs\"              \n",
    "args.freq_save_path   = \"../../../ISWC2022LearnableFilter/Freq_data\"\n",
    "args.window_save_path = \"../../../ISWC2022LearnableFilter/Sliding_window\"\n",
    "args.root_path        = \"../../../datasets\"\n",
    "\n",
    "\n",
    "args.drop_transition  = False\n",
    "args.datanorm_type    = \"standardization\" # None ,\"standardization\", \"minmax\"\n",
    "\n",
    "\n",
    "args.batch_size       = 256                                                     \n",
    "args.shuffle          = True\n",
    "args.drop_last        = False\n",
    "args.train_vali_quote = 0.90                                           \n",
    "\n",
    "\n",
    "# training setting \n",
    "args.train_epochs            = 150\n",
    "\n",
    "args.learning_rate           = 0.001  \n",
    "args.learning_rate_patience  = 5\n",
    "args.learning_rate_factor    = 0.1\n",
    "\n",
    "\n",
    "args.early_stop_patience     = 15\n",
    "\n",
    "args.use_gpu                 = True if torch.cuda.is_available() else False\n",
    "args.gpu                     = 1\n",
    "args.use_multi_gpu           = False\n",
    "\n",
    "args.optimizer               = \"Adam\"\n",
    "args.criterion               = \"CrossEntropy\""
   ]
  },
  {
   "cell_type": "markdown",
   "id": "c282cbcb",
   "metadata": {},
   "source": [
    "## 数据参数\n",
    "\n"
   ]
  },
  {
   "cell_type": "code",
   "execution_count": 3,
   "id": "c6cd147b",
   "metadata": {},
   "outputs": [],
   "source": [
    "args.seed                             = 5\n",
    "\n",
    "\n",
    "args.data_name                        =  \"oppo\"\n",
    "\n",
    "args.wavelet_filtering                = True\n",
    "args.wavelet_filtering_regularization = True\n",
    "args.wavelet_filtering_finetuning     = True\n",
    "args.wavelet_filtering_finetuning_percent = 0.3\n",
    "\n",
    "args.regulatization_tradeoff          = 0.0001\n",
    "args.number_wavelet_filtering         = 10\n",
    "\n",
    "\n",
    "args.difference       = False \n",
    "args.filtering        = False\n",
    "args.magnitude        = False\n",
    "args.weighted_sampler = False\n",
    "\n",
    "\n",
    "\n",
    "\n",
    "args.pos_select       = None\n",
    "args.sensor_select    = None\n",
    "\n",
    "\n",
    "args.representation_type = \"time\"\n",
    "args.exp_mode            = \"LOCV\"\n",
    "\n",
    "config_file = open('../../configs/data.yaml', mode='r')\n",
    "data_config = yaml.load(config_file, Loader=yaml.FullLoader)\n",
    "config = data_config[args.data_name]\n",
    "\n",
    "args.root_path       = os.path.join(args.root_path,config[\"filename\"])\n",
    "args.sampling_freq   = config[\"sampling_freq\"]\n",
    "args.num_classes     =  config[\"num_classes\"]\n",
    "window_seconds       = config[\"window_seconds\"]\n",
    "args.windowsize      =   int(window_seconds * args.sampling_freq) \n",
    "args.input_length    =  args.windowsize\n",
    "# input information\n",
    "args.c_in            = config[\"num_channels\"]\n",
    "\n",
    "if args.wavelet_filtering :\n",
    "    \n",
    "    if args.windowsize%2==1:\n",
    "        N_ds = int(torch.log2(torch.tensor(args.windowsize-1)).floor()) - 2\n",
    "    else:\n",
    "        N_ds = int(torch.log2(torch.tensor(args.windowsize)).floor()) - 2\n",
    "\n",
    "    args.f_in            =  args.number_wavelet_filtering*N_ds+1\n",
    "else:\n",
    "    args.f_in            =  1\n",
    "\n"
   ]
  },
  {
   "cell_type": "markdown",
   "id": "4d435a4c",
   "metadata": {},
   "source": [
    "## 模型参数"
   ]
  },
  {
   "cell_type": "code",
   "execution_count": 4,
   "id": "de2f4d16",
   "metadata": {},
   "outputs": [],
   "source": [
    "args.filter_scaling_factor = 0.25\n",
    "args.model_type            = \"deepconvlstm\""
   ]
  },
  {
   "cell_type": "markdown",
   "id": "cada66dd",
   "metadata": {},
   "source": [
    "# 实验"
   ]
  },
  {
   "cell_type": "code",
   "execution_count": 5,
   "id": "2e3f2fad",
   "metadata": {
    "scrolled": true
   },
   "outputs": [
    {
     "name": "stdout",
     "output_type": "stream",
     "text": [
      "Use GPU: cuda:1\n",
      "clone the  wavefiler weight\n",
      "Wavelet Filtering Regularization\n",
      "Build the DeepConvLSTM model!\n",
      "Done!\n",
      "Parameter : 168247\n",
      "Set the seed as :  5\n"
     ]
    }
   ],
   "source": [
    "exp = Exp(args)"
   ]
  },
  {
   "cell_type": "code",
   "execution_count": null,
   "id": "09a011fc",
   "metadata": {
    "scrolled": true
   },
   "outputs": [
    {
     "name": "stdout",
     "output_type": "stream",
     "text": [
      " ----------------------- load all the data -------------------\n",
      "-----------------------Sliding file are generated -----------------------\n",
      "-----------------------Sliding file are generated -----------------------\n",
      "================ LOCV Mode ====================\n",
      "================ 4 CV ======================\n",
      "================ the 0 th CV Experiment ================ \n",
      "Leave one Out Experiment : The 1 Part as the test\n",
      "[-] Target sampling weights:  [3.63768643e-05 1.68634064e-03 1.61290323e-03 1.77935943e-03\n",
      " 1.67785235e-03 1.18483412e-03 1.32802125e-03 1.79856115e-03\n",
      " 2.07039337e-03 2.74725275e-03 3.30033003e-03 3.13479624e-03\n",
      " 3.58422939e-03 2.40384615e-03 2.50000000e-03 1.26903553e-03\n",
      " 4.53514739e-04 2.04498978e-03]\n",
      "Train data number :  38060\n",
      "The number of classes is :  18\n",
      "The input_length  is :  30\n",
      "The channel_in is :  77\n",
      "Validation data number :  4229\n",
      "Test data number :  78162\n",
      "================ Build the model ================ \n",
      "clone the  wavefiler weight\n",
      "Wavelet Filtering Regularization\n",
      "Build the DeepConvLSTM model!\n",
      "Epoch: 1 cost time: 16.026386499404907\n",
      "VALI: Epoch: 1, Steps: 149 | Train Loss: 1.3445289  Vali Loss: 1.0814342 Vali Accuracy: 0.7228659  Vali weighted F1: 0.6065883  Vali macro F1 0.0466191 \n",
      "Validation loss decreased (inf --> 1.081434).  Saving model ...\n",
      "Epoch: 2 cost time: 11.793060302734375\n",
      "VALI: Epoch: 2, Steps: 149 | Train Loss: 0.9937724  Vali Loss: 0.8672224 Vali Accuracy: 0.7536061  Vali weighted F1: 0.6642001  Vali macro F1 0.1051457 \n",
      "new best score!!!!\n",
      "Validation loss decreased (1.081434 --> 0.867222).  Saving model ...\n",
      "new best score!!!!\n",
      "Epoch: 3 cost time: 11.722172498703003\n",
      "VALI: Epoch: 3, Steps: 149 | Train Loss: 0.8269610  Vali Loss: 0.7461958 Vali Accuracy: 0.7784346  Vali weighted F1: 0.7106366  Vali macro F1 0.2100863 \n",
      "new best score!!!!\n",
      "Validation loss decreased (0.867222 --> 0.746196).  Saving model ...\n",
      "new best score!!!!\n",
      "Epoch: 4 cost time: 11.807856321334839\n",
      "VALI: Epoch: 4, Steps: 149 | Train Loss: 0.7215438  Vali Loss: 0.6579845 Vali Accuracy: 0.7890754  Vali weighted F1: 0.7344706  Vali macro F1 0.2782746 \n",
      "new best score!!!!\n",
      "Validation loss decreased (0.746196 --> 0.657985).  Saving model ...\n",
      "new best score!!!!\n",
      "Epoch: 5 cost time: 11.701789379119873\n",
      "VALI: Epoch: 5, Steps: 149 | Train Loss: 0.6468596  Vali Loss: 0.5944176 Vali Accuracy: 0.8174509  Vali weighted F1: 0.7846631  Vali macro F1 0.4019485 \n",
      "new best score!!!!\n",
      "Validation loss decreased (0.657985 --> 0.594418).  Saving model ...\n",
      "new best score!!!!\n",
      "Epoch: 6 cost time: 11.610505819320679\n",
      "VALI: Epoch: 6, Steps: 149 | Train Loss: 0.5885661  Vali Loss: 0.5527556 Vali Accuracy: 0.8245448  Vali weighted F1: 0.8047910  Vali macro F1 0.4376980 \n",
      "new best score!!!!\n",
      "Validation loss decreased (0.594418 --> 0.552756).  Saving model ...\n",
      "new best score!!!!\n",
      "Epoch: 7 cost time: 11.624752521514893\n",
      "VALI: Epoch: 7, Steps: 149 | Train Loss: 0.5467733  Vali Loss: 0.5214521 Vali Accuracy: 0.8328210  Vali weighted F1: 0.8186712  Vali macro F1 0.4785319 \n",
      "new best score!!!!\n",
      "Validation loss decreased (0.552756 --> 0.521452).  Saving model ...\n",
      "new best score!!!!\n",
      "Epoch: 8 cost time: 11.528181314468384\n",
      "VALI: Epoch: 8, Steps: 149 | Train Loss: 0.5132740  Vali Loss: 0.4876137 Vali Accuracy: 0.8413336  Vali weighted F1: 0.8257107  Vali macro F1 0.4989226 \n",
      "new best score!!!!\n",
      "Validation loss decreased (0.521452 --> 0.487614).  Saving model ...\n",
      "new best score!!!!\n",
      "Epoch: 9 cost time: 11.549863338470459\n",
      "VALI: Epoch: 9, Steps: 149 | Train Loss: 0.4833130  Vali Loss: 0.4722663 Vali Accuracy: 0.8441712  Vali weighted F1: 0.8337384  Vali macro F1 0.5165833 \n",
      "new best score!!!!\n",
      "Validation loss decreased (0.487614 --> 0.472266).  Saving model ...\n",
      "new best score!!!!\n",
      "Epoch: 10 cost time: 11.505091428756714\n",
      "VALI: Epoch: 10, Steps: 149 | Train Loss: 0.4600945  Vali Loss: 0.4463410 Vali Accuracy: 0.8529203  Vali weighted F1: 0.8428491  Vali macro F1 0.5384179 \n",
      "new best score!!!!\n",
      "Validation loss decreased (0.472266 --> 0.446341).  Saving model ...\n",
      "new best score!!!!\n",
      "Epoch: 11 cost time: 11.629149675369263\n",
      "VALI: Epoch: 11, Steps: 149 | Train Loss: 0.4397575  Vali Loss: 0.4353052 Vali Accuracy: 0.8626153  Vali weighted F1: 0.8565771  Vali macro F1 0.5831337 \n",
      "new best score!!!!\n",
      "Validation loss decreased (0.446341 --> 0.435305).  Saving model ...\n",
      "new best score!!!!\n"
     ]
    }
   ],
   "source": [
    "exp.train()"
   ]
  },
  {
   "cell_type": "code",
   "execution_count": null,
   "id": "6280dba8",
   "metadata": {},
   "outputs": [],
   "source": []
  },
  {
   "cell_type": "code",
   "execution_count": null,
   "id": "db8bc4bd",
   "metadata": {},
   "outputs": [],
   "source": []
  }
 ],
 "metadata": {
  "kernelspec": {
   "display_name": "SDIL",
   "language": "python",
   "name": "sdil"
  },
  "language_info": {
   "codemirror_mode": {
    "name": "ipython",
    "version": 3
   },
   "file_extension": ".py",
   "mimetype": "text/x-python",
   "name": "python",
   "nbconvert_exporter": "python",
   "pygments_lexer": "ipython3",
   "version": "3.8.13"
  },
  "toc": {
   "base_numbering": 1,
   "nav_menu": {},
   "number_sections": true,
   "sideBar": true,
   "skip_h1_title": false,
   "title_cell": "Table of Contents",
   "title_sidebar": "Contents",
   "toc_cell": false,
   "toc_position": {},
   "toc_section_display": true,
   "toc_window_display": true
  }
 },
 "nbformat": 4,
 "nbformat_minor": 5
}
