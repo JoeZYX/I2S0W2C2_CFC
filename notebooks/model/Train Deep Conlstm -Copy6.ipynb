{
 "cells": [
  {
   "cell_type": "code",
   "execution_count": 1,
   "id": "894e2c21",
   "metadata": {},
   "outputs": [],
   "source": [
    "import warnings\n",
    "warnings.filterwarnings(\"ignore\")\n",
    "\n",
    "import sys\n",
    "sys.path.append(\"../../\")\n",
    "\n",
    "from experiment import Exp\n",
    "\n",
    "from dataloaders import data_set,data_dict\n",
    "import torch\n",
    "import yaml\n",
    "import os"
   ]
  },
  {
   "cell_type": "markdown",
   "id": "bcc56bc7",
   "metadata": {},
   "source": [
    "# 参数设置"
   ]
  },
  {
   "cell_type": "markdown",
   "id": "dcc5bcbc",
   "metadata": {},
   "source": [
    "# 训练参数 \n",
    "除了路径 其他不要变"
   ]
  },
  {
   "cell_type": "code",
   "execution_count": 2,
   "id": "86004ce0",
   "metadata": {},
   "outputs": [],
   "source": [
    "class dotdict(dict):\n",
    "    \"\"\"dot.notation access to dictionary attributes\"\"\"\n",
    "    __getattr__ = dict.get\n",
    "    __setattr__ = dict.__setitem__\n",
    "    __delattr__ = dict.__delitem__\n",
    "\n",
    "args = dotdict()   \n",
    "# TODO change the path as relative path\n",
    "args.to_save_path     = \"../../../ISWC2022LearnableFilter/Run_logs\"              \n",
    "args.freq_save_path   = \"../../../ISWC2022LearnableFilter/Freq_data\"\n",
    "args.window_save_path = \"../../../ISWC2022LearnableFilter/Sliding_window\"\n",
    "args.root_path        = \"../../../datasets\"\n",
    "\n",
    "\n",
    "args.drop_transition  = False\n",
    "args.datanorm_type    = \"standardization\" # None ,\"standardization\", \"minmax\"\n",
    "\n",
    "\n",
    "args.batch_size       = 256                                                     \n",
    "args.shuffle          = True\n",
    "args.drop_last        = False\n",
    "args.train_vali_quote = 0.90                                           \n",
    "\n",
    "\n",
    "# training setting \n",
    "args.train_epochs            = 150\n",
    "\n",
    "args.learning_rate           = 0.001  \n",
    "args.learning_rate_patience  = 5\n",
    "args.learning_rate_factor    = 0.1\n",
    "\n",
    "\n",
    "args.early_stop_patience     = 15\n",
    "\n",
    "args.use_gpu                 = True if torch.cuda.is_available() else False\n",
    "args.gpu                     = 2\n",
    "args.use_multi_gpu           = False\n",
    "\n",
    "args.optimizer               = \"Adam\"\n",
    "args.criterion               = \"CrossEntropy\""
   ]
  },
  {
   "cell_type": "markdown",
   "id": "c282cbcb",
   "metadata": {},
   "source": [
    "## 数据参数\n",
    "\n"
   ]
  },
  {
   "cell_type": "code",
   "execution_count": 3,
   "id": "c6cd147b",
   "metadata": {},
   "outputs": [],
   "source": [
    "args.seed                             = 2\n",
    "\n",
    "\n",
    "args.data_name                        =  \"oppo\"\n",
    "\n",
    "args.wavelet_filtering                = True\n",
    "args.wavelet_filtering_regularization = True\n",
    "args.wavelet_filtering_finetuning     = True\n",
    "args.wavelet_filtering_finetuning_percent = 0.3\n",
    "\n",
    "args.regulatization_tradeoff          = 0.0001\n",
    "args.number_wavelet_filtering         = 10\n",
    "\n",
    "\n",
    "args.difference       = False \n",
    "args.filtering        =  False\n",
    "args.magnitude        =  False\n",
    "args.weighted_sampler = False\n",
    "\n",
    "\n",
    "\n",
    "\n",
    "args.pos_select       = None\n",
    "args.sensor_select    = None\n",
    "\n",
    "\n",
    "args.representation_type = \"time\"\n",
    "args.exp_mode            = \"LOCV\"\n",
    "\n",
    "config_file = open('../../configs/data.yaml', mode='r')\n",
    "data_config = yaml.load(config_file, Loader=yaml.FullLoader)\n",
    "config = data_config[args.data_name]\n",
    "\n",
    "args.root_path       = os.path.join(args.root_path,config[\"filename\"])\n",
    "args.sampling_freq   = config[\"sampling_freq\"]\n",
    "args.num_classes     =  config[\"num_classes\"]\n",
    "window_seconds       = config[\"window_seconds\"]\n",
    "args.windowsize      =   int(window_seconds * args.sampling_freq) \n",
    "args.input_length    =  args.windowsize\n",
    "# input information\n",
    "args.c_in            = config[\"num_channels\"]\n",
    "\n",
    "if args.wavelet_filtering :\n",
    "    \n",
    "    if args.windowsize%2==1:\n",
    "        N_ds = int(torch.log2(torch.tensor(args.windowsize-1)).floor()) - 2\n",
    "    else:\n",
    "        N_ds = int(torch.log2(torch.tensor(args.windowsize)).floor()) - 2\n",
    "\n",
    "    args.f_in            =  args.number_wavelet_filtering*N_ds+1\n",
    "else:\n",
    "    args.f_in            =  1\n",
    "\n"
   ]
  },
  {
   "cell_type": "markdown",
   "id": "4d435a4c",
   "metadata": {},
   "source": [
    "## 模型参数"
   ]
  },
  {
   "cell_type": "code",
   "execution_count": 4,
   "id": "de2f4d16",
   "metadata": {},
   "outputs": [],
   "source": [
    "args.filter_scaling_factor = 0.25\n",
    "args.model_type            = \"deepconvlstm\""
   ]
  },
  {
   "cell_type": "markdown",
   "id": "cada66dd",
   "metadata": {},
   "source": [
    "# 实验"
   ]
  },
  {
   "cell_type": "code",
   "execution_count": 5,
   "id": "2e3f2fad",
   "metadata": {
    "scrolled": true
   },
   "outputs": [
    {
     "name": "stdout",
     "output_type": "stream",
     "text": [
      "Use GPU: cuda:2\n",
      "clone the  wavefiler weight\n",
      "Wavelet Filtering Regularization\n",
      "Build the DeepConvLSTM model!\n",
      "Done!\n",
      "Parameter : 168247\n",
      "Set the seed as :  2\n"
     ]
    }
   ],
   "source": [
    "exp = Exp(args)"
   ]
  },
  {
   "cell_type": "code",
   "execution_count": null,
   "id": "09a011fc",
   "metadata": {
    "scrolled": true
   },
   "outputs": [
    {
     "name": "stdout",
     "output_type": "stream",
     "text": [
      " ----------------------- load all the data -------------------\n",
      "-----------------------Sliding file are generated -----------------------\n",
      "-----------------------Sliding file are generated -----------------------\n",
      "================ LOCV Mode ====================\n",
      "================ 4 CV ======================\n",
      "================ the 0 th CV Experiment ================ \n",
      "Leave one Out Experiment : The 1 Part as the test\n",
      "[-] Target sampling weights:  [3.63768643e-05 1.64744646e-03 1.64744646e-03 1.72117040e-03\n",
      " 1.67785235e-03 1.19617225e-03 1.35317997e-03 1.79856115e-03\n",
      " 2.08333333e-03 2.73224044e-03 3.28947368e-03 3.09597523e-03\n",
      " 3.58422939e-03 2.43902439e-03 2.46305419e-03 1.27713921e-03\n",
      " 4.54132607e-04 2.02020202e-03]\n",
      "Train data number :  38060\n",
      "The number of classes is :  18\n",
      "The input_length  is :  30\n",
      "The channel_in is :  77\n",
      "Validation data number :  4229\n",
      "Test data number :  78162\n",
      "================ Build the model ================ \n",
      "clone the  wavefiler weight\n",
      "Wavelet Filtering Regularization\n",
      "Build the DeepConvLSTM model!\n",
      "Epoch: 1 cost time: 15.289634943008423\n",
      "VALI: Epoch: 1, Steps: 149 | Train Loss: 1.3927143  Vali Loss: 1.1386100 Vali Accuracy: 0.7228659  Vali weighted F1: 0.6065883  Vali macro F1 0.0466191 \n",
      "Validation loss decreased (inf --> 1.138610).  Saving model ...\n",
      "Epoch: 2 cost time: 11.43677568435669\n",
      "VALI: Epoch: 2, Steps: 149 | Train Loss: 1.0846105  Vali Loss: 0.9580131 Vali Accuracy: 0.7649563  Vali weighted F1: 0.6783911  Vali macro F1 0.1262126 \n",
      "new best score!!!!\n",
      "Validation loss decreased (1.138610 --> 0.958013).  Saving model ...\n",
      "new best score!!!!\n",
      "Epoch: 3 cost time: 11.477899074554443\n",
      "VALI: Epoch: 3, Steps: 149 | Train Loss: 0.9320004  Vali Loss: 0.8243076 Vali Accuracy: 0.7725231  Vali weighted F1: 0.6903411  Vali macro F1 0.1450090 \n",
      "new best score!!!!\n",
      "Validation loss decreased (0.958013 --> 0.824308).  Saving model ...\n",
      "new best score!!!!\n",
      "Epoch: 4 cost time: 11.555299997329712\n",
      "VALI: Epoch: 4, Steps: 149 | Train Loss: 0.8181225  Vali Loss: 0.7268696 Vali Accuracy: 0.7902577  Vali weighted F1: 0.7242152  Vali macro F1 0.2299566 \n",
      "new best score!!!!\n",
      "Validation loss decreased (0.824308 --> 0.726870).  Saving model ...\n",
      "new best score!!!!\n",
      "Epoch: 5 cost time: 11.41507363319397\n",
      "VALI: Epoch: 5, Steps: 149 | Train Loss: 0.7225646  Vali Loss: 0.6437007 Vali Accuracy: 0.8058643  Vali weighted F1: 0.7527617  Vali macro F1 0.3113922 \n",
      "new best score!!!!\n",
      "Validation loss decreased (0.726870 --> 0.643701).  Saving model ...\n",
      "new best score!!!!\n",
      "Epoch: 6 cost time: 11.419471979141235\n",
      "VALI: Epoch: 6, Steps: 149 | Train Loss: 0.6513532  Vali Loss: 0.5842101 Vali Accuracy: 0.8243083  Vali weighted F1: 0.7889547  Vali macro F1 0.4092668 \n",
      "new best score!!!!\n",
      "Validation loss decreased (0.643701 --> 0.584210).  Saving model ...\n",
      "new best score!!!!\n",
      "Epoch: 7 cost time: 11.404166460037231\n",
      "VALI: Epoch: 7, Steps: 149 | Train Loss: 0.5978632  Vali Loss: 0.5306806 Vali Accuracy: 0.8420430  Vali weighted F1: 0.8185802  Vali macro F1 0.4849508 \n",
      "new best score!!!!\n",
      "Validation loss decreased (0.584210 --> 0.530681).  Saving model ...\n",
      "new best score!!!!\n",
      "Epoch: 8 cost time: 11.521669387817383\n",
      "VALI: Epoch: 8, Steps: 149 | Train Loss: 0.5563946  Vali Loss: 0.4943725 Vali Accuracy: 0.8522109  Vali weighted F1: 0.8346904  Vali macro F1 0.5387634 \n",
      "new best score!!!!\n",
      "Validation loss decreased (0.530681 --> 0.494373).  Saving model ...\n",
      "new best score!!!!\n",
      "Epoch: 9 cost time: 11.410074710845947\n",
      "VALI: Epoch: 9, Steps: 149 | Train Loss: 0.5203542  Vali Loss: 0.4745308 Vali Accuracy: 0.8515015  Vali weighted F1: 0.8384541  Vali macro F1 0.5425292 \n",
      "new best score!!!!\n",
      "Validation loss decreased (0.494373 --> 0.474531).  Saving model ...\n",
      "new best score!!!!\n",
      "Epoch: 10 cost time: 11.38846492767334\n",
      "VALI: Epoch: 10, Steps: 149 | Train Loss: 0.4935408  Vali Loss: 0.4437307 Vali Accuracy: 0.8600142  Vali weighted F1: 0.8464016  Vali macro F1 0.5687643 \n",
      "new best score!!!!\n",
      "Validation loss decreased (0.474531 --> 0.443731).  Saving model ...\n",
      "new best score!!!!\n",
      "Epoch: 11 cost time: 11.5408456325531\n",
      "VALI: Epoch: 11, Steps: 149 | Train Loss: 0.4700047  Vali Loss: 0.4227125 Vali Accuracy: 0.8640341  Vali weighted F1: 0.8551999  Vali macro F1 0.5817220 \n",
      "new best score!!!!\n",
      "Validation loss decreased (0.443731 --> 0.422712).  Saving model ...\n",
      "new best score!!!!\n"
     ]
    }
   ],
   "source": [
    "exp.train()"
   ]
  },
  {
   "cell_type": "code",
   "execution_count": null,
   "id": "6280dba8",
   "metadata": {},
   "outputs": [],
   "source": []
  },
  {
   "cell_type": "code",
   "execution_count": null,
   "id": "db8bc4bd",
   "metadata": {},
   "outputs": [],
   "source": []
  }
 ],
 "metadata": {
  "kernelspec": {
   "display_name": "SDIL",
   "language": "python",
   "name": "sdil"
  },
  "language_info": {
   "codemirror_mode": {
    "name": "ipython",
    "version": 3
   },
   "file_extension": ".py",
   "mimetype": "text/x-python",
   "name": "python",
   "nbconvert_exporter": "python",
   "pygments_lexer": "ipython3",
   "version": "3.8.13"
  },
  "toc": {
   "base_numbering": 1,
   "nav_menu": {},
   "number_sections": true,
   "sideBar": true,
   "skip_h1_title": false,
   "title_cell": "Table of Contents",
   "title_sidebar": "Contents",
   "toc_cell": false,
   "toc_position": {},
   "toc_section_display": true,
   "toc_window_display": true
  }
 },
 "nbformat": 4,
 "nbformat_minor": 5
}
