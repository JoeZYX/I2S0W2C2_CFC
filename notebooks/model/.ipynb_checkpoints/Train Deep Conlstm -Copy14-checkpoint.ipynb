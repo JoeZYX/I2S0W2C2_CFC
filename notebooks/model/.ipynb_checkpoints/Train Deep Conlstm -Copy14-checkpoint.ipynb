{
 "cells": [
  {
   "cell_type": "code",
   "execution_count": 1,
   "id": "894e2c21",
   "metadata": {},
   "outputs": [],
   "source": [
    "import warnings\n",
    "warnings.filterwarnings(\"ignore\")\n",
    "\n",
    "import sys\n",
    "sys.path.append(\"../../\")\n",
    "\n",
    "from experiment import Exp\n",
    "\n",
    "from dataloaders import data_set,data_dict\n",
    "import torch\n",
    "import yaml\n",
    "import os"
   ]
  },
  {
   "cell_type": "markdown",
   "id": "bcc56bc7",
   "metadata": {},
   "source": [
    "# 参数设置"
   ]
  },
  {
   "cell_type": "markdown",
   "id": "dcc5bcbc",
   "metadata": {},
   "source": [
    "# 训练参数 \n",
    "除了路径 其他不要变"
   ]
  },
  {
   "cell_type": "code",
   "execution_count": 2,
   "id": "86004ce0",
   "metadata": {},
   "outputs": [],
   "source": [
    "class dotdict(dict):\n",
    "    \"\"\"dot.notation access to dictionary attributes\"\"\"\n",
    "    __getattr__ = dict.get\n",
    "    __setattr__ = dict.__setitem__\n",
    "    __delattr__ = dict.__delitem__\n",
    "\n",
    "args = dotdict()   \n",
    "# TODO change the path as relative path\n",
    "args.to_save_path     = \"../../../ISWC2022LearnableFilter/Run_logs\"              \n",
    "args.freq_save_path   = \"../../../ISWC2022LearnableFilter/Freq_data\"\n",
    "args.window_save_path = \"../../../ISWC2022LearnableFilter/Sliding_window\"\n",
    "args.root_path        = \"../../../datasets\"\n",
    "\n",
    "\n",
    "args.drop_transition  = False\n",
    "args.datanorm_type    = \"standardization\" # None ,\"standardization\", \"minmax\"\n",
    "\n",
    "\n",
    "args.batch_size       = 256                                                     \n",
    "args.shuffle          = True\n",
    "args.drop_last        = False\n",
    "args.train_vali_quote = 0.90                                           \n",
    "\n",
    "\n",
    "# training setting \n",
    "args.train_epochs            = 150\n",
    "\n",
    "args.learning_rate           = 0.001  \n",
    "args.learning_rate_patience  = 5\n",
    "args.learning_rate_factor    = 0.1\n",
    "\n",
    "\n",
    "args.early_stop_patience     = 15\n",
    "\n",
    "args.use_gpu                 = True if torch.cuda.is_available() else False\n",
    "args.gpu                     = 1\n",
    "args.use_multi_gpu           = False\n",
    "\n",
    "args.optimizer               = \"Adam\"\n",
    "args.criterion               = \"CrossEntropy\""
   ]
  },
  {
   "cell_type": "markdown",
   "id": "c282cbcb",
   "metadata": {},
   "source": [
    "## 数据参数\n",
    "\n"
   ]
  },
  {
   "cell_type": "code",
   "execution_count": 3,
   "id": "c6cd147b",
   "metadata": {},
   "outputs": [],
   "source": [
    "args.seed                             = 1\n",
    "\n",
    "\n",
    "args.data_name                        =  \"skodar\"\n",
    "\n",
    "args.wavelet_filtering                = True\n",
    "args.wavelet_filtering_regularization = True\n",
    "args.wavelet_filtering_finetuning     = True\n",
    "args.wavelet_filtering_finetuning_percent = 1\n",
    "args.wavelet_filtering_learnable      = False\n",
    "args.wavelet_filtering_layernorm      = False\n",
    "\n",
    "args.regulatization_tradeoff          = 0\n",
    "args.number_wavelet_filtering         = 10\n",
    "\n",
    "\n",
    "args.difference       = False \n",
    "args.filtering        =  False\n",
    "args.magnitude        =  False\n",
    "args.weighted_sampler = False\n",
    "\n",
    "\n",
    "\n",
    "\n",
    "args.pos_select       = None\n",
    "args.sensor_select    = None\n",
    "\n",
    "\n",
    "args.representation_type = \"time\"\n",
    "args.exp_mode            = \"LOCV\"\n",
    "if args.data_name      ==  \"skodar\":\n",
    "    args.exp_mode            = \"SOCV\"\n",
    "\n",
    "config_file = open('../../configs/data.yaml', mode='r')\n",
    "data_config = yaml.load(config_file, Loader=yaml.FullLoader)\n",
    "config = data_config[args.data_name]\n",
    "\n",
    "args.root_path       = os.path.join(args.root_path,config[\"filename\"])\n",
    "args.sampling_freq   = config[\"sampling_freq\"]\n",
    "args.num_classes     =  config[\"num_classes\"]\n",
    "window_seconds       = config[\"window_seconds\"]\n",
    "args.windowsize      =   int(window_seconds * args.sampling_freq) \n",
    "args.input_length    =  args.windowsize\n",
    "# input information\n",
    "args.c_in            = config[\"num_channels\"]\n",
    "\n",
    "if args.wavelet_filtering :\n",
    "    \n",
    "    if args.windowsize%2==1:\n",
    "        N_ds = int(torch.log2(torch.tensor(args.windowsize-1)).floor()) - 2\n",
    "    else:\n",
    "        N_ds = int(torch.log2(torch.tensor(args.windowsize)).floor()) - 2\n",
    "\n",
    "    args.f_in            =  args.number_wavelet_filtering*N_ds+1\n",
    "else:\n",
    "    args.f_in            =  1\n",
    "\n"
   ]
  },
  {
   "cell_type": "markdown",
   "id": "4d435a4c",
   "metadata": {},
   "source": [
    "## 模型参数"
   ]
  },
  {
   "cell_type": "code",
   "execution_count": 4,
   "id": "de2f4d16",
   "metadata": {},
   "outputs": [],
   "source": [
    "args.filter_scaling_factor = 0.75\n",
    "args.model_type              = \"deepconvlstm\"#\"tinyhar\"#\"sahar\" #\"deepconvlstm\"\n",
    "\n",
    "# args.cross_channel_interaction_type = \"attn\"\n",
    "# args.cross_channel_aggregation_type = \"filter\"\n",
    "# args.temporal_info_interaction_type\n",
    "# args.temporal_info_aggregation_type"
   ]
  },
  {
   "cell_type": "markdown",
   "id": "cada66dd",
   "metadata": {},
   "source": [
    "# 实验"
   ]
  },
  {
   "cell_type": "code",
   "execution_count": 5,
   "id": "2e3f2fad",
   "metadata": {
    "scrolled": true
   },
   "outputs": [
    {
     "name": "stdout",
     "output_type": "stream",
     "text": [
      "Use GPU: cuda:1\n",
      "clone the  wavefiler weight\n",
      "Wavelet Filtering Regularization\n",
      "Build the DeepConvLSTM model!\n",
      "Done!\n",
      "Parameter : 636195\n",
      "Set the seed as :  1\n"
     ]
    }
   ],
   "source": [
    "exp = Exp(args)"
   ]
  },
  {
   "cell_type": "code",
   "execution_count": null,
   "id": "09a011fc",
   "metadata": {
    "scrolled": true
   },
   "outputs": [
    {
     "name": "stdout",
     "output_type": "stream",
     "text": [
      " ----------------------- load all the data -------------------\n",
      "-----------------------Sliding file are generated -----------------------\n",
      "-----------------------Sliding file are generated -----------------------\n",
      "================ SOCV Mode ====================\n",
      "================ 5 CV ======================\n",
      "================ the 0 th CV Experiment ================ \n",
      "Overlapping random Experiment : The 1 Part as the test\n",
      "[-] Target sampling weights:  [0.0027933  0.00240964 0.00243309 0.00330033 0.00526316 0.00581395\n",
      " 0.00303951 0.00290698 0.00234742 0.00421941]\n",
      "Train data number :  3185\n",
      "The number of classes is :  10\n",
      "The input_length  is :  84\n",
      "The channel_in is :  30\n",
      "Validation data number :  354\n",
      "Test data number :  884\n",
      "================ Build the model ================ \n",
      "clone the  wavefiler weight\n",
      "Wavelet Filtering Regularization\n",
      "Build the DeepConvLSTM model!\n",
      "Epoch: 1 cost time: 6.586113691329956\n",
      "VALI: Epoch: 1, Steps: 13 | Train Loss: 2.1816779  Vali Loss: 1.7711326 Vali Accuracy: 0.3926554  Vali weighted F1: 0.3393826  Vali macro F1 0.3053619 \n",
      "Validation loss decreased (inf --> 1.771133).  Saving model ...\n",
      "Epoch: 2 cost time: 1.1633050441741943\n",
      "VALI: Epoch: 2, Steps: 13 | Train Loss: 1.4210004  Vali Loss: 0.9796034 Vali Accuracy: 0.6440678  Vali weighted F1: 0.6267357  Vali macro F1 0.5927896 \n",
      "new best score!!!!\n",
      "Validation loss decreased (1.771133 --> 0.979603).  Saving model ...\n",
      "new best score!!!!\n",
      "Epoch: 3 cost time: 1.1420478820800781\n",
      "VALI: Epoch: 3, Steps: 13 | Train Loss: 0.9170759  Vali Loss: 0.6446975 Vali Accuracy: 0.7570621  Vali weighted F1: 0.7476064  Vali macro F1 0.7177322 \n",
      "new best score!!!!\n",
      "Validation loss decreased (0.979603 --> 0.644698).  Saving model ...\n",
      "new best score!!!!\n",
      "Epoch: 4 cost time: 1.144496202468872\n",
      "VALI: Epoch: 4, Steps: 13 | Train Loss: 0.6435190  Vali Loss: 0.4806896 Vali Accuracy: 0.8418079  Vali weighted F1: 0.8338897  Vali macro F1 0.8037814 \n",
      "new best score!!!!\n",
      "Validation loss decreased (0.644698 --> 0.480690).  Saving model ...\n",
      "new best score!!!!\n",
      "Epoch: 5 cost time: 1.1423671245574951\n",
      "VALI: Epoch: 5, Steps: 13 | Train Loss: 0.4888058  Vali Loss: 0.3915684 Vali Accuracy: 0.8248588  Vali weighted F1: 0.8034384  Vali macro F1 0.7633087 \n",
      "new best score!!!!\n",
      "Validation loss decreased (0.480690 --> 0.391568).  Saving model ...\n",
      "new best score!!!!\n",
      "Epoch: 6 cost time: 1.1403608322143555\n",
      "VALI: Epoch: 6, Steps: 13 | Train Loss: 0.3943239  Vali Loss: 0.2998238 Vali Accuracy: 0.8644068  Vali weighted F1: 0.8446402  Vali macro F1 0.8004527 \n",
      "new best score!!!!\n",
      "Validation loss decreased (0.391568 --> 0.299824).  Saving model ...\n",
      "new best score!!!!\n",
      "Epoch: 7 cost time: 1.145594596862793\n",
      "VALI: Epoch: 7, Steps: 13 | Train Loss: 0.3258459  Vali Loss: 0.2494719 Vali Accuracy: 0.9039548  Vali weighted F1: 0.9022784  Vali macro F1 0.8717978 \n",
      "new best score!!!!\n",
      "Validation loss decreased (0.299824 --> 0.249472).  Saving model ...\n",
      "new best score!!!!\n",
      "Epoch: 8 cost time: 1.1432921886444092\n",
      "VALI: Epoch: 8, Steps: 13 | Train Loss: 0.2766783  Vali Loss: 0.2123656 Vali Accuracy: 0.9152542  Vali weighted F1: 0.8954684  Vali macro F1 0.8449227 \n",
      "new best score!!!!\n",
      "Validation loss decreased (0.249472 --> 0.212366).  Saving model ...\n",
      "new best score!!!!\n",
      "Epoch: 9 cost time: 1.1494524478912354\n",
      "VALI: Epoch: 9, Steps: 13 | Train Loss: 0.2369344  Vali Loss: 0.1996198 Vali Accuracy: 0.9124294  Vali weighted F1: 0.9047794  Vali macro F1 0.8589208 \n",
      "new best score!!!!\n",
      "Validation loss decreased (0.212366 --> 0.199620).  Saving model ...\n",
      "new best score!!!!\n",
      "Epoch: 10 cost time: 1.1472551822662354\n",
      "VALI: Epoch: 10, Steps: 13 | Train Loss: 0.2062638  Vali Loss: 0.1530465 Vali Accuracy: 0.9237288  Vali weighted F1: 0.9234024  Vali macro F1 0.8845970 \n",
      "new best score!!!!\n",
      "Validation loss decreased (0.199620 --> 0.153047).  Saving model ...\n",
      "new best score!!!!\n",
      "Epoch: 11 cost time: 1.173537015914917\n",
      "VALI: Epoch: 11, Steps: 13 | Train Loss: 0.1830999  Vali Loss: 0.1453237 Vali Accuracy: 0.9350282  Vali weighted F1: 0.9345746  Vali macro F1 0.9058972 \n",
      "new best score!!!!\n",
      "Validation loss decreased (0.153047 --> 0.145324).  Saving model ...\n",
      "new best score!!!!\n",
      "Epoch: 12 cost time: 1.1609320640563965\n",
      "VALI: Epoch: 12, Steps: 13 | Train Loss: 0.1587831  Vali Loss: 0.1443052 Vali Accuracy: 0.9350282  Vali weighted F1: 0.9324396  Vali macro F1 0.9022442 \n",
      "new best score!!!!\n",
      "Validation loss decreased (0.145324 --> 0.144305).  Saving model ...\n",
      "new best score!!!!\n",
      "Epoch: 13 cost time: 1.1673698425292969\n",
      "VALI: Epoch: 13, Steps: 13 | Train Loss: 0.1487754  Vali Loss: 0.1293469 Vali Accuracy: 0.9293785  Vali weighted F1: 0.9236904  Vali macro F1 0.8855806 \n",
      "new best score!!!!\n",
      "Validation loss decreased (0.144305 --> 0.129347).  Saving model ...\n",
      "new best score!!!!\n",
      "Epoch: 14 cost time: 1.1722545623779297\n",
      "VALI: Epoch: 14, Steps: 13 | Train Loss: 0.1361982  Vali Loss: 0.1177924 Vali Accuracy: 0.9378531  Vali weighted F1: 0.9284177  Vali macro F1 0.8908385 \n",
      "new best score!!!!\n",
      "Validation loss decreased (0.129347 --> 0.117792).  Saving model ...\n",
      "new best score!!!!\n",
      "Epoch: 15 cost time: 1.1651272773742676\n",
      "VALI: Epoch: 15, Steps: 13 | Train Loss: 0.1314425  Vali Loss: 0.1194414 Vali Accuracy: 0.9435028  Vali weighted F1: 0.9407963  Vali macro F1 0.9164915 \n",
      "EarlyStopping counter: 1 out of 15\n",
      "Learning rate adjusting counter: 1 out of 5\n"
     ]
    }
   ],
   "source": [
    "exp.train()"
   ]
  }
 ],
 "metadata": {
  "kernelspec": {
   "display_name": "SDIL",
   "language": "python",
   "name": "sdil"
  },
  "language_info": {
   "codemirror_mode": {
    "name": "ipython",
    "version": 3
   },
   "file_extension": ".py",
   "mimetype": "text/x-python",
   "name": "python",
   "nbconvert_exporter": "python",
   "pygments_lexer": "ipython3",
   "version": "3.8.13"
  },
  "toc": {
   "base_numbering": 1,
   "nav_menu": {},
   "number_sections": true,
   "sideBar": true,
   "skip_h1_title": false,
   "title_cell": "Table of Contents",
   "title_sidebar": "Contents",
   "toc_cell": false,
   "toc_position": {},
   "toc_section_display": true,
   "toc_window_display": true
  }
 },
 "nbformat": 4,
 "nbformat_minor": 5
}
