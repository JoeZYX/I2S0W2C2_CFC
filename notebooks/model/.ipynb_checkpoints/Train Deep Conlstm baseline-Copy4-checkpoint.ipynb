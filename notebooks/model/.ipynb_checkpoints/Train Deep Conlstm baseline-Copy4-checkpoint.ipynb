{
 "cells": [
  {
   "cell_type": "code",
   "execution_count": 1,
   "id": "894e2c21",
   "metadata": {},
   "outputs": [],
   "source": [
    "import warnings\n",
    "warnings.filterwarnings(\"ignore\")\n",
    "\n",
    "import sys\n",
    "sys.path.append(\"../../\")\n",
    "\n",
    "from experiment import Exp\n",
    "\n",
    "from dataloaders import data_set,data_dict\n",
    "import torch\n",
    "import yaml\n",
    "import os"
   ]
  },
  {
   "cell_type": "markdown",
   "id": "bcc56bc7",
   "metadata": {},
   "source": [
    "# 参数设置"
   ]
  },
  {
   "cell_type": "markdown",
   "id": "dcc5bcbc",
   "metadata": {},
   "source": [
    "# 训练参数 \n",
    "除了路径 其他不要变"
   ]
  },
  {
   "cell_type": "code",
   "execution_count": 2,
   "id": "86004ce0",
   "metadata": {},
   "outputs": [],
   "source": [
    "class dotdict(dict):\n",
    "    \"\"\"dot.notation access to dictionary attributes\"\"\"\n",
    "    __getattr__ = dict.get\n",
    "    __setattr__ = dict.__setitem__\n",
    "    __delattr__ = dict.__delitem__\n",
    "\n",
    "args = dotdict()   \n",
    "# TODO change the path as relative path\n",
    "args.to_save_path     = \"../../../ISWC2022LearnableFilter/Run_logs\"              \n",
    "args.freq_save_path   = \"../../../ISWC2022LearnableFilter/Freq_data\"\n",
    "args.window_save_path = \"../../../ISWC2022LearnableFilter/Sliding_window\"\n",
    "args.root_path        = \"../../../datasets\"\n",
    "\n",
    "\n",
    "args.drop_transition  = False\n",
    "args.datanorm_type    = \"standardization\" # None ,\"standardization\", \"minmax\"\n",
    "\n",
    "\n",
    "args.batch_size       = 128                                                     \n",
    "args.shuffle          = True\n",
    "args.drop_last        = False\n",
    "args.train_vali_quote = 0.90                                           \n",
    "\n",
    "\n",
    "# training setting \n",
    "args.train_epochs            = 150\n",
    "\n",
    "args.learning_rate           = 0.001  \n",
    "args.learning_rate_patience  = 5\n",
    "args.learning_rate_factor    = 0.1\n",
    "\n",
    "\n",
    "args.early_stop_patience     = 15\n",
    "\n",
    "args.use_gpu                 = True if torch.cuda.is_available() else False\n",
    "args.gpu                     = 1\n",
    "args.use_multi_gpu           = False\n",
    "\n",
    "args.optimizer               = \"Adam\"\n",
    "args.criterion               = \"CrossEntropy\""
   ]
  },
  {
   "cell_type": "markdown",
   "id": "c282cbcb",
   "metadata": {},
   "source": [
    "## 数据参数\n",
    "\n"
   ]
  },
  {
   "cell_type": "code",
   "execution_count": 3,
   "id": "c6cd147b",
   "metadata": {},
   "outputs": [],
   "source": [
    "args.seed                             = 2\n",
    "\n",
    "\n",
    "args.data_name                        =  \"hapt\"\n",
    "\n",
    "args.wavelet_filtering                = False\n",
    "args.wavelet_filtering_regularization = False\n",
    "args.wavelet_filtering_finetuning     = False\n",
    "\n",
    "\n",
    "args.difference       = False \n",
    "args.filtering        = False\n",
    "args.magnitude        = False\n",
    "args.weighted_sampler = False\n",
    "\n",
    "\n",
    "\n",
    "\n",
    "args.pos_select       = None\n",
    "args.sensor_select    = None\n",
    "\n",
    "\n",
    "args.representation_type = \"time\"\n",
    "args.exp_mode            = \"LOCV\"\n",
    "\n",
    "config_file = open('../../configs/data.yaml', mode='r')\n",
    "data_config = yaml.load(config_file, Loader=yaml.FullLoader)\n",
    "config = data_config[args.data_name]\n",
    "\n",
    "args.root_path       = os.path.join(args.root_path,config[\"filename\"])\n",
    "args.sampling_freq   = config[\"sampling_freq\"]\n",
    "args.num_classes     =  config[\"num_classes\"]\n",
    "window_seconds       = config[\"window_seconds\"]\n",
    "args.windowsize      =   int(window_seconds * args.sampling_freq) \n",
    "args.input_length    =  args.windowsize\n",
    "# input information\n",
    "args.c_in            = config[\"num_channels\"]\n",
    "\n",
    "if args.wavelet_filtering :\n",
    "    \n",
    "    if args.windowsize%2==1:\n",
    "        N_ds = int(torch.log2(torch.tensor(args.windowsize-1)).floor()) - 2\n",
    "    else:\n",
    "        N_ds = int(torch.log2(torch.tensor(args.windowsize)).floor()) - 2\n",
    "\n",
    "    args.f_in            =  args.number_wavelet_filtering*N_ds+1\n",
    "else:\n",
    "    args.f_in            =  1"
   ]
  },
  {
   "cell_type": "markdown",
   "id": "4d435a4c",
   "metadata": {},
   "source": [
    "## 模型参数"
   ]
  },
  {
   "cell_type": "code",
   "execution_count": 4,
   "id": "de2f4d16",
   "metadata": {},
   "outputs": [],
   "source": [
    "args.filter_scaling_factor = 1\n",
    "args.model_type            = \"deepconvlstm\""
   ]
  },
  {
   "cell_type": "markdown",
   "id": "cada66dd",
   "metadata": {},
   "source": [
    "# 实验"
   ]
  },
  {
   "cell_type": "code",
   "execution_count": 5,
   "id": "2e3f2fad",
   "metadata": {
    "scrolled": true
   },
   "outputs": [
    {
     "name": "stdout",
     "output_type": "stream",
     "text": [
      "Use GPU: cuda:1\n",
      "Build the DeepConvLSTM model!\n",
      "Done!\n",
      "Parameter : 5849676\n",
      "Set the seed as :  2\n"
     ]
    }
   ],
   "source": [
    "exp = Exp(args)"
   ]
  },
  {
   "cell_type": "code",
   "execution_count": null,
   "id": "09a011fc",
   "metadata": {
    "scrolled": true
   },
   "outputs": [
    {
     "name": "stdout",
     "output_type": "stream",
     "text": [
      " ----------------------- load all the data -------------------\n",
      "-----------------------Sliding file are generated -----------------------\n",
      "-----------------------Sliding file are generated -----------------------\n",
      "================ LOCV Mode ====================\n",
      "================ 30 CV ======================\n",
      "================ the 0 th CV Experiment ================ \n",
      "Leave one Out Experiment : The 1 Part as the test\n",
      "[-] Target sampling weights:  [0.00067024 0.00068399 0.00073964 0.00061087 0.00055866 0.00056786\n",
      " 0.00735294 0.01020408 0.00617284 0.0070922  0.00584795 0.00729927]\n",
      "Train data number :  10339\n",
      "The number of classes is :  12\n",
      "The input_length  is :  128\n",
      "The channel_in is :  6\n",
      "Validation data number :  1149\n",
      "Test data number :  6632\n",
      "================ Build the model ================ \n",
      "Build the DeepConvLSTM model!\n",
      "Epoch: 1 cost time: 7.8083672523498535\n",
      "VALI: Epoch: 1, Steps: 81 | Train Loss: 0.7856568  Vali Loss: 0.2940215 Vali Accuracy: 0.8938207  Vali weighted F1: 0.8846820  Vali macro F1 0.6839668 \n",
      "Validation loss decreased (inf --> 0.294021).  Saving model ...\n",
      "Epoch: 2 cost time: 3.543247938156128\n",
      "VALI: Epoch: 2, Steps: 81 | Train Loss: 0.2702802  Vali Loss: 0.2309868 Vali Accuracy: 0.9094865  Vali weighted F1: 0.9081497  Vali macro F1 0.7815852 \n",
      "new best score!!!!\n",
      "Validation loss decreased (0.294021 --> 0.230987).  Saving model ...\n",
      "new best score!!!!\n",
      "Epoch: 3 cost time: 3.563483476638794\n",
      "VALI: Epoch: 3, Steps: 81 | Train Loss: 0.2094743  Vali Loss: 0.1790848 Vali Accuracy: 0.9312446  Vali weighted F1: 0.9287650  Vali macro F1 0.7910688 \n",
      "new best score!!!!\n",
      "Validation loss decreased (0.230987 --> 0.179085).  Saving model ...\n",
      "new best score!!!!\n",
      "Epoch: 4 cost time: 3.5641849040985107\n",
      "VALI: Epoch: 4, Steps: 81 | Train Loss: 0.1790150  Vali Loss: 0.1783548 Vali Accuracy: 0.9268930  Vali weighted F1: 0.9245390  Vali macro F1 0.8057441 \n",
      "new best score!!!!\n",
      "Validation loss decreased (0.179085 --> 0.178355).  Saving model ...\n",
      "new best score!!!!\n",
      "Epoch: 5 cost time: 3.5605859756469727\n",
      "VALI: Epoch: 5, Steps: 81 | Train Loss: 0.1686471  Vali Loss: 0.1468702 Vali Accuracy: 0.9425587  Vali weighted F1: 0.9420309  Vali macro F1 0.8358687 \n",
      "new best score!!!!\n",
      "Validation loss decreased (0.178355 --> 0.146870).  Saving model ...\n",
      "new best score!!!!\n",
      "Epoch: 6 cost time: 3.5325021743774414\n",
      "VALI: Epoch: 6, Steps: 81 | Train Loss: 0.1559563  Vali Loss: 0.1413137 Vali Accuracy: 0.9512620  Vali weighted F1: 0.9505255  Vali macro F1 0.8585552 \n",
      "new best score!!!!\n",
      "Validation loss decreased (0.146870 --> 0.141314).  Saving model ...\n",
      "new best score!!!!\n",
      "Epoch: 7 cost time: 3.5513319969177246\n",
      "VALI: Epoch: 7, Steps: 81 | Train Loss: 0.1463088  Vali Loss: 0.1328614 Vali Accuracy: 0.9460400  Vali weighted F1: 0.9454212  Vali macro F1 0.8276788 \n",
      "new best score!!!!\n",
      "Validation loss decreased (0.141314 --> 0.132861).  Saving model ...\n",
      "new best score!!!!\n",
      "Epoch: 8 cost time: 3.5533547401428223\n",
      "VALI: Epoch: 8, Steps: 81 | Train Loss: 0.1314190  Vali Loss: 0.1545031 Vali Accuracy: 0.9347258  Vali weighted F1: 0.9339627  Vali macro F1 0.8345150 \n",
      "EarlyStopping counter: 1 out of 15\n",
      "Learning rate adjusting counter: 1 out of 5\n",
      "Epoch: 9 cost time: 3.5255067348480225\n",
      "VALI: Epoch: 9, Steps: 81 | Train Loss: 0.1267307  Vali Loss: 0.1356680 Vali Accuracy: 0.9469104  Vali weighted F1: 0.9462868  Vali macro F1 0.8248575 \n",
      "EarlyStopping counter: 2 out of 15\n",
      "Learning rate adjusting counter: 2 out of 5\n",
      "Epoch: 10 cost time: 3.5429935455322266\n",
      "VALI: Epoch: 10, Steps: 81 | Train Loss: 0.1245060  Vali Loss: 0.1224797 Vali Accuracy: 0.9512620  Vali weighted F1: 0.9511137  Vali macro F1 0.8373398 \n",
      "new best score!!!!\n",
      "Validation loss decreased (0.132861 --> 0.122480).  Saving model ...\n",
      "new best score!!!!\n",
      "Epoch: 11 cost time: 3.5274758338928223\n",
      "VALI: Epoch: 11, Steps: 81 | Train Loss: 0.1149210  Vali Loss: 0.1222809 Vali Accuracy: 0.9512620  Vali weighted F1: 0.9509206  Vali macro F1 0.8562922 \n",
      "new best score!!!!\n",
      "Validation loss decreased (0.122480 --> 0.122281).  Saving model ...\n",
      "new best score!!!!\n",
      "Epoch: 12 cost time: 3.5388033390045166\n",
      "VALI: Epoch: 12, Steps: 81 | Train Loss: 0.0936881  Vali Loss: 0.1242624 Vali Accuracy: 0.9521323  Vali weighted F1: 0.9509226  Vali macro F1 0.8284178 \n",
      "EarlyStopping counter: 1 out of 15\n",
      "Learning rate adjusting counter: 1 out of 5\n",
      "Epoch: 13 cost time: 3.537932872772217\n",
      "VALI: Epoch: 13, Steps: 81 | Train Loss: 0.0962764  Vali Loss: 0.1373945 Vali Accuracy: 0.9460400  Vali weighted F1: 0.9428353  Vali macro F1 0.8042756 \n",
      "EarlyStopping counter: 2 out of 15\n",
      "Learning rate adjusting counter: 2 out of 5\n",
      "Epoch: 14 cost time: 3.446363687515259\n",
      "VALI: Epoch: 14, Steps: 81 | Train Loss: 0.0990589  Vali Loss: 0.1243106 Vali Accuracy: 0.9495213  Vali weighted F1: 0.9482772  Vali macro F1 0.8212244 \n",
      "EarlyStopping counter: 3 out of 15\n",
      "Learning rate adjusting counter: 3 out of 5\n",
      "Epoch: 15 cost time: 3.4162888526916504\n",
      "VALI: Epoch: 15, Steps: 81 | Train Loss: 0.0784803  Vali Loss: 0.1200919 Vali Accuracy: 0.9530026  Vali weighted F1: 0.9520534  Vali macro F1 0.8296718 \n",
      "new best score!!!!\n",
      "Validation loss decreased (0.122281 --> 0.120092).  Saving model ...\n",
      "new best score!!!!\n",
      "Epoch: 16 cost time: 3.431338310241699\n",
      "VALI: Epoch: 16, Steps: 81 | Train Loss: 0.0799401  Vali Loss: 0.1088774 Vali Accuracy: 0.9643168  Vali weighted F1: 0.9638430  Vali macro F1 0.8478573 \n",
      "new best score!!!!\n",
      "Validation loss decreased (0.120092 --> 0.108877).  Saving model ...\n",
      "new best score!!!!\n",
      "Epoch: 17 cost time: 3.4775052070617676\n",
      "VALI: Epoch: 17, Steps: 81 | Train Loss: 0.0718794  Vali Loss: 0.0955585 Vali Accuracy: 0.9730200  Vali weighted F1: 0.9724616  Vali macro F1 0.9052414 \n",
      "new best score!!!!\n",
      "Validation loss decreased (0.108877 --> 0.095558).  Saving model ...\n",
      "new best score!!!!\n",
      "Epoch: 18 cost time: 3.5306546688079834\n",
      "VALI: Epoch: 18, Steps: 81 | Train Loss: 0.0700158  Vali Loss: 0.1092182 Vali Accuracy: 0.9625762  Vali weighted F1: 0.9627377  Vali macro F1 0.8513774 \n",
      "EarlyStopping counter: 1 out of 15\n",
      "Learning rate adjusting counter: 1 out of 5\n",
      "Epoch: 19 cost time: 3.559809923171997\n",
      "VALI: Epoch: 19, Steps: 81 | Train Loss: 0.0699129  Vali Loss: 0.1002481 Vali Accuracy: 0.9625762  Vali weighted F1: 0.9624932  Vali macro F1 0.8512948 \n",
      "EarlyStopping counter: 2 out of 15\n",
      "Learning rate adjusting counter: 2 out of 5\n",
      "Epoch: 20 cost time: 3.5258607864379883\n",
      "VALI: Epoch: 20, Steps: 81 | Train Loss: 0.0635956  Vali Loss: 0.1071554 Vali Accuracy: 0.9590949  Vali weighted F1: 0.9588398  Vali macro F1 0.8561035 \n",
      "EarlyStopping counter: 3 out of 15\n",
      "Learning rate adjusting counter: 3 out of 5\n"
     ]
    }
   ],
   "source": [
    "exp.train()"
   ]
  }
 ],
 "metadata": {
  "kernelspec": {
   "display_name": "SDIL",
   "language": "python",
   "name": "sdil"
  },
  "language_info": {
   "codemirror_mode": {
    "name": "ipython",
    "version": 3
   },
   "file_extension": ".py",
   "mimetype": "text/x-python",
   "name": "python",
   "nbconvert_exporter": "python",
   "pygments_lexer": "ipython3",
   "version": "3.8.13"
  },
  "toc": {
   "base_numbering": 1,
   "nav_menu": {},
   "number_sections": true,
   "sideBar": true,
   "skip_h1_title": false,
   "title_cell": "Table of Contents",
   "title_sidebar": "Contents",
   "toc_cell": false,
   "toc_position": {},
   "toc_section_display": true,
   "toc_window_display": true
  }
 },
 "nbformat": 4,
 "nbformat_minor": 5
}
