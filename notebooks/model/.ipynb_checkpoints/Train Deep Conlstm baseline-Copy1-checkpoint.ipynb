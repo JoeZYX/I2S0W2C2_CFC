{
 "cells": [
  {
   "cell_type": "code",
   "execution_count": 1,
   "id": "894e2c21",
   "metadata": {},
   "outputs": [],
   "source": [
    "import warnings\n",
    "warnings.filterwarnings(\"ignore\")\n",
    "\n",
    "import sys\n",
    "sys.path.append(\"../../\")\n",
    "\n",
    "from experiment import Exp\n",
    "\n",
    "from dataloaders import data_set,data_dict\n",
    "import torch\n",
    "import yaml\n",
    "import os"
   ]
  },
  {
   "cell_type": "markdown",
   "id": "bcc56bc7",
   "metadata": {},
   "source": [
    "# 参数设置"
   ]
  },
  {
   "cell_type": "markdown",
   "id": "dcc5bcbc",
   "metadata": {},
   "source": [
    "# 训练参数 \n",
    "除了路径 其他不要变"
   ]
  },
  {
   "cell_type": "code",
   "execution_count": 2,
   "id": "86004ce0",
   "metadata": {},
   "outputs": [],
   "source": [
    "class dotdict(dict):\n",
    "    \"\"\"dot.notation access to dictionary attributes\"\"\"\n",
    "    __getattr__ = dict.get\n",
    "    __setattr__ = dict.__setitem__\n",
    "    __delattr__ = dict.__delitem__\n",
    "\n",
    "args = dotdict()   \n",
    "# TODO change the path as relative path\n",
    "args.to_save_path     = \"../../../ISWC2022LearnableFilter/Run_logs\"              \n",
    "args.freq_save_path   = \"../../../ISWC2022LearnableFilter/Freq_data\"\n",
    "args.window_save_path = \"../../../ISWC2022LearnableFilter/Sliding_window\"\n",
    "args.root_path        = \"../../../datasets\"\n",
    "\n",
    "\n",
    "args.drop_transition  = False\n",
    "args.datanorm_type    = \"standardization\" # None ,\"standardization\", \"minmax\"\n",
    "\n",
    "\n",
    "args.batch_size       = 128                                                     \n",
    "args.shuffle          = True\n",
    "args.drop_last        = False\n",
    "args.train_vali_quote = 0.90                                           \n",
    "\n",
    "\n",
    "# training setting \n",
    "args.train_epochs            = 150\n",
    "\n",
    "args.learning_rate           = 0.001  \n",
    "args.learning_rate_patience  = 5\n",
    "args.learning_rate_factor    = 0.1\n",
    "\n",
    "\n",
    "args.early_stop_patience     = 15\n",
    "\n",
    "args.use_gpu                 = True if torch.cuda.is_available() else False\n",
    "args.gpu                     = 1\n",
    "args.use_multi_gpu           = False\n",
    "\n",
    "args.optimizer               = \"Adam\"\n",
    "args.criterion               = \"CrossEntropy\""
   ]
  },
  {
   "cell_type": "markdown",
   "id": "c282cbcb",
   "metadata": {},
   "source": [
    "## 数据参数\n",
    "\n"
   ]
  },
  {
   "cell_type": "code",
   "execution_count": 9,
   "id": "c6cd147b",
   "metadata": {},
   "outputs": [],
   "source": [
    "args.seed                             = 2\n",
    "\n",
    "\n",
    "args.data_name                        =  \"hapt\"\n",
    "\n",
    "args.wavelet_filtering                = False\n",
    "args.wavelet_filtering_regularization = False\n",
    "args.wavelet_filtering_finetuning     = False\n",
    "\n",
    "\n",
    "args.difference       = False \n",
    "args.filtering        = False\n",
    "args.magnitude        = False\n",
    "args.weighted_sampler = False\n",
    "\n",
    "\n",
    "\n",
    "\n",
    "args.pos_select       = None\n",
    "args.sensor_select    = None\n",
    "\n",
    "\n",
    "args.representation_type = \"time\"\n",
    "args.exp_mode            = \"LOCV\"\n",
    "\n",
    "config_file = open('../../configs/data.yaml', mode='r')\n",
    "data_config = yaml.load(config_file, Loader=yaml.FullLoader)\n",
    "config = data_config[args.data_name]\n",
    "\n",
    "args.root_path       = os.path.join(args.root_path,config[\"filename\"])\n",
    "args.sampling_freq   = config[\"sampling_freq\"]\n",
    "args.num_classes     =  config[\"num_classes\"]\n",
    "window_seconds       = config[\"window_seconds\"]\n",
    "args.windowsize      =   int(window_seconds * args.sampling_freq) \n",
    "args.input_length    =  args.windowsize\n",
    "# input information\n",
    "args.c_in            = config[\"num_channels\"]\n",
    "\n",
    "if args.wavelet_filtering :\n",
    "    \n",
    "    if args.windowsize%2==1:\n",
    "        N_ds = int(torch.log2(torch.tensor(args.windowsize-1)).floor()) - 2\n",
    "    else:\n",
    "        N_ds = int(torch.log2(torch.tensor(args.windowsize)).floor()) - 2\n",
    "\n",
    "    args.f_in            =  args.number_wavelet_filtering*N_ds+1\n",
    "else:\n",
    "    args.f_in            =  1"
   ]
  },
  {
   "cell_type": "markdown",
   "id": "4d435a4c",
   "metadata": {},
   "source": [
    "## 模型参数"
   ]
  },
  {
   "cell_type": "code",
   "execution_count": 10,
   "id": "de2f4d16",
   "metadata": {},
   "outputs": [],
   "source": [
    "args.filter_scaling_factor = 1\n",
    "args.model_type            = \"deepconvlstm\""
   ]
  },
  {
   "cell_type": "markdown",
   "id": "cada66dd",
   "metadata": {},
   "source": [
    "# 实验"
   ]
  },
  {
   "cell_type": "code",
   "execution_count": 11,
   "id": "2e3f2fad",
   "metadata": {
    "scrolled": true
   },
   "outputs": [
    {
     "name": "stdout",
     "output_type": "stream",
     "text": [
      "Use GPU: cuda:0\n",
      "Build the DeepConvLSTM model!\n",
      "Done!\n",
      "Parameter : 9777736\n",
      "Set the seed as :  1\n"
     ]
    }
   ],
   "source": [
    "exp = Exp(args)"
   ]
  },
  {
   "cell_type": "code",
   "execution_count": 6,
   "id": "07c1ad28-fd70-4b18-af3c-9ecac093bfa4",
   "metadata": {},
   "outputs": [
    {
     "name": "stdout",
     "output_type": "stream",
     "text": [
      "model.conv_blocks.0.conv1.weight\n",
      "torch.Size([64, 1, 5, 1])\n",
      "model.conv_blocks.0.conv1.bias\n",
      "torch.Size([64])\n",
      "model.conv_blocks.0.conv2.weight\n",
      "torch.Size([64, 64, 5, 1])\n",
      "model.conv_blocks.0.conv2.bias\n",
      "torch.Size([64])\n",
      "model.conv_blocks.1.conv1.weight\n",
      "torch.Size([64, 64, 5, 1])\n",
      "model.conv_blocks.1.conv1.bias\n",
      "torch.Size([64])\n",
      "model.conv_blocks.1.conv2.weight\n",
      "torch.Size([64, 64, 5, 1])\n",
      "model.conv_blocks.1.conv2.bias\n",
      "torch.Size([64])\n",
      "model.lstm_layers.0.weight_ih_l0\n",
      "torch.Size([1024, 384])\n",
      "model.lstm_layers.0.weight_hh_l0\n",
      "torch.Size([1024, 256])\n",
      "model.lstm_layers.0.bias_ih_l0\n",
      "torch.Size([1024])\n",
      "model.lstm_layers.0.bias_hh_l0\n",
      "torch.Size([1024])\n",
      "model.fc.weight\n",
      "torch.Size([12, 256])\n",
      "model.fc.bias\n",
      "torch.Size([12])\n"
     ]
    }
   ],
   "source": [
    "for n, p in exp.model.named_parameters():\n",
    "    print(n)\n",
    "    print(p.shape)"
   ]
  },
  {
   "cell_type": "code",
   "execution_count": null,
   "id": "09a011fc",
   "metadata": {
    "scrolled": true
   },
   "outputs": [
    {
     "name": "stdout",
     "output_type": "stream",
     "text": [
      " ----------------------- load all the data -------------------\n",
      "-----------------------Sliding file are generated -----------------------\n",
      "-----------------------Sliding file are generated -----------------------\n",
      "================ LOCV Mode ====================\n",
      "================ 30 CV ======================\n",
      "================ the 0 th CV Experiment ================ \n",
      "Leave one Out Experiment : The 1 Part as the test\n",
      "[-] Target sampling weights:  [0.00067114 0.00068353 0.00073529 0.00061125 0.00056211 0.00056948\n",
      " 0.00740741 0.01020408 0.00636943 0.00735294 0.00537634 0.00699301]\n",
      "Train data number :  10339\n",
      "The number of classes is :  12\n",
      "The input_length  is :  128\n",
      "The channel_in is :  6\n",
      "Validation data number :  1149\n",
      "Test data number :  6632\n",
      "================ Build the model ================ \n",
      "Build the DeepConvLSTM model!\n",
      "Epoch: 1 cost time: 7.366557836532593\n",
      "VALI: Epoch: 1, Steps: 81 | Train Loss: 0.8641761  Vali Loss: 0.3857185 Vali Accuracy: 0.8677111  Vali weighted F1: 0.8634029  Vali macro F1 0.6499658 \n",
      "Validation loss decreased (inf --> 0.385718).  Saving model ...\n",
      "Epoch: 2 cost time: 3.289483070373535\n",
      "VALI: Epoch: 2, Steps: 81 | Train Loss: 0.3457614  Vali Loss: 0.2444803 Vali Accuracy: 0.9129678  Vali weighted F1: 0.9122417  Vali macro F1 0.7769037 \n",
      "new best score!!!!\n",
      "Validation loss decreased (0.385718 --> 0.244480).  Saving model ...\n",
      "new best score!!!!\n",
      "Epoch: 3 cost time: 3.2656872272491455\n",
      "VALI: Epoch: 3, Steps: 81 | Train Loss: 0.2517233  Vali Loss: 0.2150542 Vali Accuracy: 0.9190601  Vali weighted F1: 0.9187624  Vali macro F1 0.7716257 \n",
      "new best score!!!!\n",
      "Validation loss decreased (0.244480 --> 0.215054).  Saving model ...\n",
      "new best score!!!!\n",
      "Epoch: 4 cost time: 3.262559413909912\n",
      "VALI: Epoch: 4, Steps: 81 | Train Loss: 0.2154669  Vali Loss: 0.1741753 Vali Accuracy: 0.9329852  Vali weighted F1: 0.9324300  Vali macro F1 0.8057850 \n",
      "new best score!!!!\n",
      "Validation loss decreased (0.215054 --> 0.174175).  Saving model ...\n",
      "new best score!!!!\n",
      "Epoch: 5 cost time: 3.241950511932373\n",
      "VALI: Epoch: 5, Steps: 81 | Train Loss: 0.2012292  Vali Loss: 0.1619875 Vali Accuracy: 0.9338555  Vali weighted F1: 0.9343862  Vali macro F1 0.7906728 \n",
      "new best score!!!!\n",
      "Validation loss decreased (0.174175 --> 0.161987).  Saving model ...\n",
      "new best score!!!!\n",
      "Epoch: 6 cost time: 3.2503254413604736\n",
      "VALI: Epoch: 6, Steps: 81 | Train Loss: 0.1821212  Vali Loss: 0.1511986 Vali Accuracy: 0.9329852  Vali weighted F1: 0.9342867  Vali macro F1 0.8042517 \n",
      "new best score!!!!\n",
      "Validation loss decreased (0.161987 --> 0.151199).  Saving model ...\n",
      "new best score!!!!\n",
      "Epoch: 7 cost time: 3.2370123863220215\n",
      "VALI: Epoch: 7, Steps: 81 | Train Loss: 0.1681142  Vali Loss: 0.1485353 Vali Accuracy: 0.9416884  Vali weighted F1: 0.9414729  Vali macro F1 0.8507152 \n",
      "new best score!!!!\n",
      "Validation loss decreased (0.151199 --> 0.148535).  Saving model ...\n",
      "new best score!!!!\n",
      "Epoch: 8 cost time: 3.2157015800476074\n",
      "VALI: Epoch: 8, Steps: 81 | Train Loss: 0.1541400  Vali Loss: 0.1431301 Vali Accuracy: 0.9477807  Vali weighted F1: 0.9485911  Vali macro F1 0.8429425 \n",
      "new best score!!!!\n",
      "Validation loss decreased (0.148535 --> 0.143130).  Saving model ...\n",
      "new best score!!!!\n",
      "Epoch: 9 cost time: 3.2337801456451416\n",
      "VALI: Epoch: 9, Steps: 81 | Train Loss: 0.1674086  Vali Loss: 0.1391380 Vali Accuracy: 0.9399478  Vali weighted F1: 0.9402552  Vali macro F1 0.8294055 \n",
      "new best score!!!!\n",
      "Validation loss decreased (0.143130 --> 0.139138).  Saving model ...\n",
      "new best score!!!!\n",
      "Epoch: 10 cost time: 3.244352102279663\n",
      "VALI: Epoch: 10, Steps: 81 | Train Loss: 0.1422713  Vali Loss: 0.1226439 Vali Accuracy: 0.9564839  Vali weighted F1: 0.9567730  Vali macro F1 0.8817238 \n",
      "new best score!!!!\n",
      "Validation loss decreased (0.139138 --> 0.122644).  Saving model ...\n",
      "new best score!!!!\n",
      "Epoch: 11 cost time: 3.2569429874420166\n",
      "VALI: Epoch: 11, Steps: 81 | Train Loss: 0.1339453  Vali Loss: 0.1260894 Vali Accuracy: 0.9512620  Vali weighted F1: 0.9511198  Vali macro F1 0.8569365 \n",
      "EarlyStopping counter: 1 out of 15\n",
      "Learning rate adjusting counter: 1 out of 5\n",
      "Epoch: 12 cost time: 3.2154338359832764\n",
      "VALI: Epoch: 12, Steps: 81 | Train Loss: 0.1301957  Vali Loss: 0.1491490 Vali Accuracy: 0.9382071  Vali weighted F1: 0.9374717  Vali macro F1 0.8202055 \n",
      "EarlyStopping counter: 2 out of 15\n",
      "Learning rate adjusting counter: 2 out of 5\n",
      "Epoch: 13 cost time: 3.227200984954834\n",
      "VALI: Epoch: 13, Steps: 81 | Train Loss: 0.1234313  Vali Loss: 0.1218614 Vali Accuracy: 0.9617058  Vali weighted F1: 0.9617349  Vali macro F1 0.8854515 \n",
      "new best score!!!!\n",
      "Validation loss decreased (0.122644 --> 0.121861).  Saving model ...\n",
      "new best score!!!!\n",
      "Epoch: 14 cost time: 3.2181122303009033\n",
      "VALI: Epoch: 14, Steps: 81 | Train Loss: 0.1144553  Vali Loss: 0.1099256 Vali Accuracy: 0.9617058  Vali weighted F1: 0.9618562  Vali macro F1 0.8739136 \n",
      "new best score!!!!\n",
      "Validation loss decreased (0.121861 --> 0.109926).  Saving model ...\n",
      "new best score!!!!\n",
      "Epoch: 15 cost time: 3.30637264251709\n",
      "VALI: Epoch: 15, Steps: 81 | Train Loss: 0.1040775  Vali Loss: 0.1155094 Vali Accuracy: 0.9573542  Vali weighted F1: 0.9571829  Vali macro F1 0.8649448 \n",
      "EarlyStopping counter: 1 out of 15\n",
      "Learning rate adjusting counter: 1 out of 5\n"
     ]
    }
   ],
   "source": [
    "exp.train()"
   ]
  }
 ],
 "metadata": {
  "kernelspec": {
   "display_name": "SDIL",
   "language": "python",
   "name": "sdil"
  },
  "language_info": {
   "codemirror_mode": {
    "name": "ipython",
    "version": 3
   },
   "file_extension": ".py",
   "mimetype": "text/x-python",
   "name": "python",
   "nbconvert_exporter": "python",
   "pygments_lexer": "ipython3",
   "version": "3.8.13"
  },
  "toc": {
   "base_numbering": 1,
   "nav_menu": {},
   "number_sections": true,
   "sideBar": true,
   "skip_h1_title": false,
   "title_cell": "Table of Contents",
   "title_sidebar": "Contents",
   "toc_cell": false,
   "toc_position": {},
   "toc_section_display": true,
   "toc_window_display": true
  }
 },
 "nbformat": 4,
 "nbformat_minor": 5
}
