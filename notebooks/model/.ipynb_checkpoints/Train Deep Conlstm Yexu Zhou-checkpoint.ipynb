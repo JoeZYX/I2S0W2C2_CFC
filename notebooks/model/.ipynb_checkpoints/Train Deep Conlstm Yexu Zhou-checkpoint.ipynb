{
 "cells": [
  {
   "cell_type": "code",
   "execution_count": 1,
   "id": "894e2c21",
   "metadata": {},
   "outputs": [],
   "source": [
    "import warnings\n",
    "warnings.filterwarnings(\"ignore\")\n",
    "\n",
    "import sys\n",
    "sys.path.append(\"../../\")\n",
    "\n",
    "from experiment import Exp\n",
    "\n",
    "from dataloaders import data_set,data_dict\n",
    "import torch\n",
    "import yaml\n",
    "import os"
   ]
  },
  {
   "cell_type": "markdown",
   "id": "bcc56bc7",
   "metadata": {},
   "source": [
    "# 参数设置"
   ]
  },
  {
   "cell_type": "markdown",
   "id": "dcc5bcbc",
   "metadata": {},
   "source": [
    "# 训练参数 \n",
    "除了路径 其他不要变"
   ]
  },
  {
   "cell_type": "code",
   "execution_count": 2,
   "id": "86004ce0",
   "metadata": {},
   "outputs": [],
   "source": [
    "class dotdict(dict):\n",
    "    \"\"\"dot.notation access to dictionary attributes\"\"\"\n",
    "    __getattr__ = dict.get\n",
    "    __setattr__ = dict.__setitem__\n",
    "    __delattr__ = dict.__delitem__\n",
    "\n",
    "args = dotdict()   \n",
    "# TODO change the path as relative path\n",
    "args.to_save_path     = r\"E:\\TECO_Works\\Conference\\ISWC2022\\Run_logs\"              \n",
    "args.freq_save_path   = r\"E:\\TECO_Works\\Conference\\ISWC2022\\Freq_data\"\n",
    "args.window_save_path = r\"E:\\TECO_Works\\Conference\\ISWC2022\\Sliding_window\"\n",
    "args.root_path        = r\"E:\\datasets\"\n",
    "\n",
    "\n",
    "args.drop_transition  = False\n",
    "args.datanorm_type    = \"standardization\" # None ,\"standardization\", \"minmax\"\n",
    "\n",
    "\n",
    "args.batch_size       = 256                                                     \n",
    "args.shuffle          = True\n",
    "args.drop_last        = False\n",
    "args.train_vali_quote = 0.90                                           \n",
    "\n",
    "\n",
    "# training setting \n",
    "args.train_epochs            = 150\n",
    "\n",
    "args.learning_rate           = 0.001  \n",
    "args.learning_rate_patience  = 5\n",
    "args.learning_rate_factor    = 0.1\n",
    "\n",
    "\n",
    "args.early_stop_patience     = 15\n",
    "\n",
    "args.use_gpu                 = True if torch.cuda.is_available() else False\n",
    "args.gpu                     = 0\n",
    "args.use_multi_gpu           = False\n",
    "\n",
    "args.optimizer               = \"Adam\"\n",
    "args.criterion               = \"CrossEntropy\""
   ]
  },
  {
   "cell_type": "markdown",
   "id": "c282cbcb",
   "metadata": {},
   "source": [
    "## 数据参数\n",
    "\n"
   ]
  },
  {
   "cell_type": "code",
   "execution_count": 3,
   "id": "c6cd147b",
   "metadata": {},
   "outputs": [],
   "source": [
    "args.seed                             = 1\n",
    "\n",
    "\n",
    "args.data_name                        =  \"hapt\"\n",
    "\n",
    "args.wavelet_filtering                = True\n",
    "args.wavelet_filtering_regularization = True\n",
    "args.wavelet_filtering_finetuning     = False\n",
    "args.wavelet_filtering_finetuning_percent = 0.5\n",
    "args.wavelet_filtering_learnable      = False\n",
    "args.wavelet_filtering_layernorm      = False\n",
    "\n",
    "args.regulatization_tradeoff          = 0\n",
    "args.number_wavelet_filtering         = 6\n",
    "\n",
    "\n",
    "args.difference       = False \n",
    "args.filtering        =  False\n",
    "args.magnitude        =  False\n",
    "args.weighted_sampler = False\n",
    "\n",
    "\n",
    "\n",
    "\n",
    "args.pos_select       = None\n",
    "args.sensor_select    = None\n",
    "\n",
    "\n",
    "args.representation_type = \"time\"\n",
    "args.exp_mode            = \"LOCV\"\n",
    "if args.data_name      ==  \"skodar\":\n",
    "    args.exp_mode            = \"SOCV\"\n",
    "config_file = open('../../configs/data.yaml', mode='r')\n",
    "data_config = yaml.load(config_file, Loader=yaml.FullLoader)\n",
    "config = data_config[args.data_name]\n",
    "\n",
    "args.root_path       = os.path.join(args.root_path,config[\"filename\"])\n",
    "args.sampling_freq   = config[\"sampling_freq\"]\n",
    "args.num_classes     =  config[\"num_classes\"]\n",
    "window_seconds       = config[\"window_seconds\"]\n",
    "args.windowsize      =   int(window_seconds * args.sampling_freq) \n",
    "args.input_length    =  args.windowsize\n",
    "# input information\n",
    "args.c_in            = config[\"num_channels\"]\n",
    "\n",
    "if args.wavelet_filtering :\n",
    "    \n",
    "    if args.windowsize%2==1:\n",
    "        N_ds = int(torch.log2(torch.tensor(args.windowsize-1)).floor()) - 2\n",
    "    else:\n",
    "        N_ds = int(torch.log2(torch.tensor(args.windowsize)).floor()) - 2\n",
    "\n",
    "    args.f_in            =  args.number_wavelet_filtering*N_ds+1\n",
    "else:\n",
    "    args.f_in            =  1\n",
    "\n"
   ]
  },
  {
   "cell_type": "markdown",
   "id": "4d435a4c",
   "metadata": {},
   "source": [
    "## 模型参数"
   ]
  },
  {
   "cell_type": "code",
   "execution_count": 4,
   "id": "de2f4d16",
   "metadata": {},
   "outputs": [],
   "source": [
    "args.filter_scaling_factor = 0.5\n",
    "args.model_type              = \"deepconvlstm\"#\"deepconvlstm\"#\"sahar\" #\"deepconvlstm\""
   ]
  },
  {
   "cell_type": "code",
   "execution_count": 5,
   "id": "505605ee",
   "metadata": {},
   "outputs": [],
   "source": [
    "args.model_type              = \"tinyhar\"#\"deepconvlstm\"#\"sahar\" #\"deepconvlstm\"\n",
    "\n",
    "args.cross_channel_interaction_type = \"transformer\"\n",
    "args.cross_channel_aggregation_type = \"naive\"\n",
    "args.temporal_info_interaction_type = \"transformer\"\n",
    "args.temporal_info_aggregation_type = \"naive\""
   ]
  },
  {
   "cell_type": "code",
   "execution_count": null,
   "id": "e8611c43",
   "metadata": {},
   "outputs": [],
   "source": [
    "# cross_channel_interaction_type = \"attn\",    # attn  transformer  identity\n",
    "# cross_channel_aggregation_type = \"filter\",  # filter  naive  FC\n",
    "# temporal_info_interaction_type = \"gru\",     # gru  lstm  attn  transformer  identity\n",
    "# temporal_info_aggregation_type = \"FC\",      # naive  filter  FC "
   ]
  },
  {
   "cell_type": "markdown",
   "id": "cada66dd",
   "metadata": {},
   "source": [
    "# 实验"
   ]
  },
  {
   "cell_type": "code",
   "execution_count": 6,
   "id": "2e3f2fad",
   "metadata": {},
   "outputs": [
    {
     "name": "stdout",
     "output_type": "stream",
     "text": [
      "Use GPU: cuda:0\n",
      "clone the  wavefiler weight\n",
      "Wavelet Filtering Regularization\n",
      "Build the TinyHAR model!\n",
      "Done!\n",
      "Parameter : 42124\n",
      "Set the seed as :  1\n"
     ]
    }
   ],
   "source": [
    "# 如果我们设置为 \n",
    "args.wavelet_filtering_learnable      = False\n",
    "exp = Exp(args)"
   ]
  },
  {
   "cell_type": "code",
   "execution_count": 7,
   "id": "2185d2f5",
   "metadata": {},
   "outputs": [],
   "source": [
    "# 如果我们设置为 \n",
    "# args.wavelet_filtering_learnable      = True\n",
    "# exp = Exp(args)"
   ]
  },
  {
   "cell_type": "code",
   "execution_count": 8,
   "id": "9377a231",
   "metadata": {},
   "outputs": [
    {
     "name": "stdout",
     "output_type": "stream",
     "text": [
      " ----------------------- load all the data -------------------\n",
      "-----------------------Sliding file are generated -----------------------\n",
      "-----------------------Sliding file are generated -----------------------\n",
      "================ LOCV Mode ====================\n",
      "================ 30 CV ======================\n",
      "================ the 0 th CV Experiment ================ \n",
      "Leave one Out Experiment : The 1 Part as the test\n",
      "[-] Target sampling weights:  [0.0006689  0.00068213 0.00073746 0.00061275 0.00056243 0.00056754\n",
      " 0.00746269 0.01041667 0.00641026 0.00719424 0.00534759 0.00724638]\n",
      "Train data number :  10339\n",
      "The number of classes is :  12\n",
      "The input_length  is :  128\n",
      "The channel_in is :  6\n",
      "Validation data number :  1149\n",
      "Test data number :  6632\n",
      "================ Build the model ================ \n",
      "clone the  wavefiler weight\n",
      "Wavelet Filtering Regularization\n",
      "Build the TinyHAR model!\n",
      "Epoch: 1 cost time: 7.573206424713135\n",
      "VALI: Epoch: 1, Steps: 41 | Train Loss: 1.2880249  Vali Loss: 1.7692603 Vali Accuracy: 0.4543081  Vali weighted F1: 0.4117316  Vali macro F1 0.2158701 \n",
      "Validation loss decreased (inf --> 1.769260).  Saving model ...\n",
      "Epoch: 2 cost time: 4.963117361068726\n",
      "VALI: Epoch: 2, Steps: 41 | Train Loss: 0.5346328  Vali Loss: 0.4126533 Vali Accuracy: 0.8546562  Vali weighted F1: 0.8442022  Vali macro F1 0.5316773 \n",
      "new best score!!!!\n",
      "Validation loss decreased (1.769260 --> 0.412653).  Saving model ...\n",
      "new best score!!!!\n",
      "Epoch: 3 cost time: 4.90610408782959\n",
      "VALI: Epoch: 3, Steps: 41 | Train Loss: 0.3770196  Vali Loss: 0.3626973 Vali Accuracy: 0.8389904  Vali weighted F1: 0.8268692  Vali macro F1 0.5620751 \n",
      "new best score!!!!\n",
      "Validation loss decreased (0.412653 --> 0.362697).  Saving model ...\n",
      "new best score!!!!\n",
      "Epoch: 4 cost time: 4.882614850997925\n",
      "VALI: Epoch: 4, Steps: 41 | Train Loss: 0.3386115  Vali Loss: 0.3017896 Vali Accuracy: 0.8798956  Vali weighted F1: 0.8767389  Vali macro F1 0.6055185 \n",
      "new best score!!!!\n",
      "Validation loss decreased (0.362697 --> 0.301790).  Saving model ...\n",
      "new best score!!!!\n",
      "Epoch: 5 cost time: 4.925811052322388\n",
      "VALI: Epoch: 5, Steps: 41 | Train Loss: 0.3097900  Vali Loss: 0.2974720 Vali Accuracy: 0.8798956  Vali weighted F1: 0.8720248  Vali macro F1 0.6155971 \n",
      "new best score!!!!\n",
      "Validation loss decreased (0.301790 --> 0.297472).  Saving model ...\n",
      "new best score!!!!\n",
      "Epoch: 6 cost time: 5.092624187469482\n",
      "VALI: Epoch: 6, Steps: 41 | Train Loss: 0.2893619  Vali Loss: 0.2642961 Vali Accuracy: 0.8894691  Vali weighted F1: 0.8878401  Vali macro F1 0.6758925 \n",
      "new best score!!!!\n",
      "Validation loss decreased (0.297472 --> 0.264296).  Saving model ...\n",
      "new best score!!!!\n",
      "Epoch: 7 cost time: 4.934002161026001\n",
      "VALI: Epoch: 7, Steps: 41 | Train Loss: 0.2703143  Vali Loss: 0.2685260 Vali Accuracy: 0.8912097  Vali weighted F1: 0.8908703  Vali macro F1 0.7131141 \n",
      "EarlyStopping counter: 1 out of 15\n",
      "Learning rate adjusting counter: 1 out of 5\n",
      "Epoch: 8 cost time: 5.01507830619812\n",
      "VALI: Epoch: 8, Steps: 41 | Train Loss: 0.2596156  Vali Loss: 0.2433845 Vali Accuracy: 0.8981723  Vali weighted F1: 0.8978193  Vali macro F1 0.7177139 \n",
      "new best score!!!!\n",
      "Validation loss decreased (0.264296 --> 0.243385).  Saving model ...\n",
      "new best score!!!!\n",
      "Epoch: 9 cost time: 5.095195531845093\n",
      "VALI: Epoch: 9, Steps: 41 | Train Loss: 0.2477699  Vali Loss: 0.2418347 Vali Accuracy: 0.8929504  Vali weighted F1: 0.8904304  Vali macro F1 0.7107892 \n",
      "new best score!!!!\n",
      "Validation loss decreased (0.243385 --> 0.241835).  Saving model ...\n",
      "new best score!!!!\n",
      "Epoch: 10 cost time: 5.033751964569092\n",
      "VALI: Epoch: 10, Steps: 41 | Train Loss: 0.2427186  Vali Loss: 0.2482848 Vali Accuracy: 0.9033943  Vali weighted F1: 0.9003760  Vali macro F1 0.7654586 \n",
      "EarlyStopping counter: 1 out of 15\n",
      "Learning rate adjusting counter: 1 out of 5\n",
      "Epoch: 11 cost time: 5.938967943191528\n",
      "VALI: Epoch: 11, Steps: 41 | Train Loss: 0.2278227  Vali Loss: 0.2230011 Vali Accuracy: 0.9042646  Vali weighted F1: 0.9038451  Vali macro F1 0.7913286 \n",
      "new best score!!!!\n",
      "Validation loss decreased (0.241835 --> 0.223001).  Saving model ...\n",
      "new best score!!!!\n",
      "Epoch: 12 cost time: 6.161047697067261\n",
      "VALI: Epoch: 12, Steps: 41 | Train Loss: 0.2270556  Vali Loss: 0.2132078 Vali Accuracy: 0.9155788  Vali weighted F1: 0.9147490  Vali macro F1 0.7737650 \n",
      "new best score!!!!\n",
      "Validation loss decreased (0.223001 --> 0.213208).  Saving model ...\n",
      "new best score!!!!\n",
      "Epoch: 13 cost time: 6.416988134384155\n",
      "VALI: Epoch: 13, Steps: 41 | Train Loss: 0.2131753  Vali Loss: 0.2088136 Vali Accuracy: 0.9190601  Vali weighted F1: 0.9180333  Vali macro F1 0.7782519 \n",
      "new best score!!!!\n",
      "Validation loss decreased (0.213208 --> 0.208814).  Saving model ...\n",
      "new best score!!!!\n",
      "Epoch: 14 cost time: 6.530297517776489\n",
      "VALI: Epoch: 14, Steps: 41 | Train Loss: 0.2114419  Vali Loss: 0.2509791 Vali Accuracy: 0.8973020  Vali weighted F1: 0.8941917  Vali macro F1 0.7700452 \n",
      "EarlyStopping counter: 1 out of 15\n",
      "Learning rate adjusting counter: 1 out of 5\n",
      "Epoch: 15 cost time: 6.538475036621094\n",
      "VALI: Epoch: 15, Steps: 41 | Train Loss: 0.2175510  Vali Loss: 0.2207462 Vali Accuracy: 0.9042646  Vali weighted F1: 0.9056311  Vali macro F1 0.7571864 \n",
      "EarlyStopping counter: 2 out of 15\n",
      "Learning rate adjusting counter: 2 out of 5\n",
      "Epoch: 16 cost time: 6.6728551387786865\n",
      "VALI: Epoch: 16, Steps: 41 | Train Loss: 0.1972422  Vali Loss: 0.2864149 Vali Accuracy: 0.8616188  Vali weighted F1: 0.8548078  Vali macro F1 0.7244486 \n",
      "EarlyStopping counter: 3 out of 15\n",
      "Learning rate adjusting counter: 3 out of 5\n",
      "Epoch: 17 cost time: 6.6035475730896\n",
      "VALI: Epoch: 17, Steps: 41 | Train Loss: 0.1984303  Vali Loss: 0.2525698 Vali Accuracy: 0.8929504  Vali weighted F1: 0.8893624  Vali macro F1 0.7143075 \n",
      "EarlyStopping counter: 4 out of 15\n",
      "Learning rate adjusting counter: 4 out of 5\n",
      "Epoch: 18 cost time: 6.427870988845825\n",
      "VALI: Epoch: 18, Steps: 41 | Train Loss: 0.1884118  Vali Loss: 0.2091084 Vali Accuracy: 0.9086162  Vali weighted F1: 0.9097914  Vali macro F1 0.7820299 \n",
      "EarlyStopping counter: 5 out of 15\n",
      "Learning rate adjusting counter: 5 out of 5\n",
      "Updating learning rate to 0.0001\n",
      "Epoch: 19 cost time: 6.414417505264282\n",
      "VALI: Epoch: 19, Steps: 41 | Train Loss: 0.1590905  Vali Loss: 0.1923664 Vali Accuracy: 0.9208007  Vali weighted F1: 0.9215622  Vali macro F1 0.7920685 \n",
      "new best score!!!!\n",
      "Validation loss decreased (0.208814 --> 0.192366).  Saving model ...\n",
      "new best score!!!!\n",
      "Epoch: 20 cost time: 6.517722845077515\n",
      "VALI: Epoch: 20, Steps: 41 | Train Loss: 0.1506772  Vali Loss: 0.1850175 Vali Accuracy: 0.9234117  Vali weighted F1: 0.9237717  Vali macro F1 0.7887541 \n",
      "new best score!!!!\n",
      "Validation loss decreased (0.192366 --> 0.185018).  Saving model ...\n",
      "new best score!!!!\n",
      "Epoch: 21 cost time: 6.737710475921631\n",
      "VALI: Epoch: 21, Steps: 41 | Train Loss: 0.1490397  Vali Loss: 0.1808310 Vali Accuracy: 0.9268930  Vali weighted F1: 0.9263518  Vali macro F1 0.7825773 \n",
      "new best score!!!!\n",
      "Validation loss decreased (0.185018 --> 0.180831).  Saving model ...\n",
      "new best score!!!!\n",
      "Epoch: 22 cost time: 6.5891501903533936\n",
      "VALI: Epoch: 22, Steps: 41 | Train Loss: 0.1476893  Vali Loss: 0.1824779 Vali Accuracy: 0.9286336  Vali weighted F1: 0.9284513  Vali macro F1 0.7934335 \n",
      "EarlyStopping counter: 1 out of 15\n",
      "Learning rate adjusting counter: 1 out of 5\n",
      "Epoch: 23 cost time: 6.083158731460571\n",
      "VALI: Epoch: 23, Steps: 41 | Train Loss: 0.1433867  Vali Loss: 0.1872184 Vali Accuracy: 0.9208007  Vali weighted F1: 0.9208163  Vali macro F1 0.7854775 \n",
      "EarlyStopping counter: 2 out of 15\n",
      "Learning rate adjusting counter: 2 out of 5\n",
      "Epoch: 24 cost time: 5.060333013534546\n",
      "VALI: Epoch: 24, Steps: 41 | Train Loss: 0.1423022  Vali Loss: 0.1797154 Vali Accuracy: 0.9216710  Vali weighted F1: 0.9218887  Vali macro F1 0.7797912 \n",
      "new best score!!!!\n",
      "Validation loss decreased (0.180831 --> 0.179715).  Saving model ...\n",
      "new best score!!!!\n",
      "Epoch: 25 cost time: 4.701459884643555\n",
      "VALI: Epoch: 25, Steps: 41 | Train Loss: 0.1398731  Vali Loss: 0.1789245 Vali Accuracy: 0.9260226  Vali weighted F1: 0.9257025  Vali macro F1 0.7748972 \n",
      "new best score!!!!\n",
      "Validation loss decreased (0.179715 --> 0.178924).  Saving model ...\n",
      "new best score!!!!\n",
      "Epoch: 26 cost time: 4.687800168991089\n",
      "VALI: Epoch: 26, Steps: 41 | Train Loss: 0.1375280  Vali Loss: 0.1730269 Vali Accuracy: 0.9355962  Vali weighted F1: 0.9348279  Vali macro F1 0.8029341 \n",
      "new best score!!!!\n",
      "Validation loss decreased (0.178924 --> 0.173027).  Saving model ...\n",
      "new best score!!!!\n"
     ]
    },
    {
     "name": "stdout",
     "output_type": "stream",
     "text": [
      "Epoch: 27 cost time: 4.81374454498291\n",
      "VALI: Epoch: 27, Steps: 41 | Train Loss: 0.1365722  Vali Loss: 0.1812909 Vali Accuracy: 0.9251523  Vali weighted F1: 0.9248496  Vali macro F1 0.7756803 \n",
      "EarlyStopping counter: 1 out of 15\n",
      "Learning rate adjusting counter: 1 out of 5\n",
      "Epoch: 28 cost time: 4.873683929443359\n",
      "VALI: Epoch: 28, Steps: 41 | Train Loss: 0.1330436  Vali Loss: 0.1767718 Vali Accuracy: 0.9286336  Vali weighted F1: 0.9273057  Vali macro F1 0.7751349 \n",
      "EarlyStopping counter: 2 out of 15\n",
      "Learning rate adjusting counter: 2 out of 5\n",
      "Epoch: 29 cost time: 4.703922510147095\n",
      "VALI: Epoch: 29, Steps: 41 | Train Loss: 0.1324798  Vali Loss: 0.1699271 Vali Accuracy: 0.9268930  Vali weighted F1: 0.9269785  Vali macro F1 0.7750681 \n",
      "new best score!!!!\n",
      "Validation loss decreased (0.173027 --> 0.169927).  Saving model ...\n",
      "new best score!!!!\n",
      "Epoch: 30 cost time: 4.743631362915039\n",
      "VALI: Epoch: 30, Steps: 41 | Train Loss: 0.1295686  Vali Loss: 0.1768881 Vali Accuracy: 0.9277633  Vali weighted F1: 0.9267171  Vali macro F1 0.7854232 \n",
      "EarlyStopping counter: 1 out of 15\n",
      "Learning rate adjusting counter: 1 out of 5\n",
      "Epoch: 31 cost time: 4.701339960098267\n",
      "VALI: Epoch: 31, Steps: 41 | Train Loss: 0.1263141  Vali Loss: 0.1728559 Vali Accuracy: 0.9286336  Vali weighted F1: 0.9276260  Vali macro F1 0.7723598 \n",
      "EarlyStopping counter: 2 out of 15\n",
      "Learning rate adjusting counter: 2 out of 5\n",
      "Epoch: 32 cost time: 4.663052558898926\n",
      "VALI: Epoch: 32, Steps: 41 | Train Loss: 0.1266392  Vali Loss: 0.1747375 Vali Accuracy: 0.9268930  Vali weighted F1: 0.9263414  Vali macro F1 0.7692505 \n",
      "EarlyStopping counter: 3 out of 15\n",
      "Learning rate adjusting counter: 3 out of 5\n",
      "Epoch: 33 cost time: 4.8501410484313965\n",
      "VALI: Epoch: 33, Steps: 41 | Train Loss: 0.1253760  Vali Loss: 0.1695985 Vali Accuracy: 0.9295039  Vali weighted F1: 0.9291123  Vali macro F1 0.7738713 \n",
      "new best score!!!!\n",
      "Validation loss decreased (0.169927 --> 0.169598).  Saving model ...\n",
      "new best score!!!!\n",
      "Epoch: 34 cost time: 4.66332483291626\n",
      "VALI: Epoch: 34, Steps: 41 | Train Loss: 0.1267546  Vali Loss: 0.1753340 Vali Accuracy: 0.9268930  Vali weighted F1: 0.9268026  Vali macro F1 0.7657786 \n",
      "EarlyStopping counter: 1 out of 15\n",
      "Learning rate adjusting counter: 1 out of 5\n",
      "Epoch: 35 cost time: 4.717082738876343\n",
      "VALI: Epoch: 35, Steps: 41 | Train Loss: 0.1296546  Vali Loss: 0.1725709 Vali Accuracy: 0.9329852  Vali weighted F1: 0.9327396  Vali macro F1 0.7797483 \n",
      "EarlyStopping counter: 2 out of 15\n",
      "Learning rate adjusting counter: 2 out of 5\n",
      "Epoch: 36 cost time: 4.7000892162323\n",
      "VALI: Epoch: 36, Steps: 41 | Train Loss: 0.1291056  Vali Loss: 0.1722889 Vali Accuracy: 0.9295039  Vali weighted F1: 0.9289422  Vali macro F1 0.7689596 \n",
      "EarlyStopping counter: 3 out of 15\n",
      "Learning rate adjusting counter: 3 out of 5\n",
      "Epoch: 37 cost time: 4.650046110153198\n",
      "VALI: Epoch: 37, Steps: 41 | Train Loss: 0.1241178  Vali Loss: 0.1716511 Vali Accuracy: 0.9295039  Vali weighted F1: 0.9282297  Vali macro F1 0.7687717 \n",
      "EarlyStopping counter: 4 out of 15\n",
      "Learning rate adjusting counter: 4 out of 5\n",
      "Epoch: 38 cost time: 4.655047655105591\n",
      "VALI: Epoch: 38, Steps: 41 | Train Loss: 0.1236611  Vali Loss: 0.1777331 Vali Accuracy: 0.9286336  Vali weighted F1: 0.9282848  Vali macro F1 0.7812341 \n",
      "EarlyStopping counter: 5 out of 15\n",
      "Learning rate adjusting counter: 5 out of 5\n",
      "Updating learning rate to 1e-05\n",
      "Epoch: 39 cost time: 4.672052383422852\n",
      "VALI: Epoch: 39, Steps: 41 | Train Loss: 0.1155853  Vali Loss: 0.1723442 Vali Accuracy: 0.9329852  Vali weighted F1: 0.9327141  Vali macro F1 0.7786202 \n",
      "EarlyStopping counter: 6 out of 15\n",
      "Learning rate adjusting counter: 1 out of 5\n",
      "Epoch: 40 cost time: 4.727646589279175\n",
      "VALI: Epoch: 40, Steps: 41 | Train Loss: 0.1139536  Vali Loss: 0.1718211 Vali Accuracy: 0.9321149  Vali weighted F1: 0.9317993  Vali macro F1 0.7726785 \n",
      "EarlyStopping counter: 7 out of 15\n",
      "Learning rate adjusting counter: 2 out of 5\n",
      "Epoch: 41 cost time: 4.7303361892700195\n",
      "VALI: Epoch: 41, Steps: 41 | Train Loss: 0.1131409  Vali Loss: 0.1729740 Vali Accuracy: 0.9312446  Vali weighted F1: 0.9309272  Vali macro F1 0.7722365 \n",
      "EarlyStopping counter: 8 out of 15\n",
      "Learning rate adjusting counter: 3 out of 5\n",
      "Epoch: 42 cost time: 4.733065366744995\n",
      "VALI: Epoch: 42, Steps: 41 | Train Loss: 0.1140245  Vali Loss: 0.1725886 Vali Accuracy: 0.9312446  Vali weighted F1: 0.9307427  Vali macro F1 0.7747174 \n",
      "EarlyStopping counter: 9 out of 15\n",
      "Learning rate adjusting counter: 4 out of 5\n",
      "Epoch: 43 cost time: 4.69205641746521\n",
      "VALI: Epoch: 43, Steps: 41 | Train Loss: 0.1129690  Vali Loss: 0.1689166 Vali Accuracy: 0.9312446  Vali weighted F1: 0.9304709  Vali macro F1 0.7626074 \n",
      "new best score!!!!\n",
      "Validation loss decreased (0.169598 --> 0.168917).  Saving model ...\n",
      "new best score!!!!\n",
      "Epoch: 44 cost time: 5.456625461578369\n",
      "VALI: Epoch: 44, Steps: 41 | Train Loss: 0.1118887  Vali Loss: 0.1716046 Vali Accuracy: 0.9295039  Vali weighted F1: 0.9289509  Vali macro F1 0.7579498 \n",
      "EarlyStopping counter: 1 out of 15\n",
      "Learning rate adjusting counter: 1 out of 5\n",
      "Epoch: 45 cost time: 5.6936304569244385\n",
      "VALI: Epoch: 45, Steps: 41 | Train Loss: 0.1121685  Vali Loss: 0.1717853 Vali Accuracy: 0.9286336  Vali weighted F1: 0.9280675  Vali macro F1 0.7574947 \n",
      "EarlyStopping counter: 2 out of 15\n",
      "Learning rate adjusting counter: 2 out of 5\n",
      "Epoch: 46 cost time: 5.592420339584351\n",
      "VALI: Epoch: 46, Steps: 41 | Train Loss: 0.1130025  Vali Loss: 0.1724436 Vali Accuracy: 0.9303742  Vali weighted F1: 0.9293031  Vali macro F1 0.7727753 \n",
      "EarlyStopping counter: 3 out of 15\n",
      "Learning rate adjusting counter: 3 out of 5\n",
      "Epoch: 47 cost time: 5.625864267349243\n",
      "VALI: Epoch: 47, Steps: 41 | Train Loss: 0.1122621  Vali Loss: 0.1712993 Vali Accuracy: 0.9286336  Vali weighted F1: 0.9279897  Vali macro F1 0.7598773 \n",
      "EarlyStopping counter: 4 out of 15\n",
      "Learning rate adjusting counter: 4 out of 5\n",
      "Epoch: 48 cost time: 5.794466495513916\n",
      "VALI: Epoch: 48, Steps: 41 | Train Loss: 0.1143288  Vali Loss: 0.1701628 Vali Accuracy: 0.9286336  Vali weighted F1: 0.9279266  Vali macro F1 0.7589135 \n",
      "EarlyStopping counter: 5 out of 15\n",
      "Learning rate adjusting counter: 5 out of 5\n",
      "Updating learning rate to 1.0000000000000002e-06\n",
      "Epoch: 49 cost time: 5.762535333633423\n",
      "VALI: Epoch: 49, Steps: 41 | Train Loss: 0.1136464  Vali Loss: 0.1716582 Vali Accuracy: 0.9286336  Vali weighted F1: 0.9282189  Vali macro F1 0.7593433 \n",
      "EarlyStopping counter: 6 out of 15\n",
      "Learning rate adjusting counter: 1 out of 5\n",
      "Epoch: 50 cost time: 5.704158782958984\n",
      "VALI: Epoch: 50, Steps: 41 | Train Loss: 0.1117767  Vali Loss: 0.1702640 Vali Accuracy: 0.9286336  Vali weighted F1: 0.9279724  Vali macro F1 0.7538089 \n",
      "EarlyStopping counter: 7 out of 15\n",
      "Learning rate adjusting counter: 2 out of 5\n",
      "Epoch: 51 cost time: 5.774998188018799\n",
      "VALI: Epoch: 51, Steps: 41 | Train Loss: 0.1134301  Vali Loss: 0.1695966 Vali Accuracy: 0.9295039  Vali weighted F1: 0.9288434  Vali macro F1 0.7542503 \n",
      "EarlyStopping counter: 8 out of 15\n",
      "Learning rate adjusting counter: 3 out of 5\n",
      "Epoch: 52 cost time: 5.650631904602051\n",
      "VALI: Epoch: 52, Steps: 41 | Train Loss: 0.1114814  Vali Loss: 0.1694094 Vali Accuracy: 0.9312446  Vali weighted F1: 0.9306465  Vali macro F1 0.7671917 \n",
      "EarlyStopping counter: 9 out of 15\n",
      "Learning rate adjusting counter: 4 out of 5\n",
      "Epoch: 53 cost time: 5.783056020736694\n",
      "VALI: Epoch: 53, Steps: 41 | Train Loss: 0.1112413  Vali Loss: 0.1705559 Vali Accuracy: 0.9295039  Vali weighted F1: 0.9282206  Vali macro F1 0.7572092 \n",
      "EarlyStopping counter: 10 out of 15\n",
      "Learning rate adjusting counter: 5 out of 5\n",
      "Updating learning rate to 1.0000000000000002e-07\n",
      "Epoch: 54 cost time: 5.886792898178101\n",
      "VALI: Epoch: 54, Steps: 41 | Train Loss: 0.1126848  Vali Loss: 0.1686780 Vali Accuracy: 0.9295039  Vali weighted F1: 0.9287687  Vali macro F1 0.7566094 \n",
      "new best score!!!!\n",
      "Validation loss decreased (0.168917 --> 0.168678).  Saving model ...\n",
      "new best score!!!!\n",
      "Epoch: 55 cost time: 4.996882677078247\n",
      "VALI: Epoch: 55, Steps: 41 | Train Loss: 0.1135637  Vali Loss: 0.1706299 Vali Accuracy: 0.9295039  Vali weighted F1: 0.9286318  Vali macro F1 0.7649195 \n",
      "EarlyStopping counter: 1 out of 15\n",
      "Learning rate adjusting counter: 1 out of 5\n",
      "Epoch: 56 cost time: 4.902499198913574\n",
      "VALI: Epoch: 56, Steps: 41 | Train Loss: 0.1116585  Vali Loss: 0.1719487 Vali Accuracy: 0.9286336  Vali weighted F1: 0.9280775  Vali macro F1 0.7575091 \n",
      "EarlyStopping counter: 2 out of 15\n",
      "Learning rate adjusting counter: 2 out of 5\n"
     ]
    },
    {
     "name": "stdout",
     "output_type": "stream",
     "text": [
      "Epoch: 57 cost time: 4.6286327838897705\n",
      "VALI: Epoch: 57, Steps: 41 | Train Loss: 0.1087510  Vali Loss: 0.1708579 Vali Accuracy: 0.9295039  Vali weighted F1: 0.9289874  Vali macro F1 0.7600062 \n",
      "EarlyStopping counter: 3 out of 15\n",
      "Learning rate adjusting counter: 3 out of 5\n",
      "Epoch: 58 cost time: 4.561026096343994\n",
      "VALI: Epoch: 58, Steps: 41 | Train Loss: 0.1120445  Vali Loss: 0.1713094 Vali Accuracy: 0.9277633  Vali weighted F1: 0.9269788  Vali macro F1 0.7529712 \n",
      "EarlyStopping counter: 4 out of 15\n",
      "Learning rate adjusting counter: 4 out of 5\n",
      "Epoch: 59 cost time: 4.542533874511719\n",
      "VALI: Epoch: 59, Steps: 41 | Train Loss: 0.1101582  Vali Loss: 0.1708584 Vali Accuracy: 0.9286336  Vali weighted F1: 0.9278524  Vali macro F1 0.7612729 \n",
      "EarlyStopping counter: 5 out of 15\n",
      "Learning rate adjusting counter: 5 out of 5\n",
      "Updating learning rate to 1.0000000000000004e-08\n",
      "Epoch: 60 cost time: 4.518017768859863\n",
      "VALI: Epoch: 60, Steps: 41 | Train Loss: 0.1112370  Vali Loss: 0.1707270 Vali Accuracy: 0.9286336  Vali weighted F1: 0.9278391  Vali macro F1 0.7573860 \n",
      "EarlyStopping counter: 6 out of 15\n",
      "Learning rate adjusting counter: 1 out of 5\n",
      "Epoch: 61 cost time: 4.658997297286987\n",
      "VALI: Epoch: 61, Steps: 41 | Train Loss: 0.1097036  Vali Loss: 0.1711339 Vali Accuracy: 0.9286336  Vali weighted F1: 0.9280675  Vali macro F1 0.7574947 \n",
      "EarlyStopping counter: 7 out of 15\n",
      "Learning rate adjusting counter: 2 out of 5\n",
      "Epoch: 62 cost time: 4.501204967498779\n",
      "VALI: Epoch: 62, Steps: 41 | Train Loss: 0.1120034  Vali Loss: 0.1683208 Vali Accuracy: 0.9295039  Vali weighted F1: 0.9287258  Vali macro F1 0.7648305 \n",
      "new best score!!!!\n",
      "Validation loss decreased (0.168678 --> 0.168321).  Saving model ...\n",
      "new best score!!!!\n",
      "Epoch: 63 cost time: 4.5173985958099365\n",
      "VALI: Epoch: 63, Steps: 41 | Train Loss: 0.1125439  Vali Loss: 0.1699041 Vali Accuracy: 0.9303742  Vali weighted F1: 0.9293715  Vali macro F1 0.7657829 \n",
      "EarlyStopping counter: 1 out of 15\n",
      "Learning rate adjusting counter: 1 out of 5\n",
      "Epoch: 64 cost time: 4.555349826812744\n",
      "VALI: Epoch: 64, Steps: 41 | Train Loss: 0.1101593  Vali Loss: 0.1702108 Vali Accuracy: 0.9295039  Vali weighted F1: 0.9287238  Vali macro F1 0.7617145 \n",
      "EarlyStopping counter: 2 out of 15\n",
      "Learning rate adjusting counter: 2 out of 5\n",
      "Epoch: 65 cost time: 4.533019542694092\n",
      "VALI: Epoch: 65, Steps: 41 | Train Loss: 0.1130552  Vali Loss: 0.1698131 Vali Accuracy: 0.9303742  Vali weighted F1: 0.9298271  Vali macro F1 0.7616581 \n",
      "EarlyStopping counter: 3 out of 15\n",
      "Learning rate adjusting counter: 3 out of 5\n",
      "Epoch: 66 cost time: 4.5810325145721436\n",
      "VALI: Epoch: 66, Steps: 41 | Train Loss: 0.1129708  Vali Loss: 0.1723972 Vali Accuracy: 0.9277633  Vali weighted F1: 0.9269720  Vali macro F1 0.7569464 \n",
      "EarlyStopping counter: 4 out of 15\n",
      "Learning rate adjusting counter: 4 out of 5\n",
      "Epoch: 67 cost time: 4.530019521713257\n",
      "VALI: Epoch: 67, Steps: 41 | Train Loss: 0.1110137  Vali Loss: 0.1704858 Vali Accuracy: 0.9286336  Vali weighted F1: 0.9280675  Vali macro F1 0.7574947 \n",
      "EarlyStopping counter: 5 out of 15\n",
      "Learning rate adjusting counter: 5 out of 5\n",
      "Updating learning rate to 1.0000000000000005e-09\n",
      "Epoch: 68 cost time: 4.525026559829712\n",
      "VALI: Epoch: 68, Steps: 41 | Train Loss: 0.1108419  Vali Loss: 0.1725192 Vali Accuracy: 0.9277633  Vali weighted F1: 0.9271775  Vali macro F1 0.7532162 \n",
      "EarlyStopping counter: 6 out of 15\n",
      "Learning rate adjusting counter: 1 out of 5\n",
      "Epoch: 69 cost time: 4.521926641464233\n",
      "VALI: Epoch: 69, Steps: 41 | Train Loss: 0.1098528  Vali Loss: 0.1696365 Vali Accuracy: 0.9295039  Vali weighted F1: 0.9289792  Vali macro F1 0.7599926 \n",
      "EarlyStopping counter: 7 out of 15\n",
      "Learning rate adjusting counter: 2 out of 5\n",
      "Epoch: 70 cost time: 4.519590616226196\n",
      "VALI: Epoch: 70, Steps: 41 | Train Loss: 0.1125441  Vali Loss: 0.1699866 Vali Accuracy: 0.9295039  Vali weighted F1: 0.9291036  Vali macro F1 0.7584808 \n",
      "EarlyStopping counter: 8 out of 15\n",
      "Learning rate adjusting counter: 3 out of 5\n",
      "Epoch: 71 cost time: 4.556856870651245\n",
      "VALI: Epoch: 71, Steps: 41 | Train Loss: 0.1118264  Vali Loss: 0.1710490 Vali Accuracy: 0.9295039  Vali weighted F1: 0.9287026  Vali macro F1 0.7491214 \n",
      "EarlyStopping counter: 9 out of 15\n",
      "Learning rate adjusting counter: 4 out of 5\n",
      "Epoch: 72 cost time: 4.492966175079346\n",
      "VALI: Epoch: 72, Steps: 41 | Train Loss: 0.1107727  Vali Loss: 0.1736982 Vali Accuracy: 0.9260226  Vali weighted F1: 0.9252023  Vali macro F1 0.7413229 \n",
      "EarlyStopping counter: 10 out of 15\n",
      "Learning rate adjusting counter: 5 out of 5\n",
      "Updating learning rate to 1.0000000000000006e-10\n",
      "Epoch: 73 cost time: 4.502558469772339\n",
      "VALI: Epoch: 73, Steps: 41 | Train Loss: 0.1103525  Vali Loss: 0.1713518 Vali Accuracy: 0.9286336  Vali weighted F1: 0.9280131  Vali macro F1 0.7598828 \n",
      "EarlyStopping counter: 11 out of 15\n",
      "Learning rate adjusting counter: 1 out of 5\n",
      "Epoch: 74 cost time: 4.51101541519165\n",
      "VALI: Epoch: 74, Steps: 41 | Train Loss: 0.1111816  Vali Loss: 0.1710704 Vali Accuracy: 0.9295039  Vali weighted F1: 0.9290905  Vali macro F1 0.7597851 \n",
      "EarlyStopping counter: 12 out of 15\n",
      "Learning rate adjusting counter: 2 out of 5\n",
      "Epoch: 75 cost time: 4.506016969680786\n",
      "VALI: Epoch: 75, Steps: 41 | Train Loss: 0.1126652  Vali Loss: 0.1701642 Vali Accuracy: 0.9295039  Vali weighted F1: 0.9287703  Vali macro F1 0.7515277 \n",
      "EarlyStopping counter: 13 out of 15\n",
      "Learning rate adjusting counter: 3 out of 5\n",
      "Epoch: 76 cost time: 4.490010499954224\n",
      "VALI: Epoch: 76, Steps: 41 | Train Loss: 0.1111917  Vali Loss: 0.1712950 Vali Accuracy: 0.9286336  Vali weighted F1: 0.9280675  Vali macro F1 0.7574947 \n",
      "EarlyStopping counter: 14 out of 15\n",
      "Learning rate adjusting counter: 4 out of 5\n",
      "Epoch: 77 cost time: 4.513037919998169\n",
      "VALI: Epoch: 77, Steps: 41 | Train Loss: 0.1125560  Vali Loss: 0.1720681 Vali Accuracy: 0.9286336  Vali weighted F1: 0.9280675  Vali macro F1 0.7574947 \n",
      "EarlyStopping counter: 15 out of 15\n",
      "Early stopping\n",
      "Loading the best validation model!\n",
      "Final Test Performance : Test Accuracy: 0.9218938  Test weighted F1: 0.9195550  Test macro F1 0.7982180 \n",
      "================ the 1 th CV Experiment ================ \n",
      "Leave one Out Experiment : The 2 Part as the test\n",
      "[-] Target sampling weights:  [0.00064767 0.00068966 0.00072622 0.00061501 0.00056465 0.00055835\n",
      " 0.00769231 0.01020408 0.00628931 0.00704225 0.00598802 0.00724638]\n",
      "Train data number :  10393\n",
      "The number of classes is :  12\n",
      "The input_length  is :  128\n",
      "The channel_in is :  6\n",
      "Validation data number :  1155\n",
      "Test data number :  6311\n",
      "================ Build the model ================ \n",
      "clone the  wavefiler weight\n",
      "Wavelet Filtering Regularization\n",
      "Build the TinyHAR model!\n",
      "Epoch: 1 cost time: 4.558027982711792\n",
      "VALI: Epoch: 1, Steps: 41 | Train Loss: 1.2856668  Vali Loss: 1.5304616 Vali Accuracy: 0.4303030  Vali weighted F1: 0.3270248  Vali macro F1 0.1677219 \n",
      "Validation loss decreased (inf --> 1.530462).  Saving model ...\n",
      "Epoch: 2 cost time: 4.542021989822388\n",
      "VALI: Epoch: 2, Steps: 41 | Train Loss: 0.5462477  Vali Loss: 0.4081060 Vali Accuracy: 0.8597403  Vali weighted F1: 0.8467336  Vali macro F1 0.5527447 \n",
      "new best score!!!!\n",
      "Validation loss decreased (1.530462 --> 0.408106).  Saving model ...\n",
      "new best score!!!!\n",
      "Epoch: 3 cost time: 4.552027702331543\n",
      "VALI: Epoch: 3, Steps: 41 | Train Loss: 0.3603865  Vali Loss: 0.3679099 Vali Accuracy: 0.8770563  Vali weighted F1: 0.8708079  Vali macro F1 0.6086044 \n",
      "new best score!!!!\n",
      "Validation loss decreased (0.408106 --> 0.367910).  Saving model ...\n",
      "new best score!!!!\n",
      "Epoch: 4 cost time: 4.554028272628784\n",
      "VALI: Epoch: 4, Steps: 41 | Train Loss: 0.3211440  Vali Loss: 0.3451315 Vali Accuracy: 0.8692641  Vali weighted F1: 0.8624409  Vali macro F1 0.5905589 \n",
      "new best score!!!!\n",
      "Validation loss decreased (0.367910 --> 0.345132).  Saving model ...\n",
      "new best score!!!!\n",
      "Epoch: 5 cost time: 4.555887699127197\n",
      "VALI: Epoch: 5, Steps: 41 | Train Loss: 0.2995723  Vali Loss: 0.3079119 Vali Accuracy: 0.8787879  Vali weighted F1: 0.8722832  Vali macro F1 0.6435280 \n",
      "new best score!!!!\n",
      "Validation loss decreased (0.345132 --> 0.307912).  Saving model ...\n",
      "new best score!!!!\n",
      "Epoch: 6 cost time: 4.694294214248657\n",
      "VALI: Epoch: 6, Steps: 41 | Train Loss: 0.2850723  Vali Loss: 0.2898158 Vali Accuracy: 0.8900433  Vali weighted F1: 0.8874368  Vali macro F1 0.7029168 \n",
      "new best score!!!!\n",
      "Validation loss decreased (0.307912 --> 0.289816).  Saving model ...\n",
      "new best score!!!!\n"
     ]
    },
    {
     "name": "stdout",
     "output_type": "stream",
     "text": [
      "Epoch: 7 cost time: 4.558024883270264\n",
      "VALI: Epoch: 7, Steps: 41 | Train Loss: 0.2654451  Vali Loss: 0.3026471 Vali Accuracy: 0.8891775  Vali weighted F1: 0.8873876  Vali macro F1 0.7135936 \n",
      "EarlyStopping counter: 1 out of 15\n",
      "Learning rate adjusting counter: 1 out of 5\n",
      "Epoch: 8 cost time: 4.5610268115997314\n",
      "VALI: Epoch: 8, Steps: 41 | Train Loss: 0.2483348  Vali Loss: 0.2971963 Vali Accuracy: 0.8865801  Vali weighted F1: 0.8818063  Vali macro F1 0.6873247 \n",
      "EarlyStopping counter: 2 out of 15\n",
      "Learning rate adjusting counter: 2 out of 5\n",
      "Epoch: 9 cost time: 4.538024663925171\n",
      "VALI: Epoch: 9, Steps: 41 | Train Loss: 0.2368779  Vali Loss: 0.2916030 Vali Accuracy: 0.9030303  Vali weighted F1: 0.9007390  Vali macro F1 0.7537390 \n",
      "EarlyStopping counter: 3 out of 15\n",
      "Learning rate adjusting counter: 3 out of 5\n",
      "Epoch: 10 cost time: 4.586031436920166\n",
      "VALI: Epoch: 10, Steps: 41 | Train Loss: 0.2234999  Vali Loss: 0.2795401 Vali Accuracy: 0.8961039  Vali weighted F1: 0.8956954  Vali macro F1 0.7244518 \n",
      "new best score!!!!\n",
      "Validation loss decreased (0.289816 --> 0.279540).  Saving model ...\n",
      "new best score!!!!\n",
      "Epoch: 11 cost time: 4.556027412414551\n",
      "VALI: Epoch: 11, Steps: 41 | Train Loss: 0.2215573  Vali Loss: 0.2644207 Vali Accuracy: 0.8969697  Vali weighted F1: 0.8966169  Vali macro F1 0.7463455 \n",
      "new best score!!!!\n",
      "Validation loss decreased (0.279540 --> 0.264421).  Saving model ...\n",
      "new best score!!!!\n"
     ]
    },
    {
     "ename": "KeyboardInterrupt",
     "evalue": "",
     "output_type": "error",
     "traceback": [
      "\u001b[1;31m---------------------------------------------------------------------------\u001b[0m",
      "\u001b[1;31mKeyboardInterrupt\u001b[0m                         Traceback (most recent call last)",
      "\u001b[1;32m<ipython-input-8-21de09e58c74>\u001b[0m in \u001b[0;36m<module>\u001b[1;34m\u001b[0m\n\u001b[1;32m----> 1\u001b[1;33m \u001b[0mexp\u001b[0m\u001b[1;33m.\u001b[0m\u001b[0mtrain\u001b[0m\u001b[1;33m(\u001b[0m\u001b[1;33m)\u001b[0m\u001b[1;33m\u001b[0m\u001b[1;33m\u001b[0m\u001b[0m\n\u001b[0m",
      "\u001b[1;32mE:\\TECO_Works\\Conference\\ISWC2022\\I2S0W2C2_CFC\\experiment.py\u001b[0m in \u001b[0;36mtrain\u001b[1;34m(self)\u001b[0m\n\u001b[0;32m    257\u001b[0m                     \u001b[0mepoch_time\u001b[0m \u001b[1;33m=\u001b[0m \u001b[0mtime\u001b[0m\u001b[1;33m.\u001b[0m\u001b[0mtime\u001b[0m\u001b[1;33m(\u001b[0m\u001b[1;33m)\u001b[0m\u001b[1;33m\u001b[0m\u001b[1;33m\u001b[0m\u001b[0m\n\u001b[0;32m    258\u001b[0m \u001b[1;33m\u001b[0m\u001b[0m\n\u001b[1;32m--> 259\u001b[1;33m                     \u001b[1;32mfor\u001b[0m \u001b[0mi\u001b[0m\u001b[1;33m,\u001b[0m \u001b[1;33m(\u001b[0m\u001b[0mbatch_x1\u001b[0m\u001b[1;33m,\u001b[0m\u001b[0mbatch_x2\u001b[0m\u001b[1;33m,\u001b[0m\u001b[0mbatch_y\u001b[0m\u001b[1;33m)\u001b[0m \u001b[1;32min\u001b[0m \u001b[0menumerate\u001b[0m\u001b[1;33m(\u001b[0m\u001b[0mtrain_loader\u001b[0m\u001b[1;33m)\u001b[0m\u001b[1;33m:\u001b[0m\u001b[1;33m\u001b[0m\u001b[1;33m\u001b[0m\u001b[0m\n\u001b[0m\u001b[0;32m    260\u001b[0m \u001b[1;33m\u001b[0m\u001b[0m\n\u001b[0;32m    261\u001b[0m                         \u001b[1;32mif\u001b[0m \u001b[1;34m\"cross\"\u001b[0m \u001b[1;32min\u001b[0m \u001b[0mself\u001b[0m\u001b[1;33m.\u001b[0m\u001b[0margs\u001b[0m\u001b[1;33m.\u001b[0m\u001b[0mmodel_type\u001b[0m\u001b[1;33m:\u001b[0m\u001b[1;33m\u001b[0m\u001b[1;33m\u001b[0m\u001b[0m\n",
      "\u001b[1;32mD:\\anaconda\\lib\\site-packages\\torch\\utils\\data\\dataloader.py\u001b[0m in \u001b[0;36m__next__\u001b[1;34m(self)\u001b[0m\n\u001b[0;32m    519\u001b[0m             \u001b[1;32mif\u001b[0m \u001b[0mself\u001b[0m\u001b[1;33m.\u001b[0m\u001b[0m_sampler_iter\u001b[0m \u001b[1;32mis\u001b[0m \u001b[1;32mNone\u001b[0m\u001b[1;33m:\u001b[0m\u001b[1;33m\u001b[0m\u001b[1;33m\u001b[0m\u001b[0m\n\u001b[0;32m    520\u001b[0m                 \u001b[0mself\u001b[0m\u001b[1;33m.\u001b[0m\u001b[0m_reset\u001b[0m\u001b[1;33m(\u001b[0m\u001b[1;33m)\u001b[0m\u001b[1;33m\u001b[0m\u001b[1;33m\u001b[0m\u001b[0m\n\u001b[1;32m--> 521\u001b[1;33m             \u001b[0mdata\u001b[0m \u001b[1;33m=\u001b[0m \u001b[0mself\u001b[0m\u001b[1;33m.\u001b[0m\u001b[0m_next_data\u001b[0m\u001b[1;33m(\u001b[0m\u001b[1;33m)\u001b[0m\u001b[1;33m\u001b[0m\u001b[1;33m\u001b[0m\u001b[0m\n\u001b[0m\u001b[0;32m    522\u001b[0m             \u001b[0mself\u001b[0m\u001b[1;33m.\u001b[0m\u001b[0m_num_yielded\u001b[0m \u001b[1;33m+=\u001b[0m \u001b[1;36m1\u001b[0m\u001b[1;33m\u001b[0m\u001b[1;33m\u001b[0m\u001b[0m\n\u001b[0;32m    523\u001b[0m             \u001b[1;32mif\u001b[0m \u001b[0mself\u001b[0m\u001b[1;33m.\u001b[0m\u001b[0m_dataset_kind\u001b[0m \u001b[1;33m==\u001b[0m \u001b[0m_DatasetKind\u001b[0m\u001b[1;33m.\u001b[0m\u001b[0mIterable\u001b[0m \u001b[1;32mand\u001b[0m\u001b[0;31m \u001b[0m\u001b[0;31m\\\u001b[0m\u001b[1;33m\u001b[0m\u001b[1;33m\u001b[0m\u001b[0m\n",
      "\u001b[1;32mD:\\anaconda\\lib\\site-packages\\torch\\utils\\data\\dataloader.py\u001b[0m in \u001b[0;36m_next_data\u001b[1;34m(self)\u001b[0m\n\u001b[0;32m    559\u001b[0m     \u001b[1;32mdef\u001b[0m \u001b[0m_next_data\u001b[0m\u001b[1;33m(\u001b[0m\u001b[0mself\u001b[0m\u001b[1;33m)\u001b[0m\u001b[1;33m:\u001b[0m\u001b[1;33m\u001b[0m\u001b[1;33m\u001b[0m\u001b[0m\n\u001b[0;32m    560\u001b[0m         \u001b[0mindex\u001b[0m \u001b[1;33m=\u001b[0m \u001b[0mself\u001b[0m\u001b[1;33m.\u001b[0m\u001b[0m_next_index\u001b[0m\u001b[1;33m(\u001b[0m\u001b[1;33m)\u001b[0m  \u001b[1;31m# may raise StopIteration\u001b[0m\u001b[1;33m\u001b[0m\u001b[1;33m\u001b[0m\u001b[0m\n\u001b[1;32m--> 561\u001b[1;33m         \u001b[0mdata\u001b[0m \u001b[1;33m=\u001b[0m \u001b[0mself\u001b[0m\u001b[1;33m.\u001b[0m\u001b[0m_dataset_fetcher\u001b[0m\u001b[1;33m.\u001b[0m\u001b[0mfetch\u001b[0m\u001b[1;33m(\u001b[0m\u001b[0mindex\u001b[0m\u001b[1;33m)\u001b[0m  \u001b[1;31m# may raise StopIteration\u001b[0m\u001b[1;33m\u001b[0m\u001b[1;33m\u001b[0m\u001b[0m\n\u001b[0m\u001b[0;32m    562\u001b[0m         \u001b[1;32mif\u001b[0m \u001b[0mself\u001b[0m\u001b[1;33m.\u001b[0m\u001b[0m_pin_memory\u001b[0m\u001b[1;33m:\u001b[0m\u001b[1;33m\u001b[0m\u001b[1;33m\u001b[0m\u001b[0m\n\u001b[0;32m    563\u001b[0m             \u001b[0mdata\u001b[0m \u001b[1;33m=\u001b[0m \u001b[0m_utils\u001b[0m\u001b[1;33m.\u001b[0m\u001b[0mpin_memory\u001b[0m\u001b[1;33m.\u001b[0m\u001b[0mpin_memory\u001b[0m\u001b[1;33m(\u001b[0m\u001b[0mdata\u001b[0m\u001b[1;33m)\u001b[0m\u001b[1;33m\u001b[0m\u001b[1;33m\u001b[0m\u001b[0m\n",
      "\u001b[1;32mD:\\anaconda\\lib\\site-packages\\torch\\utils\\data\\_utils\\fetch.py\u001b[0m in \u001b[0;36mfetch\u001b[1;34m(self, possibly_batched_index)\u001b[0m\n\u001b[0;32m     42\u001b[0m     \u001b[1;32mdef\u001b[0m \u001b[0mfetch\u001b[0m\u001b[1;33m(\u001b[0m\u001b[0mself\u001b[0m\u001b[1;33m,\u001b[0m \u001b[0mpossibly_batched_index\u001b[0m\u001b[1;33m)\u001b[0m\u001b[1;33m:\u001b[0m\u001b[1;33m\u001b[0m\u001b[1;33m\u001b[0m\u001b[0m\n\u001b[0;32m     43\u001b[0m         \u001b[1;32mif\u001b[0m \u001b[0mself\u001b[0m\u001b[1;33m.\u001b[0m\u001b[0mauto_collation\u001b[0m\u001b[1;33m:\u001b[0m\u001b[1;33m\u001b[0m\u001b[1;33m\u001b[0m\u001b[0m\n\u001b[1;32m---> 44\u001b[1;33m             \u001b[0mdata\u001b[0m \u001b[1;33m=\u001b[0m \u001b[1;33m[\u001b[0m\u001b[0mself\u001b[0m\u001b[1;33m.\u001b[0m\u001b[0mdataset\u001b[0m\u001b[1;33m[\u001b[0m\u001b[0midx\u001b[0m\u001b[1;33m]\u001b[0m \u001b[1;32mfor\u001b[0m \u001b[0midx\u001b[0m \u001b[1;32min\u001b[0m \u001b[0mpossibly_batched_index\u001b[0m\u001b[1;33m]\u001b[0m\u001b[1;33m\u001b[0m\u001b[1;33m\u001b[0m\u001b[0m\n\u001b[0m\u001b[0;32m     45\u001b[0m         \u001b[1;32melse\u001b[0m\u001b[1;33m:\u001b[0m\u001b[1;33m\u001b[0m\u001b[1;33m\u001b[0m\u001b[0m\n\u001b[0;32m     46\u001b[0m             \u001b[0mdata\u001b[0m \u001b[1;33m=\u001b[0m \u001b[0mself\u001b[0m\u001b[1;33m.\u001b[0m\u001b[0mdataset\u001b[0m\u001b[1;33m[\u001b[0m\u001b[0mpossibly_batched_index\u001b[0m\u001b[1;33m]\u001b[0m\u001b[1;33m\u001b[0m\u001b[1;33m\u001b[0m\u001b[0m\n",
      "\u001b[1;32mD:\\anaconda\\lib\\site-packages\\torch\\utils\\data\\_utils\\fetch.py\u001b[0m in \u001b[0;36m<listcomp>\u001b[1;34m(.0)\u001b[0m\n\u001b[0;32m     42\u001b[0m     \u001b[1;32mdef\u001b[0m \u001b[0mfetch\u001b[0m\u001b[1;33m(\u001b[0m\u001b[0mself\u001b[0m\u001b[1;33m,\u001b[0m \u001b[0mpossibly_batched_index\u001b[0m\u001b[1;33m)\u001b[0m\u001b[1;33m:\u001b[0m\u001b[1;33m\u001b[0m\u001b[1;33m\u001b[0m\u001b[0m\n\u001b[0;32m     43\u001b[0m         \u001b[1;32mif\u001b[0m \u001b[0mself\u001b[0m\u001b[1;33m.\u001b[0m\u001b[0mauto_collation\u001b[0m\u001b[1;33m:\u001b[0m\u001b[1;33m\u001b[0m\u001b[1;33m\u001b[0m\u001b[0m\n\u001b[1;32m---> 44\u001b[1;33m             \u001b[0mdata\u001b[0m \u001b[1;33m=\u001b[0m \u001b[1;33m[\u001b[0m\u001b[0mself\u001b[0m\u001b[1;33m.\u001b[0m\u001b[0mdataset\u001b[0m\u001b[1;33m[\u001b[0m\u001b[0midx\u001b[0m\u001b[1;33m]\u001b[0m \u001b[1;32mfor\u001b[0m \u001b[0midx\u001b[0m \u001b[1;32min\u001b[0m \u001b[0mpossibly_batched_index\u001b[0m\u001b[1;33m]\u001b[0m\u001b[1;33m\u001b[0m\u001b[1;33m\u001b[0m\u001b[0m\n\u001b[0m\u001b[0;32m     45\u001b[0m         \u001b[1;32melse\u001b[0m\u001b[1;33m:\u001b[0m\u001b[1;33m\u001b[0m\u001b[1;33m\u001b[0m\u001b[0m\n\u001b[0;32m     46\u001b[0m             \u001b[0mdata\u001b[0m \u001b[1;33m=\u001b[0m \u001b[0mself\u001b[0m\u001b[1;33m.\u001b[0m\u001b[0mdataset\u001b[0m\u001b[1;33m[\u001b[0m\u001b[0mpossibly_batched_index\u001b[0m\u001b[1;33m]\u001b[0m\u001b[1;33m\u001b[0m\u001b[1;33m\u001b[0m\u001b[0m\n",
      "\u001b[1;32mE:\\TECO_Works\\Conference\\ISWC2022\\I2S0W2C2_CFC\\dataloaders\\__init__.py\u001b[0m in \u001b[0;36m__getitem__\u001b[1;34m(self, index)\u001b[0m\n\u001b[0;32m    158\u001b[0m                 \u001b[0msample_x\u001b[0m \u001b[1;33m=\u001b[0m \u001b[0mself\u001b[0m\u001b[1;33m.\u001b[0m\u001b[0mdata_x\u001b[0m\u001b[1;33m.\u001b[0m\u001b[0miloc\u001b[0m\u001b[1;33m[\u001b[0m\u001b[0mstart_index\u001b[0m\u001b[1;33m:\u001b[0m\u001b[0mend_index\u001b[0m\u001b[1;33m,\u001b[0m \u001b[1;36m1\u001b[0m\u001b[1;33m:\u001b[0m\u001b[1;33m-\u001b[0m\u001b[1;36m1\u001b[0m\u001b[1;33m]\u001b[0m\u001b[1;33m.\u001b[0m\u001b[0mvalues\u001b[0m\u001b[1;33m\u001b[0m\u001b[1;33m\u001b[0m\u001b[0m\n\u001b[0;32m    159\u001b[0m \u001b[1;33m\u001b[0m\u001b[0m\n\u001b[1;32m--> 160\u001b[1;33m             \u001b[0msample_y\u001b[0m \u001b[1;33m=\u001b[0m \u001b[0mself\u001b[0m\u001b[1;33m.\u001b[0m\u001b[0mclass_transform\u001b[0m\u001b[1;33m[\u001b[0m\u001b[0mself\u001b[0m\u001b[1;33m.\u001b[0m\u001b[0mdata_y\u001b[0m\u001b[1;33m.\u001b[0m\u001b[0miloc\u001b[0m\u001b[1;33m[\u001b[0m\u001b[0mstart_index\u001b[0m\u001b[1;33m:\u001b[0m\u001b[0mend_index\u001b[0m\u001b[1;33m]\u001b[0m\u001b[1;33m.\u001b[0m\u001b[0mmode\u001b[0m\u001b[1;33m(\u001b[0m\u001b[1;33m)\u001b[0m\u001b[1;33m.\u001b[0m\u001b[0mloc\u001b[0m\u001b[1;33m[\u001b[0m\u001b[1;36m0\u001b[0m\u001b[1;33m]\u001b[0m\u001b[1;33m]\u001b[0m\u001b[1;33m\u001b[0m\u001b[1;33m\u001b[0m\u001b[0m\n\u001b[0m\u001b[0;32m    161\u001b[0m             \u001b[1;31m#print(sample_x.shape)\u001b[0m\u001b[1;33m\u001b[0m\u001b[1;33m\u001b[0m\u001b[1;33m\u001b[0m\u001b[0m\n\u001b[0;32m    162\u001b[0m \u001b[1;33m\u001b[0m\u001b[0m\n",
      "\u001b[1;32mD:\\anaconda\\lib\\site-packages\\pandas\\core\\series.py\u001b[0m in \u001b[0;36mmode\u001b[1;34m(self, dropna)\u001b[0m\n\u001b[0;32m   1807\u001b[0m         \"\"\"\n\u001b[0;32m   1808\u001b[0m         \u001b[1;31m# TODO: Add option for bins like value_counts()\u001b[0m\u001b[1;33m\u001b[0m\u001b[1;33m\u001b[0m\u001b[1;33m\u001b[0m\u001b[0m\n\u001b[1;32m-> 1809\u001b[1;33m         \u001b[1;32mreturn\u001b[0m \u001b[0malgorithms\u001b[0m\u001b[1;33m.\u001b[0m\u001b[0mmode\u001b[0m\u001b[1;33m(\u001b[0m\u001b[0mself\u001b[0m\u001b[1;33m,\u001b[0m \u001b[0mdropna\u001b[0m\u001b[1;33m=\u001b[0m\u001b[0mdropna\u001b[0m\u001b[1;33m)\u001b[0m\u001b[1;33m\u001b[0m\u001b[1;33m\u001b[0m\u001b[0m\n\u001b[0m\u001b[0;32m   1810\u001b[0m \u001b[1;33m\u001b[0m\u001b[0m\n\u001b[0;32m   1811\u001b[0m     \u001b[1;32mdef\u001b[0m \u001b[0munique\u001b[0m\u001b[1;33m(\u001b[0m\u001b[0mself\u001b[0m\u001b[1;33m)\u001b[0m\u001b[1;33m:\u001b[0m\u001b[1;33m\u001b[0m\u001b[1;33m\u001b[0m\u001b[0m\n",
      "\u001b[1;32mD:\\anaconda\\lib\\site-packages\\pandas\\core\\algorithms.py\u001b[0m in \u001b[0;36mmode\u001b[1;34m(values, dropna)\u001b[0m\n\u001b[0;32m    940\u001b[0m     \u001b[0mresult\u001b[0m \u001b[1;33m=\u001b[0m \u001b[0mf\u001b[0m\u001b[1;33m(\u001b[0m\u001b[0mvalues\u001b[0m\u001b[1;33m,\u001b[0m \u001b[0mdropna\u001b[0m\u001b[1;33m=\u001b[0m\u001b[0mdropna\u001b[0m\u001b[1;33m)\u001b[0m\u001b[1;33m\u001b[0m\u001b[1;33m\u001b[0m\u001b[0m\n\u001b[0;32m    941\u001b[0m     \u001b[1;32mtry\u001b[0m\u001b[1;33m:\u001b[0m\u001b[1;33m\u001b[0m\u001b[1;33m\u001b[0m\u001b[0m\n\u001b[1;32m--> 942\u001b[1;33m         \u001b[0mresult\u001b[0m \u001b[1;33m=\u001b[0m \u001b[0mnp\u001b[0m\u001b[1;33m.\u001b[0m\u001b[0msort\u001b[0m\u001b[1;33m(\u001b[0m\u001b[0mresult\u001b[0m\u001b[1;33m)\u001b[0m\u001b[1;33m\u001b[0m\u001b[1;33m\u001b[0m\u001b[0m\n\u001b[0m\u001b[0;32m    943\u001b[0m     \u001b[1;32mexcept\u001b[0m \u001b[0mTypeError\u001b[0m \u001b[1;32mas\u001b[0m \u001b[0merr\u001b[0m\u001b[1;33m:\u001b[0m\u001b[1;33m\u001b[0m\u001b[1;33m\u001b[0m\u001b[0m\n\u001b[0;32m    944\u001b[0m         \u001b[0mwarn\u001b[0m\u001b[1;33m(\u001b[0m\u001b[1;34mf\"Unable to sort modes: {err}\"\u001b[0m\u001b[1;33m)\u001b[0m\u001b[1;33m\u001b[0m\u001b[1;33m\u001b[0m\u001b[0m\n",
      "\u001b[1;32m<__array_function__ internals>\u001b[0m in \u001b[0;36msort\u001b[1;34m(*args, **kwargs)\u001b[0m\n",
      "\u001b[1;32mD:\\anaconda\\lib\\site-packages\\numpy\\core\\fromnumeric.py\u001b[0m in \u001b[0;36msort\u001b[1;34m(a, axis, kind, order)\u001b[0m\n\u001b[0;32m    986\u001b[0m         \u001b[0maxis\u001b[0m \u001b[1;33m=\u001b[0m \u001b[1;33m-\u001b[0m\u001b[1;36m1\u001b[0m\u001b[1;33m\u001b[0m\u001b[1;33m\u001b[0m\u001b[0m\n\u001b[0;32m    987\u001b[0m     \u001b[1;32melse\u001b[0m\u001b[1;33m:\u001b[0m\u001b[1;33m\u001b[0m\u001b[1;33m\u001b[0m\u001b[0m\n\u001b[1;32m--> 988\u001b[1;33m         \u001b[0ma\u001b[0m \u001b[1;33m=\u001b[0m \u001b[0masanyarray\u001b[0m\u001b[1;33m(\u001b[0m\u001b[0ma\u001b[0m\u001b[1;33m)\u001b[0m\u001b[1;33m.\u001b[0m\u001b[0mcopy\u001b[0m\u001b[1;33m(\u001b[0m\u001b[0morder\u001b[0m\u001b[1;33m=\u001b[0m\u001b[1;34m\"K\"\u001b[0m\u001b[1;33m)\u001b[0m\u001b[1;33m\u001b[0m\u001b[1;33m\u001b[0m\u001b[0m\n\u001b[0m\u001b[0;32m    989\u001b[0m     \u001b[0ma\u001b[0m\u001b[1;33m.\u001b[0m\u001b[0msort\u001b[0m\u001b[1;33m(\u001b[0m\u001b[0maxis\u001b[0m\u001b[1;33m=\u001b[0m\u001b[0maxis\u001b[0m\u001b[1;33m,\u001b[0m \u001b[0mkind\u001b[0m\u001b[1;33m=\u001b[0m\u001b[0mkind\u001b[0m\u001b[1;33m,\u001b[0m \u001b[0morder\u001b[0m\u001b[1;33m=\u001b[0m\u001b[0morder\u001b[0m\u001b[1;33m)\u001b[0m\u001b[1;33m\u001b[0m\u001b[1;33m\u001b[0m\u001b[0m\n\u001b[0;32m    990\u001b[0m     \u001b[1;32mreturn\u001b[0m \u001b[0ma\u001b[0m\u001b[1;33m\u001b[0m\u001b[1;33m\u001b[0m\u001b[0m\n",
      "\u001b[1;31mKeyboardInterrupt\u001b[0m: "
     ]
    },
    {
     "data": {
      "image/png": "[encoded data removed]",
      "text/plain": [
       "<Figure size 432x288 with 2 Axes>"
      ]
     },
     "metadata": {
      "needs_background": "light"
     },
     "output_type": "display_data"
    }
   ],
   "source": [
    "exp.train()"
   ]
  },
  {
   "cell_type": "code",
   "execution_count": null,
   "id": "e0ef7d2e",
   "metadata": {},
   "outputs": [],
   "source": []
  },
  {
   "cell_type": "code",
   "execution_count": null,
   "id": "eea01754",
   "metadata": {},
   "outputs": [],
   "source": []
  },
  {
   "cell_type": "code",
   "execution_count": null,
   "id": "2ce94dee",
   "metadata": {},
   "outputs": [],
   "source": []
  },
  {
   "cell_type": "code",
   "execution_count": null,
   "id": "dcdb446c",
   "metadata": {},
   "outputs": [],
   "source": []
  },
  {
   "cell_type": "code",
   "execution_count": null,
   "id": "d3957353",
   "metadata": {},
   "outputs": [],
   "source": []
  },
  {
   "cell_type": "code",
   "execution_count": null,
   "id": "a4113eae",
   "metadata": {},
   "outputs": [],
   "source": []
  },
  {
   "cell_type": "code",
   "execution_count": null,
   "id": "4e7fb08e",
   "metadata": {},
   "outputs": [],
   "source": []
  },
  {
   "cell_type": "code",
   "execution_count": null,
   "id": "04508e6c",
   "metadata": {},
   "outputs": [],
   "source": []
  },
  {
   "cell_type": "code",
   "execution_count": 6,
   "id": "339ae571",
   "metadata": {},
   "outputs": [
    {
     "name": "stdout",
     "output_type": "stream",
     "text": [
      " ----------------------- load all the data -------------------\n",
      "-----------------------Sliding file are generated -----------------------\n",
      "-----------------------Sliding file are generated -----------------------\n"
     ]
    }
   ],
   "source": [
    "dataset = data_dict[args.data_name](args)"
   ]
  },
  {
   "cell_type": "code",
   "execution_count": 7,
   "id": "779e3397",
   "metadata": {},
   "outputs": [],
   "source": [
    "import numpy as np"
   ]
  },
  {
   "cell_type": "code",
   "execution_count": 8,
   "id": "cfb6776a",
   "metadata": {},
   "outputs": [
    {
     "name": "stdout",
     "output_type": "stream",
     "text": [
      "torch.Size([2, 1, 128, 6])\n"
     ]
    }
   ],
   "source": [
    "start_index = dataset.train_slidingwindows[0][1]\n",
    "end_index   = dataset.train_slidingwindows[0][2]\n",
    "sample_x_1    = dataset.data_x.iloc[start_index:end_index, 1:-1].values\n",
    "\n",
    "start_index = dataset.train_slidingwindows[100][1]\n",
    "end_index   = dataset.train_slidingwindows[100][2]\n",
    "sample_x_2    = dataset.data_x.iloc[start_index:end_index, 1:-1].values\n",
    "\n",
    "temp_1 = np.expand_dims(sample_x_1,0)\n",
    "temp_2 = np.expand_dims(sample_x_2,0)\n",
    "combined_x = np.concatenate([temp_1,temp_2],axis=0)\n",
    "combined_x = np.expand_dims(combined_x,1)\n",
    "combined_x = torch.tensor(combined_x).double().to(exp.device)\n",
    "print(combined_x.shape)"
   ]
  },
  {
   "cell_type": "code",
   "execution_count": 9,
   "id": "2af5063a",
   "metadata": {},
   "outputs": [],
   "source": [
    "out = exp.model(combined_x)\n",
    "out = out.cpu().detach().numpy()"
   ]
  },
  {
   "cell_type": "code",
   "execution_count": 10,
   "id": "fc57c0e2",
   "metadata": {},
   "outputs": [
    {
     "data": {
      "text/plain": [
       "(2, 31, 128, 6)"
      ]
     },
     "execution_count": 10,
     "metadata": {},
     "output_type": "execute_result"
    }
   ],
   "source": [
    "out.shape"
   ]
  },
  {
   "cell_type": "code",
   "execution_count": 20,
   "id": "6f69036a",
   "metadata": {},
   "outputs": [],
   "source": [
    "weight = exp.model.wave_conv.wavelet_conv.weight.cpu().detach().numpy()"
   ]
  },
  {
   "cell_type": "code",
   "execution_count": 18,
   "id": "d44c070a",
   "metadata": {},
   "outputs": [
    {
     "name": "stdout",
     "output_type": "stream",
     "text": [
      "gamma\n",
      "wave_conv.wavelet_conv.weight\n"
     ]
    }
   ],
   "source": [
    "for n,p in exp.model.named_parameters():\n",
    "    print(n)"
   ]
  },
  {
   "cell_type": "code",
   "execution_count": 23,
   "id": "5f19ba6e",
   "metadata": {},
   "outputs": [
    {
     "data": {
      "text/plain": [
       "[<matplotlib.lines.Line2D at 0x211686aefd0>]"
      ]
     },
     "execution_count": 23,
     "metadata": {},
     "output_type": "execute_result"
    },
    {
     "data": {
      "image/png": "[encoded data removed]",
      "text/plain": [
       "<Figure size 432x288 with 1 Axes>"
      ]
     },
     "metadata": {
      "needs_background": "light"
     },
     "output_type": "display_data"
    }
   ],
   "source": [
    "import matplotlib.pyplot as plt\n",
    "index1 = 0\n",
    "index2 = 0\n",
    "\n",
    "plt.figure()\n",
    "plt.plot(out[0,0,:,index2])\n",
    "plt.plot(out[0,1,:,index2])\n",
    "plt.plot(out[0,2,:,index2])\n",
    "plt.plot(out[0,3,:,index2])"
   ]
  },
  {
   "cell_type": "code",
   "execution_count": null,
   "id": "a3ae8916",
   "metadata": {},
   "outputs": [],
   "source": []
  },
  {
   "cell_type": "code",
   "execution_count": 6,
   "id": "ffe11eb7",
   "metadata": {},
   "outputs": [],
   "source": [
    "# 如果我们设置为 \n",
    "# args.wavelet_filtering_learnable      = True\n",
    "# exp = Exp(args)"
   ]
  },
  {
   "cell_type": "code",
   "execution_count": null,
   "id": "5d15a68f",
   "metadata": {},
   "outputs": [],
   "source": []
  },
  {
   "cell_type": "code",
   "execution_count": null,
   "id": "6beec6d1",
   "metadata": {},
   "outputs": [],
   "source": []
  },
  {
   "cell_type": "code",
   "execution_count": null,
   "id": "90f99481",
   "metadata": {},
   "outputs": [],
   "source": []
  },
  {
   "cell_type": "code",
   "execution_count": null,
   "id": "d8700989",
   "metadata": {},
   "outputs": [],
   "source": []
  },
  {
   "cell_type": "code",
   "execution_count": null,
   "id": "7b222186",
   "metadata": {},
   "outputs": [],
   "source": []
  },
  {
   "cell_type": "code",
   "execution_count": null,
   "id": "5ae27337",
   "metadata": {},
   "outputs": [],
   "source": []
  },
  {
   "cell_type": "code",
   "execution_count": null,
   "id": "4506b3e7",
   "metadata": {},
   "outputs": [],
   "source": []
  },
  {
   "cell_type": "code",
   "execution_count": null,
   "id": "ca5dc27e",
   "metadata": {},
   "outputs": [],
   "source": []
  }
 ],
 "metadata": {
  "kernelspec": {
   "display_name": "Python 3",
   "language": "python",
   "name": "python3"
  },
  "language_info": {
   "codemirror_mode": {
    "name": "ipython",
    "version": 3
   },
   "file_extension": ".py",
   "mimetype": "text/x-python",
   "name": "python",
   "nbconvert_exporter": "python",
   "pygments_lexer": "ipython3",
   "version": "3.8.8"
  },
  "toc": {
   "base_numbering": 1,
   "nav_menu": {},
   "number_sections": true,
   "sideBar": true,
   "skip_h1_title": false,
   "title_cell": "Table of Contents",
   "title_sidebar": "Contents",
   "toc_cell": false,
   "toc_position": {},
   "toc_section_display": true,
   "toc_window_display": true
  }
 },
 "nbformat": 4,
 "nbformat_minor": 5
}
