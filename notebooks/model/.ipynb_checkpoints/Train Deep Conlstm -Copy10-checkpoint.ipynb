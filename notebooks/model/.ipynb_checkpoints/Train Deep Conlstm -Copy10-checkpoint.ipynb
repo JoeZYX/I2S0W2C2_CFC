{
 "cells": [
  {
   "cell_type": "code",
   "execution_count": 1,
   "id": "894e2c21",
   "metadata": {},
   "outputs": [],
   "source": [
    "import warnings\n",
    "warnings.filterwarnings(\"ignore\")\n",
    "\n",
    "import sys\n",
    "sys.path.append(\"../../\")\n",
    "\n",
    "from experiment import Exp\n",
    "\n",
    "from dataloaders import data_set,data_dict\n",
    "import torch\n",
    "import yaml\n",
    "import os"
   ]
  },
  {
   "cell_type": "markdown",
   "id": "bcc56bc7",
   "metadata": {},
   "source": [
    "# 参数设置"
   ]
  },
  {
   "cell_type": "markdown",
   "id": "dcc5bcbc",
   "metadata": {},
   "source": [
    "# 训练参数 \n",
    "除了路径 其他不要变"
   ]
  },
  {
   "cell_type": "code",
   "execution_count": 2,
   "id": "86004ce0",
   "metadata": {},
   "outputs": [],
   "source": [
    "class dotdict(dict):\n",
    "    \"\"\"dot.notation access to dictionary attributes\"\"\"\n",
    "    __getattr__ = dict.get\n",
    "    __setattr__ = dict.__setitem__\n",
    "    __delattr__ = dict.__delitem__\n",
    "\n",
    "args = dotdict()   \n",
    "# TODO change the path as relative path\n",
    "args.to_save_path     = \"../../../ISWC2022LearnableFilter/Run_logs\"              \n",
    "args.freq_save_path   = \"../../../ISWC2022LearnableFilter/Freq_data\"\n",
    "args.window_save_path = \"../../../ISWC2022LearnableFilter/Sliding_window\"\n",
    "args.root_path        = \"../../../datasets\"\n",
    "\n",
    "\n",
    "args.drop_transition  = False\n",
    "args.datanorm_type    = \"standardization\" # None ,\"standardization\", \"minmax\"\n",
    "\n",
    "\n",
    "args.batch_size       = 256                                                     \n",
    "args.shuffle          = True\n",
    "args.drop_last        = False\n",
    "args.train_vali_quote = 0.90                                           \n",
    "\n",
    "\n",
    "# training setting \n",
    "args.train_epochs            = 150\n",
    "\n",
    "args.learning_rate           = 0.001  \n",
    "args.learning_rate_patience  = 5\n",
    "args.learning_rate_factor    = 0.1\n",
    "\n",
    "\n",
    "args.early_stop_patience     = 15\n",
    "\n",
    "args.use_gpu                 = True if torch.cuda.is_available() else False\n",
    "args.gpu                     = 2\n",
    "args.use_multi_gpu           = False\n",
    "\n",
    "args.optimizer               = \"Adam\"\n",
    "args.criterion               = \"CrossEntropy\""
   ]
  },
  {
   "cell_type": "markdown",
   "id": "c282cbcb",
   "metadata": {},
   "source": [
    "## 数据参数\n",
    "\n"
   ]
  },
  {
   "cell_type": "code",
   "execution_count": 3,
   "id": "c6cd147b",
   "metadata": {},
   "outputs": [],
   "source": [
    "args.seed                             = 2\n",
    "\n",
    "\n",
    "args.data_name                        =  \"skodar\"\n",
    "\n",
    "args.wavelet_filtering                = True\n",
    "args.wavelet_filtering_regularization = True\n",
    "args.wavelet_filtering_finetuning     = True\n",
    "args.wavelet_filtering_finetuning_percent = 1\n",
    "args.wavelet_filtering_learnable      = False\n",
    "args.wavelet_filtering_layernorm      = False\n",
    "\n",
    "args.regulatization_tradeoff          = 0\n",
    "args.number_wavelet_filtering         = 10\n",
    "\n",
    "\n",
    "args.difference       = False \n",
    "args.filtering        =  False\n",
    "args.magnitude        =  False\n",
    "args.weighted_sampler = False\n",
    "\n",
    "\n",
    "\n",
    "\n",
    "args.pos_select       = None\n",
    "args.sensor_select    = None\n",
    "\n",
    "\n",
    "args.representation_type = \"time\"\n",
    "args.exp_mode            = \"LOCV\"\n",
    "if args.data_name      ==  \"skodar\":\n",
    "    args.exp_mode            = \"SOCV\"\n",
    "\n",
    "config_file = open('../../configs/data.yaml', mode='r')\n",
    "data_config = yaml.load(config_file, Loader=yaml.FullLoader)\n",
    "config = data_config[args.data_name]\n",
    "\n",
    "args.root_path       = os.path.join(args.root_path,config[\"filename\"])\n",
    "args.sampling_freq   = config[\"sampling_freq\"]\n",
    "args.num_classes     =  config[\"num_classes\"]\n",
    "window_seconds       = config[\"window_seconds\"]\n",
    "args.windowsize      =   int(window_seconds * args.sampling_freq) \n",
    "args.input_length    =  args.windowsize\n",
    "# input information\n",
    "args.c_in            = config[\"num_channels\"]\n",
    "\n",
    "if args.wavelet_filtering :\n",
    "    \n",
    "    if args.windowsize%2==1:\n",
    "        N_ds = int(torch.log2(torch.tensor(args.windowsize-1)).floor()) - 2\n",
    "    else:\n",
    "        N_ds = int(torch.log2(torch.tensor(args.windowsize)).floor()) - 2\n",
    "\n",
    "    args.f_in            =  args.number_wavelet_filtering*N_ds+1\n",
    "else:\n",
    "    args.f_in            =  1\n",
    "\n"
   ]
  },
  {
   "cell_type": "markdown",
   "id": "4d435a4c",
   "metadata": {},
   "source": [
    "## 模型参数"
   ]
  },
  {
   "cell_type": "code",
   "execution_count": 4,
   "id": "de2f4d16",
   "metadata": {},
   "outputs": [],
   "source": [
    "args.filter_scaling_factor = 0.75\n",
    "args.model_type              = \"deepconvlstm\"#\"tinyhar\"#\"sahar\" #\"deepconvlstm\"\n",
    "\n",
    "# args.cross_channel_interaction_type = \"attn\"\n",
    "# args.cross_channel_aggregation_type = \"filter\"\n",
    "# args.temporal_info_interaction_type\n",
    "# args.temporal_info_aggregation_type"
   ]
  },
  {
   "cell_type": "markdown",
   "id": "cada66dd",
   "metadata": {},
   "source": [
    "# 实验"
   ]
  },
  {
   "cell_type": "code",
   "execution_count": 5,
   "id": "2e3f2fad",
   "metadata": {
    "scrolled": true
   },
   "outputs": [
    {
     "name": "stdout",
     "output_type": "stream",
     "text": [
      "Use GPU: cuda:2\n",
      "clone the  wavefiler weight\n",
      "Wavelet Filtering Regularization\n",
      "Build the DeepConvLSTM model!\n",
      "Done!\n",
      "Parameter : 636195\n",
      "Set the seed as :  2\n"
     ]
    }
   ],
   "source": [
    "exp = Exp(args)"
   ]
  },
  {
   "cell_type": "code",
   "execution_count": null,
   "id": "09a011fc",
   "metadata": {
    "scrolled": true
   },
   "outputs": [
    {
     "name": "stdout",
     "output_type": "stream",
     "text": [
      " ----------------------- load all the data -------------------\n",
      "-----------------------Sliding file are generated -----------------------\n",
      "-----------------------Sliding file are generated -----------------------\n",
      "================ SOCV Mode ====================\n",
      "================ 5 CV ======================\n",
      "================ the 0 th CV Experiment ================ \n",
      "Overlapping random Experiment : The 1 Part as the test\n",
      "[-] Target sampling weights:  [0.002849   0.00238663 0.00242718 0.00324675 0.00552486 0.00552486\n",
      " 0.00308642 0.00288184 0.00236407 0.0041841 ]\n",
      "Train data number :  3185\n",
      "The number of classes is :  10\n",
      "The input_length  is :  84\n",
      "The channel_in is :  30\n",
      "Validation data number :  354\n",
      "Test data number :  884\n",
      "================ Build the model ================ \n",
      "clone the  wavefiler weight\n",
      "Wavelet Filtering Regularization\n",
      "Build the DeepConvLSTM model!\n",
      "Epoch: 1 cost time: 6.4652533531188965\n",
      "VALI: Epoch: 1, Steps: 13 | Train Loss: 2.1860505  Vali Loss: 1.7862223 Vali Accuracy: 0.3531073  Vali weighted F1: 0.2469589  Vali macro F1 0.2000207 \n",
      "Validation loss decreased (inf --> 1.786222).  Saving model ...\n",
      "Epoch: 2 cost time: 1.1367478370666504\n",
      "VALI: Epoch: 2, Steps: 13 | Train Loss: 1.3892123  Vali Loss: 0.8516229 Vali Accuracy: 0.6638418  Vali weighted F1: 0.6461846  Vali macro F1 0.6122105 \n",
      "new best score!!!!\n",
      "Validation loss decreased (1.786222 --> 0.851623).  Saving model ...\n",
      "new best score!!!!\n",
      "Epoch: 3 cost time: 1.1455461978912354\n",
      "VALI: Epoch: 3, Steps: 13 | Train Loss: 0.8419951  Vali Loss: 0.5612630 Vali Accuracy: 0.7881356  Vali weighted F1: 0.7652789  Vali macro F1 0.7126083 \n",
      "new best score!!!!\n",
      "Validation loss decreased (0.851623 --> 0.561263).  Saving model ...\n",
      "new best score!!!!\n",
      "Epoch: 4 cost time: 1.1402966976165771\n",
      "VALI: Epoch: 4, Steps: 13 | Train Loss: 0.5880359  Vali Loss: 0.3725750 Vali Accuracy: 0.8531073  Vali weighted F1: 0.8384956  Vali macro F1 0.7815064 \n",
      "new best score!!!!\n",
      "Validation loss decreased (0.561263 --> 0.372575).  Saving model ...\n",
      "new best score!!!!\n",
      "Epoch: 5 cost time: 1.1475517749786377\n",
      "VALI: Epoch: 5, Steps: 13 | Train Loss: 0.4247020  Vali Loss: 0.2943823 Vali Accuracy: 0.8983051  Vali weighted F1: 0.8907829  Vali macro F1 0.8459174 \n",
      "new best score!!!!\n",
      "Validation loss decreased (0.372575 --> 0.294382).  Saving model ...\n",
      "new best score!!!!\n",
      "Epoch: 6 cost time: 1.1466703414916992\n",
      "VALI: Epoch: 6, Steps: 13 | Train Loss: 0.3389044  Vali Loss: 0.2377574 Vali Accuracy: 0.9039548  Vali weighted F1: 0.8935615  Vali macro F1 0.8371111 \n",
      "new best score!!!!\n",
      "Validation loss decreased (0.294382 --> 0.237757).  Saving model ...\n",
      "new best score!!!!\n",
      "Epoch: 7 cost time: 1.162384033203125\n",
      "VALI: Epoch: 7, Steps: 13 | Train Loss: 0.2740587  Vali Loss: 0.1912550 Vali Accuracy: 0.9152542  Vali weighted F1: 0.9131693  Vali macro F1 0.8733675 \n",
      "new best score!!!!\n",
      "Validation loss decreased (0.237757 --> 0.191255).  Saving model ...\n",
      "new best score!!!!\n",
      "Epoch: 8 cost time: 1.1703414916992188\n",
      "VALI: Epoch: 8, Steps: 13 | Train Loss: 0.2313487  Vali Loss: 0.1583104 Vali Accuracy: 0.9378531  Vali weighted F1: 0.9359237  Vali macro F1 0.8927068 \n",
      "new best score!!!!\n",
      "Validation loss decreased (0.191255 --> 0.158310).  Saving model ...\n",
      "new best score!!!!\n",
      "Epoch: 9 cost time: 1.2082362174987793\n",
      "VALI: Epoch: 9, Steps: 13 | Train Loss: 0.1968249  Vali Loss: 0.1288785 Vali Accuracy: 0.9548023  Vali weighted F1: 0.9549214  Vali macro F1 0.9215818 \n",
      "new best score!!!!\n",
      "Validation loss decreased (0.158310 --> 0.128879).  Saving model ...\n",
      "new best score!!!!\n",
      "Epoch: 10 cost time: 1.1950857639312744\n",
      "VALI: Epoch: 10, Steps: 13 | Train Loss: 0.1751527  Vali Loss: 0.1225909 Vali Accuracy: 0.9632768  Vali weighted F1: 0.9619438  Vali macro F1 0.9309122 \n",
      "new best score!!!!\n",
      "Validation loss decreased (0.128879 --> 0.122591).  Saving model ...\n",
      "new best score!!!!\n",
      "Epoch: 11 cost time: 1.1496856212615967\n",
      "VALI: Epoch: 11, Steps: 13 | Train Loss: 0.1608055  Vali Loss: 0.1177712 Vali Accuracy: 0.9293785  Vali weighted F1: 0.9120621  Vali macro F1 0.8459234 \n",
      "new best score!!!!\n",
      "Validation loss decreased (0.122591 --> 0.117771).  Saving model ...\n",
      "new best score!!!!\n",
      "Epoch: 12 cost time: 1.160498857498169\n",
      "VALI: Epoch: 12, Steps: 13 | Train Loss: 0.1504287  Vali Loss: 0.1035534 Vali Accuracy: 0.9632768  Vali weighted F1: 0.9634169  Vali macro F1 0.9371751 \n",
      "new best score!!!!\n",
      "Validation loss decreased (0.117771 --> 0.103553).  Saving model ...\n",
      "new best score!!!!\n",
      "Epoch: 13 cost time: 1.168684482574463\n",
      "VALI: Epoch: 13, Steps: 13 | Train Loss: 0.1325225  Vali Loss: 0.0987380 Vali Accuracy: 0.9604520  Vali weighted F1: 0.9586024  Vali macro F1 0.9242077 \n",
      "new best score!!!!\n",
      "Validation loss decreased (0.103553 --> 0.098738).  Saving model ...\n",
      "new best score!!!!\n",
      "Epoch: 14 cost time: 1.206944465637207\n",
      "VALI: Epoch: 14, Steps: 13 | Train Loss: 0.1224596  Vali Loss: 0.0809310 Vali Accuracy: 0.9745763  Vali weighted F1: 0.9729658  Vali macro F1 0.9439040 \n",
      "new best score!!!!\n",
      "Validation loss decreased (0.098738 --> 0.080931).  Saving model ...\n",
      "new best score!!!!\n",
      "Epoch: 15 cost time: 1.1158819198608398\n",
      "VALI: Epoch: 15, Steps: 13 | Train Loss: 0.1226233  Vali Loss: 0.0889409 Vali Accuracy: 0.9632768  Vali weighted F1: 0.9627239  Vali macro F1 0.9349661 \n",
      "EarlyStopping counter: 1 out of 15\n",
      "Learning rate adjusting counter: 1 out of 5\n",
      "Epoch: 16 cost time: 1.1413214206695557\n",
      "VALI: Epoch: 16, Steps: 13 | Train Loss: 0.1179536  Vali Loss: 0.0806762 Vali Accuracy: 0.9689266  Vali weighted F1: 0.9662006  Vali macro F1 0.9362107 \n",
      "new best score!!!!\n",
      "Validation loss decreased (0.080931 --> 0.080676).  Saving model ...\n",
      "new best score!!!!\n",
      "Epoch: 17 cost time: 1.145688772201538\n",
      "VALI: Epoch: 17, Steps: 13 | Train Loss: 0.1078549  Vali Loss: 0.0649711 Vali Accuracy: 0.9774011  Vali weighted F1: 0.9774011  Vali macro F1 0.9529412 \n",
      "new best score!!!!\n",
      "Validation loss decreased (0.080676 --> 0.064971).  Saving model ...\n",
      "new best score!!!!\n"
     ]
    }
   ],
   "source": [
    "exp.train()"
   ]
  }
 ],
 "metadata": {
  "kernelspec": {
   "display_name": "SDIL",
   "language": "python",
   "name": "sdil"
  },
  "language_info": {
   "codemirror_mode": {
    "name": "ipython",
    "version": 3
   },
   "file_extension": ".py",
   "mimetype": "text/x-python",
   "name": "python",
   "nbconvert_exporter": "python",
   "pygments_lexer": "ipython3",
   "version": "3.8.13"
  },
  "toc": {
   "base_numbering": 1,
   "nav_menu": {},
   "number_sections": true,
   "sideBar": true,
   "skip_h1_title": false,
   "title_cell": "Table of Contents",
   "title_sidebar": "Contents",
   "toc_cell": false,
   "toc_position": {},
   "toc_section_display": true,
   "toc_window_display": true
  }
 },
 "nbformat": 4,
 "nbformat_minor": 5
}
