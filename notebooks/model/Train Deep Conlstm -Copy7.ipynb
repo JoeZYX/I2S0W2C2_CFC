{
 "cells": [
  {
   "cell_type": "code",
   "execution_count": 1,
   "id": "894e2c21",
   "metadata": {},
   "outputs": [],
   "source": [
    "import warnings\n",
    "warnings.filterwarnings(\"ignore\")\n",
    "\n",
    "import sys\n",
    "sys.path.append(\"../../\")\n",
    "\n",
    "from experiment import Exp\n",
    "\n",
    "from dataloaders import data_set,data_dict\n",
    "import torch\n",
    "import yaml\n",
    "import os"
   ]
  },
  {
   "cell_type": "markdown",
   "id": "bcc56bc7",
   "metadata": {},
   "source": [
    "# 参数设置"
   ]
  },
  {
   "cell_type": "markdown",
   "id": "dcc5bcbc",
   "metadata": {},
   "source": [
    "# 训练参数 \n",
    "除了路径 其他不要变"
   ]
  },
  {
   "cell_type": "code",
   "execution_count": 2,
   "id": "86004ce0",
   "metadata": {},
   "outputs": [],
   "source": [
    "class dotdict(dict):\n",
    "    \"\"\"dot.notation access to dictionary attributes\"\"\"\n",
    "    __getattr__ = dict.get\n",
    "    __setattr__ = dict.__setitem__\n",
    "    __delattr__ = dict.__delitem__\n",
    "\n",
    "args = dotdict()   \n",
    "# TODO change the path as relative path\n",
    "args.to_save_path     = \"../../../ISWC2022LearnableFilter/Run_logs\"              \n",
    "args.freq_save_path   = \"../../../ISWC2022LearnableFilter/Freq_data\"\n",
    "args.window_save_path = \"../../../ISWC2022LearnableFilter/Sliding_window\"\n",
    "args.root_path        = \"../../../datasets\"\n",
    "\n",
    "\n",
    "args.drop_transition  = False\n",
    "args.datanorm_type    = \"standardization\" # None ,\"standardization\", \"minmax\"\n",
    "\n",
    "\n",
    "args.batch_size       = 256                                                     \n",
    "args.shuffle          = True\n",
    "args.drop_last        = False\n",
    "args.train_vali_quote = 0.90                                           \n",
    "\n",
    "\n",
    "# training setting \n",
    "args.train_epochs            = 150\n",
    "\n",
    "args.learning_rate           = 0.001  \n",
    "args.learning_rate_patience  = 5\n",
    "args.learning_rate_factor    = 0.1\n",
    "\n",
    "\n",
    "args.early_stop_patience     = 15\n",
    "\n",
    "args.use_gpu                 = True if torch.cuda.is_available() else False\n",
    "args.gpu                     = 3\n",
    "args.use_multi_gpu           = False\n",
    "\n",
    "args.optimizer               = \"Adam\"\n",
    "args.criterion               = \"CrossEntropy\""
   ]
  },
  {
   "cell_type": "markdown",
   "id": "c282cbcb",
   "metadata": {},
   "source": [
    "## 数据参数\n",
    "\n"
   ]
  },
  {
   "cell_type": "code",
   "execution_count": 3,
   "id": "c6cd147b",
   "metadata": {},
   "outputs": [],
   "source": [
    "args.seed                             = 3\n",
    "\n",
    "\n",
    "args.data_name                        =  \"oppo\"\n",
    "\n",
    "args.wavelet_filtering                = True\n",
    "args.wavelet_filtering_regularization = True\n",
    "args.wavelet_filtering_finetuning     = True\n",
    "args.wavelet_filtering_finetuning_percent = 0.3\n",
    "\n",
    "args.regulatization_tradeoff          = 0.0001\n",
    "args.number_wavelet_filtering         = 10\n",
    "\n",
    "\n",
    "args.difference       = False \n",
    "args.filtering        =  False\n",
    "args.magnitude        =  False\n",
    "args.weighted_sampler = False\n",
    "\n",
    "\n",
    "\n",
    "\n",
    "args.pos_select       = None\n",
    "args.sensor_select    = None\n",
    "\n",
    "\n",
    "args.representation_type = \"time\"\n",
    "args.exp_mode            = \"LOCV\"\n",
    "\n",
    "config_file = open('../../configs/data.yaml', mode='r')\n",
    "data_config = yaml.load(config_file, Loader=yaml.FullLoader)\n",
    "config = data_config[args.data_name]\n",
    "\n",
    "args.root_path       = os.path.join(args.root_path,config[\"filename\"])\n",
    "args.sampling_freq   = config[\"sampling_freq\"]\n",
    "args.num_classes     =  config[\"num_classes\"]\n",
    "window_seconds       = config[\"window_seconds\"]\n",
    "args.windowsize      =   int(window_seconds * args.sampling_freq) \n",
    "args.input_length    =  args.windowsize\n",
    "# input information\n",
    "args.c_in            = config[\"num_channels\"]\n",
    "\n",
    "if args.wavelet_filtering :\n",
    "    \n",
    "    if args.windowsize%2==1:\n",
    "        N_ds = int(torch.log2(torch.tensor(args.windowsize-1)).floor()) - 2\n",
    "    else:\n",
    "        N_ds = int(torch.log2(torch.tensor(args.windowsize)).floor()) - 2\n",
    "\n",
    "    args.f_in            =  args.number_wavelet_filtering*N_ds+1\n",
    "else:\n",
    "    args.f_in            =  1\n",
    "\n"
   ]
  },
  {
   "cell_type": "markdown",
   "id": "4d435a4c",
   "metadata": {},
   "source": [
    "## 模型参数"
   ]
  },
  {
   "cell_type": "code",
   "execution_count": 4,
   "id": "de2f4d16",
   "metadata": {},
   "outputs": [],
   "source": [
    "args.filter_scaling_factor = 0.25\n",
    "args.model_type            = \"deepconvlstm\""
   ]
  },
  {
   "cell_type": "markdown",
   "id": "cada66dd",
   "metadata": {},
   "source": [
    "# 实验"
   ]
  },
  {
   "cell_type": "code",
   "execution_count": 5,
   "id": "2e3f2fad",
   "metadata": {
    "scrolled": true
   },
   "outputs": [
    {
     "name": "stdout",
     "output_type": "stream",
     "text": [
      "Use GPU: cuda:3\n",
      "clone the  wavefiler weight\n",
      "Wavelet Filtering Regularization\n",
      "Build the DeepConvLSTM model!\n",
      "Done!\n",
      "Parameter : 168247\n",
      "Set the seed as :  3\n"
     ]
    }
   ],
   "source": [
    "exp = Exp(args)"
   ]
  },
  {
   "cell_type": "code",
   "execution_count": null,
   "id": "09a011fc",
   "metadata": {
    "scrolled": true
   },
   "outputs": [
    {
     "name": "stdout",
     "output_type": "stream",
     "text": [
      " ----------------------- load all the data -------------------\n",
      "-----------------------Sliding file are generated -----------------------\n",
      "-----------------------Sliding file are generated -----------------------\n",
      "================ LOCV Mode ====================\n",
      "================ 4 CV ======================\n",
      "================ the 0 th CV Experiment ================ \n",
      "Leave one Out Experiment : The 1 Part as the test\n",
      "[-] Target sampling weights:  [3.63345687e-05 1.65016502e-03 1.61290323e-03 1.80831826e-03\n",
      " 1.67224080e-03 1.17096019e-03 1.34048257e-03 1.81159420e-03\n",
      " 2.08333333e-03 2.68096515e-03 3.26797386e-03 3.14465409e-03\n",
      " 3.75939850e-03 2.51256281e-03 2.50000000e-03 1.28369705e-03\n",
      " 4.54545455e-04 2.04498978e-03]\n",
      "Train data number :  38060\n",
      "The number of classes is :  18\n",
      "The input_length  is :  30\n",
      "The channel_in is :  77\n",
      "Validation data number :  4229\n",
      "Test data number :  78162\n",
      "================ Build the model ================ \n",
      "clone the  wavefiler weight\n",
      "Wavelet Filtering Regularization\n",
      "Build the DeepConvLSTM model!\n",
      "Epoch: 1 cost time: 16.31318998336792\n",
      "VALI: Epoch: 1, Steps: 149 | Train Loss: 1.3528504  Vali Loss: 1.1001855 Vali Accuracy: 0.7242847  Vali weighted F1: 0.6171443  Vali macro F1 0.0610261 \n",
      "Validation loss decreased (inf --> 1.100185).  Saving model ...\n",
      "Epoch: 2 cost time: 12.100093603134155\n",
      "VALI: Epoch: 2, Steps: 149 | Train Loss: 1.0205844  Vali Loss: 0.9024081 Vali Accuracy: 0.7604635  Vali weighted F1: 0.6725049  Vali macro F1 0.1260258 \n",
      "new best score!!!!\n",
      "Validation loss decreased (1.100185 --> 0.902408).  Saving model ...\n",
      "new best score!!!!\n",
      "Epoch: 3 cost time: 12.041013717651367\n",
      "VALI: Epoch: 3, Steps: 149 | Train Loss: 0.8414413  Vali Loss: 0.7466546 Vali Accuracy: 0.7824545  Vali weighted F1: 0.7088265  Vali macro F1 0.2130850 \n",
      "new best score!!!!\n",
      "Validation loss decreased (0.902408 --> 0.746655).  Saving model ...\n",
      "new best score!!!!\n",
      "Epoch: 4 cost time: 12.114335060119629\n",
      "VALI: Epoch: 4, Steps: 149 | Train Loss: 0.7141944  Vali Loss: 0.6531834 Vali Accuracy: 0.7999527  Vali weighted F1: 0.7491611  Vali macro F1 0.3150455 \n",
      "new best score!!!!\n",
      "Validation loss decreased (0.746655 --> 0.653183).  Saving model ...\n",
      "new best score!!!!\n",
      "Epoch: 5 cost time: 11.954450368881226\n",
      "VALI: Epoch: 5, Steps: 149 | Train Loss: 0.6286576  Vali Loss: 0.5770463 Vali Accuracy: 0.8198156  Vali weighted F1: 0.7852318  Vali macro F1 0.4120399 \n",
      "new best score!!!!\n",
      "Validation loss decreased (0.653183 --> 0.577046).  Saving model ...\n",
      "new best score!!!!\n",
      "Epoch: 6 cost time: 11.959178447723389\n",
      "VALI: Epoch: 6, Steps: 149 | Train Loss: 0.5683820  Vali Loss: 0.5296411 Vali Accuracy: 0.8472452  Vali weighted F1: 0.8329852  Vali macro F1 0.5416238 \n",
      "new best score!!!!\n",
      "Validation loss decreased (0.577046 --> 0.529641).  Saving model ...\n",
      "new best score!!!!\n",
      "Epoch: 7 cost time: 11.946921586990356\n",
      "VALI: Epoch: 7, Steps: 149 | Train Loss: 0.5231457  Vali Loss: 0.4889263 Vali Accuracy: 0.8543391  Vali weighted F1: 0.8423577  Vali macro F1 0.5628561 \n",
      "new best score!!!!\n",
      "Validation loss decreased (0.529641 --> 0.488926).  Saving model ...\n",
      "new best score!!!!\n",
      "Epoch: 8 cost time: 12.009161949157715\n",
      "VALI: Epoch: 8, Steps: 149 | Train Loss: 0.4877143  Vali Loss: 0.4583934 Vali Accuracy: 0.8588319  Vali weighted F1: 0.8508877  Vali macro F1 0.5755771 \n",
      "new best score!!!!\n",
      "Validation loss decreased (0.488926 --> 0.458393).  Saving model ...\n",
      "new best score!!!!\n",
      "Epoch: 9 cost time: 11.917171478271484\n",
      "VALI: Epoch: 9, Steps: 149 | Train Loss: 0.4591777  Vali Loss: 0.4303187 Vali Accuracy: 0.8619059  Vali weighted F1: 0.8522335  Vali macro F1 0.5948736 \n",
      "new best score!!!!\n",
      "Validation loss decreased (0.458393 --> 0.430319).  Saving model ...\n",
      "new best score!!!!\n",
      "Epoch: 10 cost time: 11.918957471847534\n",
      "VALI: Epoch: 10, Steps: 149 | Train Loss: 0.4349720  Vali Loss: 0.4093729 Vali Accuracy: 0.8692362  Vali weighted F1: 0.8617497  Vali macro F1 0.6147241 \n",
      "new best score!!!!\n",
      "Validation loss decreased (0.430319 --> 0.409373).  Saving model ...\n",
      "new best score!!!!\n"
     ]
    }
   ],
   "source": [
    "exp.train()"
   ]
  },
  {
   "cell_type": "code",
   "execution_count": null,
   "id": "6280dba8",
   "metadata": {},
   "outputs": [],
   "source": []
  },
  {
   "cell_type": "code",
   "execution_count": null,
   "id": "db8bc4bd",
   "metadata": {},
   "outputs": [],
   "source": []
  }
 ],
 "metadata": {
  "kernelspec": {
   "display_name": "SDIL",
   "language": "python",
   "name": "sdil"
  },
  "language_info": {
   "codemirror_mode": {
    "name": "ipython",
    "version": 3
   },
   "file_extension": ".py",
   "mimetype": "text/x-python",
   "name": "python",
   "nbconvert_exporter": "python",
   "pygments_lexer": "ipython3",
   "version": "3.8.13"
  },
  "toc": {
   "base_numbering": 1,
   "nav_menu": {},
   "number_sections": true,
   "sideBar": true,
   "skip_h1_title": false,
   "title_cell": "Table of Contents",
   "title_sidebar": "Contents",
   "toc_cell": false,
   "toc_position": {},
   "toc_section_display": true,
   "toc_window_display": true
  }
 },
 "nbformat": 4,
 "nbformat_minor": 5
}
