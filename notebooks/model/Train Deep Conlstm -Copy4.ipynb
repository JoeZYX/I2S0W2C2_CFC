{
 "cells": [
  {
   "cell_type": "code",
   "execution_count": 1,
   "id": "894e2c21",
   "metadata": {},
   "outputs": [],
   "source": [
    "import warnings\n",
    "warnings.filterwarnings(\"ignore\")\n",
    "\n",
    "import sys\n",
    "sys.path.append(\"../../\")\n",
    "\n",
    "from experiment import Exp\n",
    "\n",
    "from dataloaders import data_set,data_dict\n",
    "import torch\n",
    "import yaml\n",
    "import os"
   ]
  },
  {
   "cell_type": "markdown",
   "id": "bcc56bc7",
   "metadata": {},
   "source": [
    "# 参数设置"
   ]
  },
  {
   "cell_type": "markdown",
   "id": "dcc5bcbc",
   "metadata": {},
   "source": [
    "# 训练参数 \n",
    "除了路径 其他不要变"
   ]
  },
  {
   "cell_type": "code",
   "execution_count": 2,
   "id": "86004ce0",
   "metadata": {},
   "outputs": [],
   "source": [
    "class dotdict(dict):\n",
    "    \"\"\"dot.notation access to dictionary attributes\"\"\"\n",
    "    __getattr__ = dict.get\n",
    "    __setattr__ = dict.__setitem__\n",
    "    __delattr__ = dict.__delitem__\n",
    "\n",
    "args = dotdict()   \n",
    "# TODO change the path as relative path\n",
    "args.to_save_path     = \"/pfs/data5/home/kit/tm/px3192/ISWC2022LearnableFilter/Run_logs\"              \n",
    "args.freq_save_path   = \"/pfs/data5/home/kit/tm/px3192/ISWC2022LearnableFilter/Freq_data\"\n",
    "args.window_save_path = \"/pfs/data5/home/kit/tm/px3192/ISWC2022LearnableFilter/Sliding_window\"\n",
    "args.root_path        = \"/pfs/data5/home/kit/tm/px3192/datasets\"\n",
    "\n",
    "\n",
    "args.drop_transition  = False\n",
    "args.datanorm_type    = \"standardization\" # None ,\"standardization\", \"minmax\"\n",
    "\n",
    "\n",
    "args.batch_size       = 128                                                     \n",
    "args.shuffle          = True\n",
    "args.drop_last        = False\n",
    "args.train_vali_quote = 0.90                                           \n",
    "\n",
    "\n",
    "# training setting \n",
    "args.train_epochs            = 150\n",
    "\n",
    "args.learning_rate           = 0.001  \n",
    "args.learning_rate_patience  = 5\n",
    "args.learning_rate_factor    = 0.1\n",
    "\n",
    "\n",
    "args.early_stop_patience     = 15\n",
    "\n",
    "args.use_gpu                 = True if torch.cuda.is_available() else False\n",
    "args.gpu                     = 0\n",
    "args.use_multi_gpu           = False\n",
    "\n",
    "args.optimizer               = \"Adam\"\n",
    "args.criterion               = \"CrossEntropy\""
   ]
  },
  {
   "cell_type": "markdown",
   "id": "c282cbcb",
   "metadata": {},
   "source": [
    "## 数据参数\n",
    "\n"
   ]
  },
  {
   "cell_type": "code",
   "execution_count": 3,
   "id": "c6cd147b",
   "metadata": {},
   "outputs": [],
   "source": [
    "args.seed                             = 4\n",
    "\n",
    "\n",
    "args.data_name                        =  \"oppo\"\n",
    "\n",
    "args.wavelet_filtering                = True\n",
    "args.wavelet_filtering_regularization = True\n",
    "args.wavelet_filtering_finetuning     = True\n",
    "args.wavelet_filtering_finetuning_percent = 0.3\n",
    "\n",
    "args.regulatization_tradeoff          = 0.0001\n",
    "args.number_wavelet_filtering         = 10\n",
    "\n",
    "\n",
    "args.difference       = False \n",
    "args.filtering        =  False\n",
    "args.magnitude        =  False\n",
    "args.weighted_sampler = False\n",
    "\n",
    "\n",
    "\n",
    "\n",
    "args.pos_select       = None\n",
    "args.sensor_select    = None\n",
    "\n",
    "\n",
    "args.representation_type = \"time\"\n",
    "args.exp_mode            = \"LOCV\"\n",
    "\n",
    "config_file = open('../../configs/data.yaml', mode='r')\n",
    "data_config = yaml.load(config_file, Loader=yaml.FullLoader)\n",
    "config = data_config[args.data_name]\n",
    "\n",
    "args.root_path       = os.path.join(args.root_path,config[\"filename\"])\n",
    "args.sampling_freq   = config[\"sampling_freq\"]\n",
    "args.num_classes     =  config[\"num_classes\"]\n",
    "window_seconds       = config[\"window_seconds\"]\n",
    "args.windowsize      =   int(window_seconds * args.sampling_freq) \n",
    "args.input_length    =  args.windowsize\n",
    "# input information\n",
    "args.c_in            = config[\"num_channels\"]\n",
    "\n",
    "if args.wavelet_filtering :\n",
    "    \n",
    "    if args.windowsize%2==1:\n",
    "        N_ds = int(torch.log2(torch.tensor(args.windowsize-1)).floor()) - 2\n",
    "    else:\n",
    "        N_ds = int(torch.log2(torch.tensor(args.windowsize)).floor()) - 2\n",
    "\n",
    "    args.f_in            =  args.number_wavelet_filtering*N_ds+1\n",
    "else:\n",
    "    args.f_in            =  1\n",
    "\n"
   ]
  },
  {
   "cell_type": "markdown",
   "id": "4d435a4c",
   "metadata": {},
   "source": [
    "## 模型参数"
   ]
  },
  {
   "cell_type": "code",
   "execution_count": 4,
   "id": "de2f4d16",
   "metadata": {},
   "outputs": [],
   "source": [
    "args.filter_scaling_factor = 0.25\n",
    "args.model_type              = \"deepconvlstm\""
   ]
  },
  {
   "cell_type": "markdown",
   "id": "cada66dd",
   "metadata": {},
   "source": [
    "# 实验"
   ]
  },
  {
   "cell_type": "code",
   "execution_count": 5,
   "id": "2e3f2fad",
   "metadata": {
    "scrolled": true
   },
   "outputs": [
    {
     "name": "stdout",
     "output_type": "stream",
     "text": [
      "Use GPU: cuda:0\n",
      "Wavelet Filtering Regularization\n",
      "Build the DeepConvLSTM model!\n",
      "Done!\n",
      "Parameter : 5383527\n",
      "Set the seed as :  4\n"
     ]
    }
   ],
   "source": [
    "exp = Exp(args)"
   ]
  },
  {
   "cell_type": "code",
   "execution_count": null,
   "id": "09a011fc",
   "metadata": {
    "scrolled": true
   },
   "outputs": [
    {
     "name": "stdout",
     "output_type": "stream",
     "text": [
      " ----------------------- load all the data -------------------\n",
      "-----------------------Sliding file are generated -----------------------\n",
      "-----------------------Sliding file are generated -----------------------\n",
      "================ LOCV Mode ====================\n",
      "================ 4 CV ======================\n",
      "================ the 0 th CV Experiment ================ \n",
      "Leave one Out Experiment : The 1 Part as the test\n",
      "[-] Target sampling weights:  [3.63609919e-05 1.66666667e-03 1.61030596e-03 1.80831826e-03\n",
      " 1.68634064e-03 1.18203310e-03 1.34770889e-03 1.84842884e-03\n",
      " 2.08333333e-03 2.77777778e-03 3.21543408e-03 3.05810398e-03\n",
      " 3.44827586e-03 2.40963855e-03 2.48138958e-03 1.29198966e-03\n",
      " 4.51467269e-04 2.05338809e-03]\n",
      "================ Build the model ================ \n",
      "Wavelet Filtering Regularization\n",
      "Build the DeepConvLSTM model!\n",
      "Train data number :  38060\n",
      "The number of classes is :  18\n",
      "The input_length  is :  30\n",
      "The channel_in is :  77\n",
      "Validation data number :  4229\n",
      "Test data number :  78162\n",
      "Epoch: 1 cost time: 40.762858629226685\n",
      "VALI: Epoch: 1, Steps: 298 | Train Loss: 0.7856455  Vali Loss: 0.5348628 Vali Accuracy: 0.8370773  Vali weighted F1: 0.8143612  Vali macro F1 0.4738811 \n",
      "Validation loss decreased (inf --> 0.534863).  Saving model ...\n",
      "Epoch: 2 cost time: 40.9556610584259\n",
      "VALI: Epoch: 2, Steps: 298 | Train Loss: 0.5030422  Vali Loss: 0.4344107 Vali Accuracy: 0.8536297  Vali weighted F1: 0.8476005  Vali macro F1 0.5834913 \n",
      "new best score!!!!\n",
      "Validation loss decreased (0.534863 --> 0.434411).  Saving model ...\n",
      "new best score!!!!\n",
      "Epoch: 3 cost time: 41.16917634010315\n",
      "VALI: Epoch: 3, Steps: 298 | Train Loss: 0.4443475  Vali Loss: 0.4172800 Vali Accuracy: 0.8619059  Vali weighted F1: 0.8536706  Vali macro F1 0.5961806 \n",
      "new best score!!!!\n",
      "Validation loss decreased (0.434411 --> 0.417280).  Saving model ...\n",
      "new best score!!!!\n",
      "Epoch: 4 cost time: 42.007503271102905\n",
      "VALI: Epoch: 4, Steps: 298 | Train Loss: 0.4147412  Vali Loss: 0.3977205 Vali Accuracy: 0.8692362  Vali weighted F1: 0.8627936  Vali macro F1 0.6372330 \n",
      "new best score!!!!\n",
      "Validation loss decreased (0.417280 --> 0.397721).  Saving model ...\n",
      "new best score!!!!\n",
      "Epoch: 5 cost time: 41.90023422241211\n",
      "VALI: Epoch: 5, Steps: 298 | Train Loss: 0.4054075  Vali Loss: 0.3919461 Vali Accuracy: 0.8689998  Vali weighted F1: 0.8620215  Vali macro F1 0.6015749 \n",
      "new best score!!!!\n",
      "Validation loss decreased (0.397721 --> 0.391946).  Saving model ...\n",
      "new best score!!!!\n",
      "Epoch: 6 cost time: 42.03809118270874\n",
      "VALI: Epoch: 6, Steps: 298 | Train Loss: 0.3982653  Vali Loss: 0.3910790 Vali Accuracy: 0.8680539  Vali weighted F1: 0.8609340  Vali macro F1 0.6037913 \n",
      "new best score!!!!\n",
      "Validation loss decreased (0.391946 --> 0.391079).  Saving model ...\n",
      "new best score!!!!\n",
      "Epoch: 7 cost time: 41.915804624557495\n",
      "VALI: Epoch: 7, Steps: 298 | Train Loss: 0.3933030  Vali Loss: 0.3833465 Vali Accuracy: 0.8682904  Vali weighted F1: 0.8628319  Vali macro F1 0.6222266 \n",
      "new best score!!!!\n",
      "Validation loss decreased (0.391079 --> 0.383346).  Saving model ...\n",
      "new best score!!!!\n",
      "Epoch: 8 cost time: 42.09600567817688\n",
      "VALI: Epoch: 8, Steps: 298 | Train Loss: 0.3911950  Vali Loss: 0.3815626 Vali Accuracy: 0.8716009  Vali weighted F1: 0.8659866  Vali macro F1 0.6255879 \n",
      "new best score!!!!\n",
      "Validation loss decreased (0.383346 --> 0.381563).  Saving model ...\n",
      "new best score!!!!\n",
      "Epoch: 9 cost time: 42.062159299850464\n",
      "VALI: Epoch: 9, Steps: 298 | Train Loss: 0.3965787  Vali Loss: 0.3873623 Vali Accuracy: 0.8727832  Vali weighted F1: 0.8688500  Vali macro F1 0.6284024 \n",
      "EarlyStopping counter: 1 out of 15\n",
      "Learning rate adjusting counter: 1 out of 5\n"
     ]
    }
   ],
   "source": [
    "exp.train()"
   ]
  },
  {
   "cell_type": "code",
   "execution_count": null,
   "id": "6280dba8",
   "metadata": {},
   "outputs": [],
   "source": []
  },
  {
   "cell_type": "code",
   "execution_count": null,
   "id": "db8bc4bd",
   "metadata": {},
   "outputs": [],
   "source": []
  }
 ],
 "metadata": {
  "kernelspec": {
   "display_name": "SDIL",
   "language": "python",
   "name": "sdil"
  },
  "language_info": {
   "codemirror_mode": {
    "name": "ipython",
    "version": 3
   },
   "file_extension": ".py",
   "mimetype": "text/x-python",
   "name": "python",
   "nbconvert_exporter": "python",
   "pygments_lexer": "ipython3",
   "version": "3.8.13"
  },
  "toc": {
   "base_numbering": 1,
   "nav_menu": {},
   "number_sections": true,
   "sideBar": true,
   "skip_h1_title": false,
   "title_cell": "Table of Contents",
   "title_sidebar": "Contents",
   "toc_cell": false,
   "toc_position": {},
   "toc_section_display": true,
   "toc_window_display": true
  }
 },
 "nbformat": 4,
 "nbformat_minor": 5
}
