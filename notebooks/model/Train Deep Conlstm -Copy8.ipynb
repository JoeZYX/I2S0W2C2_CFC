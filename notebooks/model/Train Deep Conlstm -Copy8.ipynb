{
 "cells": [
  {
   "cell_type": "code",
   "execution_count": 1,
   "id": "894e2c21",
   "metadata": {},
   "outputs": [],
   "source": [
    "import warnings\n",
    "warnings.filterwarnings(\"ignore\")\n",
    "\n",
    "import sys\n",
    "sys.path.append(\"../../\")\n",
    "\n",
    "from experiment import Exp\n",
    "\n",
    "from dataloaders import data_set,data_dict\n",
    "import torch\n",
    "import yaml\n",
    "import os"
   ]
  },
  {
   "cell_type": "markdown",
   "id": "bcc56bc7",
   "metadata": {},
   "source": [
    "# 参数设置"
   ]
  },
  {
   "cell_type": "markdown",
   "id": "dcc5bcbc",
   "metadata": {},
   "source": [
    "# 训练参数 \n",
    "除了路径 其他不要变"
   ]
  },
  {
   "cell_type": "code",
   "execution_count": 2,
   "id": "86004ce0",
   "metadata": {},
   "outputs": [],
   "source": [
    "class dotdict(dict):\n",
    "    \"\"\"dot.notation access to dictionary attributes\"\"\"\n",
    "    __getattr__ = dict.get\n",
    "    __setattr__ = dict.__setitem__\n",
    "    __delattr__ = dict.__delitem__\n",
    "\n",
    "args = dotdict()   \n",
    "# TODO change the path as relative path\n",
    "args.to_save_path     = \"../../../ISWC2022LearnableFilter/Run_logs\"              \n",
    "args.freq_save_path   = \"../../../ISWC2022LearnableFilter/Freq_data\"\n",
    "args.window_save_path = \"../../../ISWC2022LearnableFilter/Sliding_window\"\n",
    "args.root_path        = \"../../../datasets\"\n",
    "\n",
    "\n",
    "args.drop_transition  = False\n",
    "args.datanorm_type    = \"standardization\" # None ,\"standardization\", \"minmax\"\n",
    "\n",
    "\n",
    "args.batch_size       = 256                                                     \n",
    "args.shuffle          = True\n",
    "args.drop_last        = False\n",
    "args.train_vali_quote = 0.90                                           \n",
    "\n",
    "\n",
    "# training setting \n",
    "args.train_epochs            = 150\n",
    "\n",
    "args.learning_rate           = 0.001  \n",
    "args.learning_rate_patience  = 5\n",
    "args.learning_rate_factor    = 0.1\n",
    "\n",
    "\n",
    "args.early_stop_patience     = 15\n",
    "\n",
    "args.use_gpu                 = True if torch.cuda.is_available() else False\n",
    "args.gpu                     = 0\n",
    "args.use_multi_gpu           = False\n",
    "\n",
    "args.optimizer               = \"Adam\"\n",
    "args.criterion               = \"CrossEntropy\""
   ]
  },
  {
   "cell_type": "markdown",
   "id": "c282cbcb",
   "metadata": {},
   "source": [
    "## 数据参数\n",
    "\n"
   ]
  },
  {
   "cell_type": "code",
   "execution_count": 3,
   "id": "c6cd147b",
   "metadata": {},
   "outputs": [],
   "source": [
    "args.seed                             = 4\n",
    "\n",
    "\n",
    "args.data_name                        =  \"oppo\"\n",
    "\n",
    "args.wavelet_filtering                = True\n",
    "args.wavelet_filtering_regularization = True\n",
    "args.wavelet_filtering_finetuning     = True\n",
    "args.wavelet_filtering_finetuning_percent = 0.3\n",
    "\n",
    "args.regulatization_tradeoff          = 0.0001\n",
    "args.number_wavelet_filtering         = 10\n",
    "\n",
    "\n",
    "args.difference       = False \n",
    "args.filtering        = False\n",
    "args.magnitude        = False\n",
    "args.weighted_sampler = False\n",
    "\n",
    "\n",
    "\n",
    "\n",
    "args.pos_select       = None\n",
    "args.sensor_select    = None\n",
    "\n",
    "\n",
    "args.representation_type = \"time\"\n",
    "args.exp_mode            = \"LOCV\"\n",
    "\n",
    "config_file = open('../../configs/data.yaml', mode='r')\n",
    "data_config = yaml.load(config_file, Loader=yaml.FullLoader)\n",
    "config = data_config[args.data_name]\n",
    "\n",
    "args.root_path       = os.path.join(args.root_path,config[\"filename\"])\n",
    "args.sampling_freq   = config[\"sampling_freq\"]\n",
    "args.num_classes     =  config[\"num_classes\"]\n",
    "window_seconds       = config[\"window_seconds\"]\n",
    "args.windowsize      =   int(window_seconds * args.sampling_freq) \n",
    "args.input_length    =  args.windowsize\n",
    "# input information\n",
    "args.c_in            = config[\"num_channels\"]\n",
    "\n",
    "if args.wavelet_filtering :\n",
    "    \n",
    "    if args.windowsize%2==1:\n",
    "        N_ds = int(torch.log2(torch.tensor(args.windowsize-1)).floor()) - 2\n",
    "    else:\n",
    "        N_ds = int(torch.log2(torch.tensor(args.windowsize)).floor()) - 2\n",
    "\n",
    "    args.f_in            =  args.number_wavelet_filtering*N_ds+1\n",
    "else:\n",
    "    args.f_in            =  1\n",
    "\n"
   ]
  },
  {
   "cell_type": "markdown",
   "id": "4d435a4c",
   "metadata": {},
   "source": [
    "## 模型参数"
   ]
  },
  {
   "cell_type": "code",
   "execution_count": 4,
   "id": "de2f4d16",
   "metadata": {},
   "outputs": [],
   "source": [
    "args.filter_scaling_factor = 0.25\n",
    "args.model_type            = \"deepconvlstm\""
   ]
  },
  {
   "cell_type": "markdown",
   "id": "cada66dd",
   "metadata": {},
   "source": [
    "# 实验"
   ]
  },
  {
   "cell_type": "code",
   "execution_count": 5,
   "id": "2e3f2fad",
   "metadata": {
    "scrolled": true
   },
   "outputs": [
    {
     "name": "stdout",
     "output_type": "stream",
     "text": [
      "Use GPU: cuda:0\n",
      "clone the  wavefiler weight\n",
      "Wavelet Filtering Regularization\n",
      "Build the DeepConvLSTM model!\n",
      "Done!\n",
      "Parameter : 168247\n",
      "Set the seed as :  4\n"
     ]
    }
   ],
   "source": [
    "exp = Exp(args)"
   ]
  },
  {
   "cell_type": "code",
   "execution_count": null,
   "id": "09a011fc",
   "metadata": {
    "scrolled": true
   },
   "outputs": [
    {
     "name": "stdout",
     "output_type": "stream",
     "text": [
      " ----------------------- load all the data -------------------\n",
      "-----------------------Sliding file are generated -----------------------\n",
      "-----------------------Sliding file are generated -----------------------\n",
      "================ LOCV Mode ====================\n",
      "================ 4 CV ======================\n",
      "================ the 0 th CV Experiment ================ \n",
      "Leave one Out Experiment : The 1 Part as the test\n",
      "[-] Target sampling weights:  [3.63609919e-05 1.66666667e-03 1.61030596e-03 1.80831826e-03\n",
      " 1.68634064e-03 1.18203310e-03 1.34770889e-03 1.84842884e-03\n",
      " 2.08333333e-03 2.77777778e-03 3.21543408e-03 3.05810398e-03\n",
      " 3.44827586e-03 2.40963855e-03 2.48138958e-03 1.29198966e-03\n",
      " 4.51467269e-04 2.05338809e-03]\n",
      "Train data number :  38060\n",
      "The number of classes is :  18\n",
      "The input_length  is :  30\n",
      "The channel_in is :  77\n",
      "Validation data number :  4229\n",
      "Test data number :  78162\n",
      "================ Build the model ================ \n",
      "clone the  wavefiler weight\n",
      "Wavelet Filtering Regularization\n",
      "Build the DeepConvLSTM model!\n",
      "Epoch: 1 cost time: 11.883038997650146\n",
      "VALI: Epoch: 1, Steps: 149 | Train Loss: 1.3780810  Vali Loss: 1.1173147 Vali Accuracy: 0.7200284  Vali weighted F1: 0.6028283  Vali macro F1 0.0465127 \n",
      "Validation loss decreased (inf --> 1.117315).  Saving model ...\n",
      "Epoch: 2 cost time: 11.735938310623169\n",
      "VALI: Epoch: 2, Steps: 149 | Train Loss: 1.0308644  Vali Loss: 0.9143461 Vali Accuracy: 0.7564436  Vali weighted F1: 0.6678126  Vali macro F1 0.1229497 \n",
      "new best score!!!!\n",
      "Validation loss decreased (1.117315 --> 0.914346).  Saving model ...\n",
      "new best score!!!!\n",
      "Epoch: 3 cost time: 11.730376482009888\n",
      "VALI: Epoch: 3, Steps: 149 | Train Loss: 0.8636528  Vali Loss: 0.7638795 Vali Accuracy: 0.7718137  Vali weighted F1: 0.6947957  Vali macro F1 0.1797841 \n",
      "new best score!!!!\n",
      "Validation loss decreased (0.914346 --> 0.763880).  Saving model ...\n",
      "new best score!!!!\n",
      "Epoch: 4 cost time: 11.698244333267212\n",
      "VALI: Epoch: 4, Steps: 149 | Train Loss: 0.7442247  Vali Loss: 0.6657004 Vali Accuracy: 0.8008986  Vali weighted F1: 0.7487854  Vali macro F1 0.2985769 \n",
      "new best score!!!!\n",
      "Validation loss decreased (0.763880 --> 0.665700).  Saving model ...\n",
      "new best score!!!!\n",
      "Epoch: 5 cost time: 11.808752059936523\n",
      "VALI: Epoch: 5, Steps: 149 | Train Loss: 0.6540556  Vali Loss: 0.5855893 Vali Accuracy: 0.8233625  Vali weighted F1: 0.7905815  Vali macro F1 0.3998282 \n",
      "new best score!!!!\n",
      "Validation loss decreased (0.665700 --> 0.585589).  Saving model ...\n",
      "new best score!!!!\n",
      "Epoch: 6 cost time: 11.710672378540039\n",
      "VALI: Epoch: 6, Steps: 149 | Train Loss: 0.5918668  Vali Loss: 0.5345919 Vali Accuracy: 0.8330575  Vali weighted F1: 0.8090963  Vali macro F1 0.4479824 \n",
      "new best score!!!!\n",
      "Validation loss decreased (0.585589 --> 0.534592).  Saving model ...\n",
      "new best score!!!!\n",
      "Epoch: 7 cost time: 11.74703073501587\n",
      "VALI: Epoch: 7, Steps: 149 | Train Loss: 0.5405855  Vali Loss: 0.4981771 Vali Accuracy: 0.8460629  Vali weighted F1: 0.8278998  Vali macro F1 0.4990891 \n",
      "new best score!!!!\n",
      "Validation loss decreased (0.534592 --> 0.498177).  Saving model ...\n",
      "new best score!!!!\n",
      "Epoch: 8 cost time: 11.819339752197266\n",
      "VALI: Epoch: 8, Steps: 149 | Train Loss: 0.5007309  Vali Loss: 0.4717896 Vali Accuracy: 0.8541026  Vali weighted F1: 0.8456770  Vali macro F1 0.5575004 \n",
      "new best score!!!!\n",
      "Validation loss decreased (0.498177 --> 0.471790).  Saving model ...\n",
      "new best score!!!!\n",
      "Epoch: 9 cost time: 11.657685995101929\n",
      "VALI: Epoch: 9, Steps: 149 | Train Loss: 0.4698932  Vali Loss: 0.4266543 Vali Accuracy: 0.8640341  Vali weighted F1: 0.8544201  Vali macro F1 0.5842850 \n",
      "new best score!!!!\n",
      "Validation loss decreased (0.471790 --> 0.426654).  Saving model ...\n",
      "new best score!!!!\n",
      "Epoch: 10 cost time: 11.650738954544067\n",
      "VALI: Epoch: 10, Steps: 149 | Train Loss: 0.4431878  Vali Loss: 0.4084709 Vali Accuracy: 0.8716009  Vali weighted F1: 0.8640140  Vali macro F1 0.6145363 \n",
      "new best score!!!!\n",
      "Validation loss decreased (0.426654 --> 0.408471).  Saving model ...\n",
      "new best score!!!!\n",
      "Epoch: 11 cost time: 11.696458578109741\n",
      "VALI: Epoch: 11, Steps: 149 | Train Loss: 0.4216600  Vali Loss: 0.3866167 Vali Accuracy: 0.8763301  Vali weighted F1: 0.8709282  Vali macro F1 0.6322862 \n",
      "new best score!!!!\n",
      "Validation loss decreased (0.408471 --> 0.386617).  Saving model ...\n",
      "new best score!!!!\n"
     ]
    }
   ],
   "source": [
    "exp.train()"
   ]
  },
  {
   "cell_type": "code",
   "execution_count": null,
   "id": "6280dba8",
   "metadata": {},
   "outputs": [],
   "source": []
  },
  {
   "cell_type": "code",
   "execution_count": null,
   "id": "db8bc4bd",
   "metadata": {},
   "outputs": [],
   "source": []
  }
 ],
 "metadata": {
  "kernelspec": {
   "display_name": "SDIL",
   "language": "python",
   "name": "sdil"
  },
  "language_info": {
   "codemirror_mode": {
    "name": "ipython",
    "version": 3
   },
   "file_extension": ".py",
   "mimetype": "text/x-python",
   "name": "python",
   "nbconvert_exporter": "python",
   "pygments_lexer": "ipython3",
   "version": "3.8.13"
  },
  "toc": {
   "base_numbering": 1,
   "nav_menu": {},
   "number_sections": true,
   "sideBar": true,
   "skip_h1_title": false,
   "title_cell": "Table of Contents",
   "title_sidebar": "Contents",
   "toc_cell": false,
   "toc_position": {},
   "toc_section_display": true,
   "toc_window_display": true
  }
 },
 "nbformat": 4,
 "nbformat_minor": 5
}
